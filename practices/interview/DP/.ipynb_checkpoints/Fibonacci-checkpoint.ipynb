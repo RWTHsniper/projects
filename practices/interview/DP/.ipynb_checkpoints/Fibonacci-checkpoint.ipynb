{
 "cells": [
  {
   "cell_type": "code",
   "execution_count": 11,
   "metadata": {},
   "outputs": [],
   "source": [
    "def fib_topdown_DP(n):\n",
    "    fib_array = [0., 1.]\n",
    "    if n < len(fib_array):\n",
    "        return fib_array[n]\n",
    "    else:\n",
    "        fib = fib_DP(n-1) + fib_DP(n-2)\n",
    "        fib_array.append(fib)\n",
    "        return fib"
   ]
  },
  {
   "cell_type": "code",
   "execution_count": 13,
   "metadata": {},
   "outputs": [
    {
     "data": {
      "text/plain": [
       "4.346655768693743e+208"
      ]
     },
     "execution_count": 13,
     "metadata": {},
     "output_type": "execute_result"
    }
   ],
   "source": [
    "fib_topdown_DP(1000)"
   ]
  },
  {
   "cell_type": "code",
   "execution_count": 20,
   "metadata": {},
   "outputs": [],
   "source": [
    "def fib_bottomup_DP(n):\n",
    "    fib_array = [0., 1.]\n",
    "    if n < len(fib_array):\n",
    "        return fib_array[n]\n",
    "    else:\n",
    "        for i in range(2,n+1):\n",
    "            fib = fib_array[i-1] + fib_array[i-2]\n",
    "            fib_array.append(fib)\n",
    "        return fib\n",
    "    \n",
    "    "
   ]
  },
  {
   "cell_type": "code",
   "execution_count": 21,
   "metadata": {},
   "outputs": [
    {
     "data": {
      "text/plain": [
       "4.346655768693743e+208"
      ]
     },
     "execution_count": 21,
     "metadata": {},
     "output_type": "execute_result"
    }
   ],
   "source": [
    "fib_bottomup_DP(1000)"
   ]
  },
  {
   "cell_type": "code",
   "execution_count": null,
   "metadata": {},
   "outputs": [],
   "source": []
  }
 ],
 "metadata": {
  "kernelspec": {
   "display_name": "Python 3",
   "language": "python",
   "name": "python3"
  },
  "language_info": {
   "codemirror_mode": {
    "name": "ipython",
    "version": 3
   },
   "file_extension": ".py",
   "mimetype": "text/x-python",
   "name": "python",
   "nbconvert_exporter": "python",
   "pygments_lexer": "ipython3",
   "version": "3.7.4"
  }
 },
 "nbformat": 4,
 "nbformat_minor": 4
}
