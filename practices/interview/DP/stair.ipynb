{
 "cells": [
  {
   "cell_type": "code",
   "execution_count": 27,
   "metadata": {},
   "outputs": [],
   "source": [
    "n = 10\n",
    "def stepcost(n):\n",
    "    stepcost_arr = [0,1,2,4,6,2,4,6,1]\n",
    "    cost_arr = [0,0,0]\n",
    "    if n < len(cost_arr):\n",
    "        return cost_arr[n]\n",
    "    if n > len(stepcost_arr):\n",
    "        print('Too much n')\n",
    "    else:\n",
    "        for i in range(len(cost_arr),n+1):\n",
    "            # dynamic programming\n",
    "            cost_arr.append(min(cost_arr[i-1]+stepcost_arr[i-1], cost_arr[i-2]+stepcost_arr[i-2]))\n",
    "        return cost_arr[n]"
   ]
  },
  {
   "cell_type": "code",
   "execution_count": 34,
   "metadata": {},
   "outputs": [
    {
     "data": {
      "text/plain": [
       "12"
      ]
     },
     "execution_count": 34,
     "metadata": {},
     "output_type": "execute_result"
    }
   ],
   "source": [
    "stepcost(9)"
   ]
  },
  {
   "cell_type": "code",
   "execution_count": null,
   "metadata": {},
   "outputs": [],
   "source": []
  }
 ],
 "metadata": {
  "kernelspec": {
   "display_name": "Python 3",
   "language": "python",
   "name": "python3"
  },
  "language_info": {
   "codemirror_mode": {
    "name": "ipython",
    "version": 3
   },
   "file_extension": ".py",
   "mimetype": "text/x-python",
   "name": "python",
   "nbconvert_exporter": "python",
   "pygments_lexer": "ipython3",
   "version": "3.7.4"
  }
 },
 "nbformat": 4,
 "nbformat_minor": 4
}
