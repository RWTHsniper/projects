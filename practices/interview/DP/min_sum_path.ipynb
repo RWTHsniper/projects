{
 "cells": [
  {
   "cell_type": "code",
   "execution_count": 1,
   "metadata": {},
   "outputs": [],
   "source": [
    "mat = [[1,3,1,2],[2,4,5,2],[3,4,5,6],[1,5,6,2]]"
   ]
  },
  {
   "cell_type": "code",
   "execution_count": 19,
   "metadata": {},
   "outputs": [
    {
     "data": {
      "text/plain": [
       "3"
      ]
     },
     "execution_count": 19,
     "metadata": {},
     "output_type": "execute_result"
    }
   ],
   "source": [
    "mat[0][1]"
   ]
  },
  {
   "cell_type": "code",
   "execution_count": 20,
   "metadata": {},
   "outputs": [],
   "source": [
    "n = len(mat)"
   ]
  },
  {
   "cell_type": "code",
   "execution_count": 30,
   "metadata": {},
   "outputs": [
    {
     "data": {
      "text/plain": [
       "17"
      ]
     },
     "execution_count": 30,
     "metadata": {},
     "output_type": "execute_result"
    }
   ],
   "source": [
    "row1 = [0,0,0,0]\n",
    "row2 = [0,0,0,0]\n",
    "for i in range(0,n):\n",
    "    if i == 0:\n",
    "        row1[0] = mat[i][0]\n",
    "        for j in range(1,n):\n",
    "            row1[j] = mat[i][j] + row1[j-1]\n",
    "    else:        \n",
    "        if i % 2 != 0:\n",
    "            row2[0] = mat[i][0] + row1[0]\n",
    "            for j in range(1,n):\n",
    "                row2[j] = mat[i][j] + min(row2[j-1], row1[j])\n",
    "        else:\n",
    "            row1[0] = mat[i][0] + row2[0]\n",
    "            for j in range(1,n):\n",
    "                row1[j] = mat[i][j] + min(row2[j], row1[j-1])\n",
    "if n-1 % 2 != 0:\n",
    "    solution = row2[n-1]\n",
    "else:\n",
    "    solution = row1[n-1]\n",
    "solution"
   ]
  },
  {
   "cell_type": "code",
   "execution_count": null,
   "metadata": {},
   "outputs": [],
   "source": []
  }
 ],
 "metadata": {
  "kernelspec": {
   "display_name": "Python 3",
   "language": "python",
   "name": "python3"
  },
  "language_info": {
   "codemirror_mode": {
    "name": "ipython",
    "version": 3
   },
   "file_extension": ".py",
   "mimetype": "text/x-python",
   "name": "python",
   "nbconvert_exporter": "python",
   "pygments_lexer": "ipython3",
   "version": "3.7.4"
  }
 },
 "nbformat": 4,
 "nbformat_minor": 4
}
