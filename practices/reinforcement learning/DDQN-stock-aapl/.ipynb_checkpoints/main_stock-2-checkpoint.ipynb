{
 "cells": [
  {
   "cell_type": "code",
   "execution_count": 1,
   "metadata": {},
   "outputs": [],
   "source": [
    "import gym\n",
    "import numpy as np\n",
    "from ddqn_agent import DDQNAgent\n",
    "from utils import plot_learning_curve\n",
    "\n",
    "from env6 import TradingSPYEnv\n",
    "import numpy as np\n",
    "import os"
   ]
  },
  {
   "cell_type": "code",
   "execution_count": 2,
   "metadata": {},
   "outputs": [
    {
     "name": "stderr",
     "output_type": "stream",
     "text": [
      "C:\\Users\\golde\\Anaconda3\\lib\\site-packages\\pandas\\core\\indexing.py:670: SettingWithCopyWarning: \n",
      "A value is trying to be set on a copy of a slice from a DataFrame\n",
      "\n",
      "See the caveats in the documentation: https://pandas.pydata.org/pandas-docs/stable/user_guide/indexing.html#returning-a-view-versus-a-copy\n",
      "  iloc._setitem_with_indexer(indexer, value)\n"
     ]
    },
    {
     "name": "stdout",
     "output_type": "stream",
     "text": [
      "Size of State Space ->  7\n",
      "Size of Action Space ->  3\n"
     ]
    }
   ],
   "source": [
    "#env = TradingSPYEnv(init_invest=100.0, sma_len=[5,10,15,20,25],train_test_split=0.5)\n",
    "env = TradingSPYEnv(init_invest=100.0, sma_len=[5,15,25,35,50],train_test_split=0.8)\n",
    "first_test_step = env.current_step\n",
    "\n",
    "num_states = env.reset(first_test_step).shape[0]\n",
    "print(\"Size of State Space ->  {}\".format(num_states))\n",
    "num_actions = env.action_space.n\n",
    "print(\"Size of Action Space ->  {}\".format(num_actions))\n",
    "\n",
    "\n",
    "agent = DDQNAgent(gamma=0.99, epsilon=1.0, lr=0.005,\n",
    "                 input_dims=[num_states],\n",
    "                 n_actions=num_actions, mem_size=100000, eps_min=0.1,\n",
    "                 batch_size=256, replace=5000, eps_dec=1e-5,\n",
    "                 chkpt_dir='models2/', algo='DDQNAgent',\n",
    "                 env_name='stock',\n",
    "                 fc1_dims=128, fc2_dims=128, p = 0.0, weight_decay=1e-7)\n",
    "\n",
    "\n",
    "#agent = Agent(gamma=0.99, epsilon=0.5, batch_size=8192, n_actions=num_actions, eps_dec=1e-5, eps_end=0.1, \n",
    "#              input_dims = [num_states], lr=0.00005, p=0.5,\n",
    "#              weight_decay=1e-5)"
   ]
  },
  {
   "cell_type": "code",
   "execution_count": null,
   "metadata": {},
   "outputs": [
    {
     "name": "stdout",
     "output_type": "stream",
     "text": [
      "episode  0 score -1.28 average score -1.28 epsilon 0.99  profit_iteration 0.00  iterations 1199.00  long_return 1.89 \n",
      "episode  1 score -0.94 average score -1.11 epsilon 0.98  profit_iteration 0.00  iterations 1199.00  long_return 1.89 \n",
      "episode  2 score -1.18 average score -1.13 epsilon 0.97  profit_iteration 0.00  iterations 1199.00  long_return 1.89 \n",
      "episode  3 score -0.96 average score -1.09 epsilon 0.95  profit_iteration 0.00  iterations 1199.00  long_return 1.89 \n",
      "episode  4 score -1.04 average score -1.08 epsilon 0.94  profit_iteration 0.00  iterations 1199.00  long_return 1.89 \n",
      "episode  5 score -1.52 average score -1.15 epsilon 0.93  profit_iteration 0.00  iterations 1199.00  long_return 1.89 \n",
      "episode  6 score -1.22 average score -1.16 epsilon 0.92  profit_iteration 0.00  iterations 1199.00  long_return 1.89 \n",
      "episode  7 score -1.45 average score -1.20 epsilon 0.91  profit_iteration 0.00  iterations 1199.00  long_return 1.89 \n",
      "episode  8 score -1.29 average score -1.21 epsilon 0.89  profit_iteration 0.00  iterations 1199.00  long_return 1.89 \n",
      "episode  9 score -1.01 average score -1.19 epsilon 0.88  profit_iteration 0.00  iterations 1199.00  long_return 1.89 \n",
      "episode  10 score -1.09 average score -1.18 epsilon 0.87  profit_iteration 0.00  iterations 1199.00  long_return 1.89 \n",
      "... saving checkpoint ...\n",
      "... saving checkpoint ...\n",
      "saved check point\n",
      "episode  11 score -1.28 average score -1.19 epsilon 0.86  profit_iteration 0.00  iterations 1199.00  long_return 1.89 \n",
      "episode  12 score -1.01 average score -1.17 epsilon 0.85  profit_iteration 0.00  iterations 1199.00  long_return 1.89 \n",
      "episode  13 score -1.17 average score -1.17 epsilon 0.83  profit_iteration 0.00  iterations 1199.00  long_return 1.89 \n",
      "episode  14 score -0.84 average score -1.15 epsilon 0.82  profit_iteration 0.00  iterations 1199.00  long_return 1.89 \n",
      "episode  15 score -1.16 average score -1.15 epsilon 0.81  profit_iteration 0.00  iterations 1199.00  long_return 1.89 \n",
      "episode  16 score -1.06 average score -1.15 epsilon 0.80  profit_iteration 0.00  iterations 1199.00  long_return 1.89 \n",
      "episode  17 score -1.26 average score -1.15 epsilon 0.79  profit_iteration 0.00  iterations 1199.00  long_return 1.89 \n",
      "episode  18 score -0.80 average score -1.13 epsilon 0.77  profit_iteration 0.00  iterations 1199.00  long_return 1.89 \n",
      "episode  19 score -1.24 average score -1.14 epsilon 0.76  profit_iteration 0.00  iterations 1199.00  long_return 1.89 \n",
      "episode  20 score -1.11 average score -1.14 epsilon 0.75  profit_iteration 0.00  iterations 1199.00  long_return 1.89 \n",
      "... saving checkpoint ...\n",
      "... saving checkpoint ...\n",
      "saved check point\n",
      "episode  21 score -1.09 average score -1.14 epsilon 0.74  profit_iteration 0.00  iterations 1199.00  long_return 1.89 \n",
      "episode  22 score -1.33 average score -1.14 epsilon 0.73  profit_iteration 0.00  iterations 1199.00  long_return 1.89 \n",
      "episode  23 score -1.17 average score -1.14 epsilon 0.71  profit_iteration 0.00  iterations 1199.00  long_return 1.89 \n",
      "episode  24 score -1.13 average score -1.14 epsilon 0.70  profit_iteration 0.00  iterations 1199.00  long_return 1.89 \n",
      "episode  25 score -0.91 average score -1.14 epsilon 0.69  profit_iteration 0.00  iterations 1199.00  long_return 1.89 \n",
      "episode  26 score -1.19 average score -1.14 epsilon 0.68  profit_iteration 0.00  iterations 1199.00  long_return 1.89 \n",
      "episode  27 score -1.23 average score -1.14 epsilon 0.67  profit_iteration 0.00  iterations 1199.00  long_return 1.89 \n",
      "episode  28 score -0.70 average score -1.13 epsilon 0.65  profit_iteration 0.00  iterations 1199.00  long_return 1.89 \n",
      "episode  29 score -0.85 average score -1.12 epsilon 0.64  profit_iteration 0.00  iterations 1199.00  long_return 1.89 \n",
      "episode  30 score -1.33 average score -1.12 epsilon 0.63  profit_iteration 0.00  iterations 1199.00  long_return 1.89 \n",
      "... saving checkpoint ...\n",
      "... saving checkpoint ...\n",
      "saved check point\n",
      "episode  31 score -0.81 average score -1.11 epsilon 0.62  profit_iteration 0.00  iterations 1199.00  long_return 1.89 \n",
      "episode  32 score -1.00 average score -1.11 epsilon 0.61  profit_iteration 0.00  iterations 1199.00  long_return 1.89 \n",
      "episode  33 score -0.83 average score -1.10 epsilon 0.59  profit_iteration 0.00  iterations 1199.00  long_return 1.89 \n",
      "episode  34 score -0.32 average score -1.08 epsilon 0.58  profit_iteration 0.00  iterations 1199.00  long_return 1.89 \n",
      "episode  35 score -0.79 average score -1.07 epsilon 0.57  profit_iteration 0.00  iterations 1199.00  long_return 1.89 \n",
      "episode  36 score -0.98 average score -1.07 epsilon 0.56  profit_iteration 0.00  iterations 1199.00  long_return 1.89 \n",
      "episode  37 score -0.78 average score -1.06 epsilon 0.55  profit_iteration 0.00  iterations 1199.00  long_return 1.89 \n",
      "episode  38 score -0.65 average score -1.05 epsilon 0.53  profit_iteration 0.00  iterations 1199.00  long_return 1.89 \n",
      "episode  39 score -0.62 average score -1.04 epsilon 0.52  profit_iteration 0.00  iterations 1199.00  long_return 1.89 \n",
      "episode  40 score -0.75 average score -1.03 epsilon 0.51  profit_iteration 0.00  iterations 1199.00  long_return 1.89 \n",
      "... saving checkpoint ...\n",
      "... saving checkpoint ...\n",
      "saved check point\n",
      "episode  41 score -0.71 average score -1.03 epsilon 0.50  profit_iteration 0.00  iterations 1199.00  long_return 1.89 \n",
      "episode  42 score -0.58 average score -1.01 epsilon 0.49  profit_iteration 0.00  iterations 1199.00  long_return 1.89 \n",
      "episode  43 score -0.83 average score -1.01 epsilon 0.47  profit_iteration 0.00  iterations 1199.00  long_return 1.89 \n",
      "episode  44 score -0.79 average score -1.01 epsilon 0.46  profit_iteration 0.00  iterations 1199.00  long_return 1.89 \n",
      "episode  45 score -1.06 average score -1.01 epsilon 0.45  profit_iteration 0.00  iterations 1199.00  long_return 1.89 \n",
      "episode  46 score -0.82 average score -1.00 epsilon 0.44  profit_iteration 0.00  iterations 1199.00  long_return 1.89 \n",
      "episode  47 score -0.57 average score -0.99 epsilon 0.43  profit_iteration 0.00  iterations 1199.00  long_return 1.89 \n",
      "episode  48 score -0.61 average score -0.99 epsilon 0.41  profit_iteration 0.00  iterations 1199.00  long_return 1.89 \n",
      "episode  49 score -0.45 average score -0.98 epsilon 0.40  profit_iteration 0.00  iterations 1199.00  long_return 1.89 \n",
      "episode  50 score -0.66 average score -0.97 epsilon 0.39  profit_iteration 0.00  iterations 1199.00  long_return 1.89 \n",
      "... saving checkpoint ...\n",
      "... saving checkpoint ...\n",
      "saved check point\n",
      "episode  51 score -0.59 average score -0.96 epsilon 0.38  profit_iteration 0.00  iterations 1199.00  long_return 1.89 \n",
      "episode  52 score -0.08 average score -0.95 epsilon 0.37  profit_iteration 0.00  iterations 1199.00  long_return 1.89 \n",
      "episode  53 score -0.09 average score -0.93 epsilon 0.35  profit_iteration 0.00  iterations 1199.00  long_return 1.89 \n",
      "episode  54 score -0.43 average score -0.92 epsilon 0.34  profit_iteration 0.00  iterations 1199.00  long_return 1.89 \n",
      "episode  55 score -0.41 average score -0.91 epsilon 0.33  profit_iteration 0.00  iterations 1199.00  long_return 1.89 \n",
      "episode  56 score 0.09 average score -0.89 epsilon 0.32  profit_iteration 0.00  iterations 1199.00  long_return 1.89 \n",
      "episode  57 score -0.08 average score -0.88 epsilon 0.31  profit_iteration 0.00  iterations 1199.00  long_return 1.89 \n",
      "episode  58 score -0.41 average score -0.87 epsilon 0.29  profit_iteration 0.00  iterations 1199.00  long_return 1.89 \n",
      "episode  59 score -0.08 average score -0.86 epsilon 0.28  profit_iteration 0.00  iterations 1199.00  long_return 1.89 \n",
      "episode  60 score -0.16 average score -0.85 epsilon 0.27  profit_iteration 0.00  iterations 1199.00  long_return 1.89 \n",
      "... saving checkpoint ...\n",
      "... saving checkpoint ...\n",
      "saved check point\n",
      "episode  61 score -0.16 average score -0.84 epsilon 0.26  profit_iteration 0.00  iterations 1199.00  long_return 1.89 \n",
      "episode  62 score -0.14 average score -0.82 epsilon 0.25  profit_iteration 0.00  iterations 1199.00  long_return 1.89 \n",
      "episode  63 score -0.25 average score -0.82 epsilon 0.23  profit_iteration 0.00  iterations 1199.00  long_return 1.89 \n",
      "episode  64 score 0.34 average score -0.80 epsilon 0.22  profit_iteration 0.00  iterations 1199.00  long_return 1.89 \n",
      "episode  65 score 0.00 average score -0.79 epsilon 0.21  profit_iteration 0.00  iterations 1199.00  long_return 1.89 \n"
     ]
    },
    {
     "name": "stdout",
     "output_type": "stream",
     "text": [
      "episode  66 score 0.10 average score -0.77 epsilon 0.20  profit_iteration 0.00  iterations 1199.00  long_return 1.89 \n",
      "episode  67 score -0.10 average score -0.76 epsilon 0.19  profit_iteration 0.00  iterations 1199.00  long_return 1.89 \n",
      "episode  68 score 0.11 average score -0.75 epsilon 0.17  profit_iteration 0.00  iterations 1199.00  long_return 1.89 \n",
      "episode  69 score 0.02 average score -0.74 epsilon 0.16  profit_iteration 0.00  iterations 1199.00  long_return 1.89 \n",
      "episode  70 score 0.12 average score -0.73 epsilon 0.15  profit_iteration 0.00  iterations 1199.00  long_return 1.89 \n",
      "... saving checkpoint ...\n",
      "... saving checkpoint ...\n",
      "saved check point\n",
      "episode  71 score -0.22 average score -0.72 epsilon 0.14  profit_iteration 0.00  iterations 1199.00  long_return 1.89 \n",
      "episode  72 score 0.18 average score -0.71 epsilon 0.13  profit_iteration 0.00  iterations 1199.00  long_return 1.89 \n",
      "episode  73 score -0.54 average score -0.71 epsilon 0.11  profit_iteration 0.00  iterations 1199.00  long_return 1.89 \n",
      "episode  74 score 0.34 average score -0.69 epsilon 0.10  profit_iteration 0.00  iterations 1199.00  long_return 1.89 \n",
      "episode  75 score -0.35 average score -0.69 epsilon 0.10  profit_iteration 0.00  iterations 1199.00  long_return 1.89 \n",
      "episode  76 score 0.05 average score -0.68 epsilon 0.10  profit_iteration 0.00  iterations 1199.00  long_return 1.89 \n",
      "episode  77 score 0.40 average score -0.66 epsilon 0.10  profit_iteration 0.00  iterations 1199.00  long_return 1.89 \n",
      "episode  78 score 0.11 average score -0.65 epsilon 0.10  profit_iteration 0.00  iterations 1199.00  long_return 1.89 \n",
      "episode  79 score -0.11 average score -0.65 epsilon 0.10  profit_iteration 0.00  iterations 1199.00  long_return 1.89 \n",
      "episode  80 score 0.17 average score -0.64 epsilon 0.10  profit_iteration 0.00  iterations 1199.00  long_return 1.89 \n",
      "... saving checkpoint ...\n",
      "... saving checkpoint ...\n",
      "saved check point\n",
      "episode  81 score 0.02 average score -0.63 epsilon 0.10  profit_iteration 0.00  iterations 1199.00  long_return 1.89 \n",
      "episode  82 score -0.34 average score -0.63 epsilon 0.10  profit_iteration 0.00  iterations 1199.00  long_return 1.89 \n",
      "episode  83 score 0.05 average score -0.62 epsilon 0.10  profit_iteration 0.00  iterations 1199.00  long_return 1.89 \n",
      "episode  84 score -0.28 average score -0.61 epsilon 0.10  profit_iteration 0.00  iterations 1199.00  long_return 1.89 \n",
      "episode  85 score -0.09 average score -0.61 epsilon 0.10  profit_iteration 0.00  iterations 1199.00  long_return 1.89 \n",
      "episode  86 score -0.16 average score -0.60 epsilon 0.10  profit_iteration 0.00  iterations 1199.00  long_return 1.89 \n",
      "episode  87 score 0.17 average score -0.59 epsilon 0.10  profit_iteration 0.00  iterations 1199.00  long_return 1.89 \n",
      "episode  88 score 0.01 average score -0.59 epsilon 0.10  profit_iteration 0.00  iterations 1199.00  long_return 1.89 \n",
      "episode  89 score -0.32 average score -0.58 epsilon 0.10  profit_iteration 0.00  iterations 1199.00  long_return 1.89 \n",
      "episode  90 score -0.04 average score -0.58 epsilon 0.10  profit_iteration 0.00  iterations 1199.00  long_return 1.89 \n",
      "... saving checkpoint ...\n",
      "... saving checkpoint ...\n",
      "saved check point\n",
      "episode  91 score -0.40 average score -0.58 epsilon 0.10  profit_iteration 0.00  iterations 1199.00  long_return 1.89 \n",
      "episode  92 score -0.24 average score -0.57 epsilon 0.10  profit_iteration 0.00  iterations 1199.00  long_return 1.89 \n",
      "episode  93 score -0.34 average score -0.57 epsilon 0.10  profit_iteration 0.00  iterations 1199.00  long_return 1.89 \n",
      "episode  94 score 0.01 average score -0.56 epsilon 0.10  profit_iteration 0.00  iterations 1199.00  long_return 1.89 \n",
      "episode  95 score 0.03 average score -0.56 epsilon 0.10  profit_iteration 0.00  iterations 1199.00  long_return 1.89 \n",
      "episode  96 score -0.13 average score -0.55 epsilon 0.10  profit_iteration 0.00  iterations 1199.00  long_return 1.89 \n",
      "episode  97 score -0.42 average score -0.55 epsilon 0.10  profit_iteration 0.00  iterations 1199.00  long_return 1.89 \n",
      "episode  98 score 0.10 average score -0.55 epsilon 0.10  profit_iteration 0.00  iterations 1199.00  long_return 1.89 \n",
      "episode  99 score -0.03 average score -0.54 epsilon 0.10  profit_iteration 0.00  iterations 1199.00  long_return 1.89 \n",
      "episode  100 score -0.13 average score -0.53 epsilon 0.10  profit_iteration 0.00  iterations 1199.00  long_return 1.89 \n",
      "... saving checkpoint ...\n",
      "... saving checkpoint ...\n",
      "saved check point\n",
      "episode  101 score -0.22 average score -0.52 epsilon 0.10  profit_iteration 0.00  iterations 1199.00  long_return 1.89 \n",
      "episode  102 score 0.54 average score -0.50 epsilon 0.10  profit_iteration 0.00  iterations 1199.00  long_return 1.89 \n",
      "episode  103 score 0.10 average score -0.49 epsilon 0.10  profit_iteration 0.00  iterations 1199.00  long_return 1.89 \n",
      "episode  104 score -0.06 average score -0.48 epsilon 0.10  profit_iteration 0.00  iterations 1199.00  long_return 1.89 \n",
      "episode  105 score -0.10 average score -0.47 epsilon 0.10  profit_iteration 0.00  iterations 1199.00  long_return 1.89 \n",
      "episode  106 score -0.20 average score -0.46 epsilon 0.10  profit_iteration 0.00  iterations 1199.00  long_return 1.89 \n",
      "episode  107 score 0.15 average score -0.44 epsilon 0.10  profit_iteration 0.00  iterations 1199.00  long_return 1.89 \n",
      "episode  108 score 0.30 average score -0.43 epsilon 0.10  profit_iteration 0.00  iterations 1199.00  long_return 1.89 \n"
     ]
    }
   ],
   "source": [
    "#agent.Q_eval.load_state_dict(T.load(state_dict_path))\n",
    "#agent.Q_eval.load_state_dict(T.load(best_state_dict_path))\n",
    "scores, eps_history = [], []\n",
    "n_games = 1000\n",
    "max_score = 0.0\n",
    "#learn_frequency = 4\n",
    "#learn_count = 0\n",
    "\n",
    "\n",
    "for i in range(n_games):\n",
    "    score = 0.0\n",
    "    done = False\n",
    "    observation = env.reset(first_test_step)\n",
    "    while not done:\n",
    "        action = agent.choose_action(observation)\n",
    "        observation_, reward, done, info = env.step(action)\n",
    "        if (observation_ is not None): \n",
    "            score += reward\n",
    "            agent.store_transition(observation, action, reward, observation_, done)\n",
    "        agent.learn()\n",
    "#        if learn_count == learn_frequency:\n",
    "#            agent.learn()\n",
    "#            learn_count = 0\n",
    "#        else:\n",
    "#            learn_count += 1\n",
    "        observation = observation_\n",
    "#    agent.learn() # Learn after one episode\n",
    "    scores.append(score)\n",
    "    eps_history.append(agent.epsilon)\n",
    "    \n",
    "    avg_score = np.mean(scores[-100:])\n",
    "    \n",
    "    print('episode ', i, 'score %.2f' % score,\n",
    "         'average score %.2f' % avg_score,\n",
    "         'epsilon %.2f ' % agent.epsilon,\n",
    "         'profit_iteration %.2f ' % info['profit_iteration'],\n",
    "         'iterations %.2f ' % info['iterations'],\n",
    "         'long_return %.2f ' % info['long_return']\n",
    "         )\n",
    "    \n",
    "    if (i !=0) and(i % 10 == 0):\n",
    "        agent.save_models()\n",
    "        print(\"saved check point\")\n"
   ]
  },
  {
   "cell_type": "code",
   "execution_count": null,
   "metadata": {},
   "outputs": [],
   "source": [
    "observation"
   ]
  },
  {
   "cell_type": "code",
   "execution_count": null,
   "metadata": {},
   "outputs": [],
   "source": [
    "tmp=[2,env.features['breakout_5'].loc[74:80].values,env.features['breakout_25'].loc[74:80].values]"
   ]
  },
  {
   "cell_type": "code",
   "execution_count": null,
   "metadata": {},
   "outputs": [],
   "source": [
    "np.append([2.0],env.features['breakout_5'].loc[74:80].values)"
   ]
  },
  {
   "cell_type": "code",
   "execution_count": null,
   "metadata": {},
   "outputs": [],
   "source": [
    "list(env.features['breakout_5'].loc[74:80].values)"
   ]
  },
  {
   "cell_type": "code",
   "execution_count": null,
   "metadata": {},
   "outputs": [],
   "source": [
    "tmp=[2.0]\n",
    "tmp2=[]\n",
    "tmp2.append(env.features['breakout_5'].loc[74:80].values)\n",
    "tmp2.append(env.features['breakout_25'].loc[74:80].values)\n",
    "tmp2.append(env.features['breakout_50'].loc[74:80].values)\n",
    "tmp2"
   ]
  },
  {
   "cell_type": "code",
   "execution_count": null,
   "metadata": {},
   "outputs": [],
   "source": [
    "np.append(tmp,tmp2)"
   ]
  },
  {
   "cell_type": "code",
   "execution_count": null,
   "metadata": {},
   "outputs": [],
   "source": []
  }
 ],
 "metadata": {
  "@webio": {
   "lastCommId": null,
   "lastKernelId": null
  },
  "kernelspec": {
   "display_name": "Python 3",
   "language": "python",
   "name": "python3"
  },
  "language_info": {
   "codemirror_mode": {
    "name": "ipython",
    "version": 3
   },
   "file_extension": ".py",
   "mimetype": "text/x-python",
   "name": "python",
   "nbconvert_exporter": "python",
   "pygments_lexer": "ipython3",
   "version": "3.7.4"
  }
 },
 "nbformat": 4,
 "nbformat_minor": 4
}
