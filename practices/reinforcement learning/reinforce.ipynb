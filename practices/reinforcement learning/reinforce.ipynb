{
 "cells": [
  {
   "cell_type": "markdown",
   "metadata": {},
   "source": [
    "Policy-based"
   ]
  },
  {
   "cell_type": "code",
   "execution_count": 22,
   "metadata": {},
   "outputs": [],
   "source": [
    "import gym\n",
    "import torch\n",
    "import torch.nn as nn\n",
    "import torch.nn.functional as F\n",
    "import torch.optim as optim\n",
    "from torch.distributions import Categorical\n",
    "\n",
    "#Hyperparameters\n",
    "learning_rate = 0.0002\n",
    "gamma         = 0.98\n",
    "\n",
    "class Policy(nn.Module):\n",
    "    def __init__(self):\n",
    "        super(Policy, self).__init__()\n",
    "        self.data = []\n",
    "        \n",
    "        self.fc1 = nn.Linear(4, 128)\n",
    "        self.fc2 = nn.Linear(128, 2)\n",
    "        self.optimizer = optim.Adam(self.parameters(), lr=learning_rate)\n",
    "        \n",
    "    def forward(self, x):\n",
    "        x = F.relu(self.fc1(x))\n",
    "        x = F.softmax(self.fc2(x), dim=0)\n",
    "        return x\n",
    "      \n",
    "    def put_data(self, item):\n",
    "        self.data.append(item)\n",
    "        \n",
    "    def train_net(self):\n",
    "        R = 0\n",
    "        self.optimizer.zero_grad()\n",
    "        for r, prob in self.data[::-1]: # backward calculation\n",
    "            R = r + gamma * R \n",
    "            loss = -torch.log(prob) * R\n",
    "            loss.backward() # Compute gradients\n",
    "        self.optimizer.step()\n",
    "        self.data = []\n",
    "\n"
   ]
  },
  {
   "cell_type": "code",
   "execution_count": 23,
   "metadata": {},
   "outputs": [
    {
     "name": "stdout",
     "output_type": "stream",
     "text": [
      "Size of State Space ->  4\n",
      "Size of Action Space ->  2\n",
      "# of episode :100, avg score : 24.62\n",
      "# of episode :200, avg score : 32.91\n",
      "# of episode :300, avg score : 39.6\n",
      "# of episode :400, avg score : 48.44\n"
     ]
    }
   ],
   "source": [
    "env = gym.make('CartPole-v1')\n",
    "num_states = env.observation_space.shape[0]\n",
    "print(\"Size of State Space ->  {}\".format(num_states))\n",
    "num_actions = env.action_space.n\n",
    "print(\"Size of Action Space ->  {}\".format(num_actions))\n",
    "\n",
    "pi = Policy()\n",
    "score = 0.0\n",
    "print_interval = 20\n",
    "print_interval = 100\n",
    "\n",
    "\n",
    "#for n_epi in range(10000):\n",
    "for n_epi in range(500):\n",
    "    s = env.reset()\n",
    "    done = False\n",
    "\n",
    "    while not done: # CartPole-v1 forced to terminates at 500 step.\n",
    "        prob = pi(torch.from_numpy(s).float())\n",
    "        m = Categorical(prob)\n",
    "        a = m.sample()\n",
    "        s_prime, r, done, info = env.step(a.item())\n",
    "        pi.put_data((r,prob[a]))\n",
    "        s = s_prime\n",
    "        score += r\n",
    "\n",
    "    pi.train_net()\n",
    "\n",
    "    if n_epi%print_interval==0 and n_epi!=0:\n",
    "        print(\"# of episode :{}, avg score : {}\".format(n_epi, score/print_interval))\n",
    "        score = 0.0\n",
    "env.close()\n"
   ]
  },
  {
   "cell_type": "code",
   "execution_count": null,
   "metadata": {},
   "outputs": [],
   "source": []
  }
 ],
 "metadata": {
  "kernelspec": {
   "display_name": "Python 3",
   "language": "python",
   "name": "python3"
  },
  "language_info": {
   "codemirror_mode": {
    "name": "ipython",
    "version": 3
   },
   "file_extension": ".py",
   "mimetype": "text/x-python",
   "name": "python",
   "nbconvert_exporter": "python",
   "pygments_lexer": "ipython3",
   "version": "3.7.4"
  }
 },
 "nbformat": 4,
 "nbformat_minor": 2
}
