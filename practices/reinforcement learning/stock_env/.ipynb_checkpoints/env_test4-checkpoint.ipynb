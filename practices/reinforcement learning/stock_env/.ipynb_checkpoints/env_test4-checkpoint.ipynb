{
 "cells": [
  {
   "cell_type": "code",
   "execution_count": 1,
   "metadata": {},
   "outputs": [],
   "source": [
    "# Define environment"
   ]
  },
  {
   "cell_type": "code",
   "execution_count": 19,
   "metadata": {},
   "outputs": [],
   "source": [
    "import random\n",
    "import gym\n",
    "from gym import spaces\n",
    "from gym.utils import seeding\n",
    "import numpy as np\n",
    "import pandas as pd\n",
    "\n",
    "class TradingSPYEnv(gym.Env):\n",
    "    \"\"\"\n",
    "    SPY (S&P500) trading environment.\n",
    "  \n",
    "    State: [[short, neutral, long], portfolio value]\n",
    "      - The states are \n",
    "  \n",
    "  \n",
    "    Action: sell (0), hold (1), and buy (2)\n",
    "      - I prescribe a very simple policy\n",
    "      - when selling, sell all the shares\n",
    "      - when buying, buy as many as cash in hand allows\n",
    "    \"\"\"\n",
    "    def __init__(self, train_data_path='historySPY.csv', sma_len=[5], init_invest=10000, learning_rate=0.0002, gamma=0.98,\n",
    "                normalize_price = True, mode = 'train', train_test_split = 0.9):\n",
    "        train_data = pd.read_csv(train_data_path, index_col = False, parse_dates= ['Date'])\n",
    "        self.stock_price_history = train_data \n",
    "        self.max_sma_len = max(sma_len)\n",
    "        self.current_step = self.max_sma_len # minimum number of steps\n",
    "        self.iteration = 0 # the iteration step in an episode\n",
    "        self.init_invest = init_invest\n",
    "        self.accumulated_profit = 0.0\n",
    "        self.normalize_price = normalize_price\n",
    "\n",
    "        feature_dict = {'Date': self.stock_price_history['Date'],\n",
    "                    'State': np.zeros(self.stock_price_history.shape[0], dtype=int),\n",
    "                    'accumulated_profit': np.zeros(self.stock_price_history.shape[0], dtype=float), \n",
    "                    'portfolio_value': np.zeros(self.stock_price_history.shape[0], dtype=float),\n",
    "                    'Close': self.stock_price_history['Close']\n",
    "                    }\n",
    "                        \n",
    "        self.stock_price_history.dropna(axis=0,inplace=True)\n",
    "        self.stock_price_history.reset_index(drop=True,inplace=True)\n",
    "\n",
    "        self.features = pd.DataFrame(feature_dict)\n",
    "        if isinstance(sma_len,list):\n",
    "            self._set_sma(sma_len)\n",
    "#        self.features.reset_index(drop=True,inplace=True)\n",
    "    \n",
    "        train_test_split_index = int(self.features.shape[0] * train_test_split)\n",
    "        if mode == 'train':\n",
    "            self.end_step = train_test_split_index\n",
    "        elif mode == 'test':\n",
    "            self.features.shape[0]\n",
    "            self.current_step = train_test_split_index\n",
    "            self.end_step = self.features.shape[0]\n",
    "\n",
    "        # Set up data and features\n",
    "        self.reset(current_step = self.current_step)\n",
    "            \n",
    "        # action space\n",
    "        # 0: short, 1: neutral, 2: long\n",
    "        self.action_space = spaces.Discrete(3)\n",
    "    \n",
    "        # observation space\n",
    "        # This contains features to make decisions\n",
    "        self.observation_space = spaces.Box(low=0, high=np.inf, shape=(self.features.columns.shape[0] -1,), dtype=np.float16)\n",
    "    \n",
    "    def _set_sma(self, sma_len):\n",
    "        feature = 'Close'\n",
    "        for sma in sma_len:\n",
    "            col_name = feature+'_'+str(sma)\n",
    "            self.stock_price_history[col_name] = self.stock_price_history[feature].rolling(sma).mean()\n",
    "            self.features[col_name] = self.stock_price_history[feature].rolling(sma).mean()\n",
    "        self.features = self.features.dropna(axis=0)        \n",
    "            \n",
    "        \n",
    "    def _get_observation(self):\n",
    "        # return features at current step\n",
    "#        print(self.features)\n",
    "#        print(self.current_step)\n",
    "#        observation = self.features.drop(columns=['Date']).loc[self.current_step].to_numpy()\n",
    "        # state, portfolio_value, Close, smas\n",
    "\n",
    "        observation = self.stock_price_history.loc[self.current_step - self.max_sma_len:self.current_step][['Open','High','Low','Close']]\n",
    "        \n",
    "        return observation.to_numpy()\n",
    "\n",
    "    def reset(self, current_step = None):\n",
    "        self.iteration = 0 \n",
    "        self.features['State'] = 1 # State:1 means market neutral\n",
    "        self.features['portfolio_value'] = 0.0       \n",
    "        self.features['accumulated_profit'] = 0.0\n",
    "        \n",
    "        # Set the current step to a random point within the data frame\n",
    "        if current_step is not None:\n",
    "            self.current_step = current_step\n",
    "        else:\n",
    "            self.current_step = random.randint(self.max_sma_len, int(self.features.shape[0] * 0.9))\n",
    "            \n",
    "        self.features['portfolio_value'].loc[self.current_step] = self.init_invest\n",
    "        \n",
    "        if self.normalize_price:\n",
    "            price = self.stock_price_history['Close'].loc[self.current_step]\n",
    "            for col in self.features.columns:\n",
    "                if 'Close' in col:\n",
    "                    self.features[col].loc[self.current_step:self.end_step] = self.stock_price_history[col].loc[self.current_step:self.end_step] / price\n",
    "\n",
    "        return self._get_observation()\n",
    "\n",
    "    \"\"\"\n",
    "    Compute what happens next step\n",
    "    \"\"\"\n",
    "    def step(self, action):\n",
    "        next_step = self.current_step + 1\n",
    "        prev_step = self.current_step - 1\n",
    "        \n",
    "        col_name = 'Close'\n",
    "        features = self.features\n",
    "        portfolio_value = self.features.portfolio_value        \n",
    "\n",
    "        done = False\n",
    "        # reward \n",
    "        if (self.iteration > 0): # Exclude the very first step\n",
    "            # difference in portfolio value \n",
    "            r_t = portfolio_value.loc[self.current_step] - portfolio_value.loc[prev_step]\n",
    "        else:\n",
    "            r_t = 0.0\n",
    "        print('step ', self.current_step, ' daily profit', r_t)\n",
    "        features['accumulated_profit'].loc[self.current_step] = features['accumulated_profit'].loc[prev_step] + r_t    \n",
    "\n",
    "        if next_step == self.end_step: \n",
    "            # At the end, we have nothing to do\n",
    "            done = True\n",
    "            self.accumulated_profit = features['accumulated_profit'].loc[self.current_step]\n",
    "            long_return = self.features['Close'].loc[self.current_step] / self.features['Close'].loc[self.current_step-self.iteration]\n",
    "            return None, None, done, {'profit_iteration': self.accumulated_profit/self.iteration, 'iterations': self.iteration, \n",
    "                                      'long_return': long_return}\n",
    "        \n",
    "        \n",
    "        # Current state is set\n",
    "        self.features.State.loc[self.current_step] = action\n",
    "    \n",
    "        # Compute next step\n",
    "        # compute portfolio value at next step\n",
    "        if action == 0: # shorting\n",
    "            portfolio_value.loc[next_step] = portfolio_value.loc[self.current_step] * features[col_name].loc[self.current_step] / features[col_name].loc[next_step]\n",
    "        elif action == 1: # market-neutral position (100% cash)  \n",
    "            portfolio_value.loc[next_step] = portfolio_value.loc[self.current_step]\n",
    "        elif action == 2: # longing\n",
    "            portfolio_value.loc[next_step] = portfolio_value.loc[self.current_step] * features[col_name].loc[next_step] / features[col_name].loc[self.current_step]\n",
    "        else:\n",
    "            raise TypeError(\"Action is out of the space\")\n",
    "        self.features.State.loc[next_step] = action\n",
    "    \n",
    "        self.current_step += 1 \n",
    "        self.iteration += 1\n",
    "        s_prime = self._get_observation() # state at t+1\n",
    "    \n",
    "        return s_prime, r_t, done, None\n"
   ]
  },
  {
   "cell_type": "code",
   "execution_count": 20,
   "metadata": {},
   "outputs": [
    {
     "name": "stderr",
     "output_type": "stream",
     "text": [
      "C:\\Users\\golde\\Anaconda3\\lib\\site-packages\\pandas\\core\\indexing.py:670: SettingWithCopyWarning: \n",
      "A value is trying to be set on a copy of a slice from a DataFrame\n",
      "\n",
      "See the caveats in the documentation: https://pandas.pydata.org/pandas-docs/stable/user_guide/indexing.html#returning-a-view-versus-a-copy\n",
      "  iloc._setitem_with_indexer(indexer, value)\n"
     ]
    },
    {
     "data": {
      "text/plain": [
       "1"
      ]
     },
     "execution_count": 20,
     "metadata": {},
     "output_type": "execute_result"
    }
   ],
   "source": [
    "tmp = TradingSPYEnv()\n",
    "random.randint(0,5)"
   ]
  },
  {
   "cell_type": "code",
   "execution_count": 21,
   "metadata": {},
   "outputs": [
    {
     "data": {
      "text/plain": [
       "array([[80.56, 80.73, 79.23, 79.28],\n",
       "       [79.84, 80.28, 78.94, 80.13],\n",
       "       [80.21, 81.12, 80.14, 81.04],\n",
       "       [81.27, 81.83, 80.84, 81.58],\n",
       "       [81.64, 81.84, 80.85, 81.01],\n",
       "       [81.01, 81.19, 80.44, 80.82]])"
      ]
     },
     "execution_count": 21,
     "metadata": {},
     "output_type": "execute_result"
    }
   ],
   "source": [
    "tmp._get_observation()"
   ]
  },
  {
   "cell_type": "code",
   "execution_count": 37,
   "metadata": {},
   "outputs": [
    {
     "name": "stdout",
     "output_type": "stream",
     "text": [
      "5\n"
     ]
    },
    {
     "name": "stderr",
     "output_type": "stream",
     "text": [
      "C:\\Users\\golde\\Anaconda3\\lib\\site-packages\\pandas\\core\\indexing.py:670: SettingWithCopyWarning: \n",
      "A value is trying to be set on a copy of a slice from a DataFrame\n",
      "\n",
      "See the caveats in the documentation: https://pandas.pydata.org/pandas-docs/stable/user_guide/indexing.html#returning-a-view-versus-a-copy\n",
      "  iloc._setitem_with_indexer(indexer, value)\n"
     ]
    }
   ],
   "source": [
    "env = TradingSPYEnv()\n",
    "print(env.current_step)"
   ]
  },
  {
   "cell_type": "code",
   "execution_count": 38,
   "metadata": {},
   "outputs": [
    {
     "name": "stdout",
     "output_type": "stream",
     "text": [
      "step  5  daily profit 0.0\n",
      "step  6  daily profit 0.0\n",
      "step  7  daily profit 43.30611234842945\n",
      "step  8  daily profit -97.74808215788289\n",
      "step  9  daily profit -61.865874783468826\n"
     ]
    }
   ],
   "source": [
    "ret=[]\n",
    "#for i in range(env.current_step,env.end_step):\n",
    "for i in range(env.current_step,10):\n",
    "#    print(env.features.portfolio_value.loc[env.current_step])\n",
    "    s_prime,r_t,_,_ = env.step(2)\n",
    "    ret.append(r_t)\n",
    "    "
   ]
  },
  {
   "cell_type": "code",
   "execution_count": 39,
   "metadata": {},
   "outputs": [
    {
     "data": {
      "text/plain": [
       "array([[81.01, 81.19, 80.44, 80.82],\n",
       "       [80.93, 81.69, 80.  , 80.16],\n",
       "       [80.24, 80.7 , 79.97, 80.51],\n",
       "       [80.6 , 80.65, 79.56, 79.72],\n",
       "       [79.52, 79.65, 79.04, 79.22],\n",
       "       [79.45, 80.03, 79.  , 79.87]])"
      ]
     },
     "execution_count": 39,
     "metadata": {},
     "output_type": "execute_result"
    }
   ],
   "source": [
    "s_prime"
   ]
  },
  {
   "cell_type": "code",
   "execution_count": 40,
   "metadata": {},
   "outputs": [
    {
     "data": {
      "text/html": [
       "<div>\n",
       "<style scoped>\n",
       "    .dataframe tbody tr th:only-of-type {\n",
       "        vertical-align: middle;\n",
       "    }\n",
       "\n",
       "    .dataframe tbody tr th {\n",
       "        vertical-align: top;\n",
       "    }\n",
       "\n",
       "    .dataframe thead th {\n",
       "        text-align: right;\n",
       "    }\n",
       "</style>\n",
       "<table border=\"1\" class=\"dataframe\">\n",
       "  <thead>\n",
       "    <tr style=\"text-align: right;\">\n",
       "      <th></th>\n",
       "      <th>Open</th>\n",
       "      <th>High</th>\n",
       "      <th>Low</th>\n",
       "      <th>Close</th>\n",
       "    </tr>\n",
       "  </thead>\n",
       "  <tbody>\n",
       "    <tr>\n",
       "      <th>5</th>\n",
       "      <td>81.01</td>\n",
       "      <td>81.19</td>\n",
       "      <td>80.44</td>\n",
       "      <td>80.82</td>\n",
       "    </tr>\n",
       "    <tr>\n",
       "      <th>6</th>\n",
       "      <td>80.93</td>\n",
       "      <td>81.69</td>\n",
       "      <td>80.00</td>\n",
       "      <td>80.16</td>\n",
       "    </tr>\n",
       "    <tr>\n",
       "      <th>7</th>\n",
       "      <td>80.24</td>\n",
       "      <td>80.70</td>\n",
       "      <td>79.97</td>\n",
       "      <td>80.51</td>\n",
       "    </tr>\n",
       "    <tr>\n",
       "      <th>8</th>\n",
       "      <td>80.60</td>\n",
       "      <td>80.65</td>\n",
       "      <td>79.56</td>\n",
       "      <td>79.72</td>\n",
       "    </tr>\n",
       "    <tr>\n",
       "      <th>9</th>\n",
       "      <td>79.52</td>\n",
       "      <td>79.65</td>\n",
       "      <td>79.04</td>\n",
       "      <td>79.22</td>\n",
       "    </tr>\n",
       "    <tr>\n",
       "      <th>10</th>\n",
       "      <td>79.45</td>\n",
       "      <td>80.03</td>\n",
       "      <td>79.00</td>\n",
       "      <td>79.87</td>\n",
       "    </tr>\n",
       "  </tbody>\n",
       "</table>\n",
       "</div>"
      ],
      "text/plain": [
       "     Open   High    Low  Close\n",
       "5   81.01  81.19  80.44  80.82\n",
       "6   80.93  81.69  80.00  80.16\n",
       "7   80.24  80.70  79.97  80.51\n",
       "8   80.60  80.65  79.56  79.72\n",
       "9   79.52  79.65  79.04  79.22\n",
       "10  79.45  80.03  79.00  79.87"
      ]
     },
     "execution_count": 40,
     "metadata": {},
     "output_type": "execute_result"
    }
   ],
   "source": [
    "env.stock_price_history.loc[env.current_step - env.max_sma_len:env.current_step][['Open','High','Low','Close']]"
   ]
  },
  {
   "cell_type": "code",
   "execution_count": 41,
   "metadata": {},
   "outputs": [
    {
     "data": {
      "text/plain": [
       "10"
      ]
     },
     "execution_count": 41,
     "metadata": {},
     "output_type": "execute_result"
    }
   ],
   "source": [
    "env.current_step"
   ]
  },
  {
   "cell_type": "code",
   "execution_count": 42,
   "metadata": {},
   "outputs": [
    {
     "data": {
      "text/html": [
       "<div>\n",
       "<style scoped>\n",
       "    .dataframe tbody tr th:only-of-type {\n",
       "        vertical-align: middle;\n",
       "    }\n",
       "\n",
       "    .dataframe tbody tr th {\n",
       "        vertical-align: top;\n",
       "    }\n",
       "\n",
       "    .dataframe thead th {\n",
       "        text-align: right;\n",
       "    }\n",
       "</style>\n",
       "<table border=\"1\" class=\"dataframe\">\n",
       "  <thead>\n",
       "    <tr style=\"text-align: right;\">\n",
       "      <th></th>\n",
       "      <th>Date</th>\n",
       "      <th>State</th>\n",
       "      <th>accumulated_profit</th>\n",
       "      <th>portfolio_value</th>\n",
       "      <th>Close</th>\n",
       "      <th>Close_5</th>\n",
       "    </tr>\n",
       "  </thead>\n",
       "  <tbody>\n",
       "    <tr>\n",
       "      <th>5</th>\n",
       "      <td>2002-01-08</td>\n",
       "      <td>2</td>\n",
       "      <td>0.000000</td>\n",
       "      <td>10000.000000</td>\n",
       "      <td>1.000000</td>\n",
       "      <td>1.001188</td>\n",
       "    </tr>\n",
       "    <tr>\n",
       "      <th>6</th>\n",
       "      <td>2002-01-09</td>\n",
       "      <td>2</td>\n",
       "      <td>0.000000</td>\n",
       "      <td>9918.337045</td>\n",
       "      <td>0.991834</td>\n",
       "      <td>1.001262</td>\n",
       "    </tr>\n",
       "    <tr>\n",
       "      <th>7</th>\n",
       "      <td>2002-01-10</td>\n",
       "      <td>2</td>\n",
       "      <td>43.306112</td>\n",
       "      <td>9961.643158</td>\n",
       "      <td>0.996164</td>\n",
       "      <td>0.999951</td>\n",
       "    </tr>\n",
       "    <tr>\n",
       "      <th>8</th>\n",
       "      <td>2002-01-11</td>\n",
       "      <td>2</td>\n",
       "      <td>-54.441970</td>\n",
       "      <td>9863.895075</td>\n",
       "      <td>0.986390</td>\n",
       "      <td>0.995348</td>\n",
       "    </tr>\n",
       "    <tr>\n",
       "      <th>9</th>\n",
       "      <td>2002-01-14</td>\n",
       "      <td>2</td>\n",
       "      <td>-116.307845</td>\n",
       "      <td>9802.029201</td>\n",
       "      <td>0.980203</td>\n",
       "      <td>0.990918</td>\n",
       "    </tr>\n",
       "    <tr>\n",
       "      <th>10</th>\n",
       "      <td>2002-01-15</td>\n",
       "      <td>2</td>\n",
       "      <td>0.000000</td>\n",
       "      <td>9882.454838</td>\n",
       "      <td>0.988245</td>\n",
       "      <td>0.988567</td>\n",
       "    </tr>\n",
       "  </tbody>\n",
       "</table>\n",
       "</div>"
      ],
      "text/plain": [
       "         Date  State  accumulated_profit  portfolio_value     Close   Close_5\n",
       "5  2002-01-08      2            0.000000     10000.000000  1.000000  1.001188\n",
       "6  2002-01-09      2            0.000000      9918.337045  0.991834  1.001262\n",
       "7  2002-01-10      2           43.306112      9961.643158  0.996164  0.999951\n",
       "8  2002-01-11      2          -54.441970      9863.895075  0.986390  0.995348\n",
       "9  2002-01-14      2         -116.307845      9802.029201  0.980203  0.990918\n",
       "10 2002-01-15      2            0.000000      9882.454838  0.988245  0.988567"
      ]
     },
     "execution_count": 42,
     "metadata": {},
     "output_type": "execute_result"
    }
   ],
   "source": [
    "env.features.loc[env.current_step - env.max_sma_len:env.current_step]"
   ]
  },
  {
   "cell_type": "code",
   "execution_count": 35,
   "metadata": {},
   "outputs": [
    {
     "data": {
      "text/html": [
       "<div>\n",
       "<style scoped>\n",
       "    .dataframe tbody tr th:only-of-type {\n",
       "        vertical-align: middle;\n",
       "    }\n",
       "\n",
       "    .dataframe tbody tr th {\n",
       "        vertical-align: top;\n",
       "    }\n",
       "\n",
       "    .dataframe thead th {\n",
       "        text-align: right;\n",
       "    }\n",
       "</style>\n",
       "<table border=\"1\" class=\"dataframe\">\n",
       "  <thead>\n",
       "    <tr style=\"text-align: right;\">\n",
       "      <th></th>\n",
       "      <th>Date</th>\n",
       "      <th>State</th>\n",
       "      <th>accumulated_profit</th>\n",
       "      <th>portfolio_value</th>\n",
       "      <th>Close</th>\n",
       "      <th>Close_5</th>\n",
       "    </tr>\n",
       "  </thead>\n",
       "  <tbody>\n",
       "    <tr>\n",
       "      <th>4241</th>\n",
       "      <td>2018-11-02</td>\n",
       "      <td>2</td>\n",
       "      <td>22441.227419</td>\n",
       "      <td>32359.564464</td>\n",
       "      <td>3.235956</td>\n",
       "      <td>3.207919</td>\n",
       "    </tr>\n",
       "    <tr>\n",
       "      <th>4242</th>\n",
       "      <td>2018-11-05</td>\n",
       "      <td>2</td>\n",
       "      <td>22620.638456</td>\n",
       "      <td>32538.975501</td>\n",
       "      <td>3.253898</td>\n",
       "      <td>3.230611</td>\n",
       "    </tr>\n",
       "    <tr>\n",
       "      <th>4243</th>\n",
       "      <td>2018-11-06</td>\n",
       "      <td>2</td>\n",
       "      <td>22826.033160</td>\n",
       "      <td>32744.370205</td>\n",
       "      <td>3.274437</td>\n",
       "      <td>3.248107</td>\n",
       "    </tr>\n",
       "    <tr>\n",
       "      <th>4244</th>\n",
       "      <td>2018-11-07</td>\n",
       "      <td>2</td>\n",
       "      <td>23527.592180</td>\n",
       "      <td>33445.929225</td>\n",
       "      <td>3.344593</td>\n",
       "      <td>3.272829</td>\n",
       "    </tr>\n",
       "    <tr>\n",
       "      <th>4245</th>\n",
       "      <td>2018-11-08</td>\n",
       "      <td>2</td>\n",
       "      <td>23466.963623</td>\n",
       "      <td>33385.300668</td>\n",
       "      <td>3.338530</td>\n",
       "      <td>3.289483</td>\n",
       "    </tr>\n",
       "    <tr>\n",
       "      <th>4246</th>\n",
       "      <td>2018-11-09</td>\n",
       "      <td>2</td>\n",
       "      <td>23140.311804</td>\n",
       "      <td>33058.648849</td>\n",
       "      <td>3.305865</td>\n",
       "      <td>3.303464</td>\n",
       "    </tr>\n",
       "  </tbody>\n",
       "</table>\n",
       "</div>"
      ],
      "text/plain": [
       "           Date  State  accumulated_profit  portfolio_value     Close  \\\n",
       "4241 2018-11-02      2        22441.227419     32359.564464  3.235956   \n",
       "4242 2018-11-05      2        22620.638456     32538.975501  3.253898   \n",
       "4243 2018-11-06      2        22826.033160     32744.370205  3.274437   \n",
       "4244 2018-11-07      2        23527.592180     33445.929225  3.344593   \n",
       "4245 2018-11-08      2        23466.963623     33385.300668  3.338530   \n",
       "4246 2018-11-09      2        23140.311804     33058.648849  3.305865   \n",
       "\n",
       "       Close_5  \n",
       "4241  3.207919  \n",
       "4242  3.230611  \n",
       "4243  3.248107  \n",
       "4244  3.272829  \n",
       "4245  3.289483  \n",
       "4246  3.303464  "
      ]
     },
     "execution_count": 35,
     "metadata": {},
     "output_type": "execute_result"
    }
   ],
   "source": [
    "env.features.loc[env.current_step-5:env.current_step]"
   ]
  },
  {
   "cell_type": "code",
   "execution_count": 43,
   "metadata": {},
   "outputs": [
    {
     "data": {
      "text/plain": [
       "-61.865874000000986"
      ]
     },
     "execution_count": 43,
     "metadata": {},
     "output_type": "execute_result"
    }
   ],
   "source": [
    "9802.029201-9863.895075"
   ]
  },
  {
   "cell_type": "code",
   "execution_count": 13,
   "metadata": {},
   "outputs": [
    {
     "name": "stdout",
     "output_type": "stream",
     "text": [
      "2470\n",
      "[[100.23 100.92  99.46 100.62]\n",
      " [101.79 102.37 101.22 102.34]\n",
      " [101.86 102.33 100.14 100.39]\n",
      " [100.31 103.12  99.53 102.35]\n",
      " [102.18 102.77 100.79 101.14]\n",
      " [101.39 101.95 100.05 101.58]]\n",
      "daily profit 0.0\n",
      "[[101.79 102.37 101.22 102.34]\n",
      " [101.86 102.33 100.14 100.39]\n",
      " [100.31 103.12  99.53 102.35]\n",
      " [102.18 102.77 100.79 101.14]\n",
      " [101.39 101.95 100.05 101.58]\n",
      " [102.78 103.64 102.47 103.51]]\n",
      "0.0\n",
      "False\n"
     ]
    },
    {
     "name": "stderr",
     "output_type": "stream",
     "text": [
      "C:\\Users\\golde\\Anaconda3\\lib\\site-packages\\pandas\\core\\indexing.py:670: SettingWithCopyWarning: \n",
      "A value is trying to be set on a copy of a slice from a DataFrame\n",
      "\n",
      "See the caveats in the documentation: https://pandas.pydata.org/pandas-docs/stable/user_guide/indexing.html#returning-a-view-versus-a-copy\n",
      "  iloc._setitem_with_indexer(indexer, value)\n"
     ]
    }
   ],
   "source": [
    "s = tmp.reset()\n",
    "print(tmp.current_step)\n",
    "print(s)\n",
    "s_prime, r_t, done, info = tmp.step(2)\n",
    "print(s_prime)\n",
    "print(r_t)\n",
    "print(done)"
   ]
  },
  {
   "cell_type": "code",
   "execution_count": 14,
   "metadata": {},
   "outputs": [],
   "source": [
    "s = tmp.reset()"
   ]
  },
  {
   "cell_type": "code",
   "execution_count": 15,
   "metadata": {},
   "outputs": [
    {
     "name": "stdout",
     "output_type": "stream",
     "text": [
      "daily profit 0.0\n"
     ]
    },
    {
     "data": {
      "text/plain": [
       "(array([[75.16, 75.36, 74.74, 75.21],\n",
       "        [75.65, 76.14, 75.26, 76.01],\n",
       "        [76.6 , 76.63, 75.44, 76.36],\n",
       "        [75.88, 76.81, 75.82, 76.35],\n",
       "        [76.4 , 78.37, 76.33, 78.03],\n",
       "        [77.67, 78.42, 77.26, 78.35]]),\n",
       " 0.0,\n",
       " False,\n",
       " None)"
      ]
     },
     "execution_count": 15,
     "metadata": {},
     "output_type": "execute_result"
    }
   ],
   "source": [
    "tmp.step(2)"
   ]
  },
  {
   "cell_type": "code",
   "execution_count": 16,
   "metadata": {},
   "outputs": [
    {
     "data": {
      "text/plain": [
       "0.0"
      ]
     },
     "execution_count": 16,
     "metadata": {},
     "output_type": "execute_result"
    }
   ],
   "source": [
    "tmp.accumulated_profit"
   ]
  },
  {
   "cell_type": "code",
   "execution_count": null,
   "metadata": {},
   "outputs": [],
   "source": []
  },
  {
   "cell_type": "code",
   "execution_count": 17,
   "metadata": {},
   "outputs": [
    {
     "data": {
      "text/plain": [
       "True"
      ]
     },
     "execution_count": 17,
     "metadata": {},
     "output_type": "execute_result"
    }
   ],
   "source": [
    "'Close' in 'Close_5'"
   ]
  },
  {
   "cell_type": "code",
   "execution_count": null,
   "metadata": {},
   "outputs": [],
   "source": []
  },
  {
   "cell_type": "code",
   "execution_count": 18,
   "metadata": {},
   "outputs": [
    {
     "data": {
      "text/plain": [
       "\"\\nimport gym\\nfrom gym import spaces\\nfrom gym.utils import seeding\\nimport numpy as np\\nimport itertools\\n\\n\\nclass TradingEnv(gym.Env):\\n  A 3-stock (MSFT, IBM, QCOM) trading environment.\\n\\n  State: [# of stock owned, current stock prices, cash in hand]\\n    - array of length n_stock * 2 + 1\\n    - price is discretized (to integer) to reduce state space\\n    - use close price for each stock\\n    - cash in hand is evaluated at each step based on action performed\\n\\n  Action: sell (0), hold (1), and buy (2)\\n    - when selling, sell all the shares\\n    - when buying, buy as many as cash in hand allows\\n    - if buying multiple stock, equally distribute cash in hand and then utilize the balance\\n\\ndef __init__(self, train_data, init_invest=20000):\\n    # data\\n    self.stock_price_history = np.around(train_data) # round up to integer to reduce state space\\n    self.n_stock, self.n_step = self.stock_price_history.shape\\n\\n    # instance attributes\\n    self.init_invest = init_invest\\n    self.cur_step = None\\n    self.stock_owned = None\\n    self.stock_price = None\\n    self.cash_in_hand = None\\n\\n    # action space\\n    self.action_space = spaces.Discrete(3**self.n_stock)\\n\\n    # observation space: give estimates in order to sample and build scaler\\n    stock_max_price = self.stock_price_history.max(axis=1)\\n    stock_range = [[0, init_invest * 2 // mx] for mx in stock_max_price]\\n    price_range = [[0, mx] for mx in stock_max_price]\\n    cash_in_hand_range = [[0, init_invest * 2]]\\n    self.observation_space = spaces.MultiDiscrete(stock_range + price_range + cash_in_hand_range)\\n\\n    # seed and start\\n    self._seed()\\n    self._reset()\\n\\n\\n  def _seed(self, seed=None):\\n    self.np_random, seed = seeding.np_random(seed)\\n    return [seed]\\n\\n\\n  def _reset(self):\\n    self.cur_step = 0\\n    self.stock_owned = [0] * self.n_stock\\n    self.stock_price = self.stock_price_history[:, self.cur_step]\\n    self.cash_in_hand = self.init_invest\\n    return self._get_obs()\\n\\n\\n  def _step(self, action):\\n    assert self.action_space.contains(action)\\n    prev_val = self._get_val()\\n    self.cur_step += 1\\n    self.stock_price = self.stock_price_history[:, self.cur_step] # update price\\n    self._trade(action)\\n    cur_val = self._get_val()\\n    reward = cur_val - prev_val\\n    done = self.cur_step == self.n_step - 1\\n    info = {'cur_val': cur_val}\\n    return self._get_obs(), reward, done, info\\n\\n\\n  def _get_obs(self):\\n    obs = []\\n    obs.extend(self.stock_owned)\\n    obs.extend(list(self.stock_price))\\n    obs.append(self.cash_in_hand)\\n    return obs\\n\\n\\n  def _get_val(self):\\n    return np.sum(self.stock_owned * self.stock_price) + self.cash_in_hand\\n\\n\\n  def _trade(self, action):\\n    # all combo to sell(0), hold(1), or buy(2) stocks\\n    action_combo = map(list, itertools.product([0, 1, 2], repeat=self.n_stock))\\n    action_vec = action_combo[action]\\n\\n    # one pass to get sell/buy index\\n    sell_index = []\\n    buy_index = []\\n    for i, a in enumerate(action_vec):\\n      if a == 0:\\n        sell_index.append(i)\\n      elif a == 2:\\n        buy_index.append(i)\\n\\n    # two passes: sell first, then buy; might be naive in real-world settings\\n    if sell_index:\\n      for i in sell_index:\\n        self.cash_in_hand += self.stock_price[i] * self.stock_owned[i]\\n        self.stock_owned[i] = 0\\n    if buy_index:\\n      can_buy = True\\n      while can_buy:\\n        for i in buy_index:\\n          if self.cash_in_hand > self.stock_price[i]:\\n            self.stock_owned[i] += 1 # buy one share\\n            self.cash_in_hand -= self.stock_price[i]\\n          else:\\n            can_buy = False\\n\\n\""
      ]
     },
     "execution_count": 18,
     "metadata": {},
     "output_type": "execute_result"
    }
   ],
   "source": [
    "\"\"\"\n",
    "import gym\n",
    "from gym import spaces\n",
    "from gym.utils import seeding\n",
    "import numpy as np\n",
    "import itertools\n",
    "\n",
    "\n",
    "class TradingEnv(gym.Env):\n",
    "  A 3-stock (MSFT, IBM, QCOM) trading environment.\n",
    "\n",
    "  State: [# of stock owned, current stock prices, cash in hand]\n",
    "    - array of length n_stock * 2 + 1\n",
    "    - price is discretized (to integer) to reduce state space\n",
    "    - use close price for each stock\n",
    "    - cash in hand is evaluated at each step based on action performed\n",
    "\n",
    "  Action: sell (0), hold (1), and buy (2)\n",
    "    - when selling, sell all the shares\n",
    "    - when buying, buy as many as cash in hand allows\n",
    "    - if buying multiple stock, equally distribute cash in hand and then utilize the balance\n",
    "\n",
    "def __init__(self, train_data, init_invest=20000):\n",
    "    # data\n",
    "    self.stock_price_history = np.around(train_data) # round up to integer to reduce state space\n",
    "    self.n_stock, self.n_step = self.stock_price_history.shape\n",
    "\n",
    "    # instance attributes\n",
    "    self.init_invest = init_invest\n",
    "    self.cur_step = None\n",
    "    self.stock_owned = None\n",
    "    self.stock_price = None\n",
    "    self.cash_in_hand = None\n",
    "\n",
    "    # action space\n",
    "    self.action_space = spaces.Discrete(3**self.n_stock)\n",
    "\n",
    "    # observation space: give estimates in order to sample and build scaler\n",
    "    stock_max_price = self.stock_price_history.max(axis=1)\n",
    "    stock_range = [[0, init_invest * 2 // mx] for mx in stock_max_price]\n",
    "    price_range = [[0, mx] for mx in stock_max_price]\n",
    "    cash_in_hand_range = [[0, init_invest * 2]]\n",
    "    self.observation_space = spaces.MultiDiscrete(stock_range + price_range + cash_in_hand_range)\n",
    "\n",
    "    # seed and start\n",
    "    self._seed()\n",
    "    self._reset()\n",
    "\n",
    "\n",
    "  def _seed(self, seed=None):\n",
    "    self.np_random, seed = seeding.np_random(seed)\n",
    "    return [seed]\n",
    "\n",
    "\n",
    "  def _reset(self):\n",
    "    self.cur_step = 0\n",
    "    self.stock_owned = [0] * self.n_stock\n",
    "    self.stock_price = self.stock_price_history[:, self.cur_step]\n",
    "    self.cash_in_hand = self.init_invest\n",
    "    return self._get_obs()\n",
    "\n",
    "\n",
    "  def _step(self, action):\n",
    "    assert self.action_space.contains(action)\n",
    "    prev_val = self._get_val()\n",
    "    self.cur_step += 1\n",
    "    self.stock_price = self.stock_price_history[:, self.cur_step] # update price\n",
    "    self._trade(action)\n",
    "    cur_val = self._get_val()\n",
    "    reward = cur_val - prev_val\n",
    "    done = self.cur_step == self.n_step - 1\n",
    "    info = {'cur_val': cur_val}\n",
    "    return self._get_obs(), reward, done, info\n",
    "\n",
    "\n",
    "  def _get_obs(self):\n",
    "    obs = []\n",
    "    obs.extend(self.stock_owned)\n",
    "    obs.extend(list(self.stock_price))\n",
    "    obs.append(self.cash_in_hand)\n",
    "    return obs\n",
    "\n",
    "\n",
    "  def _get_val(self):\n",
    "    return np.sum(self.stock_owned * self.stock_price) + self.cash_in_hand\n",
    "\n",
    "\n",
    "  def _trade(self, action):\n",
    "    # all combo to sell(0), hold(1), or buy(2) stocks\n",
    "    action_combo = map(list, itertools.product([0, 1, 2], repeat=self.n_stock))\n",
    "    action_vec = action_combo[action]\n",
    "\n",
    "    # one pass to get sell/buy index\n",
    "    sell_index = []\n",
    "    buy_index = []\n",
    "    for i, a in enumerate(action_vec):\n",
    "      if a == 0:\n",
    "        sell_index.append(i)\n",
    "      elif a == 2:\n",
    "        buy_index.append(i)\n",
    "\n",
    "    # two passes: sell first, then buy; might be naive in real-world settings\n",
    "    if sell_index:\n",
    "      for i in sell_index:\n",
    "        self.cash_in_hand += self.stock_price[i] * self.stock_owned[i]\n",
    "        self.stock_owned[i] = 0\n",
    "    if buy_index:\n",
    "      can_buy = True\n",
    "      while can_buy:\n",
    "        for i in buy_index:\n",
    "          if self.cash_in_hand > self.stock_price[i]:\n",
    "            self.stock_owned[i] += 1 # buy one share\n",
    "            self.cash_in_hand -= self.stock_price[i]\n",
    "          else:\n",
    "            can_buy = False\n",
    "\n",
    "\"\"\""
   ]
  },
  {
   "cell_type": "code",
   "execution_count": null,
   "metadata": {},
   "outputs": [],
   "source": []
  }
 ],
 "metadata": {
  "kernelspec": {
   "display_name": "Python 3",
   "language": "python",
   "name": "python3"
  },
  "language_info": {
   "codemirror_mode": {
    "name": "ipython",
    "version": 3
   },
   "file_extension": ".py",
   "mimetype": "text/x-python",
   "name": "python",
   "nbconvert_exporter": "python",
   "pygments_lexer": "ipython3",
   "version": "3.7.4"
  }
 },
 "nbformat": 4,
 "nbformat_minor": 2
}
