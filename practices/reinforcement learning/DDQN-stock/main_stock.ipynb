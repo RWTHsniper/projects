{
 "cells": [
  {
   "cell_type": "code",
   "execution_count": 1,
   "metadata": {},
   "outputs": [],
   "source": [
    "import gym\n",
    "import numpy as np\n",
    "from ddqn_agent import DDQNAgent\n",
    "from utils import plot_learning_curve, make_env\n",
    "\n",
    "from env6 import TradingSPYEnv\n",
    "import numpy as np\n",
    "import os"
   ]
  },
  {
   "cell_type": "code",
   "execution_count": 2,
   "metadata": {},
   "outputs": [
    {
     "name": "stderr",
     "output_type": "stream",
     "text": [
      "C:\\Users\\golde\\Anaconda3\\lib\\site-packages\\pandas\\core\\indexing.py:670: SettingWithCopyWarning: \n",
      "A value is trying to be set on a copy of a slice from a DataFrame\n",
      "\n",
      "See the caveats in the documentation: https://pandas.pydata.org/pandas-docs/stable/user_guide/indexing.html#returning-a-view-versus-a-copy\n",
      "  iloc._setitem_with_indexer(indexer, value)\n"
     ]
    },
    {
     "name": "stdout",
     "output_type": "stream",
     "text": [
      "Size of State Space ->  300\n",
      "Size of Action Space ->  3\n"
     ]
    }
   ],
   "source": [
    "state_dict_path = os.path.join(os.getcwd(),'test6.pth')\n",
    "best_state_dict_path = os.path.join(os.getcwd(),'best6.pth')\n",
    "#env = TradingSPYEnv(init_invest=100.0, sma_len=[5,10,15,20,25],train_test_split=0.5)\n",
    "env = TradingSPYEnv(init_invest=100.0, sma_len=[5,25,50],train_test_split=0.5)\n",
    "first_test_step = env.current_step\n",
    "\n",
    "num_states = env.reset(first_test_step).shape[0]\n",
    "print(\"Size of State Space ->  {}\".format(num_states))\n",
    "num_actions = env.action_space.n\n",
    "print(\"Size of Action Space ->  {}\".format(num_actions))\n",
    "\n",
    "\n",
    "agent = DDQNAgent(gamma=0.99, epsilon=1.0, lr=0.0001,\n",
    "                 input_dims=[num_states],\n",
    "                 n_actions=num_actions, mem_size=50000, eps_min=0.1,\n",
    "                 batch_size=8192, replace=10000, eps_dec=1e-5,\n",
    "                 chkpt_dir='models/', algo='DDQNAgent',\n",
    "                 env_name='stock',\n",
    "                 fc1_dims=32, fc2_dims=32)\n",
    "\n",
    "\n",
    "#agent = Agent(gamma=0.99, epsilon=0.5, batch_size=8192, n_actions=num_actions, eps_dec=1e-5, eps_end=0.1, \n",
    "#              input_dims = [num_states], lr=0.00005, p=0.5,\n",
    "#              weight_decay=1e-5)"
   ]
  },
  {
   "cell_type": "code",
   "execution_count": null,
   "metadata": {},
   "outputs": [
    {
     "name": "stdout",
     "output_type": "stream",
     "text": [
      "episode  0 score -82.33 average score -82.33 epsilon 1.00  profit_iteration 0.00  iterations 2238.00  long_return 1.42 \n",
      "episode  1 score -91.76 average score -87.05 epsilon 1.00  profit_iteration 0.00  iterations 2238.00  long_return 1.42 \n",
      "episode  2 score -91.54 average score -88.54 epsilon 1.00  profit_iteration 0.00  iterations 2238.00  long_return 1.42 \n",
      "episode  3 score -90.46 average score -89.02 epsilon 0.99  profit_iteration 0.00  iterations 2238.00  long_return 1.42 \n",
      "episode  4 score -96.85 average score -90.59 epsilon 0.97  profit_iteration 0.00  iterations 2238.00  long_return 1.42 \n",
      "episode  5 score -93.25 average score -91.03 epsilon 0.95  profit_iteration 0.00  iterations 2238.00  long_return 1.42 \n",
      "episode  6 score -79.78 average score -89.42 epsilon 0.93  profit_iteration 0.00  iterations 2238.00  long_return 1.42 \n",
      "episode  7 score -82.57 average score -88.57 epsilon 0.90  profit_iteration 0.00  iterations 2238.00  long_return 1.42 \n",
      "episode  8 score -74.46 average score -87.00 epsilon 0.88  profit_iteration 0.00  iterations 2238.00  long_return 1.42 \n",
      "episode  9 score -79.46 average score -86.25 epsilon 0.86  profit_iteration 0.00  iterations 2238.00  long_return 1.42 \n",
      "episode  10 score -78.01 average score -85.50 epsilon 0.84  profit_iteration 0.00  iterations 2238.00  long_return 1.42 \n",
      "... saving checkpoint ...\n",
      "... saving checkpoint ...\n",
      "saved check point\n",
      "episode  11 score -68.84 average score -84.11 epsilon 0.81  profit_iteration 0.00  iterations 2238.00  long_return 1.42 \n",
      "episode  12 score -92.89 average score -84.78 epsilon 0.79  profit_iteration 0.00  iterations 2238.00  long_return 1.42 \n",
      "episode  13 score -46.06 average score -82.02 epsilon 0.77  profit_iteration 0.00  iterations 2238.00  long_return 1.42 \n",
      "episode  14 score -61.23 average score -80.63 epsilon 0.75  profit_iteration 0.00  iterations 2238.00  long_return 1.42 \n",
      "episode  15 score 16.34 average score -74.57 epsilon 0.72  profit_iteration 0.00  iterations 2238.00  long_return 1.42 \n",
      "episode  16 score 12.62 average score -69.44 epsilon 0.70  profit_iteration 0.00  iterations 2238.00  long_return 1.42 \n",
      "episode  17 score -56.61 average score -68.73 epsilon 0.68  profit_iteration 0.00  iterations 2238.00  long_return 1.42 \n",
      "episode  18 score -51.46 average score -67.82 epsilon 0.66  profit_iteration 0.00  iterations 2238.00  long_return 1.42 \n",
      "episode  19 score -31.59 average score -66.01 epsilon 0.63  profit_iteration 0.00  iterations 2238.00  long_return 1.42 \n",
      "episode  20 score -12.79 average score -63.47 epsilon 0.61  profit_iteration 0.00  iterations 2238.00  long_return 1.42 \n",
      "... saving checkpoint ...\n",
      "... saving checkpoint ...\n",
      "saved check point\n",
      "episode  21 score -17.14 average score -61.37 epsilon 0.59  profit_iteration 0.00  iterations 2238.00  long_return 1.42 \n",
      "episode  22 score -6.50 average score -58.98 epsilon 0.57  profit_iteration 0.00  iterations 2238.00  long_return 1.42 \n",
      "episode  23 score 34.08 average score -55.11 epsilon 0.54  profit_iteration 0.00  iterations 2238.00  long_return 1.42 \n",
      "episode  24 score 24.78 average score -51.91 epsilon 0.52  profit_iteration 0.00  iterations 2238.00  long_return 1.42 \n",
      "episode  25 score 156.77 average score -43.88 epsilon 0.50  profit_iteration 0.00  iterations 2238.00  long_return 1.42 \n",
      "episode  26 score 85.01 average score -39.11 epsilon 0.48  profit_iteration 0.00  iterations 2238.00  long_return 1.42 \n",
      "episode  27 score 224.20 average score -29.71 epsilon 0.46  profit_iteration 0.00  iterations 2238.00  long_return 1.42 \n",
      "episode  28 score 206.58 average score -21.56 epsilon 0.43  profit_iteration 0.00  iterations 2238.00  long_return 1.42 \n",
      "episode  29 score 307.91 average score -10.58 epsilon 0.41  profit_iteration 0.00  iterations 2238.00  long_return 1.42 \n",
      "episode  30 score 283.58 average score -1.09 epsilon 0.39  profit_iteration 0.00  iterations 2238.00  long_return 1.42 \n",
      "... saving checkpoint ...\n",
      "... saving checkpoint ...\n",
      "saved check point\n",
      "episode  31 score 260.43 average score 7.09 epsilon 0.37  profit_iteration 0.00  iterations 2238.00  long_return 1.42 \n",
      "episode  32 score 233.79 average score 13.96 epsilon 0.34  profit_iteration 0.00  iterations 2238.00  long_return 1.42 \n",
      "episode  33 score 407.75 average score 25.54 epsilon 0.32  profit_iteration 0.00  iterations 2238.00  long_return 1.42 \n",
      "episode  34 score 688.70 average score 44.49 epsilon 0.30  profit_iteration 0.00  iterations 2238.00  long_return 1.42 \n",
      "episode  35 score 609.44 average score 60.18 epsilon 0.28  profit_iteration 0.00  iterations 2238.00  long_return 1.42 \n",
      "episode  36 score 771.67 average score 79.41 epsilon 0.25  profit_iteration 0.00  iterations 2238.00  long_return 1.42 \n",
      "episode  37 score 689.74 average score 95.47 epsilon 0.23  profit_iteration 0.00  iterations 2238.00  long_return 1.42 \n",
      "episode  38 score 1018.12 average score 119.13 epsilon 0.21  profit_iteration 0.00  iterations 2238.00  long_return 1.42 \n",
      "episode  39 score 1262.49 average score 147.71 epsilon 0.19  profit_iteration 0.00  iterations 2238.00  long_return 1.42 \n",
      "episode  40 score 1108.67 average score 171.15 epsilon 0.16  profit_iteration 0.00  iterations 2238.00  long_return 1.42 \n",
      "... saving checkpoint ...\n",
      "... saving checkpoint ...\n",
      "saved check point\n",
      "episode  41 score 1381.79 average score 199.97 epsilon 0.14  profit_iteration 0.00  iterations 2238.00  long_return 1.42 \n",
      "episode  42 score 2194.98 average score 246.37 epsilon 0.12  profit_iteration 0.00  iterations 2238.00  long_return 1.42 \n",
      "episode  43 score 1786.82 average score 281.38 epsilon 0.10  profit_iteration 0.00  iterations 2238.00  long_return 1.42 \n"
     ]
    }
   ],
   "source": [
    "#agent.Q_eval.load_state_dict(T.load(state_dict_path))\n",
    "#agent.Q_eval.load_state_dict(T.load(best_state_dict_path))\n",
    "scores, eps_history = [], []\n",
    "n_games = 1000\n",
    "max_score = 0.0\n",
    "#learn_frequency = 4\n",
    "#learn_count = 0\n",
    "\n",
    "\n",
    "for i in range(n_games):\n",
    "    score = 0.0\n",
    "    done = False\n",
    "    observation = env.reset(first_test_step)\n",
    "    while not done:\n",
    "        action = agent.choose_action(observation)\n",
    "        observation_, reward, done, info = env.step(action)\n",
    "        if (observation_ is not None): \n",
    "            score += reward\n",
    "            agent.store_transition(observation, action, reward, observation_, done)\n",
    "        agent.learn()\n",
    "#        if learn_count == learn_frequency:\n",
    "#            agent.learn()\n",
    "#            learn_count = 0\n",
    "#        else:\n",
    "#            learn_count += 1\n",
    "        observation = observation_\n",
    "#    agent.learn() # Learn after one episode\n",
    "    scores.append(score)\n",
    "    eps_history.append(agent.epsilon)\n",
    "    \n",
    "    avg_score = np.mean(scores[-100:])\n",
    "    \n",
    "    print('episode ', i, 'score %.2f' % score,\n",
    "         'average score %.2f' % avg_score,\n",
    "         'epsilon %.2f ' % agent.epsilon,\n",
    "         'profit_iteration %.2f ' % info['profit_iteration'],\n",
    "         'iterations %.2f ' % info['iterations'],\n",
    "         'long_return %.2f ' % info['long_return']\n",
    "         )\n",
    "    \n",
    "    if i !=0:        \n",
    "        if (i % 10 == 0):\n",
    "            agent.save_models()\n",
    "            print(\"saved check point\")\n",
    "#        if score > max_score: # doesnt work for ddqn\n",
    "#            max_score = score\n",
    "#            agent.save_models()\n",
    "#            print(\"saved best parameters\")"
   ]
  },
  {
   "cell_type": "code",
   "execution_count": null,
   "metadata": {},
   "outputs": [],
   "source": []
  },
  {
   "cell_type": "code",
   "execution_count": null,
   "metadata": {},
   "outputs": [],
   "source": []
  },
  {
   "cell_type": "code",
   "execution_count": null,
   "metadata": {},
   "outputs": [],
   "source": []
  }
 ],
 "metadata": {
  "kernelspec": {
   "display_name": "Python 3",
   "language": "python",
   "name": "python3"
  },
  "language_info": {
   "codemirror_mode": {
    "name": "ipython",
    "version": 3
   },
   "file_extension": ".py",
   "mimetype": "text/x-python",
   "name": "python",
   "nbconvert_exporter": "python",
   "pygments_lexer": "ipython3",
   "version": "3.7.4"
  }
 },
 "nbformat": 4,
 "nbformat_minor": 4
}
