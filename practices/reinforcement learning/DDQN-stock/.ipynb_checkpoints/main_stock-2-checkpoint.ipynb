{
 "cells": [
  {
   "cell_type": "code",
   "execution_count": 1,
   "metadata": {},
   "outputs": [],
   "source": [
    "import gym\n",
    "import numpy as np\n",
    "from ddqn_agent import DDQNAgent\n",
    "from utils import plot_learning_curve\n",
    "\n",
    "from env6 import TradingSPYEnv\n",
    "import numpy as np\n",
    "import os"
   ]
  },
  {
   "cell_type": "code",
   "execution_count": 2,
   "metadata": {},
   "outputs": [
    {
     "name": "stderr",
     "output_type": "stream",
     "text": [
      "C:\\Users\\golde\\Anaconda3\\lib\\site-packages\\pandas\\core\\indexing.py:670: SettingWithCopyWarning: \n",
      "A value is trying to be set on a copy of a slice from a DataFrame\n",
      "\n",
      "See the caveats in the documentation: https://pandas.pydata.org/pandas-docs/stable/user_guide/indexing.html#returning-a-view-versus-a-copy\n",
      "  iloc._setitem_with_indexer(indexer, value)\n"
     ]
    },
    {
     "name": "stdout",
     "output_type": "stream",
     "text": [
      "Size of State Space ->  7\n",
      "Size of Action Space ->  3\n"
     ]
    }
   ],
   "source": [
    "#env = TradingSPYEnv(init_invest=100.0, sma_len=[5,10,15,20,25],train_test_split=0.5)\n",
    "env = TradingSPYEnv(init_invest=100.0, sma_len=[5,15,25,35,50,75],train_test_split=0.7)\n",
    "first_test_step = env.current_step\n",
    "\n",
    "num_states = env.reset(first_test_step).shape[0]\n",
    "print(\"Size of State Space ->  {}\".format(num_states))\n",
    "num_actions = env.action_space.n\n",
    "print(\"Size of Action Space ->  {}\".format(num_actions))\n",
    "\n",
    "\n",
    "agent = DDQNAgent(gamma=0.99, epsilon=1.0, lr=0.005,\n",
    "                 input_dims=[num_states],\n",
    "                 n_actions=num_actions, mem_size=50000, eps_min=0.1,\n",
    "                 batch_size=256, replace=5000, eps_dec=1e-5,\n",
    "                 chkpt_dir='models2/', algo='DDQNAgent',\n",
    "                 env_name='stock',\n",
    "                 fc1_dims=16, fc2_dims=16, p = 0.0, weight_decay=1e-7)\n",
    "\n",
    "\n",
    "#agent = Agent(gamma=0.99, epsilon=0.5, batch_size=8192, n_actions=num_actions, eps_dec=1e-5, eps_end=0.1, \n",
    "#              input_dims = [num_states], lr=0.00005, p=0.5,\n",
    "#              weight_decay=1e-5)"
   ]
  },
  {
   "cell_type": "code",
   "execution_count": null,
   "metadata": {},
   "outputs": [
    {
     "name": "stdout",
     "output_type": "stream",
     "text": [
      "episode  0 score -0.94 average score -0.94 epsilon 0.99  profit_iteration 0.00  iterations 1030.00  long_return 1.66 \n",
      "episode  1 score -0.74 average score -0.84 epsilon 0.98  profit_iteration 0.00  iterations 1030.00  long_return 1.66 \n",
      "episode  2 score -0.58 average score -0.75 epsilon 0.97  profit_iteration 0.00  iterations 1030.00  long_return 1.66 \n",
      "episode  3 score -0.61 average score -0.72 epsilon 0.96  profit_iteration 0.00  iterations 1030.00  long_return 1.66 \n",
      "episode  4 score -1.02 average score -0.78 epsilon 0.95  profit_iteration 0.00  iterations 1030.00  long_return 1.66 \n",
      "episode  5 score -1.00 average score -0.82 epsilon 0.94  profit_iteration 0.00  iterations 1030.00  long_return 1.66 \n",
      "episode  6 score -0.45 average score -0.76 epsilon 0.93  profit_iteration 0.00  iterations 1030.00  long_return 1.66 \n",
      "episode  7 score -0.73 average score -0.76 epsilon 0.92  profit_iteration 0.00  iterations 1030.00  long_return 1.66 \n",
      "episode  8 score -0.77 average score -0.76 epsilon 0.91  profit_iteration 0.00  iterations 1030.00  long_return 1.66 \n",
      "episode  9 score -0.92 average score -0.78 epsilon 0.90  profit_iteration 0.00  iterations 1030.00  long_return 1.66 \n",
      "episode  10 score -0.93 average score -0.79 epsilon 0.89  profit_iteration 0.00  iterations 1030.00  long_return 1.66 \n",
      "... saving checkpoint ...\n",
      "... saving checkpoint ...\n",
      "saved check point\n",
      "episode  11 score -1.33 average score -0.84 epsilon 0.88  profit_iteration 0.00  iterations 1030.00  long_return 1.66 \n",
      "episode  12 score -0.92 average score -0.84 epsilon 0.87  profit_iteration 0.00  iterations 1030.00  long_return 1.66 \n",
      "episode  13 score -1.26 average score -0.87 epsilon 0.86  profit_iteration 0.00  iterations 1030.00  long_return 1.66 \n",
      "episode  14 score -1.20 average score -0.89 epsilon 0.85  profit_iteration 0.00  iterations 1030.00  long_return 1.66 \n",
      "episode  15 score -0.47 average score -0.87 epsilon 0.84  profit_iteration 0.00  iterations 1030.00  long_return 1.66 \n",
      "episode  16 score -0.85 average score -0.87 epsilon 0.83  profit_iteration 0.00  iterations 1030.00  long_return 1.66 \n",
      "episode  17 score -1.13 average score -0.88 epsilon 0.82  profit_iteration 0.00  iterations 1030.00  long_return 1.66 \n",
      "episode  18 score -0.89 average score -0.88 epsilon 0.81  profit_iteration 0.00  iterations 1030.00  long_return 1.66 \n",
      "episode  19 score -1.14 average score -0.89 epsilon 0.80  profit_iteration 0.00  iterations 1030.00  long_return 1.66 \n",
      "episode  20 score -0.68 average score -0.88 epsilon 0.79  profit_iteration 0.00  iterations 1030.00  long_return 1.66 \n",
      "... saving checkpoint ...\n",
      "... saving checkpoint ...\n",
      "saved check point\n",
      "episode  21 score -0.80 average score -0.88 epsilon 0.78  profit_iteration 0.00  iterations 1030.00  long_return 1.66 \n",
      "episode  22 score -1.12 average score -0.89 epsilon 0.77  profit_iteration 0.00  iterations 1030.00  long_return 1.66 \n",
      "episode  23 score -1.00 average score -0.90 epsilon 0.76  profit_iteration 0.00  iterations 1030.00  long_return 1.66 \n",
      "episode  24 score -0.77 average score -0.89 epsilon 0.74  profit_iteration 0.00  iterations 1030.00  long_return 1.66 \n",
      "episode  25 score -1.07 average score -0.90 epsilon 0.73  profit_iteration 0.00  iterations 1030.00  long_return 1.66 \n",
      "episode  26 score -0.85 average score -0.90 epsilon 0.72  profit_iteration 0.00  iterations 1030.00  long_return 1.66 \n",
      "episode  27 score -0.59 average score -0.88 epsilon 0.71  profit_iteration 0.00  iterations 1030.00  long_return 1.66 \n",
      "episode  28 score -0.62 average score -0.88 epsilon 0.70  profit_iteration 0.00  iterations 1030.00  long_return 1.66 \n",
      "episode  29 score -0.80 average score -0.87 epsilon 0.69  profit_iteration 0.00  iterations 1030.00  long_return 1.66 \n",
      "episode  30 score -0.58 average score -0.86 epsilon 0.68  profit_iteration 0.00  iterations 1030.00  long_return 1.66 \n",
      "... saving checkpoint ...\n",
      "... saving checkpoint ...\n",
      "saved check point\n",
      "episode  31 score -0.88 average score -0.86 epsilon 0.67  profit_iteration 0.00  iterations 1030.00  long_return 1.66 \n",
      "episode  32 score -0.83 average score -0.86 epsilon 0.66  profit_iteration 0.00  iterations 1030.00  long_return 1.66 \n",
      "episode  33 score -0.58 average score -0.85 epsilon 0.65  profit_iteration 0.00  iterations 1030.00  long_return 1.66 \n",
      "episode  34 score -0.78 average score -0.85 epsilon 0.64  profit_iteration 0.00  iterations 1030.00  long_return 1.66 \n",
      "episode  35 score -0.73 average score -0.85 epsilon 0.63  profit_iteration 0.00  iterations 1030.00  long_return 1.66 \n",
      "episode  36 score -0.73 average score -0.85 epsilon 0.62  profit_iteration 0.00  iterations 1030.00  long_return 1.66 \n",
      "episode  37 score -0.92 average score -0.85 epsilon 0.61  profit_iteration 0.00  iterations 1030.00  long_return 1.66 \n",
      "episode  38 score -0.57 average score -0.84 epsilon 0.60  profit_iteration 0.00  iterations 1030.00  long_return 1.66 \n",
      "episode  39 score -0.46 average score -0.83 epsilon 0.59  profit_iteration 0.00  iterations 1030.00  long_return 1.66 \n",
      "episode  40 score -0.64 average score -0.83 epsilon 0.58  profit_iteration 0.00  iterations 1030.00  long_return 1.66 \n",
      "... saving checkpoint ...\n",
      "... saving checkpoint ...\n",
      "saved check point\n",
      "episode  41 score -0.43 average score -0.82 epsilon 0.57  profit_iteration 0.00  iterations 1030.00  long_return 1.66 \n",
      "episode  42 score -0.43 average score -0.81 epsilon 0.56  profit_iteration 0.00  iterations 1030.00  long_return 1.66 \n"
     ]
    }
   ],
   "source": [
    "#agent.Q_eval.load_state_dict(T.load(state_dict_path))\n",
    "#agent.Q_eval.load_state_dict(T.load(best_state_dict_path))\n",
    "scores, eps_history = [], []\n",
    "n_games = 1000\n",
    "max_score = 0.0\n",
    "#learn_frequency = 4\n",
    "#learn_count = 0\n",
    "\n",
    "\n",
    "for i in range(n_games):\n",
    "    score = 0.0\n",
    "    done = False\n",
    "    observation = env.reset(first_test_step)\n",
    "    while not done:\n",
    "        action = agent.choose_action(observation)\n",
    "        observation_, reward, done, info = env.step(action)\n",
    "        if (observation_ is not None): \n",
    "            score += reward\n",
    "            agent.store_transition(observation, action, reward, observation_, done)\n",
    "        agent.learn()\n",
    "#        if learn_count == learn_frequency:\n",
    "#            agent.learn()\n",
    "#            learn_count = 0\n",
    "#        else:\n",
    "#            learn_count += 1\n",
    "        observation = observation_\n",
    "#    agent.learn() # Learn after one episode\n",
    "    scores.append(score)\n",
    "    eps_history.append(agent.epsilon)\n",
    "    \n",
    "    avg_score = np.mean(scores[-100:])\n",
    "    \n",
    "    print('episode ', i, 'score %.2f' % score,\n",
    "         'average score %.2f' % avg_score,\n",
    "         'epsilon %.2f ' % agent.epsilon,\n",
    "         'profit_iteration %.2f ' % info['profit_iteration'],\n",
    "         'iterations %.2f ' % info['iterations'],\n",
    "         'long_return %.2f ' % info['long_return']\n",
    "         )\n",
    "    \n",
    "    if (i !=0) and(i % 10 == 0):\n",
    "        agent.save_models()\n",
    "        print(\"saved check point\")\n"
   ]
  },
  {
   "cell_type": "code",
   "execution_count": null,
   "metadata": {},
   "outputs": [],
   "source": [
    "observation"
   ]
  },
  {
   "cell_type": "code",
   "execution_count": null,
   "metadata": {},
   "outputs": [],
   "source": [
    "tmp=[2,env.features['breakout_5'].loc[74:80].values,env.features['breakout_25'].loc[74:80].values]"
   ]
  },
  {
   "cell_type": "code",
   "execution_count": null,
   "metadata": {},
   "outputs": [],
   "source": [
    "np.append([2.0],env.features['breakout_5'].loc[74:80].values)"
   ]
  },
  {
   "cell_type": "code",
   "execution_count": null,
   "metadata": {},
   "outputs": [],
   "source": [
    "list(env.features['breakout_5'].loc[74:80].values)"
   ]
  },
  {
   "cell_type": "code",
   "execution_count": null,
   "metadata": {},
   "outputs": [],
   "source": [
    "tmp=[2.0]\n",
    "tmp2=[]\n",
    "tmp2.append(env.features['breakout_5'].loc[74:80].values)\n",
    "tmp2.append(env.features['breakout_25'].loc[74:80].values)\n",
    "tmp2.append(env.features['breakout_50'].loc[74:80].values)\n",
    "tmp2"
   ]
  },
  {
   "cell_type": "code",
   "execution_count": null,
   "metadata": {},
   "outputs": [],
   "source": [
    "np.append(tmp,tmp2)"
   ]
  },
  {
   "cell_type": "code",
   "execution_count": null,
   "metadata": {},
   "outputs": [],
   "source": []
  }
 ],
 "metadata": {
  "@webio": {
   "lastCommId": null,
   "lastKernelId": null
  },
  "kernelspec": {
   "display_name": "Python 3",
   "language": "python",
   "name": "python3"
  },
  "language_info": {
   "codemirror_mode": {
    "name": "ipython",
    "version": 3
   },
   "file_extension": ".py",
   "mimetype": "text/x-python",
   "name": "python",
   "nbconvert_exporter": "python",
   "pygments_lexer": "ipython3",
   "version": "3.7.4"
  }
 },
 "nbformat": 4,
 "nbformat_minor": 4
}
