{
 "cells": [
  {
   "cell_type": "code",
   "execution_count": 1,
   "metadata": {},
   "outputs": [],
   "source": [
    "import gym\n",
    "import numpy as np\n",
    "from ddqn_agent import DDQNAgent\n",
    "from utils import plot_learning_curve\n",
    "\n",
    "from env6 import TradingSPYEnv\n",
    "import numpy as np\n",
    "import os"
   ]
  },
  {
   "cell_type": "code",
   "execution_count": 2,
   "metadata": {},
   "outputs": [
    {
     "name": "stdout",
     "output_type": "stream",
     "text": [
      "Size of State Space ->  300\n",
      "Size of Action Space ->  3\n"
     ]
    },
    {
     "name": "stderr",
     "output_type": "stream",
     "text": [
      "/Users/jungjaeyong/opt/anaconda3/lib/python3.7/site-packages/pandas/core/indexing.py:205: SettingWithCopyWarning: \n",
      "A value is trying to be set on a copy of a slice from a DataFrame\n",
      "\n",
      "See the caveats in the documentation: http://pandas.pydata.org/pandas-docs/stable/user_guide/indexing.html#returning-a-view-versus-a-copy\n",
      "  self._setitem_with_indexer(indexer, value)\n"
     ]
    }
   ],
   "source": [
    "#env = TradingSPYEnv(init_invest=100.0, sma_len=[5,10,15,20,25],train_test_split=0.5)\n",
    "env = TradingSPYEnv(init_invest=100.0, sma_len=[5,25,50],train_test_split=0.5)\n",
    "first_test_step = env.current_step\n",
    "\n",
    "num_states = env.reset(first_test_step).shape[0]\n",
    "print(\"Size of State Space ->  {}\".format(num_states))\n",
    "num_actions = env.action_space.n\n",
    "print(\"Size of Action Space ->  {}\".format(num_actions))\n",
    "\n",
    "\n",
    "agent = DDQNAgent(gamma=0.99, epsilon=1.0, lr=0.0005,\n",
    "                 input_dims=[num_states],\n",
    "                 n_actions=num_actions, mem_size=50000, eps_min=0.1,\n",
    "                 batch_size=8192, replace=5000, eps_dec=1e-5,\n",
    "                 chkpt_dir='models2/', algo='DDQNAgent',\n",
    "                 env_name='stock',\n",
    "                 fc1_dims=32, fc2_dims=32)\n",
    "\n",
    "\n",
    "#agent = Agent(gamma=0.99, epsilon=0.5, batch_size=8192, n_actions=num_actions, eps_dec=1e-5, eps_end=0.1, \n",
    "#              input_dims = [num_states], lr=0.00005, p=0.5,\n",
    "#              weight_decay=1e-5)"
   ]
  },
  {
   "cell_type": "code",
   "execution_count": null,
   "metadata": {},
   "outputs": [
    {
     "name": "stdout",
     "output_type": "stream",
     "text": [
      "episode  0 score -83.69 average score -83.69 epsilon 1.00  profit_iteration 0.00  iterations 2238.00  long_return 1.42 \n",
      "episode  1 score -89.46 average score -86.58 epsilon 1.00  profit_iteration 0.00  iterations 2238.00  long_return 1.42 \n",
      "episode  2 score -93.96 average score -89.04 epsilon 1.00  profit_iteration 0.00  iterations 2238.00  long_return 1.42 \n",
      "episode  3 score -92.33 average score -89.86 epsilon 0.99  profit_iteration 0.00  iterations 2238.00  long_return 1.42 \n",
      "episode  4 score -88.53 average score -89.59 epsilon 0.97  profit_iteration 0.00  iterations 2238.00  long_return 1.42 \n",
      "episode  5 score -57.68 average score -84.27 epsilon 0.95  profit_iteration 0.00  iterations 2238.00  long_return 1.42 \n",
      "episode  6 score -79.97 average score -83.66 epsilon 0.93  profit_iteration 0.00  iterations 2238.00  long_return 1.42 \n",
      "episode  7 score -82.11 average score -83.47 epsilon 0.90  profit_iteration 0.00  iterations 2238.00  long_return 1.42 \n",
      "episode  8 score -90.57 average score -84.26 epsilon 0.88  profit_iteration 0.00  iterations 2238.00  long_return 1.42 \n",
      "episode  9 score -85.33 average score -84.36 epsilon 0.86  profit_iteration 0.00  iterations 2238.00  long_return 1.42 \n",
      "episode  10 score -74.49 average score -83.47 epsilon 0.84  profit_iteration 0.00  iterations 2238.00  long_return 1.42 \n",
      "... saving checkpoint ...\n",
      "... saving checkpoint ...\n",
      "saved check point\n",
      "episode  11 score -84.42 average score -83.54 epsilon 0.81  profit_iteration 0.00  iterations 2238.00  long_return 1.42 \n",
      "episode  12 score -85.87 average score -83.72 epsilon 0.79  profit_iteration 0.00  iterations 2238.00  long_return 1.42 \n",
      "episode  13 score -87.68 average score -84.01 epsilon 0.77  profit_iteration 0.00  iterations 2238.00  long_return 1.42 \n",
      "episode  14 score -74.20 average score -83.35 epsilon 0.75  profit_iteration 0.00  iterations 2238.00  long_return 1.42 \n",
      "episode  15 score -62.97 average score -82.08 epsilon 0.72  profit_iteration 0.00  iterations 2238.00  long_return 1.42 \n",
      "episode  16 score -85.28 average score -82.27 epsilon 0.70  profit_iteration 0.00  iterations 2238.00  long_return 1.42 \n",
      "episode  17 score -76.92 average score -81.97 epsilon 0.68  profit_iteration 0.00  iterations 2238.00  long_return 1.42 \n",
      "episode  18 score -66.53 average score -81.16 epsilon 0.66  profit_iteration 0.00  iterations 2238.00  long_return 1.42 \n",
      "episode  19 score -47.49 average score -79.47 epsilon 0.63  profit_iteration 0.00  iterations 2238.00  long_return 1.42 \n",
      "episode  20 score -29.28 average score -77.08 epsilon 0.61  profit_iteration 0.00  iterations 2238.00  long_return 1.42 \n",
      "... saving checkpoint ...\n",
      "... saving checkpoint ...\n",
      "saved check point\n",
      "episode  21 score -26.62 average score -74.79 epsilon 0.59  profit_iteration 0.00  iterations 2238.00  long_return 1.42 \n",
      "episode  22 score -65.15 average score -74.37 epsilon 0.57  profit_iteration 0.00  iterations 2238.00  long_return 1.42 \n",
      "episode  23 score -8.91 average score -71.64 epsilon 0.54  profit_iteration 0.00  iterations 2238.00  long_return 1.42 \n",
      "episode  24 score -64.76 average score -71.37 epsilon 0.52  profit_iteration 0.00  iterations 2238.00  long_return 1.42 \n",
      "episode  25 score -28.05 average score -69.70 epsilon 0.50  profit_iteration 0.00  iterations 2238.00  long_return 1.42 \n",
      "episode  26 score -74.50 average score -69.88 epsilon 0.48  profit_iteration 0.00  iterations 2238.00  long_return 1.42 \n",
      "episode  27 score -43.51 average score -68.94 epsilon 0.46  profit_iteration 0.00  iterations 2238.00  long_return 1.42 \n",
      "episode  28 score 23.98 average score -65.73 epsilon 0.43  profit_iteration 0.00  iterations 2238.00  long_return 1.42 \n",
      "episode  29 score 42.16 average score -62.14 epsilon 0.41  profit_iteration 0.00  iterations 2238.00  long_return 1.42 \n",
      "episode  30 score 5.55 average score -59.95 epsilon 0.39  profit_iteration 0.00  iterations 2238.00  long_return 1.42 \n",
      "... saving checkpoint ...\n",
      "... saving checkpoint ...\n",
      "saved check point\n",
      "episode  31 score 37.80 average score -56.90 epsilon 0.37  profit_iteration 0.00  iterations 2238.00  long_return 1.42 \n",
      "episode  32 score 28.01 average score -54.33 epsilon 0.34  profit_iteration 0.00  iterations 2238.00  long_return 1.42 \n",
      "episode  33 score 131.14 average score -48.87 epsilon 0.32  profit_iteration 0.00  iterations 2238.00  long_return 1.42 \n",
      "episode  34 score 254.04 average score -40.22 epsilon 0.30  profit_iteration 0.00  iterations 2238.00  long_return 1.42 \n"
     ]
    }
   ],
   "source": [
    "#agent.Q_eval.load_state_dict(T.load(state_dict_path))\n",
    "#agent.Q_eval.load_state_dict(T.load(best_state_dict_path))\n",
    "scores, eps_history = [], []\n",
    "n_games = 1000\n",
    "max_score = 0.0\n",
    "#learn_frequency = 4\n",
    "#learn_count = 0\n",
    "\n",
    "\n",
    "for i in range(n_games):\n",
    "    score = 0.0\n",
    "    done = False\n",
    "    observation = env.reset(first_test_step)\n",
    "    while not done:\n",
    "        action = agent.choose_action(observation)\n",
    "        observation_, reward, done, info = env.step(action)\n",
    "        if (observation_ is not None): \n",
    "            score += reward\n",
    "            agent.store_transition(observation, action, reward, observation_, done)\n",
    "        agent.learn()\n",
    "#        if learn_count == learn_frequency:\n",
    "#            agent.learn()\n",
    "#            learn_count = 0\n",
    "#        else:\n",
    "#            learn_count += 1\n",
    "        observation = observation_\n",
    "#    agent.learn() # Learn after one episode\n",
    "    scores.append(score)\n",
    "    eps_history.append(agent.epsilon)\n",
    "    \n",
    "    avg_score = np.mean(scores[-100:])\n",
    "    \n",
    "    print('episode ', i, 'score %.2f' % score,\n",
    "         'average score %.2f' % avg_score,\n",
    "         'epsilon %.2f ' % agent.epsilon,\n",
    "         'profit_iteration %.2f ' % info['profit_iteration'],\n",
    "         'iterations %.2f ' % info['iterations'],\n",
    "         'long_return %.2f ' % info['long_return']\n",
    "         )\n",
    "    \n",
    "    if (i !=0) and(i % 10 == 0):\n",
    "        agent.save_models()\n",
    "        print(\"saved check point\")\n"
   ]
  },
  {
   "cell_type": "code",
   "execution_count": null,
   "metadata": {},
   "outputs": [],
   "source": []
  },
  {
   "cell_type": "code",
   "execution_count": null,
   "metadata": {},
   "outputs": [],
   "source": []
  },
  {
   "cell_type": "code",
   "execution_count": null,
   "metadata": {},
   "outputs": [],
   "source": []
  }
 ],
 "metadata": {
  "@webio": {
   "lastCommId": null,
   "lastKernelId": null
  },
  "kernelspec": {
   "display_name": "Python 3",
   "language": "python",
   "name": "python3"
  },
  "language_info": {
   "codemirror_mode": {
    "name": "ipython",
    "version": 3
   },
   "file_extension": ".py",
   "mimetype": "text/x-python",
   "name": "python",
   "nbconvert_exporter": "python",
   "pygments_lexer": "ipython3",
   "version": "3.7.4"
  }
 },
 "nbformat": 4,
 "nbformat_minor": 4
}
