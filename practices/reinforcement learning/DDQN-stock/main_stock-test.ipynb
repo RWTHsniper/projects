{
 "cells": [
  {
   "cell_type": "code",
   "execution_count": 1,
   "metadata": {},
   "outputs": [],
   "source": [
    "import gym\n",
    "import numpy as np\n",
    "from ddqn_agent import DDQNAgent\n",
    "from utils import plot_learning_curve\n",
    "import pandas as pd\n",
    "\n",
    "#from env6 import TradingSPYEnv\n",
    "from env6_noshort import TradingSPYEnv\n",
    "import numpy as np\n",
    "import os"
   ]
  },
  {
   "cell_type": "code",
   "execution_count": 8,
   "metadata": {},
   "outputs": [
    {
     "name": "stdout",
     "output_type": "stream",
     "text": [
      "Size of State Space ->  200\n",
      "Size of Action Space ->  2\n",
      "... loading checkpoint ...\n",
      "... loading checkpoint ...\n"
     ]
    },
    {
     "name": "stderr",
     "output_type": "stream",
     "text": [
      "C:\\Users\\golde\\Anaconda3\\lib\\site-packages\\pandas\\core\\indexing.py:670: SettingWithCopyWarning: \n",
      "A value is trying to be set on a copy of a slice from a DataFrame\n",
      "\n",
      "See the caveats in the documentation: https://pandas.pydata.org/pandas-docs/stable/user_guide/indexing.html#returning-a-view-versus-a-copy\n",
      "  iloc._setitem_with_indexer(indexer, value)\n",
      "C:\\Users\\golde\\Anaconda3\\lib\\site-packages\\pandas\\core\\indexing.py:670: SettingWithCopyWarning: \n",
      "A value is trying to be set on a copy of a slice from a DataFrame\n",
      "\n",
      "See the caveats in the documentation: https://pandas.pydata.org/pandas-docs/stable/user_guide/indexing.html#returning-a-view-versus-a-copy\n",
      "  iloc._setitem_with_indexer(indexer, value)\n"
     ]
    },
    {
     "data": {
      "text/plain": [
       "DeepQNetwork(\n",
       "  (fc1): Linear(in_features=200, out_features=128, bias=True)\n",
       "  (fc2): Linear(in_features=128, out_features=128, bias=True)\n",
       "  (fc3): Linear(in_features=128, out_features=2, bias=True)\n",
       "  (dropout): Dropout(p=0.0, inplace=False)\n",
       "  (loss): SmoothL1Loss()\n",
       ")"
      ]
     },
     "execution_count": 8,
     "metadata": {},
     "output_type": "execute_result"
    }
   ],
   "source": [
    "env = TradingSPYEnv(init_invest=100.0, sma_len=[5,25,50],train_test_split=0.6,mode='test',fee=0.001)\n",
    "env = TradingSPYEnv(init_invest=100.0, sma_len=[5,25,50],train_test_split=0.6,mode='train',fee=0.001)\n",
    "first_test_step = env.current_step\n",
    "\n",
    "num_states = env.reset(first_test_step).shape[0]\n",
    "print(\"Size of State Space ->  {}\".format(num_states))\n",
    "num_actions = env.action_space.n\n",
    "print(\"Size of Action Space ->  {}\".format(num_actions))\n",
    "\n",
    "\n",
    "agent = DDQNAgent(gamma=0.99, epsilon=0.0, lr=0.0001,\n",
    "                 input_dims=[num_states],\n",
    "                 n_actions=num_actions, mem_size=50000, eps_min=0.1,\n",
    "                 batch_size=8192, replace=10000, eps_dec=1e-5,\n",
    "                 chkpt_dir='models/', algo='DDQNAgent',\n",
    "                 env_name='stock',\n",
    "                 fc1_dims=128, fc2_dims=128)\n",
    "\n",
    "agent.load_models()\n",
    "agent.q_eval.eval()\n",
    "agent.q_next.eval()\n",
    "\n",
    "#agent = Agent(gamma=0.99, epsilon=0.5, batch_size=8192, n_actions=num_actions, eps_dec=1e-5, eps_end=0.1, \n",
    "#              input_dims = [num_states], lr=0.00005, p=0.5,\n",
    "#              weight_decay=1e-5)"
   ]
  },
  {
   "cell_type": "code",
   "execution_count": 9,
   "metadata": {},
   "outputs": [
    {
     "name": "stdout",
     "output_type": "stream",
     "text": [
      "total_score 2.63 epsilon 0.00  profit_iteration 0.00  iterations 927.00  long_return 1.55 \n"
     ]
    }
   ],
   "source": [
    "#agent.Q_eval.load_state_dict(T.load(state_dict_path))\n",
    "#agent.Q_eval.load_state_dict(T.load(best_state_dict_path))\n",
    "scores, eps_history = [], []\n",
    "max_score = 0.0\n",
    "#learn_frequency = 4\n",
    "#learn_count = 0\n",
    "\n",
    "\n",
    "score = 0.0\n",
    "done = False\n",
    "observation = env.reset(first_test_step)\n",
    "while not done:\n",
    "    action = agent.choose_action(observation)\n",
    "    observation_, reward, done, info = env.step(action)\n",
    "    if (observation_ is not None): \n",
    "        score += reward\n",
    "        agent.store_transition(observation, action, reward, observation_, done)\n",
    "    observation = observation_\n",
    "scores.append(score)\n",
    "eps_history.append(agent.epsilon)\n",
    "\n",
    "total_score = np.sum(scores)\n",
    "\n",
    "print('total_score %.2f' % total_score,\n",
    "     'epsilon %.2f ' % agent.epsilon,\n",
    "     'profit_iteration %.2f ' % info['profit_iteration'],\n",
    "     'iterations %.2f ' % info['iterations'],\n",
    "     'long_return %.2f ' % info['long_return']\n",
    "     )\n"
   ]
  },
  {
   "cell_type": "code",
   "execution_count": 10,
   "metadata": {
    "scrolled": true
   },
   "outputs": [
    {
     "data": {
      "text/plain": [
       "<AxesSubplot:xlabel='Date'>"
      ]
     },
     "execution_count": 10,
     "metadata": {},
     "output_type": "execute_result"
    },
    {
     "data": {
      "image/png": "[encoded data removed]",
      "text/plain": [
       "<Figure size 864x576 with 1 Axes>"
      ]
     },
     "metadata": {
      "needs_background": "light"
     },
     "output_type": "display_data"
    }
   ],
   "source": [
    "normalized_portfolio = env.features.portfolio_value / 100.0\n",
    "portfolio = normalized_portfolio[normalized_portfolio > 0.0] \n",
    "spy = env.features.Close.loc[portfolio.index]\n",
    "spy /= spy.iloc[0]\n",
    "df = {'portfolio': portfolio.values, 'benchmark': spy.values, 'Date': env.features['Date'].loc[portfolio.index]}\n",
    "df = pd.DataFrame(df)\n",
    "df['Date'] = pd.to_datetime(df['Date'])\n",
    "df.set_index('Date',inplace=True)\n",
    "df.iloc[:].plot(figsize=(12,8))"
   ]
  },
  {
   "cell_type": "code",
   "execution_count": 11,
   "metadata": {},
   "outputs": [
    {
     "data": {
      "text/html": [
       "<div>\n",
       "<style scoped>\n",
       "    .dataframe tbody tr th:only-of-type {\n",
       "        vertical-align: middle;\n",
       "    }\n",
       "\n",
       "    .dataframe tbody tr th {\n",
       "        vertical-align: top;\n",
       "    }\n",
       "\n",
       "    .dataframe thead th {\n",
       "        text-align: right;\n",
       "    }\n",
       "</style>\n",
       "<table border=\"1\" class=\"dataframe\">\n",
       "  <thead>\n",
       "    <tr style=\"text-align: right;\">\n",
       "      <th></th>\n",
       "      <th>portfolio</th>\n",
       "      <th>benchmark</th>\n",
       "    </tr>\n",
       "    <tr>\n",
       "      <th>Date</th>\n",
       "      <th></th>\n",
       "      <th></th>\n",
       "    </tr>\n",
       "  </thead>\n",
       "  <tbody>\n",
       "    <tr>\n",
       "      <th>2012-05-23</th>\n",
       "      <td>1.000000</td>\n",
       "      <td>1.000000</td>\n",
       "    </tr>\n",
       "    <tr>\n",
       "      <th>2012-05-24</th>\n",
       "      <td>1.001971</td>\n",
       "      <td>1.001971</td>\n",
       "    </tr>\n",
       "    <tr>\n",
       "      <th>2012-05-25</th>\n",
       "      <td>1.000969</td>\n",
       "      <td>0.998746</td>\n",
       "    </tr>\n",
       "    <tr>\n",
       "      <th>2012-05-29</th>\n",
       "      <td>1.012088</td>\n",
       "      <td>1.010839</td>\n",
       "    </tr>\n",
       "    <tr>\n",
       "      <th>2012-05-30</th>\n",
       "      <td>1.011076</td>\n",
       "      <td>0.996148</td>\n",
       "    </tr>\n",
       "    <tr>\n",
       "      <th>...</th>\n",
       "      <td>...</td>\n",
       "      <td>...</td>\n",
       "    </tr>\n",
       "    <tr>\n",
       "      <th>2016-01-27</th>\n",
       "      <td>13.657177</td>\n",
       "      <td>1.536684</td>\n",
       "    </tr>\n",
       "    <tr>\n",
       "      <th>2016-01-28</th>\n",
       "      <td>13.714377</td>\n",
       "      <td>1.544656</td>\n",
       "    </tr>\n",
       "    <tr>\n",
       "      <th>2016-01-29</th>\n",
       "      <td>14.049224</td>\n",
       "      <td>1.582370</td>\n",
       "    </tr>\n",
       "    <tr>\n",
       "      <th>2016-02-01</th>\n",
       "      <td>14.035174</td>\n",
       "      <td>1.581743</td>\n",
       "    </tr>\n",
       "    <tr>\n",
       "      <th>2016-02-02</th>\n",
       "      <td>14.035174</td>\n",
       "      <td>1.553256</td>\n",
       "    </tr>\n",
       "  </tbody>\n",
       "</table>\n",
       "<p>929 rows × 2 columns</p>\n",
       "</div>"
      ],
      "text/plain": [
       "            portfolio  benchmark\n",
       "Date                            \n",
       "2012-05-23   1.000000   1.000000\n",
       "2012-05-24   1.001971   1.001971\n",
       "2012-05-25   1.000969   0.998746\n",
       "2012-05-29   1.012088   1.010839\n",
       "2012-05-30   1.011076   0.996148\n",
       "...               ...        ...\n",
       "2016-01-27  13.657177   1.536684\n",
       "2016-01-28  13.714377   1.544656\n",
       "2016-01-29  14.049224   1.582370\n",
       "2016-02-01  14.035174   1.581743\n",
       "2016-02-02  14.035174   1.553256\n",
       "\n",
       "[929 rows x 2 columns]"
      ]
     },
     "execution_count": 11,
     "metadata": {},
     "output_type": "execute_result"
    }
   ],
   "source": [
    "df"
   ]
  },
  {
   "cell_type": "code",
   "execution_count": 12,
   "metadata": {},
   "outputs": [
    {
     "name": "stdout",
     "output_type": "stream",
     "text": [
      "count    929.000000\n",
      "mean       0.891281\n",
      "std        0.311454\n",
      "min        0.000000\n",
      "25%        1.000000\n",
      "50%        1.000000\n",
      "75%        1.000000\n",
      "max        1.000000\n",
      "Name: State, dtype: float64\n"
     ]
    },
    {
     "data": {
      "text/plain": [
       "<AxesSubplot:>"
      ]
     },
     "execution_count": 12,
     "metadata": {},
     "output_type": "execute_result"
    },
    {
     "data": {
      "image/png": "[encoded data removed]",
      "text/plain": [
       "<Figure size 432x288 with 1 Axes>"
      ]
     },
     "metadata": {
      "needs_background": "light"
     },
     "output_type": "display_data"
    }
   ],
   "source": [
    "actions = env.features['State'][-df.shape[0]:]\n",
    "#actions = env.features['State'][:df.shape[0]]\n",
    "print(actions.describe())\n",
    "actions.plot()"
   ]
  },
  {
   "cell_type": "code",
   "execution_count": 13,
   "metadata": {},
   "outputs": [
    {
     "name": "stdout",
     "output_type": "stream",
     "text": [
      "count    929.000000\n",
      "mean       0.598493\n",
      "std        0.490467\n",
      "min        0.000000\n",
      "25%        0.000000\n",
      "50%        1.000000\n",
      "75%        1.000000\n",
      "max        1.000000\n",
      "Name: State, dtype: float64\n"
     ]
    },
    {
     "data": {
      "text/plain": [
       "<AxesSubplot:>"
      ]
     },
     "execution_count": 13,
     "metadata": {},
     "output_type": "execute_result"
    },
    {
     "data": {
      "image/png": "[encoded data removed]",
      "text/plain": [
       "<Figure size 432x288 with 1 Axes>"
      ]
     },
     "metadata": {
      "needs_background": "light"
     },
     "output_type": "display_data"
    }
   ],
   "source": [
    "actions = env.features['State'][:df.shape[0]]\n",
    "#actions = env.features['State'][:df.shape[0]]\n",
    "print(actions.describe())\n",
    "actions.plot()"
   ]
  },
  {
   "cell_type": "code",
   "execution_count": null,
   "metadata": {},
   "outputs": [],
   "source": []
  },
  {
   "cell_type": "code",
   "execution_count": null,
   "metadata": {},
   "outputs": [],
   "source": []
  }
 ],
 "metadata": {
  "kernelspec": {
   "display_name": "Python 3",
   "language": "python",
   "name": "python3"
  },
  "language_info": {
   "codemirror_mode": {
    "name": "ipython",
    "version": 3
   },
   "file_extension": ".py",
   "mimetype": "text/x-python",
   "name": "python",
   "nbconvert_exporter": "python",
   "pygments_lexer": "ipython3",
   "version": "3.7.4"
  }
 },
 "nbformat": 4,
 "nbformat_minor": 4
}
