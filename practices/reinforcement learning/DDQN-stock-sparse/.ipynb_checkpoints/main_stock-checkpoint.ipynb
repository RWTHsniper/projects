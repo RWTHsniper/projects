{
 "cells": [
  {
   "cell_type": "code",
   "execution_count": 1,
   "metadata": {},
   "outputs": [],
   "source": [
    "import gym\n",
    "import numpy as np\n",
    "from ddqn_agent import DDQNAgent\n",
    "from utils import plot_learning_curve\n",
    "\n",
    "from env6 import TradingSPYEnv\n",
    "#from env6_noshort import TradingSPYEnv\n",
    "import numpy as np\n",
    "import os"
   ]
  },
  {
   "cell_type": "code",
   "execution_count": 2,
   "metadata": {},
   "outputs": [
    {
     "name": "stderr",
     "output_type": "stream",
     "text": [
      "C:\\Users\\golde\\Anaconda3\\lib\\site-packages\\pandas\\core\\indexing.py:670: SettingWithCopyWarning: \n",
      "A value is trying to be set on a copy of a slice from a DataFrame\n",
      "\n",
      "See the caveats in the documentation: https://pandas.pydata.org/pandas-docs/stable/user_guide/indexing.html#returning-a-view-versus-a-copy\n",
      "  iloc._setitem_with_indexer(indexer, value)\n"
     ]
    },
    {
     "name": "stdout",
     "output_type": "stream",
     "text": [
      "Size of State Space ->  51\n",
      "Size of Action Space ->  3\n"
     ]
    }
   ],
   "source": [
    "#env = TradingSPYEnv(init_invest=100.0, sma_len=[5,10,15,20,25],train_test_split=0.6)\n",
    "env = TradingSPYEnv(init_invest=100.0, sma_len=[5,25,50],train_test_split=0.6)\n",
    "first_test_step = env.current_step\n",
    "\n",
    "num_states = env.reset(first_test_step).shape[0]\n",
    "print(\"Size of State Space ->  {}\".format(num_states))\n",
    "num_actions = env.action_space.n\n",
    "print(\"Size of Action Space ->  {}\".format(num_actions))\n",
    "\n",
    "\n",
    "agent = DDQNAgent(gamma=0.99, epsilon=1.0, lr=0.0001,\n",
    "                 input_dims=[num_states],\n",
    "                 n_actions=num_actions, mem_size=100000, eps_min=0.1,\n",
    "                 batch_size=1024, replace=10000, eps_dec=5e-6,\n",
    "                 chkpt_dir='models/', algo='DDQNAgent',\n",
    "                 env_name='stock',\n",
    "                 fc1_dims=128, fc2_dims=128, p = 0.2, weight_decay=1e-5)\n",
    "\n",
    "\n",
    "#agent = Agent(gamma=0.99, epsilon=0.5, batch_size=8192, n_actions=num_actions, eps_dec=1e-5, eps_end=0.1, \n",
    "#              input_dims = [num_states], lr=0.00005, p=0.5,\n",
    "#              weight_decay=1e-5)"
   ]
  },
  {
   "cell_type": "code",
   "execution_count": 3,
   "metadata": {},
   "outputs": [
    {
     "name": "stdout",
     "output_type": "stream",
     "text": [
      "episode  0 score -0.80 average score -0.80 epsilon 1.00  profit_iteration 0.00  iterations 927.00  long_return 1.55 \n",
      "episode  1 score -1.18 average score -0.99 epsilon 1.00  profit_iteration 0.00  iterations 927.00  long_return 1.55 \n",
      "episode  2 score -0.63 average score -0.87 epsilon 0.99  profit_iteration 0.00  iterations 927.00  long_return 1.55 \n",
      "episode  3 score -1.07 average score -0.92 epsilon 0.99  profit_iteration 0.00  iterations 927.00  long_return 1.55 \n",
      "episode  4 score -0.78 average score -0.89 epsilon 0.98  profit_iteration 0.00  iterations 927.00  long_return 1.55 \n",
      "episode  5 score -0.82 average score -0.88 epsilon 0.98  profit_iteration 0.00  iterations 927.00  long_return 1.55 \n",
      "episode  6 score -0.76 average score -0.86 epsilon 0.97  profit_iteration 0.00  iterations 927.00  long_return 1.55 \n",
      "episode  7 score -0.79 average score -0.85 epsilon 0.97  profit_iteration 0.00  iterations 927.00  long_return 1.55 \n",
      "episode  8 score -0.77 average score -0.84 epsilon 0.96  profit_iteration 0.00  iterations 927.00  long_return 1.55 \n",
      "episode  9 score -0.79 average score -0.84 epsilon 0.96  profit_iteration 0.00  iterations 927.00  long_return 1.55 \n",
      "episode  10 score -1.21 average score -0.87 epsilon 0.95  profit_iteration 0.00  iterations 927.00  long_return 1.55 \n",
      "... saving checkpoint ...\n",
      "... saving checkpoint ...\n",
      "saved check point\n",
      "episode  11 score -0.97 average score -0.88 epsilon 0.95  profit_iteration 0.00  iterations 927.00  long_return 1.55 \n",
      "episode  12 score -0.44 average score -0.85 epsilon 0.94  profit_iteration 0.00  iterations 927.00  long_return 1.55 \n",
      "episode  13 score -0.96 average score -0.85 epsilon 0.94  profit_iteration 0.00  iterations 927.00  long_return 1.55 \n",
      "episode  14 score -0.64 average score -0.84 epsilon 0.94  profit_iteration 0.00  iterations 927.00  long_return 1.55 \n",
      "episode  15 score -0.82 average score -0.84 epsilon 0.93  profit_iteration 0.00  iterations 927.00  long_return 1.55 \n",
      "episode  16 score -1.11 average score -0.85 epsilon 0.93  profit_iteration 0.00  iterations 927.00  long_return 1.55 \n",
      "episode  17 score -0.59 average score -0.84 epsilon 0.92  profit_iteration 0.00  iterations 927.00  long_return 1.55 \n",
      "episode  18 score -0.85 average score -0.84 epsilon 0.92  profit_iteration 0.00  iterations 927.00  long_return 1.55 \n",
      "episode  19 score -0.93 average score -0.84 epsilon 0.91  profit_iteration 0.00  iterations 927.00  long_return 1.55 \n",
      "episode  20 score -0.43 average score -0.82 epsilon 0.91  profit_iteration 0.00  iterations 927.00  long_return 1.55 \n",
      "... saving checkpoint ...\n",
      "... saving checkpoint ...\n",
      "saved check point\n",
      "episode  21 score -1.19 average score -0.84 epsilon 0.90  profit_iteration 0.00  iterations 927.00  long_return 1.55 \n",
      "episode  22 score -0.61 average score -0.83 epsilon 0.90  profit_iteration 0.00  iterations 927.00  long_return 1.55 \n",
      "episode  23 score -0.69 average score -0.83 epsilon 0.89  profit_iteration 0.00  iterations 927.00  long_return 1.55 \n",
      "episode  24 score -0.73 average score -0.82 epsilon 0.89  profit_iteration 0.00  iterations 927.00  long_return 1.55 \n",
      "episode  25 score -0.51 average score -0.81 epsilon 0.88  profit_iteration 0.00  iterations 927.00  long_return 1.55 \n",
      "episode  26 score -0.54 average score -0.80 epsilon 0.88  profit_iteration 0.00  iterations 927.00  long_return 1.55 \n",
      "episode  27 score -0.66 average score -0.79 epsilon 0.88  profit_iteration 0.00  iterations 927.00  long_return 1.55 \n",
      "episode  28 score -0.71 average score -0.79 epsilon 0.87  profit_iteration 0.00  iterations 927.00  long_return 1.55 \n",
      "episode  29 score -1.12 average score -0.80 epsilon 0.87  profit_iteration 0.00  iterations 927.00  long_return 1.55 \n",
      "episode  30 score -0.67 average score -0.80 epsilon 0.86  profit_iteration 0.00  iterations 927.00  long_return 1.55 \n",
      "... saving checkpoint ...\n",
      "... saving checkpoint ...\n",
      "saved check point\n",
      "episode  31 score -0.73 average score -0.80 epsilon 0.86  profit_iteration 0.00  iterations 927.00  long_return 1.55 \n",
      "episode  32 score -0.60 average score -0.79 epsilon 0.85  profit_iteration 0.00  iterations 927.00  long_return 1.55 \n",
      "episode  33 score -0.69 average score -0.79 epsilon 0.85  profit_iteration 0.00  iterations 927.00  long_return 1.55 \n",
      "episode  34 score -0.69 average score -0.78 epsilon 0.84  profit_iteration 0.00  iterations 927.00  long_return 1.55 \n",
      "episode  35 score -0.71 average score -0.78 epsilon 0.84  profit_iteration 0.00  iterations 927.00  long_return 1.55 \n",
      "episode  36 score -0.99 average score -0.79 epsilon 0.83  profit_iteration 0.00  iterations 927.00  long_return 1.55 \n",
      "episode  37 score -0.76 average score -0.79 epsilon 0.83  profit_iteration 0.00  iterations 927.00  long_return 1.55 \n",
      "episode  38 score -0.72 average score -0.79 epsilon 0.82  profit_iteration 0.00  iterations 927.00  long_return 1.55 \n",
      "episode  39 score -0.81 average score -0.79 epsilon 0.82  profit_iteration 0.00  iterations 927.00  long_return 1.55 \n",
      "episode  40 score -0.71 average score -0.78 epsilon 0.81  profit_iteration 0.00  iterations 927.00  long_return 1.55 \n",
      "... saving checkpoint ...\n",
      "... saving checkpoint ...\n",
      "saved check point\n",
      "episode  41 score -0.84 average score -0.79 epsilon 0.81  profit_iteration 0.00  iterations 927.00  long_return 1.55 \n",
      "episode  42 score -0.69 average score -0.78 epsilon 0.81  profit_iteration 0.00  iterations 927.00  long_return 1.55 \n",
      "episode  43 score -0.64 average score -0.78 epsilon 0.80  profit_iteration 0.00  iterations 927.00  long_return 1.55 \n",
      "episode  44 score -0.46 average score -0.77 epsilon 0.80  profit_iteration 0.00  iterations 927.00  long_return 1.55 \n",
      "episode  45 score -0.70 average score -0.77 epsilon 0.79  profit_iteration 0.00  iterations 927.00  long_return 1.55 \n"
     ]
    },
    {
     "ename": "KeyboardInterrupt",
     "evalue": "",
     "output_type": "error",
     "traceback": [
      "\u001b[1;31m---------------------------------------------------------------------------\u001b[0m",
      "\u001b[1;31mKeyboardInterrupt\u001b[0m                         Traceback (most recent call last)",
      "\u001b[1;32m<ipython-input-3-a4fbccf4249a>\u001b[0m in \u001b[0;36m<module>\u001b[1;34m\u001b[0m\n\u001b[0;32m     16\u001b[0m             \u001b[0mscore\u001b[0m \u001b[1;33m+=\u001b[0m \u001b[0mreward\u001b[0m\u001b[1;33m\u001b[0m\u001b[1;33m\u001b[0m\u001b[0m\n\u001b[0;32m     17\u001b[0m             \u001b[0magent\u001b[0m\u001b[1;33m.\u001b[0m\u001b[0mstore_transition\u001b[0m\u001b[1;33m(\u001b[0m\u001b[0mobservation\u001b[0m\u001b[1;33m,\u001b[0m \u001b[0maction\u001b[0m\u001b[1;33m,\u001b[0m \u001b[0mreward\u001b[0m\u001b[1;33m,\u001b[0m \u001b[0mobservation_\u001b[0m\u001b[1;33m,\u001b[0m \u001b[0mdone\u001b[0m\u001b[1;33m)\u001b[0m\u001b[1;33m\u001b[0m\u001b[1;33m\u001b[0m\u001b[0m\n\u001b[1;32m---> 18\u001b[1;33m         \u001b[0magent\u001b[0m\u001b[1;33m.\u001b[0m\u001b[0mlearn\u001b[0m\u001b[1;33m(\u001b[0m\u001b[1;33m)\u001b[0m\u001b[1;33m\u001b[0m\u001b[1;33m\u001b[0m\u001b[0m\n\u001b[0m\u001b[0;32m     19\u001b[0m \u001b[1;31m#        if learn_count == learn_frequency:\u001b[0m\u001b[1;33m\u001b[0m\u001b[1;33m\u001b[0m\u001b[1;33m\u001b[0m\u001b[0m\n\u001b[0;32m     20\u001b[0m \u001b[1;31m#            agent.learn()\u001b[0m\u001b[1;33m\u001b[0m\u001b[1;33m\u001b[0m\u001b[1;33m\u001b[0m\u001b[0m\n",
      "\u001b[1;32m~\\Documents\\GitHub\\projects\\practices\\reinforcement learning\\DDQN-stock\\ddqn_agent.py\u001b[0m in \u001b[0;36mlearn\u001b[1;34m(self)\u001b[0m\n\u001b[0;32m     79\u001b[0m         \u001b[0mself\u001b[0m\u001b[1;33m.\u001b[0m\u001b[0mreplace_target_network\u001b[0m\u001b[1;33m(\u001b[0m\u001b[1;33m)\u001b[0m\u001b[1;33m\u001b[0m\u001b[1;33m\u001b[0m\u001b[0m\n\u001b[0;32m     80\u001b[0m \u001b[1;33m\u001b[0m\u001b[0m\n\u001b[1;32m---> 81\u001b[1;33m         \u001b[0mstates\u001b[0m\u001b[1;33m,\u001b[0m \u001b[0mactions\u001b[0m\u001b[1;33m,\u001b[0m \u001b[0mrewards\u001b[0m\u001b[1;33m,\u001b[0m \u001b[0mstates_\u001b[0m\u001b[1;33m,\u001b[0m \u001b[0mdones\u001b[0m \u001b[1;33m=\u001b[0m \u001b[0mself\u001b[0m\u001b[1;33m.\u001b[0m\u001b[0msample_memory\u001b[0m\u001b[1;33m(\u001b[0m\u001b[1;33m)\u001b[0m\u001b[1;33m\u001b[0m\u001b[1;33m\u001b[0m\u001b[0m\n\u001b[0m\u001b[0;32m     82\u001b[0m \u001b[1;33m\u001b[0m\u001b[0m\n\u001b[0;32m     83\u001b[0m         \u001b[0mindices\u001b[0m \u001b[1;33m=\u001b[0m \u001b[0mnp\u001b[0m\u001b[1;33m.\u001b[0m\u001b[0marange\u001b[0m\u001b[1;33m(\u001b[0m\u001b[0mself\u001b[0m\u001b[1;33m.\u001b[0m\u001b[0mbatch_size\u001b[0m\u001b[1;33m)\u001b[0m\u001b[1;33m\u001b[0m\u001b[1;33m\u001b[0m\u001b[0m\n",
      "\u001b[1;32m~\\Documents\\GitHub\\projects\\practices\\reinforcement learning\\DDQN-stock\\ddqn_agent.py\u001b[0m in \u001b[0;36msample_memory\u001b[1;34m(self)\u001b[0m\n\u001b[0;32m     42\u001b[0m     \u001b[1;32mdef\u001b[0m \u001b[0msample_memory\u001b[0m\u001b[1;33m(\u001b[0m\u001b[0mself\u001b[0m\u001b[1;33m)\u001b[0m\u001b[1;33m:\u001b[0m\u001b[1;33m\u001b[0m\u001b[1;33m\u001b[0m\u001b[0m\n\u001b[0;32m     43\u001b[0m         \u001b[0mstate\u001b[0m\u001b[1;33m,\u001b[0m \u001b[0maction\u001b[0m\u001b[1;33m,\u001b[0m \u001b[0mreward\u001b[0m\u001b[1;33m,\u001b[0m \u001b[0mnew_state\u001b[0m\u001b[1;33m,\u001b[0m \u001b[0mdone\u001b[0m \u001b[1;33m=\u001b[0m\u001b[0;31m \u001b[0m\u001b[0;31m\\\u001b[0m\u001b[1;33m\u001b[0m\u001b[1;33m\u001b[0m\u001b[0m\n\u001b[1;32m---> 44\u001b[1;33m                                 \u001b[0mself\u001b[0m\u001b[1;33m.\u001b[0m\u001b[0mmemory\u001b[0m\u001b[1;33m.\u001b[0m\u001b[0msample_buffer\u001b[0m\u001b[1;33m(\u001b[0m\u001b[0mself\u001b[0m\u001b[1;33m.\u001b[0m\u001b[0mbatch_size\u001b[0m\u001b[1;33m)\u001b[0m\u001b[1;33m\u001b[0m\u001b[1;33m\u001b[0m\u001b[0m\n\u001b[0m\u001b[0;32m     45\u001b[0m \u001b[1;33m\u001b[0m\u001b[0m\n\u001b[0;32m     46\u001b[0m         \u001b[0mstates\u001b[0m \u001b[1;33m=\u001b[0m \u001b[0mT\u001b[0m\u001b[1;33m.\u001b[0m\u001b[0mtensor\u001b[0m\u001b[1;33m(\u001b[0m\u001b[0mstate\u001b[0m\u001b[1;33m)\u001b[0m\u001b[1;33m.\u001b[0m\u001b[0mto\u001b[0m\u001b[1;33m(\u001b[0m\u001b[0mself\u001b[0m\u001b[1;33m.\u001b[0m\u001b[0mq_eval\u001b[0m\u001b[1;33m.\u001b[0m\u001b[0mdevice\u001b[0m\u001b[1;33m)\u001b[0m\u001b[1;33m\u001b[0m\u001b[1;33m\u001b[0m\u001b[0m\n",
      "\u001b[1;32m~\\Documents\\GitHub\\projects\\practices\\reinforcement learning\\DDQN-stock\\replay_memory.py\u001b[0m in \u001b[0;36msample_buffer\u001b[1;34m(self, batch_size)\u001b[0m\n\u001b[0;32m     27\u001b[0m         \u001b[0mbatch\u001b[0m \u001b[1;33m=\u001b[0m \u001b[0mnp\u001b[0m\u001b[1;33m.\u001b[0m\u001b[0mrandom\u001b[0m\u001b[1;33m.\u001b[0m\u001b[0mchoice\u001b[0m\u001b[1;33m(\u001b[0m\u001b[0mmax_mem\u001b[0m\u001b[1;33m,\u001b[0m \u001b[0mbatch_size\u001b[0m\u001b[1;33m,\u001b[0m \u001b[0mreplace\u001b[0m\u001b[1;33m=\u001b[0m\u001b[1;32mFalse\u001b[0m\u001b[1;33m)\u001b[0m\u001b[1;33m\u001b[0m\u001b[1;33m\u001b[0m\u001b[0m\n\u001b[0;32m     28\u001b[0m \u001b[1;33m\u001b[0m\u001b[0m\n\u001b[1;32m---> 29\u001b[1;33m         \u001b[0mstates\u001b[0m \u001b[1;33m=\u001b[0m \u001b[0mself\u001b[0m\u001b[1;33m.\u001b[0m\u001b[0mstate_memory\u001b[0m\u001b[1;33m[\u001b[0m\u001b[0mbatch\u001b[0m\u001b[1;33m]\u001b[0m\u001b[1;33m\u001b[0m\u001b[1;33m\u001b[0m\u001b[0m\n\u001b[0m\u001b[0;32m     30\u001b[0m         \u001b[0mactions\u001b[0m \u001b[1;33m=\u001b[0m \u001b[0mself\u001b[0m\u001b[1;33m.\u001b[0m\u001b[0maction_memory\u001b[0m\u001b[1;33m[\u001b[0m\u001b[0mbatch\u001b[0m\u001b[1;33m]\u001b[0m\u001b[1;33m\u001b[0m\u001b[1;33m\u001b[0m\u001b[0m\n\u001b[0;32m     31\u001b[0m         \u001b[0mrewards\u001b[0m \u001b[1;33m=\u001b[0m \u001b[0mself\u001b[0m\u001b[1;33m.\u001b[0m\u001b[0mreward_memory\u001b[0m\u001b[1;33m[\u001b[0m\u001b[0mbatch\u001b[0m\u001b[1;33m]\u001b[0m\u001b[1;33m\u001b[0m\u001b[1;33m\u001b[0m\u001b[0m\n",
      "\u001b[1;31mKeyboardInterrupt\u001b[0m: "
     ]
    }
   ],
   "source": [
    "scores, eps_history = [], []\n",
    "n_games = 1000\n",
    "max_score = 0.0\n",
    "#learn_frequency = 4\n",
    "#learn_count = 0\n",
    "\n",
    "\n",
    "for i in range(n_games):\n",
    "    score = 0.0\n",
    "    done = False\n",
    "    observation = env.reset(first_test_step)\n",
    "    while not done:\n",
    "        action = agent.choose_action(observation)\n",
    "        observation_, reward, done, info = env.step(action)\n",
    "        if (observation_ is not None): \n",
    "            score += reward\n",
    "            agent.store_transition(observation, action, reward, observation_, done)\n",
    "        agent.learn()\n",
    "#        if learn_count == learn_frequency:\n",
    "#            agent.learn()\n",
    "#            learn_count = 0\n",
    "#        else:\n",
    "#            learn_count += 1\n",
    "        observation = observation_\n",
    "#    agent.learn() # Learn after one episode\n",
    "    scores.append(score)\n",
    "    eps_history.append(agent.epsilon)\n",
    "    \n",
    "    avg_score = np.mean(scores[-100:])\n",
    "    \n",
    "    print('episode ', i, 'score %.2f' % score,\n",
    "         'average score %.2f' % avg_score,\n",
    "         'epsilon %.2f ' % agent.epsilon,\n",
    "         'profit_iteration %.2f ' % info['profit_iteration'],\n",
    "         'iterations %.2f ' % info['iterations'],\n",
    "         'long_return %.2f ' % info['long_return']\n",
    "         )\n",
    "    \n",
    "    if (i !=0) and(i % 10 == 0):\n",
    "        agent.save_models()\n",
    "        print(\"saved check point\")\n"
   ]
  },
  {
   "cell_type": "code",
   "execution_count": null,
   "metadata": {},
   "outputs": [],
   "source": []
  },
  {
   "cell_type": "code",
   "execution_count": null,
   "metadata": {},
   "outputs": [],
   "source": []
  },
  {
   "cell_type": "code",
   "execution_count": null,
   "metadata": {},
   "outputs": [],
   "source": []
  }
 ],
 "metadata": {
  "kernelspec": {
   "display_name": "Python 3",
   "language": "python",
   "name": "python3"
  },
  "language_info": {
   "codemirror_mode": {
    "name": "ipython",
    "version": 3
   },
   "file_extension": ".py",
   "mimetype": "text/x-python",
   "name": "python",
   "nbconvert_exporter": "python",
   "pygments_lexer": "ipython3",
   "version": "3.7.4"
  }
 },
 "nbformat": 4,
 "nbformat_minor": 4
}
