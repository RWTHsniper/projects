{
 "cells": [
  {
   "cell_type": "markdown",
   "metadata": {},
   "source": [
    "Actor-Critic using TD"
   ]
  },
  {
   "cell_type": "code",
   "execution_count": 2,
   "metadata": {},
   "outputs": [],
   "source": [
    "import gym\n",
    "import torch\n",
    "import torch.nn as nn\n",
    "import torch.nn.functional as F\n",
    "import torch.optim as optim\n",
    "from torch.distributions import Categorical\n",
    "\n",
    "#Hyperparameters\n",
    "learning_rate = 0.0002\n",
    "gamma         = 0.98 # discount factor\n",
    "n_rollout     = 10\n",
    "\n",
    "class ActorCritic(nn.Module):\n",
    "    def __init__(self):\n",
    "        super(ActorCritic, self).__init__()\n",
    "        self.data = [] # list containing data\n",
    "        self.fc1 = nn.Linear(4,256) # fully conected first\n",
    "        self.fc_pi = nn.Linear(256,2) # fully connected pi\n",
    "        self.fc_v = nn.Linear(256,1) # fully connected value\n",
    "        self.optimizer = optim.Adam(self.parameters(), lr=learning_rate)\n",
    "        \n",
    "    # Neural network of policy\n",
    "    def pi(self, x, softmax_dim = 0):\n",
    "        x = F.relu(self.fc1(x))\n",
    "        x = self.fc_pi(x)\n",
    "        prob = F.softmax(x, dim=softmax_dim)\n",
    "        return prob\n",
    "    \n",
    "    # NN for value function\n",
    "    def v(self, x):\n",
    "        x = F.relu(self.fc1(x))\n",
    "        v = self.fc_v(x)\n",
    "        return v\n",
    "    \n",
    "    def put_data(self, transition):\n",
    "        self.data.append(transition)\n",
    "        \n",
    "    def make_batch(self):\n",
    "        s_lst, a_lst, r_lst, s_prime_lst, done_lst = [], [], [], [], []\n",
    "        for transition in self.data:\n",
    "            s,a,r,s_prime,done = transition\n",
    "            s_lst.append(s)\n",
    "            a_lst.append([a])\n",
    "            r_lst.append([r/100.0])\n",
    "            s_prime_lst.append(s_prime) # next state\n",
    "            done_mask = 0.0 if done else 1.0 # If an episode is done (terminated), done_mask = 0\n",
    "            done_lst.append([done_mask])\n",
    "        \n",
    "        # Convert the lists into torch.tensor\n",
    "        s_batch, a_batch, r_batch, s_prime_batch, done_batch = torch.tensor(s_lst, dtype=torch.float), torch.tensor(a_lst), \\\n",
    "                                                               torch.tensor(r_lst, dtype=torch.float), torch.tensor(s_prime_lst, dtype=torch.float), \\\n",
    "                                                               torch.tensor(done_lst, dtype=torch.float)\n",
    "        self.data = [] # Clear data after make_batch\n",
    "        return s_batch, a_batch, r_batch, s_prime_batch, done_batch\n",
    "  \n",
    "    def train_net(self):\n",
    "        s, a, r, s_prime, done = self.make_batch() # start with make_batch from accumulated data\n",
    "        td_target = r + gamma * self.v(s_prime) * done # I guess it is tensor operation. (Vector)\n",
    "        delta = td_target - self.v(s) # TD-target, advantage\n",
    "        \n",
    "        pi = self.pi(s, softmax_dim=1)\n",
    "        pi_a = pi.gather(1,a)\n",
    "        # If you use just delta, it means network. Thus, use delta.detach() since it is a constant\n",
    "        loss = -torch.log(pi_a) * delta.detach() + F.smooth_l1_loss(self.v(s), td_target.detach()) # policy loss + value loss\n",
    "\n",
    "        self.optimizer.zero_grad()\n",
    "        loss.mean().backward()\n",
    "        self.optimizer.step()         "
   ]
  },
  {
   "cell_type": "code",
   "execution_count": 3,
   "metadata": {},
   "outputs": [
    {
     "name": "stdout",
     "output_type": "stream",
     "text": [
      "Size of State Space ->  4\n",
      "Size of Action Space ->  2\n",
      "# of episode :50, avg score : 20.6\n",
      "# of episode :100, avg score : 26.1\n",
      "# of episode :150, avg score : 31.9\n",
      "# of episode :200, avg score : 44.1\n",
      "# of episode :250, avg score : 58.9\n",
      "# of episode :300, avg score : 73.1\n",
      "# of episode :350, avg score : 114.8\n",
      "# of episode :400, avg score : 129.9\n",
      "# of episode :450, avg score : 171.2\n"
     ]
    }
   ],
   "source": [
    "env = gym.make('CartPole-v1')\n",
    "num_states = env.observation_space.shape[0]\n",
    "print(\"Size of State Space ->  {}\".format(num_states))\n",
    "num_actions = env.action_space.n\n",
    "print(\"Size of Action Space ->  {}\".format(num_actions))\n",
    "\n",
    "model = ActorCritic()    \n",
    "print_interval = 50\n",
    "score = 0.0\n",
    "\n",
    "#    for n_epi in range(10000):\n",
    "for n_epi in range(500): # small test\n",
    "    done = False\n",
    "    s = env.reset()\n",
    "    while not done:\n",
    "        for t in range(n_rollout):\n",
    "            prob = model.pi(torch.from_numpy(s).float()) # tensor of probability. torch.from_numpy: numpy to torch tensor\n",
    "            m = Categorical(prob) # Category object defined by its probability\n",
    "            # m.sample() returns a tensor. draw an action \n",
    "            a = m.sample().item() # .item() returns Int\n",
    "            s_prime, r, done, info = env.step(a) # Action and new step\n",
    "            model.put_data((s,a,r,s_prime,done)) # accumulate data\n",
    "\n",
    "            s = s_prime # update state\n",
    "            score += r\n",
    "\n",
    "            if done:\n",
    "                break                     \n",
    "\n",
    "        model.train_net()\n",
    "\n",
    "    if n_epi%print_interval==0 and n_epi!=0:\n",
    "        print(\"# of episode :{}, avg score : {:.1f}\".format(n_epi, score/print_interval))\n",
    "        score = 0.0\n",
    "env.close()"
   ]
  },
  {
   "cell_type": "code",
   "execution_count": 24,
   "metadata": {},
   "outputs": [
    {
     "data": {
      "text/plain": [
       "1"
      ]
     },
     "execution_count": 24,
     "metadata": {},
     "output_type": "execute_result"
    }
   ],
   "source": []
  },
  {
   "cell_type": "code",
   "execution_count": null,
   "metadata": {},
   "outputs": [],
   "source": []
  }
 ],
 "metadata": {
  "kernelspec": {
   "display_name": "Python 3",
   "language": "python",
   "name": "python3"
  },
  "language_info": {
   "codemirror_mode": {
    "name": "ipython",
    "version": 3
   },
   "file_extension": ".py",
   "mimetype": "text/x-python",
   "name": "python",
   "nbconvert_exporter": "python",
   "pygments_lexer": "ipython3",
   "version": "3.7.4"
  }
 },
 "nbformat": 4,
 "nbformat_minor": 2
}
