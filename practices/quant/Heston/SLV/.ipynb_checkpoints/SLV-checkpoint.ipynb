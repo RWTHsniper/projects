{
 "cells": [
  {
   "cell_type": "code",
   "execution_count": 1,
   "metadata": {},
   "outputs": [],
   "source": [
    "import numpy as np\n",
    "from scipy import integrate, interpolate\n",
    "import matplotlib.pyplot as plt"
   ]
  },
  {
   "cell_type": "code",
   "execution_count": 2,
   "metadata": {},
   "outputs": [],
   "source": [
    "# BSM model\n",
    "from scipy import optimize\n",
    "def CND(X):\n",
    " \n",
    "    (a1,a2,a3,a4,a5) = (0.31938153, -0.356563782, 1.781477937, -1.821255978, 1.330274429)\n",
    "    \n",
    "    L = abs(X)\n",
    "    K = 1.0 / (1.0 + 0.2316419 * L)\n",
    "    w = 1.0 - 1.0 / np.sqrt(2*np.pi)*np.exp(-L*L/2.) * (a1*K + a2*K*K + a3*pow(K,3) + a4*pow(K,4) + a5*pow(K,5))\n",
    "    \n",
    "    if X<0:\n",
    "        w = 1.0-w\n",
    " \n",
    "    return w\n",
    "\n",
    "def BlackScholes(v,CallPutFlag = 'c',S = 100.,X = 100.,T = 1.,r = 0.01):\n",
    " \n",
    "    d1 = (np.log(S/X)+(r+v*v/2.)*T)/(v*np.sqrt(T))\n",
    "    d2 = d1-v*np.sqrt(T)\n",
    "    \n",
    "    if CallPutFlag=='c':\n",
    "        return S*CND(d1)-X*np.exp(-r*T)*CND(d2)\n",
    " \n",
    "    else:\n",
    "        return X*np.exp(-r*T)*CND(-d2)-S*CND(-d1)\n",
    "    \n",
    "def calc_impl_vol(price = 5., right = 'c', underlying = 100., strike = 100., time = 1., rf = 0.0):\n",
    "    \n",
    "    def f(x):\n",
    "        out = (BlackScholes(x,CallPutFlag=right,S=underlying,X=strike,T=time,r=rf)-price)**2 \n",
    "        if x < 0.0:\n",
    "            out += 1000.0 * (x)**2\n",
    "        return out\n",
    "  \n",
    "    return optimize.minimize(f,x0=0.5, tol=1e-8, method='Nelder-Mead')\n",
    "\n",
    "def get_aux_params(u, j, theta, kappa, sigma, rho):\n",
    "    alpha = - u**2 /2. - 1j*u/2. + 1j*j*u\n",
    "    beta = kappa - rho*sigma*j - rho*sigma*1j*u\n",
    "    gamma = sigma**2/2\n",
    "    d = np.sqrt(beta**2 - 4.*alpha*gamma)\n",
    "    r_p = (beta + d)/sigma**2\n",
    "    r_n = (beta - d)/sigma**2\n",
    "    g = r_n/r_p\n",
    "    return alpha, beta, gamma, d, r_p, r_n, g\n",
    "\n",
    "def get_C_D(u, j, tau, theta, kappa, sigma, rho):\n",
    "    _, _, _, d, _, r_n, g = get_aux_params(u, j, theta, kappa, sigma, rho)\n",
    "    d_tau = d*tau\n",
    "    C = kappa*(r_n*tau - 2./sigma**2*np.log((1.-g*np.exp(-d_tau))/(1.-g)))\n",
    "    D = r_n*(1.-np.exp(-d_tau))/(1.-g*np.exp(-d_tau))\n",
    "    return C, D\n",
    "\n",
    "def get_integrand(v0, x, u, j, tau, theta, kappa, sigma, rho):\n",
    "    C,D = get_C_D(u, j, tau, theta, kappa, sigma, rho)\n",
    "    return ((np.exp(C*theta + D*v0 + 1j*u*x)) / (1j*u)).real\n",
    "\n",
    "def P(v0, x, j, tau, theta, kappa, sigma, rho):\n",
    "    def wrapper(u):\n",
    "        return get_integrand(v0,x, u, j, tau, theta, kappa, sigma, rho)    \n",
    "    \n",
    "    if tau <= 1e-4:\n",
    "        tau = 1e-4\n",
    "    float_epsilon = np.finfo(float).eps\n",
    "    integral,err =  integrate.quad(wrapper,float_epsilon,4000.0)\n",
    "    return 0.5 + 1./np.pi * integral\n",
    "    \n",
    "def get_call_price(v0, spot, K, tau, theta, kappa, sigma, rho):\n",
    "    # presume zero risk-free\n",
    "    x= np.log(spot/K)\n",
    "    P0 = P(v0, x, 0, tau, theta, kappa, sigma, rho)\n",
    "    P1 = P(v0, x, 1, tau, theta, kappa, sigma, rho)\n",
    "    price = spot * P1 - K * P0\n",
    "    return price\n",
    "\n",
    "def get_CIR_Sample(NoOfPaths,kappa,gamma,vbar,s,t,v_s):\n",
    "    delta = 4.0 *kappa*vbar/gamma/gamma\n",
    "    c= 1.0/(4.0*kappa)*gamma*gamma*(1.0-np.exp(-kappa*(t-s)))\n",
    "    kappaBar = 4.0*kappa*v_s*np.exp(-kappa*(t-s))/(gamma*gamma*(1.0-np.exp(-kappa*(t-s))))\n",
    "    sample = c* np.random.noncentral_chisquare(delta,kappaBar,NoOfPaths)\n",
    "    return sample\n",
    "\n",
    "def getEVBinMethod(S,v,NoOfBins):\n",
    "    if (NoOfBins != 1):\n",
    "        mat  = np.transpose(np.array([S,v]))\n",
    "       \n",
    "        # Sort all the rows according to the first column\n",
    "\n",
    "        val = mat[mat[:,0].argsort()]\n",
    "        \n",
    "        binSize = int((np.size(S)/NoOfBins))\n",
    "         \n",
    "        expectation = np.zeros([np.size(S),2]) # columns of S and v\n",
    "\n",
    "        for i in range(1,binSize-1):\n",
    "            sample = val[(i-1)*binSize:i*binSize,1]\n",
    "            expectation[(i-1)*binSize:i*binSize,0] =val[(i-1)*binSize:i*binSize,0]\n",
    "            expectation[(i-1)*binSize:i*binSize,1] =np.mean(sample)\n",
    "        return expectation"
   ]
  },
  {
   "cell_type": "code",
   "execution_count": 105,
   "metadata": {},
   "outputs": [
    {
     "data": {
      "text/plain": [
       "array([[0.25489814, 0.24828711, 0.24158276, 0.23477283, 0.2278463 ,\n",
       "        0.22079512, 0.21361695, 0.20631965, 0.19892845, 0.19149674,\n",
       "        0.18412156, 0.1769632 , 0.17026574, 0.1643397 , 0.159508  ,\n",
       "        0.15598305, 0.15377538, 0.15271479, 0.15255106, 0.15304185,\n",
       "        0.15399145, 0.15525506, 0.15672981, 0.15834381, 0.160047  ,\n",
       "        0.16180444, 0.16359161, 0.16539121, 0.16719099, 0.16898226,\n",
       "        0.17075882, 0.1725163 , 0.17425164, 0.17596274, 0.17764822,\n",
       "        0.17930719, 0.18093918, 0.182544  , 0.18412168, 0.1856724 ,\n",
       "        0.18719648, 0.1886943 , 0.19016635, 0.1916131 , 0.19303511],\n",
       "       [0.21090866, 0.20525129, 0.19962921, 0.19404781, 0.18851495,\n",
       "        0.18304172, 0.17764332, 0.17234033, 0.1671602 , 0.16213892,\n",
       "        0.1573229 , 0.15277109, 0.14855374, 0.14474945, 0.14143737,\n",
       "        0.13868588, 0.13653713, 0.13499661, 0.13403232, 0.13358371,\n",
       "        0.13357525, 0.13392901, 0.13457286, 0.13544441, 0.13649187,\n",
       "        0.13767338, 0.13895559, 0.14031214, 0.14172226, 0.14316968,\n",
       "        0.1446416 , 0.14612796, 0.14762087, 0.14911413, 0.15060285,\n",
       "        0.15208325, 0.15355234, 0.15500783, 0.15644795, 0.15787136,\n",
       "        0.15927706, 0.16066433, 0.16203268, 0.16338178, 0.16471146],\n",
       "       [0.18277481, 0.17907934, 0.17545192, 0.17189521, 0.16841274,\n",
       "        0.16500906, 0.16168979, 0.15846177, 0.1553331 , 0.15231346,\n",
       "        0.14941382, 0.14664636, 0.14402441, 0.14156206, 0.1392736 ,\n",
       "        0.13717244, 0.13527061, 0.13357769, 0.13209974, 0.13083863,\n",
       "        0.12979183, 0.12895249, 0.12831004, 0.12785107, 0.12756029,\n",
       "        0.12742146, 0.12741825, 0.12753481, 0.12775624, 0.12806883,\n",
       "        0.12846016, 0.12891915, 0.129436  , 0.1300021 , 0.13060991,\n",
       "        0.1312529 , 0.13192537, 0.1326224 , 0.13333972, 0.13407362,\n",
       "        0.13482093, 0.13557887, 0.13634505, 0.13711742, 0.13789417],\n",
       "       [0.17473111, 0.17196355, 0.16925753, 0.16661398, 0.16403414,\n",
       "        0.16151965, 0.15907252, 0.1566952 , 0.15439047, 0.1521614 ,\n",
       "        0.15001137, 0.14794408, 0.1459634 , 0.14407333, 0.1422779 ,\n",
       "        0.14058101, 0.13898628, 0.1374968 , 0.13611517, 0.13484328,\n",
       "        0.13368214, 0.13263181, 0.13169134, 0.13085877, 0.13013119,\n",
       "        0.12950488, 0.12897536, 0.12853762, 0.12818623, 0.1279155 ,\n",
       "        0.12771965, 0.12759293, 0.12752966, 0.12752442, 0.12757199,\n",
       "        0.12766749, 0.12780632, 0.12798425, 0.12819733, 0.12844198,\n",
       "        0.12871488, 0.12901303, 0.12933369, 0.12967439, 0.13003287],\n",
       "       [0.17240885, 0.17002689, 0.16770095, 0.16543128, 0.16321833,\n",
       "        0.16106277, 0.15896557, 0.15692778, 0.15495067, 0.15303565,\n",
       "        0.15118432, 0.14939836, 0.14767956, 0.14602973, 0.14445074,\n",
       "        0.14294434, 0.14151221, 0.14015587, 0.13887649, 0.13767501,\n",
       "        0.13655209, 0.13550796, 0.13454244, 0.1336549 , 0.13284425,\n",
       "        0.13210899, 0.13144718, 0.13085653, 0.13033444, 0.12987801,\n",
       "        0.12948416, 0.12914965, 0.12887117, 0.12864536, 0.12846887,\n",
       "        0.12833838, 0.12825072, 0.12820274, 0.12819149, 0.12821414,\n",
       "        0.128268  , 0.12835054, 0.12845939, 0.12859237, 0.12874739]])"
      ]
     },
     "execution_count": 105,
     "metadata": {},
     "output_type": "execute_result"
    }
   ],
   "source": [
    "# Price surface using Heston model\n",
    "# \n",
    "theta = 0.05; kappa = 0.3; sigma = 0.5; rho = -0.6; v0 = 0.04\n",
    "r = 0.0 # always presume zero risk-free interest\n",
    "spot = 1.0; K_vec = np.linspace(0.8,1.6,num=45)\n",
    "# spot = 1.0; K_vec = np.linspace(0.8,1.2,num=30)\n",
    "T_max = 3\n",
    "# T_vec = np.linspace(0.25,T_max,int(((T_max)/0.25)))\n",
    "# T_vec = np.linspace(1/12,T_max,int(((T_max)/(1/12))))\n",
    "T_vec = np.array([0.5,2.0,5.0,8.0,10.0])\n",
    "float_epsilon = np.finfo(float).eps\n",
    "#tau_vec = np.linspace(float_epsilon,0.1,num=100)\n",
    "# tau_vec = np.linspace(float_epsilon,1.,num=13)\n",
    "price_vec = []\n",
    "ivol_vec = []\n",
    "for tau in T_vec:\n",
    "    price_tau=[get_call_price(v0, spot, k, tau, theta, kappa, sigma, rho) for k in K_vec]\n",
    "    price_vec.append(np.array(price_tau))\n",
    "    for (ind_k,k) in enumerate(K_vec):\n",
    "        ivol_vec.append(calc_impl_vol(price = price_tau[ind_k], right = 'c', underlying = 1., strike = k, time = tau, rf = 0.0).x[0])\n",
    "ivol_vec = np.array(ivol_vec).reshape(len(T_vec),-1)\n",
    "# ivol_vec"
   ]
  },
  {
   "cell_type": "code",
   "execution_count": 106,
   "metadata": {},
   "outputs": [],
   "source": [
    "dk = K_vec[1] - K_vec[0]\n",
    "dt = T_vec[1] - T_vec[0]\n",
    "si_LV = []\n",
    "for (i_t,tau) in enumerate(T_vec):\n",
    "    lv_k = np.zeros(len(K_vec)) # local vol for each strike \n",
    "    for (i_k,k) in enumerate(K_vec):\n",
    "        # derivatives w.r.t. T\n",
    "        if i_t == 0: # left boundary\n",
    "            v_t = (price_vec[i_t+1][i_k]-price_vec[i_t][i_k])/dt\n",
    "        elif i_t == len(T_vec)-1: # right boundary\n",
    "            v_t = (price_vec[i_t][i_k]-price_vec[i_t-1][i_k])/dt\n",
    "        else:\n",
    "            v_t = (price_vec[i_t+1][i_k]-price_vec[i_t-1][i_k])/(2.0*dt)\n",
    "        \n",
    "        # derivatives w.r.t. K\n",
    "        if i_k == 0: # left boundary\n",
    "            v_k = (price_vec[i_t][i_k+1]-price_vec[i_t][i_k])/dk\n",
    "        elif i_k == len(K_vec)-1: # right boundary\n",
    "            v_k = (price_vec[i_t][i_k]-price_vec[i_t][i_k-1])/dk\n",
    "        else:\n",
    "            v_kk = (price_vec[i_t][i_k+1] - 2.0*price_vec[i_t][i_k] + price_vec[i_t][i_k-1])/(dk**2)\n",
    "            v_k = (price_vec[i_t][i_k+1]-price_vec[i_t][i_k])/(dk)\n",
    "#             v_k = (price_vec[i_t][i_k+1]-price_vec[i_t][i_k-1])/(2.0*dk)\n",
    "            lv_k[i_k] = np.sqrt((v_t+r*k*v_k)/(0.5*k**2 * v_kk))\n",
    "        \n",
    "    lv_k[0] = lv_k[1] + (lv_k[1] - lv_k[2]) # linear approx\n",
    "    lv_k[len(K_vec)-1] = lv_k[len(K_vec)-2] + (lv_k[len(K_vec)-2] - lv_k[len(K_vec)-3]) #linear approx\n",
    "    si_LV.append(lv_k)\n",
    "\n",
    "si_LV = np.matrix(si_LV)\n",
    "si_lv_func = interpolate.interp2d(K_vec,T_vec,si_LV)"
   ]
  },
  {
   "cell_type": "code",
   "execution_count": 107,
   "metadata": {},
   "outputs": [],
   "source": [
    "# Run simulations to compute bins\n",
    "\n",
    "# Deliberately run wrong params\n",
    "# level = 0.7\n",
    "# level = 1.0\n",
    "theta = 0.0375; kappa = 0.375; sigma = 0.375; rho = -0.75; v0 = 0.05\n",
    "\n",
    "np.random.seed(1)\n",
    "T = T_vec[-1]\n",
    "num_steps = int(T*4*3*5) # weekly\n",
    "# num_steps = int(T*4*3*5*5) # daily\n",
    "num_steps = int(T*100) # book\n",
    "# num_paths = 7500\n",
    "num_paths = 15000\n",
    "num_paths = 500000\n",
    "res = np.zeros((num_steps, num_paths))\n",
    "dt = T/num_steps\n",
    "t_sim = np.linspace(0.0,T,num_steps+1)\n",
    "\n",
    "correlation = np.matrix([[1, rho],[rho, 1]])\n",
    "L = np.linalg.cholesky(correlation)\n",
    "alpha = kappa*theta\n",
    "beta = kappa\n",
    "s = np.zeros([num_steps+1, num_paths]) # log(S)\n",
    "v = np.zeros([num_steps+1, num_paths])\n",
    "v[0,:] = v0\n",
    "\n",
    "for i in range(num_steps):\n",
    "    # noncentral chisquare processes\n",
    "\n",
    "    # Volatility\n",
    "    dW_indep = np.random.normal(0.0,1.0,(2,num_paths))\n",
    "    dW_indep = (dW_indep-dW_indep.mean(axis=1).reshape(-1,1))/dW_indep.std(axis=1).reshape(-1,1) # normalize\n",
    "    dW = L*dW_indep*np.sqrt(dt) # each row (sA sB vA vB) \n",
    "#     dW   = np.random.multivariate_normal([0,0,0,0], p[\"correlation\"], num_paths).transpose()*np.sqrt(dt)\n",
    "    drift_term = (alpha - beta*v[i,:])*dt\n",
    "    dWv = dW[0,:] # A or B\n",
    "    vol_term = sigma*np.multiply(np.sqrt(v[i,:]),dWv)\n",
    "    vol_term += 0.25*sigma**2.0 * (np.power(dWv,2) - dt) # Milstein term\n",
    "    v[i+1,:] = np.maximum(0.0,v[i,:] + drift_term + vol_term) # truncation\n",
    "    \n",
    "    # Stock price\n",
    "    drift_term = (r-0.5*v[i,:])*dt\n",
    "    dWs = dW[1,:] \n",
    "    vol_term = np.multiply(np.sqrt(v[i,:]), dWs)\n",
    "    s[i+1,:] = s[i,:] + drift_term + vol_term\n",
    "    \n",
    "S = np.exp(s) # stock price"
   ]
  },
  {
   "cell_type": "markdown",
   "metadata": {},
   "source": [
    "# Check simulation result by pricing"
   ]
  },
  {
   "cell_type": "code",
   "execution_count": 108,
   "metadata": {},
   "outputs": [
    {
     "data": {
      "text/plain": [
       "array([[0.26737201, 0.26210945, 0.25682685, 0.25149338, 0.24610435,\n",
       "        0.24065744, 0.23516541, 0.22964763, 0.22406804, 0.21841225,\n",
       "        0.21266462, 0.20686607, 0.20106063, 0.19528412, 0.18959445,\n",
       "        0.18405436, 0.17879795, 0.17392889, 0.16954637, 0.16576498,\n",
       "        0.16261594, 0.16007623, 0.15811931, 0.15668763, 0.1556896 ,\n",
       "        0.15500609, 0.1545547 , 0.15433692, 0.15440226, 0.15465724,\n",
       "        0.15505475, 0.15559275, 0.15614914, 0.15682463, 0.15779374,\n",
       "        0.15863181, 0.1594582 , 0.16026514, 0.16110206, 0.16171135,\n",
       "        0.16240706, 0.16289115, 0.16293604, 0.16284825, 0.16269568],\n",
       "       [0.22943812, 0.22463417, 0.21983244, 0.21504356, 0.21027585,\n",
       "        0.20552823, 0.20080892, 0.19613165, 0.19150031, 0.18690631,\n",
       "        0.18238223, 0.17794078, 0.1735933 , 0.16935638, 0.16526341,\n",
       "        0.16133817, 0.15760868, 0.15409704, 0.15083573, 0.1478572 ,\n",
       "        0.14518429, 0.14282155, 0.14077757, 0.13903924, 0.13760126,\n",
       "        0.13644076, 0.13553437, 0.13485335, 0.13438298, 0.13409445,\n",
       "        0.13396099, 0.13395309, 0.13406417, 0.13427382, 0.13455858,\n",
       "        0.13490793, 0.1353072 , 0.13575253, 0.1362384 , 0.13675696,\n",
       "        0.13730457, 0.1378826 , 0.13847962, 0.13907272, 0.13967177],\n",
       "       [0.19747928, 0.1942413 , 0.19105361, 0.18790947, 0.18481346,\n",
       "        0.18176299, 0.17876136, 0.17581303, 0.17291892, 0.17008678,\n",
       "        0.16731098, 0.16459839, 0.16194599, 0.15934851, 0.15681562,\n",
       "        0.15435098, 0.1519575 , 0.14963301, 0.14738632, 0.14522388,\n",
       "        0.14315522, 0.14117965, 0.13930541, 0.13753331, 0.13585717,\n",
       "        0.13427811, 0.1328045 , 0.13143299, 0.1301625 , 0.12899569,\n",
       "        0.12793104, 0.1269692 , 0.12610467, 0.12532739, 0.12463392,\n",
       "        0.12402434, 0.12350355, 0.12306147, 0.12268798, 0.12237493,\n",
       "        0.12211561, 0.12191018, 0.12175905, 0.12164451, 0.12156905],\n",
       "       [0.18710731, 0.18467595, 0.18228507, 0.17993397, 0.17762634,\n",
       "        0.17536101, 0.17313573, 0.17095252, 0.16881361, 0.16671868,\n",
       "        0.16467053, 0.16266237, 0.16069719, 0.15877602, 0.15689848,\n",
       "        0.15506319, 0.15326985, 0.15151927, 0.14980918, 0.14814702,\n",
       "        0.14653226, 0.14496267, 0.14343922, 0.14196022, 0.14052817,\n",
       "        0.13914633, 0.13781834, 0.13654159, 0.13531486, 0.13414176,\n",
       "        0.13302189, 0.13195099, 0.130927  , 0.12995165, 0.129026  ,\n",
       "        0.12815155, 0.12732724, 0.12655605, 0.12582861, 0.12514501,\n",
       "        0.12450376, 0.12390235, 0.12333938, 0.12281755, 0.12233504],\n",
       "       [0.18421805, 0.18210923, 0.18004264, 0.17801825, 0.17603129,\n",
       "        0.17408054, 0.17216855, 0.17029264, 0.16845382, 0.16665104,\n",
       "        0.1648869 , 0.16315592, 0.1614605 , 0.1598016 , 0.15817604,\n",
       "        0.15658623, 0.15503188, 0.15351154, 0.15202226, 0.15056888,\n",
       "        0.14915125, 0.14776595, 0.14641822, 0.14510443, 0.14382454,\n",
       "        0.14257959, 0.14136823, 0.14019297, 0.13905559, 0.13795432,\n",
       "        0.13688586, 0.13585173, 0.1348525 , 0.133885  , 0.13295091,\n",
       "        0.13205258, 0.13118695, 0.1303579 , 0.12956592, 0.12880902,\n",
       "        0.12808791, 0.12740499, 0.12675688, 0.1261407 , 0.12555404]])"
      ]
     },
     "execution_count": 108,
     "metadata": {},
     "output_type": "execute_result"
    }
   ],
   "source": [
    "mc_call = []\n",
    "ivol_mc = []\n",
    "for (ind, tau) in enumerate(T_vec):\n",
    "    try:\n",
    "        t_ind = np.where(t_sim == tau)[0][0] # index for the same value\n",
    "    except:\n",
    "        t_ind = np.where(t_sim <= tau)[0][-1] # closest index\n",
    "    mc_payoff = np.zeros(len(K_vec)) # slv for each k \n",
    "    for (i_k,k) in enumerate(K_vec):\n",
    "        payoff = S[t_ind] -k\n",
    "        payoff = np.where(payoff < 0.0, 0.0, payoff) # modify payoff\n",
    "        mc_payoff[i_k] = payoff.mean()\n",
    "        ivol_mc.append(calc_impl_vol(price = mc_payoff[i_k], right = 'c', underlying = 1., strike = k, time = tau, rf = 0.0).x[0])\n",
    "    mc_call.append(mc_payoff)\n",
    "ivol_mc = np.array(ivol_mc).reshape(len(T_vec),-1)\n",
    "ivol_mc"
   ]
  },
  {
   "cell_type": "code",
   "execution_count": 93,
   "metadata": {},
   "outputs": [
    {
     "data": {
      "text/plain": [
       "'NoOfBins = 25\\n# NoOfBins = 200\\nexpectations = []\\nfor (ind, tau) in enumerate(t_sim):\\n    f = getEVBinMethod(S[ind],v[ind],NoOfBins)\\n    ind = np.where(f[:,1]==0)[0] # drop empty rows\\n    f = np.delete(f, ind, 0)\\n    func = lambda x: np.interp(x, f[:,0], f[:,1])\\n    expectations.append(func)'"
      ]
     },
     "execution_count": 93,
     "metadata": {},
     "output_type": "execute_result"
    }
   ],
   "source": [
    "\"\"\"NoOfBins = 25\n",
    "# NoOfBins = 200\n",
    "expectations = []\n",
    "for (ind, tau) in enumerate(t_sim):\n",
    "    f = getEVBinMethod(S[ind],v[ind],NoOfBins)\n",
    "    ind = np.where(f[:,1]==0)[0] # drop empty rows\n",
    "    f = np.delete(f, ind, 0)\n",
    "    func = lambda x: np.interp(x, f[:,0], f[:,1])\n",
    "    expectations.append(func)\"\"\""
   ]
  },
  {
   "cell_type": "code",
   "execution_count": 109,
   "metadata": {},
   "outputs": [],
   "source": [
    "NoOfBins = 20\n",
    "# NoOfBins = 200\n",
    "expectations = []\n",
    "for (ind, tau) in enumerate(T_vec):\n",
    "    try:\n",
    "        t_ind = np.where(t_sim == tau)[0][0] # index for the same value\n",
    "    except:\n",
    "        t_ind = np.where(t_sim <= tau)[0][-1] # closest index\n",
    "    f = getEVBinMethod(S[t_ind],v[t_ind],NoOfBins)\n",
    "    ind = np.where(f[:,1]==0)[0] # drop empty rows\n",
    "    f = np.delete(f, ind, 0)\n",
    "    func = lambda x: np.interp(x, f[:,0], f[:,1])\n",
    "    expectations.append(func)"
   ]
  },
  {
   "cell_type": "code",
   "execution_count": 110,
   "metadata": {},
   "outputs": [
    {
     "data": {
      "text/plain": [
       "array([6.20597375, 6.14452108, 6.08306842, 6.02161575, 5.96016308,\n",
       "       5.89871041, 5.83725774, 5.77580508, 5.71435241, 5.65289974,\n",
       "       5.59144707, 5.5299944 , 5.46854174, 5.40708907, 5.3456364 ,\n",
       "       5.28418373, 5.22273106, 5.16127839, 5.09982573, 5.03837306,\n",
       "       4.97692039, 4.91546772, 4.85401505, 4.79256239, 4.73110972,\n",
       "       4.66965705, 4.60820438, 4.54675171, 4.48529905, 4.42384638,\n",
       "       4.36239371, 4.30094104, 4.23948837, 4.17803571, 4.11658304,\n",
       "       4.05513037, 3.9936777 , 3.93222503, 3.87077237, 3.8093197 ,\n",
       "       3.74786703, 3.68641436, 3.62496169, 3.56350903, 3.50205636])"
      ]
     },
     "execution_count": 110,
     "metadata": {},
     "output_type": "execute_result"
    }
   ],
   "source": [
    "si_slv = [] # list of lambda expressions for SLV\n",
    "for (i_t,tau) in enumerate(T_vec):\n",
    "    slv = np.zeros(len(K_vec)) # slv for each k \n",
    "    for (i_k,k) in enumerate(K_vec):\n",
    "        v_expect = expectations[i_t](k)\n",
    "        slv[i_k] = si_LV[i_t, i_k] / np.sqrt(v_expect)\n",
    "    si_slv.append(slv)\n",
    "    \n",
    "si_slv = np.matrix(si_slv)\n",
    "si_slv_func = interpolate.interp2d(K_vec,T_vec,si_slv)\n",
    "si_slv_func(T,K_vec).reshape(-1)"
   ]
  },
  {
   "cell_type": "markdown",
   "metadata": {},
   "source": [
    "# SLV model simulation"
   ]
  },
  {
   "cell_type": "code",
   "execution_count": 111,
   "metadata": {},
   "outputs": [],
   "source": [
    "# Run simulations to compute bins\n",
    "\n",
    "np.random.seed(1)\n",
    "T = T_vec[-1]\n",
    "num_steps = int(T*4*3*5) # weekly\n",
    "# num_steps = int(T*4*3*5*5) # daily\n",
    "# num_paths = 7500\n",
    "num_paths = 15000\n",
    "num_paths = 50000\n",
    "res = np.zeros((num_steps, num_paths))\n",
    "dt = T/num_steps\n",
    "t_sim = np.linspace(0.0,T,num_steps+1)\n",
    "\n",
    "correlation = np.matrix([[1, rho],[rho, 1]])\n",
    "L = np.linalg.cholesky(correlation)\n",
    "alpha = kappa*theta\n",
    "beta = kappa\n",
    "s = np.zeros([num_steps+1, num_paths]) # log(S)\n",
    "v = np.zeros([num_steps+1, num_paths])\n",
    "v[0,:] = v0\n",
    "\n",
    "for i in range(num_steps):\n",
    "    t = i*dt\n",
    "    # noncentral chisquare processes\n",
    "\n",
    "    # Volatility\n",
    "    dW_indep = np.random.normal(0.0,1.0,(2,num_paths))\n",
    "    dW_indep = (dW_indep-dW_indep.mean(axis=1).reshape(-1,1))/dW_indep.std(axis=1).reshape(-1,1) # normalize\n",
    "    dW = L*dW_indep*np.sqrt(dt) # each row (sA sB vA vB) \n",
    "\n",
    "    # Vol of vol\n",
    "    drift_term = (alpha - beta*v[i,:])*dt\n",
    "    dWv = dW[0,:] # A or B\n",
    "    vol_term = sigma*np.multiply(np.sqrt(v[i,:]),dWv)\n",
    "    vol_term += 0.25*sigma**2.0 * (np.power(dWv,2) - dt) # Milstein term\n",
    "    v[i+1,:] = np.maximum(0.0,v[i,:] + drift_term + vol_term) # truncation\n",
    "    \n",
    "    # Stock price\n",
    "    S_i = np.exp(s[i,:])\n",
    "    slv_i = si_slv_func(t,S_i).reshape(-1)\n",
    "    drift_term = (r-0.5*np.multiply(v[i,:],np.power(slv_i,2)))*dt\n",
    "    dWs = dW[1,:] \n",
    "    vol_term = np.multiply(slv_i, np.multiply(np.sqrt(v[i,:]), dWs))\n",
    "    s[i+1,:] = s[i,:] + drift_term + vol_term\n",
    "    \n",
    "S = np.exp(s) # stock price"
   ]
  },
  {
   "cell_type": "code",
   "execution_count": 112,
   "metadata": {},
   "outputs": [],
   "source": [
    "# Do pricing using the simulation data\n",
    "slv_sim = []\n",
    "ivol_slv = []\n",
    "for (i_t,tau) in enumerate(T_vec):\n",
    "    try:\n",
    "        t_ind = np.where(t_sim == tau)[0][0] # index for the same value\n",
    "    except:\n",
    "        t_ind = np.where(t_sim <= tau)[0][-1] # closest index\n",
    "    slv_payoff = np.zeros(len(K_vec)) # slv for each k \n",
    "    for (i_k,k) in enumerate(K_vec):\n",
    "        payoff = S[t_ind] -k\n",
    "        payoff = np.where(payoff < 0.0, 0.0, payoff) # modify payoff\n",
    "        slv_payoff[i_k] = payoff.mean()\n",
    "        if np.isnan(slv_payoff[i_k]):\n",
    "            print(\"ISNAN\")\n",
    "        ivol_slv.append(calc_impl_vol(price = slv_payoff[i_k], right = 'c', underlying = 1., strike = k, time = tau, rf = 0.0).x[0])\n",
    "    slv_sim.append(slv_payoff)\n",
    "ivol_slv = np.array(ivol_slv).reshape(len(T_vec),-1)\n"
   ]
  },
  {
   "cell_type": "code",
   "execution_count": 118,
   "metadata": {},
   "outputs": [
    {
     "data": {
      "text/plain": [
       "<matplotlib.legend.Legend at 0x7f7c9e282150>"
      ]
     },
     "execution_count": 118,
     "metadata": {},
     "output_type": "execute_result"
    },
    {
     "data": {
      "image/png": "[encoded data removed]",
      "text/plain": [
       "<Figure size 432x288 with 1 Axes>"
      ]
     },
     "metadata": {
      "needs_background": "light"
     },
     "output_type": "display_data"
    }
   ],
   "source": [
    "ind_sel = -1\n",
    "ind_sel = np.where(T_vec <= 2)[0][-1]\n",
    "plt.plot(K_vec, ivol_vec[ind_sel],label='Analytic')\n",
    "plt.plot(K_vec, ivol_slv[ind_sel],label='SLV')\n",
    "plt.plot(K_vec, ivol_mc[ind_sel],label='Heston')\n",
    "plt.title(\"Implied Volatility\")\n",
    "plt.xlabel(\"Strike k\")\n",
    "plt.ylabel(\"Ivol\")\n",
    "plt.legend()"
   ]
  },
  {
   "cell_type": "code",
   "execution_count": 117,
   "metadata": {},
   "outputs": [
    {
     "data": {
      "text/plain": [
       "1"
      ]
     },
     "execution_count": 117,
     "metadata": {},
     "output_type": "execute_result"
    }
   ],
   "source": []
  },
  {
   "cell_type": "code",
   "execution_count": null,
   "metadata": {},
   "outputs": [],
   "source": []
  },
  {
   "cell_type": "code",
   "execution_count": null,
   "metadata": {},
   "outputs": [],
   "source": []
  }
 ],
 "metadata": {
  "@webio": {
   "lastCommId": null,
   "lastKernelId": null
  },
  "kernelspec": {
   "display_name": "Python 3",
   "language": "python",
   "name": "python3"
  },
  "language_info": {
   "codemirror_mode": {
    "name": "ipython",
    "version": 3
   },
   "file_extension": ".py",
   "mimetype": "text/x-python",
   "name": "python",
   "nbconvert_exporter": "python",
   "pygments_lexer": "ipython3",
   "version": "3.7.4"
  }
 },
 "nbformat": 4,
 "nbformat_minor": 2
}
