{
 "cells": [
  {
   "cell_type": "markdown",
   "metadata": {},
   "source": [
    "# Computation of Stochastic-Local Volatility of Heston Type"
   ]
  },
  {
   "cell_type": "code",
   "execution_count": 1,
   "metadata": {},
   "outputs": [],
   "source": [
    "# from math import log, sqrt, pi, exp\n",
    "# from scipy.stats import norm\n",
    "from datetime import datetime, date\n",
    "import numpy as np\n",
    "import scipy\n",
    "from scipy import sparse\n",
    "from scipy.sparse import linalg\n",
    "import pandas as pd\n",
    "from pandas import DataFrame\n",
    "from matplotlib import pyplot as plt\n",
    "import copy\n",
    "from collections import OrderedDict\n",
    "\n",
    "from fd_adi import * \n",
    "from BS import *"
   ]
  },
  {
   "cell_type": "code",
   "execution_count": 2,
   "metadata": {},
   "outputs": [
    {
     "name": "stdout",
     "output_type": "stream",
     "text": [
      "Check whether the grid is aligned to axis\n",
      "[0.   0.04]\n",
      "Grid in S space\n",
      "S_min  0.010000000000000004 0.0\n",
      "S_max  10.000000000000002 0.42000000000000004\n"
     ]
    }
   ],
   "source": [
    "T = 1\n",
    "# Nx = np.array([4,4]) # x and v spaces\n",
    "# Nx = np.array([2**5,2**5]) # x and v spaces\n",
    "# Nx = np.array([2**6,2**6]) # x and v spaces\n",
    "# Nx = np.array([2**7,2**6]) # x and v spaces\n",
    "Nx = np.array([2**8,2**6]) # x and v spaces\n",
    "# Nx = np.array([2**8,2**7]) # x and v spaces\n",
    "# Nx = np.array([2**8,2**8]) # x and v spaces\n",
    "# Nx = np.array([2**9,2**6]) # x and v spaces\n",
    "# Nx = np.array([2**10,2**6]) # x and v spaces\n",
    "x_max = np.array([np.log(10),0.4]) # log(price), vol-vol\n",
    "x_min = np.array([np.log(0.001),0.0]) # Numerical issue for SLV\n",
    "x_min = np.array([np.log(0.01),0.0])\n",
    "# x_min = np.array([np.log(0.1),0.0])\n",
    "dx = (x_max-x_min)/(Nx-1)\n",
    "Nt = 12 # always scalar\n",
    "Nt = 12*5 # weekly\n",
    "# Nt = 12*5*7 # daily\n",
    "t_space = np.linspace(0,T,Nt+1)\n",
    "dt = t_space[1]-t_space[0]\n",
    "\n",
    "# Input parameters\n",
    "theta = 0.05; kappa = 0.3; sigma = 0.5; rho = -0.6; v0 = 0.04\n",
    "# theta = 0.05; kappa = 0.3; sigma = 0.1; rho = -0.6; v0 = 0.04\n",
    "sigma_lv = 1.0; beta_lv = 1.5; # slv params\n",
    "r = 0.0 # always presume zero risk-free interest\n",
    "# S0 = 1.0; k = 1.0;\n",
    "S0 = 1.0; k = 1.5;\n",
    "x0 = np.log(S0); log_k = np.log(k)\n",
    "axis = (x0,v0)\n",
    "axis_ind = get_x_ind(axis,dx,x_min)\n",
    "dx_desired = (axis-x_min)/axis_ind\n",
    "dx = dx_desired\n",
    "x_max = get_x(Nx-1,dx,x_min)\n",
    "# align_grid(axis,dx,x_min)\n",
    "print(\"Check whether the grid is aligned to axis\")\n",
    "print(get_x(dx,get_x_ind(axis,dx,x_min),x_min))\n",
    "print(\"Grid in S space\")\n",
    "print(\"S_min \",np.exp(x_min[0]),x_min[1])\n",
    "print(\"S_max \",np.exp(x_max[0]),x_max[1])"
   ]
  },
  {
   "cell_type": "code",
   "execution_count": 3,
   "metadata": {},
   "outputs": [],
   "source": [
    "def get_leverage(t,S,sigma_lv,beta_lv):\n",
    "    \"\"\"\n",
    "    Compute the deterministic part in the volatility term\n",
    "    \"\"\"\n",
    "    return sigma_lv*np.power(S,beta_lv-1)\n",
    "\n",
    "lev_func = lambda t,S: get_leverage(t,S,sigma_lv,beta_lv)"
   ]
  },
  {
   "cell_type": "markdown",
   "metadata": {},
   "source": [
    "# Construct matrices for the discretized system"
   ]
  },
  {
   "cell_type": "code",
   "execution_count": 4,
   "metadata": {},
   "outputs": [],
   "source": [
    "# Let's plan\n",
    "# For a test, we can start with dense matrix. Don't complicate too much at the beginning.\n",
    "# First, think about Pxv\n",
    "# ux(x,y) = (u(x+1,y)-u(x,y))/dx\n",
    "# uxy(x,y) = (u(x+1,y+1) + u(x-1,y-1) - u(x+1,y-1) - u(x-1,y+1))/(4dxdy) # 2dx,2dy\n",
    "# uxy(x,y) = (u(x+1,y+1) + u(x-1,y) - u(x+1,y) - u(x-1,y+1))/(2*dxdy) # 2dx,dy\n",
    "# uxy(x,y) = (u(x+1,y+1) + u(x,y-1) - u(x+1,y-1) - u(x,y+1))/(dx2*dy) # dx,2dy\n",
    "# uxy(x,y) = (u(x+1,y+1) + u(x,y) - u(x+1,y) - u(x,y+1))/(dxdy) # dx,dy\n",
    "\n",
    "num_dof = Nx.prod()\n",
    "mat_xv = np.zeros((num_dof,num_dof)) # No choice but to use a dense matrix\n",
    "for i in range(Nx[0]):\n",
    "    for j in range(Nx[1]):\n",
    "        pos = (i,j)\n",
    "        ind = get_ind(Nx,pos)\n",
    "        denom = 4.0*dx.prod()\n",
    "        # Mind bounds\n",
    "        if i==0:\n",
    "            ind_i = (i,i+1)\n",
    "            denom /= 2.0\n",
    "        elif i==Nx[0]-1:\n",
    "            ind_i = (i-1,i)\n",
    "            denom /= 2.0\n",
    "        else:\n",
    "            ind_i = (i-1,i+1)\n",
    "        if j==0:\n",
    "            ind_j = (j,j+1)\n",
    "            denom /= 2.0\n",
    "        elif j==Nx[1]-1:\n",
    "            ind_j = (j-1,j)\n",
    "            denom /= 2.0\n",
    "        else:\n",
    "            ind_j = (j-1,j+1)\n",
    "\n",
    "        ind_1 = get_ind(Nx,(ind_i[1],ind_j[1])) # x+1,y+1\n",
    "        ind_2 = get_ind(Nx,(ind_i[0],ind_j[0])) # x-1,y-1\n",
    "        ind_3 = get_ind(Nx,(ind_i[1],ind_j[0])) # x+1,y-1\n",
    "        ind_4 = get_ind(Nx,(ind_i[0],ind_j[1])) # x-1,y+1\n",
    "        x,v = get_x(dx,pos,x_min)\n",
    "        S = np.exp(x)\n",
    "        coef_xy = lev_func(0,S)*rho*sigma*v/(denom)\n",
    "        mat_xv[ind,ind_1] = coef_xy\n",
    "        mat_xv[ind,ind_2] = coef_xy # ind_2\n",
    "        mat_xv[ind,ind_3] = -coef_xy # ind_2\n",
    "        mat_xv[ind,ind_4] = -coef_xy # ind_2\n",
    "        \n",
    "mat_xv_csr = sparse.csr_matrix(mat_xv) # csr format is used instead of a dense form to reduce memory and computational time\n",
    "\n",
    "# Second, construct Pxx + Px\n",
    "# New space: Column major indexing.\n",
    "# mat_xx_new = np.zeros((num_dof,num_dof))\n",
    "tri_xx_new = tridiagonal(n=num_dof)\n",
    "for i in range(Nx[0]):\n",
    "    for j in range(Nx[1]):\n",
    "        pos = (i,j)\n",
    "        x,v = get_x(dx,pos,x_min)\n",
    "        S = np.exp(x)\n",
    "        ind = get_ind(Nx,pos)\n",
    "        ind = i + Nx[0]*j # new\n",
    "        # -0.5*r term for ADI scheme\n",
    "        tri_xx_new[ind,ind] += -0.5*r\n",
    "        # fxx\n",
    "        if (0<i<Nx[0]-1): # zero-gamma\n",
    "            ind_m = (i-1) + Nx[0]*j\n",
    "            ind_p = (i+1) + Nx[0]*j\n",
    "            fxx = np.array([1,-2,1])/dx[0]**2\n",
    "            coef_xx = (lev_func(0,S)**2)*0.5*v\n",
    "            Pxx = fxx*coef_xx\n",
    "            tri_xx_new[ind,ind_m] += Pxx[0]\n",
    "            tri_xx_new[ind,ind] += Pxx[1]\n",
    "            tri_xx_new[ind,ind_p] += Pxx[2]\n",
    "        # fx\n",
    "        coef_x = r - 0.5*(lev_func(0,S)**2)*v\n",
    "        if (0<i<Nx[0]-1):\n",
    "            ind_m = (i-1) + Nx[0]*j\n",
    "            ind_p = (i+1) + Nx[0]*j\n",
    "            fx = np.array([-1,1])/(2.0*dx[0])\n",
    "            Px = fx*coef_x\n",
    "            tri_xx_new[ind,ind_m] += Px[0]\n",
    "            tri_xx_new[ind,ind_p] += Px[1]\n",
    "        if i==0:\n",
    "            ind_p = (i+1) + Nx[0]*j\n",
    "            fx = np.array([-1,1])/dx[0]\n",
    "            Px = fx*coef_x\n",
    "            tri_xx_new[ind,ind] += Px[0]\n",
    "            tri_xx_new[ind,ind_p] += Px[1]\n",
    "        elif i==Nx[0]-1:\n",
    "            ind_m = (i-1) + Nx[0]*j\n",
    "            fx = np.array([-1,1])/dx[0]\n",
    "            Px = fx*coef_x\n",
    "            tri_xx_new[ind,ind_m] += Px[0]\n",
    "            tri_xx_new[ind,ind] += Px[1]\n",
    "            \n",
    "\n",
    "# Third, construct Pvv + Pv terms\n",
    "tri_vv = tridiagonal(n=num_dof)\n",
    "for i in range(Nx[0]):\n",
    "    for j in range(Nx[1]):\n",
    "        pos = (i,j)\n",
    "        x,v = get_x(dx,pos,x_min)\n",
    "        ind = get_ind(Nx,pos)\n",
    "        # -0.5*r term\n",
    "        tri_vv[ind,ind] += -0.5*r\n",
    "        # fvv\n",
    "        if (0<j<Nx[1]-1): # zero-gamma\n",
    "            ind_m = get_ind(Nx,(i,j-1))\n",
    "            ind_p = get_ind(Nx,(i,j+1))\n",
    "            fvv = np.array([1,-2,1])/dx[1]**2\n",
    "            coef_vv = 0.5*sigma**2*v\n",
    "            Pvv = fvv*coef_vv\n",
    "            tri_vv[ind,ind_m] += Pvv[0]\n",
    "            tri_vv[ind,ind] += Pvv[1]\n",
    "            tri_vv[ind,ind_p] += Pvv[2]\n",
    "        # fv\n",
    "        coef_v = kappa*(theta - v)\n",
    "        if (0<j<Nx[1]-1):\n",
    "            ind_m = get_ind(Nx,(i,j-1))\n",
    "            ind_p = get_ind(Nx,(i,j+1))\n",
    "            fv = np.array([-1,1])/(2.0*dx[1])\n",
    "            Pv = fv*coef_v\n",
    "            tri_vv[ind,ind_m] += Pv[0]\n",
    "            tri_vv[ind,ind_p] += Pv[1]\n",
    "        if j==0:\n",
    "            ind_p = get_ind(Nx,(i,j+1))\n",
    "            fv = np.array([-1,1])/dx[1]\n",
    "            Pv = fv*coef_v\n",
    "            tri_vv[ind,ind] += Pv[0]\n",
    "            tri_vv[ind,ind_p] += Pv[1]\n",
    "        elif j==Nx[1]-1:\n",
    "            ind_m = get_ind(Nx,(i,j-1))\n",
    "            fv = np.array([-1,1])/dx[1]\n",
    "            Pv = fv*coef_v\n",
    "            tri_vv[ind,ind_m] += Pv[0]\n",
    "            tri_vv[ind,ind] += Pv[1]\n",
    "            \n",
    "# Finally, think about how to convert Pxx+Px in [v,x] to [x,v] to fully utilize the efficiency of tridiagonal matrix"
   ]
  },
  {
   "cell_type": "markdown",
   "metadata": {},
   "source": [
    "# Convert mat_xx to a tridiagonal matrix"
   ]
  },
  {
   "cell_type": "code",
   "execution_count": 5,
   "metadata": {},
   "outputs": [],
   "source": [
    "# conventional (0,0),(0,1),(0,2),...,(1,0), ... , (Nx[0]-1,Nx[1]-1)\n",
    "# I want column-major indexing (0,0),(1,0),(2,0),...,(0,1), ... , (Nx[0]-1,Nx[1]-1)\n",
    "# Construct fwd and bwd converters to reshape a matrix to be a diagonal\n",
    "fwd_convert = OrderedDict() # conventional -> new (column-major)\n",
    "for i in range(Nx[0]):\n",
    "    for j in range(Nx[1]):\n",
    "        pos = (i,j)\n",
    "        i_c = get_ind(Nx,pos) # conventional\n",
    "        i_n = i + Nx[0]*j # new\n",
    "        fwd_convert[i_c] = i_n\n",
    "bwd_convert = dict({y:x for x,y in fwd_convert.items()}) # switch key and item\n",
    "bwd_convert = OrderedDict(sorted(bwd_convert.items(), key=lambda t: t[0])) # sort keys"
   ]
  },
  {
   "cell_type": "markdown",
   "metadata": {},
   "source": [
    "# Solution Process Douglas Scheme"
   ]
  },
  {
   "cell_type": "code",
   "execution_count": 6,
   "metadata": {},
   "outputs": [],
   "source": [
    "# Initial value for the call option\n",
    "th_douglas = 1.0\n",
    "P0 = np.zeros(num_dof)\n",
    "S_vec = np.zeros(num_dof)\n",
    "for i in range(Nx[0]):\n",
    "    for j in range(Nx[1]):\n",
    "        pos = (i,j)\n",
    "        x,_ = get_x(dx,pos,x_min)\n",
    "        S = np.exp(x)\n",
    "        ind = get_ind(Nx,pos)\n",
    "        S_vec[ind] = S\n",
    "        P0[ind] = np.maximum(S-k,0.0) # initial value (payoff at maturity)\n",
    "\n",
    "Pn = copy.deepcopy(P0) # next\n",
    "Pc = copy.deepcopy(P0) # current\n",
    "Pc_new = np.zeros(num_dof) # current\n",
    "rhs_new = np.zeros(num_dof)\n",
    "Y0 = np.zeros(num_dof)\n",
    "Y0_new = np.zeros(num_dof)\n",
    "Y1 = np.zeros(num_dof)\n",
    "\n",
    "tri_1_new = - dt*th_douglas*tri_xx_new\n",
    "tri_1_new.diag_2 += 1.0 # add eye \n",
    "tri_2 = - dt*th_douglas*tri_vv\n",
    "tri_2.diag_2 += 1.0 # add eye \n",
    "tri_xx_Pc = np.zeros(num_dof) # tri_xx*Pc\n",
    "\n",
    "for i,t in enumerate(t_space):\n",
    "    if i==0: continue # skip the very first\n",
    "    Pc[:] = Pn[:]\n",
    "    # Explicit step\n",
    "    for ii in range(num_dof):\n",
    "        Pc_new[fwd_convert[ii]] = Pc[ii]\n",
    "#     Y0 = Pc + dt*(np.dot(mat_xv,Pc) + tri_vv*Pc)\n",
    "#     np.dot(mat_xv,Pc,out=Y0) # time-consuming part\n",
    "    Y0[:] = mat_xv_csr.dot(Pc)\n",
    "    Y0[:] += tri_vv*Pc\n",
    "    Y0[:] *= dt\n",
    "    Y0[:] += Pc\n",
    "    tmp_new = tri_xx_new*Pc_new # np.dot(mat_xx,Pc) in new\n",
    "    for ii in range(num_dof):\n",
    "        Y0[bwd_convert[ii]] += dt*tmp_new[ii] # convert to the conventional space\n",
    "    for ii in range(num_dof):\n",
    "        Y0_new[fwd_convert[ii]] = Y0[ii]\n",
    "#     for ii in range(num_dof): # Convert the vector into a new space\n",
    "#         rhs_new[ii] = Y0_new[ii]-dt*th_douglas*tmp_new[ii]\n",
    "    rhs_new[:] = Y0_new\n",
    "    rhs_new[:] -= dt*th_douglas*tmp_new\n",
    "    Y1_tmp = tri_1_new.solve(rhs_new) # solution in a new space\n",
    "    # Transform the solution back to the convention\n",
    "    for ii in range(num_dof):\n",
    "        Y1[bwd_convert[ii]] = Y1_tmp[ii] # convert to the conventional space\n",
    "#     print(Y1)\n",
    "    Y2 = tri_2.solve(Y1 - dt*th_douglas*(tri_vv*Pc))\n",
    "#     print(Y2)\n",
    "    Pn[:] = Y2[:]\n",
    "Pc[:] = Pn[:]"
   ]
  },
  {
   "cell_type": "markdown",
   "metadata": {},
   "source": [
    "# Check the price of ATM call option"
   ]
  },
  {
   "cell_type": "code",
   "execution_count": 7,
   "metadata": {},
   "outputs": [
    {
     "name": "stdout",
     "output_type": "stream",
     "text": [
      "Interpolated  0.0012599238300048065\n"
     ]
    }
   ],
   "source": [
    "x_ind = get_x_ind(x0,dx[0],x_min[0])\n",
    "v_ind = get_x_ind(v0,dx[1],x_min[1])\n",
    "ind = get_ind(Nx,(x_ind,v_ind))\n",
    "ind_p = get_ind(Nx,(x_ind+1,v_ind+1))\n",
    "x = get_x(dx,(x_ind,v_ind),x_min)\n",
    "x_p = get_x(dx,(x_ind+1,v_ind),x_min)\n",
    "u = (x0-x_p[0])/(x[0]-x_p[0])\n",
    "P_interpolated = u*Pc[ind]+(1-u)*Pc[ind_p]\n",
    "sol3 = P_interpolated\n",
    "print('Interpolated ',P_interpolated) # reference 0.0011416130376434386"
   ]
  },
  {
   "cell_type": "markdown",
   "metadata": {},
   "source": [
    "# Solving the PDE with cross-terms using the Douglas scheme"
   ]
  },
  {
   "cell_type": "code",
   "execution_count": 14,
   "metadata": {},
   "outputs": [
    {
     "data": {
      "text/plain": [
       "Text(0.5, 1.0, 'Call Option')"
      ]
     },
     "execution_count": 14,
     "metadata": {},
     "output_type": "execute_result"
    },
    {
     "data": {
      "image/png": "[encoded data removed]",
      "text/plain": [
       "<Figure size 432x288 with 1 Axes>"
      ]
     },
     "metadata": {
      "needs_background": "light"
     },
     "output_type": "display_data"
    }
   ],
   "source": [
    "k_vec = np.linspace(0.7,1.3,10)\n",
    "C_vec = np.zeros(len(k_vec))\n",
    "for i_k,k_elem in enumerate(k_vec):\n",
    "    for i in range(Nx[0]):\n",
    "        for j in range(Nx[1]):\n",
    "            pos = (i,j)\n",
    "            x,_ = get_x(dx,pos,x_min)\n",
    "            S = np.exp(x)\n",
    "            ind = get_ind(Nx,pos)\n",
    "            S_vec[ind] = S\n",
    "            P0[ind] = np.maximum(S-k_elem,0.0) # initial value (payoff at maturity)\n",
    "\n",
    "    Pn[:] = P0 # next\n",
    "    Pc[:] = P0 # current\n",
    "    # Pc_new = np.zeros(num_dof) # current\n",
    "    # rhs_new = np.zeros(num_dof)\n",
    "    # Y0 = np.zeros(num_dof)\n",
    "    # Y0_new = np.zeros(num_dof)\n",
    "    # Y1 = np.zeros(num_dof)\n",
    "\n",
    "    tri_1_new = - dt*th_douglas*tri_xx_new\n",
    "    tri_1_new.diag_2 += 1.0 # add eye \n",
    "    tri_2 = - dt*th_douglas*tri_vv\n",
    "    tri_2.diag_2 += 1.0 # add eye \n",
    "    tri_xx_Pc = np.zeros(num_dof) # tri_xx*Pc\n",
    "\n",
    "    for i,t in enumerate(t_space):\n",
    "        if i==0: continue # skip the very first\n",
    "        Pc[:] = Pn[:]\n",
    "        # Explicit step\n",
    "        for ii in range(num_dof):\n",
    "            Pc_new[fwd_convert[ii]] = Pc[ii]\n",
    "    #     Y0 = Pc + dt*(np.dot(mat_xv,Pc) + tri_vv*Pc)\n",
    "    #     np.dot(mat_xv,Pc,out=Y0) # time-consuming part\n",
    "        Y0[:] = mat_xv_csr.dot(Pc)\n",
    "        Y0[:] += tri_vv*Pc\n",
    "        Y0[:] *= dt\n",
    "        Y0[:] += Pc\n",
    "        tmp_new = tri_xx_new*Pc_new # np.dot(mat_xx,Pc) in new\n",
    "        for ii in range(num_dof):\n",
    "            Y0[bwd_convert[ii]] += dt*tmp_new[ii] # convert to the conventional space\n",
    "        for ii in range(num_dof):\n",
    "            Y0_new[fwd_convert[ii]] = Y0[ii]\n",
    "    #     for ii in range(num_dof): # Convert the vector into a new space\n",
    "    #         rhs_new[ii] = Y0_new[ii]-dt*th_douglas*tmp_new[ii]\n",
    "        rhs_new[:] = Y0_new\n",
    "        rhs_new[:] -= dt*th_douglas*tmp_new\n",
    "        Y1_tmp = tri_1_new.solve(rhs_new) # solution in a new space\n",
    "        # Transform the solution back to the convention\n",
    "        for ii in range(num_dof):\n",
    "            Y1[bwd_convert[ii]] = Y1_tmp[ii] # convert to the conventional space\n",
    "    #     print(Y1)\n",
    "        Y2 = tri_2.solve(Y1 - dt*th_douglas*(tri_vv*Pc))\n",
    "    #     print(Y2)\n",
    "        Pn[:] = Y2[:]\n",
    "    Pc[:] = Pn[:]\n",
    "\n",
    "    x_ind = get_x_ind(x0,dx[0],x_min[0])\n",
    "    v_ind = get_x_ind(v0,dx[1],x_min[1])\n",
    "    ind = get_ind(Nx,(x_ind,v_ind))\n",
    "    ind_p = get_ind(Nx,(x_ind+1,v_ind+1))\n",
    "    x = get_x(dx,(x_ind,v_ind),x_min)\n",
    "    x_p = get_x(dx,(x_ind+1,v_ind),x_min)\n",
    "    u = (x0-x_p[0])/(x[0]-x_p[0])\n",
    "    P_interpolated = u*Pc[ind]+(1-u)*Pc[ind_p]\n",
    "    sol3 = P_interpolated\n",
    "#     print('Interpolated ',P_interpolated) # reference 0.06542118636775274\n",
    "    C_vec[i_k] = P_interpolated\n",
    "    \n",
    "plt.plot(k_vec,C_vec)\n",
    "plt.xlabel('Strike')\n",
    "plt.ylabel('Price')\n",
    "plt.title('Call Option')"
   ]
  },
  {
   "cell_type": "code",
   "execution_count": 9,
   "metadata": {},
   "outputs": [
    {
     "data": {
      "text/plain": [
       "array([0.25329763, 0.23432865, 0.21420963, 0.19276723, 0.17104174,\n",
       "       0.15267192, 0.1461841 , 0.14870526, 0.15541602, 0.16356043])"
      ]
     },
     "execution_count": 9,
     "metadata": {},
     "output_type": "execute_result"
    },
    {
     "data": {
      "image/png": "[encoded data removed]",
      "text/plain": [
       "<Figure size 432x288 with 1 Axes>"
      ]
     },
     "metadata": {
      "needs_background": "light"
     },
     "output_type": "display_data"
    }
   ],
   "source": [
    "ivol_vec_c = np.zeros(len(k_vec))\n",
    "for i,c in enumerate(C_vec):\n",
    "    k = k_vec[i]\n",
    "    res = calc_impl_vol(price = c, right = 'c', underlying = S0, strike = k, time = T, rf = r)\n",
    "    ivol_vec_c[i] = res.x[0]\n",
    "    \n",
    "plt.plot(k_vec,ivol_vec_c)\n",
    "plt.xlabel('Strike')\n",
    "plt.ylabel('I Vol')\n",
    "ivol_vec_c"
   ]
  },
  {
   "cell_type": "markdown",
   "metadata": {},
   "source": [
    "# The same solution process for a vanilla put option"
   ]
  },
  {
   "cell_type": "code",
   "execution_count": 15,
   "metadata": {},
   "outputs": [
    {
     "name": "stdout",
     "output_type": "stream",
     "text": [
      "Interpolated  0.007590710517254645\n",
      "Interpolated  0.013102581250786699\n",
      "Interpolated  0.021387737369648878\n",
      "Interpolated  0.03353332898520258\n",
      "Interpolated  0.05165991963229672\n",
      "Interpolated  0.07994840999532983\n",
      "Interpolated  0.12370924107781686\n",
      "Interpolated  0.17912030761760497\n",
      "Interpolated  0.24038734665188316\n",
      "Interpolated  0.3042833945322185\n"
     ]
    },
    {
     "data": {
      "image/png": "[encoded data removed]",
      "text/plain": [
       "<Figure size 432x288 with 1 Axes>"
      ]
     },
     "metadata": {
      "needs_background": "light"
     },
     "output_type": "display_data"
    }
   ],
   "source": [
    "k_vec = np.linspace(0.7,1.3,10)\n",
    "P_vec = np.zeros(len(k_vec))\n",
    "for i_k,k_elem in enumerate(k_vec):\n",
    "    for i in range(Nx[0]):\n",
    "        for j in range(Nx[1]):\n",
    "            pos = (i,j)\n",
    "            x,_ = get_x(dx,pos,x_min)\n",
    "            S = np.exp(x)\n",
    "            ind = get_ind(Nx,pos)\n",
    "            S_vec[ind] = S\n",
    "            P0[ind] = np.maximum(k_elem-S,0.0) # initial value (payoff at maturity)\n",
    "\n",
    "    Pn[:] = P0 # next\n",
    "    Pc[:] = P0 # current\n",
    "    # Pc_new = np.zeros(num_dof) # current\n",
    "    # rhs_new = np.zeros(num_dof)\n",
    "    # Y0 = np.zeros(num_dof)\n",
    "    # Y0_new = np.zeros(num_dof)\n",
    "    # Y1 = np.zeros(num_dof)\n",
    "\n",
    "    tri_1_new = - dt*th_douglas*tri_xx_new\n",
    "    tri_1_new.diag_2 += 1.0 # add eye \n",
    "    tri_2 = - dt*th_douglas*tri_vv\n",
    "    tri_2.diag_2 += 1.0 # add eye \n",
    "    tri_xx_Pc = np.zeros(num_dof) # tri_xx*Pc\n",
    "\n",
    "    for i,t in enumerate(t_space):\n",
    "        if i==0: continue # skip the very first\n",
    "        Pc[:] = Pn[:]\n",
    "        # Explicit step\n",
    "        for ii in range(num_dof):\n",
    "            Pc_new[fwd_convert[ii]] = Pc[ii]\n",
    "    #     Y0 = Pc + dt*(np.dot(mat_xv,Pc) + tri_vv*Pc)\n",
    "    #     np.dot(mat_xv,Pc,out=Y0) # time-consuming part\n",
    "        Y0[:] = mat_xv_csr.dot(Pc)\n",
    "        Y0[:] += tri_vv*Pc\n",
    "        Y0[:] *= dt\n",
    "        Y0[:] += Pc\n",
    "        tmp_new = tri_xx_new*Pc_new # np.dot(mat_xx,Pc) in new\n",
    "        for ii in range(num_dof):\n",
    "            Y0[bwd_convert[ii]] += dt*tmp_new[ii] # convert to the conventional space\n",
    "        for ii in range(num_dof):\n",
    "            Y0_new[fwd_convert[ii]] = Y0[ii]\n",
    "    #     for ii in range(num_dof): # Convert the vector into a new space\n",
    "    #         rhs_new[ii] = Y0_new[ii]-dt*th_douglas*tmp_new[ii]\n",
    "        rhs_new[:] = Y0_new\n",
    "        rhs_new[:] -= dt*th_douglas*tmp_new\n",
    "        Y1_tmp = tri_1_new.solve(rhs_new) # solution in a new space\n",
    "        # Transform the solution back to the convention\n",
    "        for ii in range(num_dof):\n",
    "            Y1[bwd_convert[ii]] = Y1_tmp[ii] # convert to the conventional space\n",
    "    #     print(Y1)\n",
    "        Y2 = tri_2.solve(Y1 - dt*th_douglas*(tri_vv*Pc))\n",
    "    #     print(Y2)\n",
    "        Pn[:] = Y2[:]\n",
    "    Pc[:] = Pn[:]\n",
    "\n",
    "    x_ind = get_x_ind(x0,dx[0],x_min[0])\n",
    "    v_ind = get_x_ind(v0,dx[1],x_min[1])\n",
    "    ind = get_ind(Nx,(x_ind,v_ind))\n",
    "    ind_p = get_ind(Nx,(x_ind+1,v_ind+1))\n",
    "    x = get_x(dx,(x_ind,v_ind),x_min)\n",
    "    x_p = get_x(dx,(x_ind+1,v_ind),x_min)\n",
    "    u = (x0-x_p[0])/(x[0]-x_p[0])\n",
    "    P_interpolated = u*Pc[ind]+(1-u)*Pc[ind_p]\n",
    "    sol3 = P_interpolated\n",
    "    print('Interpolated ',P_interpolated) # reference 0.06542118636775274\n",
    "    P_vec[i_k] = P_interpolated\n",
    "    \n",
    "plt.plot(k_vec,P_vec)\n",
    "plt.xlabel('Strike')\n",
    "plt.ylabel('Price')\n",
    "plt.title('Put Option')\n",
    "\n",
    "ivol_vec_p = np.zeros(len(k_vec))\n",
    "for i,p in enumerate(P_vec):\n",
    "    k = k_vec[i]\n",
    "    res = calc_impl_vol(price = p, right = 'p', underlying = S0, strike = k, time = T, rf = r)\n",
    "    ivol_vec_p[i] = res.x[0]"
   ]
  },
  {
   "cell_type": "code",
   "execution_count": 16,
   "metadata": {},
   "outputs": [
    {
     "data": {
      "text/plain": [
       "array([0.25330674, 0.23433478, 0.21421407, 0.19277068, 0.17104467,\n",
       "       0.15267475, 0.14618742, 0.14870972, 0.15542232, 0.16356937])"
      ]
     },
     "execution_count": 16,
     "metadata": {},
     "output_type": "execute_result"
    },
    {
     "data": {
      "image/png": "[encoded data removed]",
      "text/plain": [
       "<Figure size 432x288 with 1 Axes>"
      ]
     },
     "metadata": {
      "needs_background": "light"
     },
     "output_type": "display_data"
    }
   ],
   "source": [
    "plt.plot(k_vec,ivol_vec_p)\n",
    "plt.xlabel('Strike')\n",
    "plt.ylabel('I Vol')\n",
    "plt.title('Put Option')\n",
    "\n",
    "ivol_vec_p"
   ]
  },
  {
   "cell_type": "code",
   "execution_count": 17,
   "metadata": {},
   "outputs": [
    {
     "name": "stdout",
     "output_type": "stream",
     "text": [
      "Put-Call Parity Check.\n",
      " The following value should be a small value\n"
     ]
    },
    {
     "data": {
      "text/plain": [
       "-1.1197736698824456e-06"
      ]
     },
     "execution_count": 17,
     "metadata": {},
     "output_type": "execute_result"
    }
   ],
   "source": [
    "print(\"Put-Call Parity Check.\\n The following value should be a small value\")\n",
    "(C_vec - P_vec - (S0 - k_vec)).mean()"
   ]
  },
  {
   "cell_type": "markdown",
   "metadata": {},
   "source": [
    "# Check whether the implied volatilities for the call and put are the same"
   ]
  },
  {
   "cell_type": "code",
   "execution_count": 18,
   "metadata": {},
   "outputs": [
    {
     "data": {
      "text/plain": [
       "array([0.25329763, 0.23432865, 0.21420963, 0.19276723, 0.17104174,\n",
       "       0.15267192, 0.1461841 , 0.14870526, 0.15541602, 0.16356043])"
      ]
     },
     "execution_count": 18,
     "metadata": {},
     "output_type": "execute_result"
    },
    {
     "data": {
      "image/png": "[encoded data removed]",
      "text/plain": [
       "<Figure size 432x288 with 1 Axes>"
      ]
     },
     "metadata": {
      "needs_background": "light"
     },
     "output_type": "display_data"
    }
   ],
   "source": [
    "plt.plot(k_vec,ivol_vec_c,label='C')\n",
    "plt.plot(k_vec,ivol_vec_p,label='P',ls='--')\n",
    "plt.xlabel('Strike K')\n",
    "plt.ylabel('Implied Vol')\n",
    "plt.legend()\n",
    "ivol_vec_c"
   ]
  },
  {
   "cell_type": "code",
   "execution_count": null,
   "metadata": {},
   "outputs": [],
   "source": []
  },
  {
   "cell_type": "code",
   "execution_count": null,
   "metadata": {},
   "outputs": [],
   "source": []
  }
 ],
 "metadata": {
  "@webio": {
   "lastCommId": null,
   "lastKernelId": null
  },
  "kernelspec": {
   "display_name": "Python 3",
   "language": "python",
   "name": "python3"
  },
  "language_info": {
   "codemirror_mode": {
    "name": "ipython",
    "version": 3
   },
   "file_extension": ".py",
   "mimetype": "text/x-python",
   "name": "python",
   "nbconvert_exporter": "python",
   "pygments_lexer": "ipython3",
   "version": "3.7.4"
  }
 },
 "nbformat": 4,
 "nbformat_minor": 2
}
