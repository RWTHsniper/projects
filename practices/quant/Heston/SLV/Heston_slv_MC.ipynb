{
 "cells": [
  {
   "cell_type": "markdown",
   "metadata": {},
   "source": [
    "# Stochastic-Local Volatility of Heston Type"
   ]
  },
  {
   "cell_type": "code",
   "execution_count": 1,
   "metadata": {},
   "outputs": [],
   "source": [
    "import numpy as np\n",
    "from scipy import integrate\n",
    "import matplotlib.pyplot as plt\n",
    "import QuantLib as ql\n",
    "\n",
    "from BS import *\n",
    "\n",
    "# https://quant.stackexchange.com/questions/44957/numerical-simulation-of-heston-model"
   ]
  },
  {
   "cell_type": "code",
   "execution_count": 2,
   "metadata": {},
   "outputs": [
    {
     "name": "stdout",
     "output_type": "stream",
     "text": [
      "Feller condition is  False\n"
     ]
    }
   ],
   "source": [
    "# theta = 0.132328; kappa = 10.980797; sigma = 1.7; rho = -0.351560; v0 = 0.065690\n",
    "#spot, K = 659.37, 758.28\n",
    "# spot, K = 659.37, 600.0\n",
    "\n",
    "theta = 0.05; kappa = 0.3; sigma = 0.5; rho = -0.6; v0 = 0.04\n",
    "# theta = 0.05; kappa = 0.3; sigma = 0.1; rho = -0.6; v0 = 0.04\n",
    "sigma_lv = 1.0; beta_lv = 1.5; # slv params\n",
    "r = 0.0 # always presume zero risk-free interest\n",
    "# spot price is set to 1.0 for the sake of simplicity\n",
    "# spot, K = 1.0, 1.0\n",
    "spot, K = 1.0, 1.5 \n",
    "\n",
    "feller_cond = 2*kappa*theta > sigma**2\n",
    "print(\"Feller condition is \", feller_cond)"
   ]
  },
  {
   "cell_type": "markdown",
   "metadata": {},
   "source": [
    "# Validation using Monte-Carlo simulation"
   ]
  },
  {
   "cell_type": "code",
   "execution_count": 11,
   "metadata": {},
   "outputs": [
    {
     "name": "stdout",
     "output_type": "stream",
     "text": [
      "0.0010874013555683742\n",
      "1.0 1.5 0.04 -0.6\n"
     ]
    }
   ],
   "source": [
    "def get_leverage(t,S,sigma_lv,beta_lv):\n",
    "    return sigma_lv*np.power(S,beta_lv-1)\n",
    "\n",
    "lev_func = lambda t,S: get_leverage(t,S,sigma_lv,beta_lv) # deterministic part in SLV\n",
    "\n",
    "def HeMC (S0, mu, v0, rho, kappa, theta, sigma, T, dt):\n",
    "    xi = sigma\n",
    "\n",
    "    # Generate a Monte Carlo simulation for the Heston model\n",
    "\n",
    "    # Generate random Brownian Motion\n",
    "    MU  = np.array([0, 0])\n",
    "    COV = np.matrix([[1, rho], [rho, 1]])\n",
    "    W   = np.random.multivariate_normal(MU, COV, T)\n",
    "    W_S = W[:,0]\n",
    "    W_v = W[:,1]\n",
    "\n",
    "    # Generate paths\n",
    "    vt    = np.zeros(T)\n",
    "    vt[0] = v0\n",
    "    St    = np.zeros(T)\n",
    "    St[0] = S0\n",
    "    for t in range(1,T):\n",
    "        lev = lev_func(t,St[t-1])\n",
    "        vt[t] = max(0.0,vt[t-1] + kappa*(theta-(vt[t-1]))*dt + xi*np.sqrt(dt*vt[t-1])*W_v[t])\n",
    "        St[t] = St[t-1]*np.exp((mu - 0.5*(lev**2)*vt[t-1])*dt + lev*np.sqrt(vt[t-1]*dt)*W_S[t])\n",
    "\n",
    "    return St, vt\n",
    "\n",
    "# Run Monte-Carlo simulations to compute the payoff\n",
    "num_paths = 100000\n",
    "S_last_vec = np.zeros(num_paths)\n",
    "payoff_sum = 0.0\n",
    "T = 252\n",
    "dt = 1./T\n",
    "for i in range(num_paths):\n",
    "    S_last = HeMC (spot, 0.0, v0, rho, kappa, theta, sigma, T, dt)[0][-1]\n",
    "    S_last_vec[i] = S_last\n",
    "    payoff = max(0., S_last-K)\n",
    "    payoff_sum += payoff\n",
    "payoff_sum /= num_paths\n",
    "print(payoff_sum) # 0.0781795832193155\n",
    "print(spot, K, v0, rho)"
   ]
  },
  {
   "cell_type": "markdown",
   "metadata": {},
   "source": [
    "# Option price for every strike at the maturity"
   ]
  },
  {
   "cell_type": "code",
   "execution_count": 12,
   "metadata": {},
   "outputs": [
    {
     "data": {
      "text/plain": [
       "array([0.00786521, 0.01356297, 0.02219268, 0.03500791, 0.05425598,\n",
       "       0.08336163, 0.12581499, 0.18006211, 0.24077873, 0.30448489])"
      ]
     },
     "execution_count": 12,
     "metadata": {},
     "output_type": "execute_result"
    },
    {
     "data": {
      "image/png": "[encoded data removed]",
      "text/plain": [
       "<Figure size 432x288 with 1 Axes>"
      ]
     },
     "metadata": {
      "needs_background": "light"
     },
     "output_type": "display_data"
    }
   ],
   "source": [
    "k_vec = np.linspace(0.7,1.3,10) # strike price around the spot price 1.0\n",
    "C_vec = np.zeros(len(k_vec)) # call price\n",
    "P_vec = np.zeros(len(k_vec)) # put price\n",
    "for i,k_elem in enumerate(k_vec):\n",
    "    for S_last in S_last_vec:\n",
    "        C_vec[i] += max(0.0, S_last-k_elem)\n",
    "        P_vec[i] += max(0.0, k_elem-S_last)\n",
    "    C_vec[i] /= len(S_last_vec)\n",
    "    P_vec[i] /= len(S_last_vec)\n",
    "\n",
    "plt.plot(k_vec,C_vec)\n",
    "plt.xlabel('Strike')\n",
    "plt.ylabel('Price')\n",
    "plt.title('Call Option')\n",
    "P_vec"
   ]
  },
  {
   "cell_type": "markdown",
   "metadata": {},
   "source": [
    "# Implied volatility at the maturity"
   ]
  },
  {
   "cell_type": "code",
   "execution_count": 13,
   "metadata": {},
   "outputs": [
    {
     "data": {
      "text/plain": [
       "array([0.25286763, 0.23505717, 0.21609884, 0.19629436, 0.17695931,\n",
       "       0.16047428, 0.15141723, 0.15113185, 0.15577623, 0.16254826])"
      ]
     },
     "execution_count": 13,
     "metadata": {},
     "output_type": "execute_result"
    },
    {
     "data": {
      "image/png": "[encoded data removed]",
      "text/plain": [
       "<Figure size 432x288 with 1 Axes>"
      ]
     },
     "metadata": {
      "needs_background": "light"
     },
     "output_type": "display_data"
    }
   ],
   "source": [
    "ivol_vec_c = np.zeros(len(k_vec))\n",
    "ivol_vec_p = np.zeros(len(k_vec))\n",
    "for i,p in enumerate(P_vec):\n",
    "    k = k_vec[i]\n",
    "    c = C_vec[i]\n",
    "    res = calc_impl_vol(price = c, right = 'c', underlying = spot, strike = k, time = 1.0, rf = r)\n",
    "    ivol_vec_c[i] = res.x[0]\n",
    "    res = calc_impl_vol(price = p, right = 'p', underlying = spot, strike = k, time = 1.0, rf = r)\n",
    "    ivol_vec_p[i] = res.x[0]\n",
    "    \n",
    "plt.plot(k_vec,ivol_vec_c,label='C')\n",
    "plt.plot(k_vec,ivol_vec_p,label='P',ls='--')\n",
    "plt.xlabel('Strike K')\n",
    "plt.ylabel('Implied Vol')\n",
    "plt.legend()\n",
    "ivol_vec_c"
   ]
  },
  {
   "cell_type": "code",
   "execution_count": 14,
   "metadata": {},
   "outputs": [
    {
     "name": "stdout",
     "output_type": "stream",
     "text": [
      "Put-Call Parity Check.\n",
      " The following value should be a small value\n"
     ]
    },
    {
     "data": {
      "text/plain": [
       "-0.0003283575779566811"
      ]
     },
     "execution_count": 14,
     "metadata": {},
     "output_type": "execute_result"
    }
   ],
   "source": [
    "print(\"Put-Call Parity Check.\\n The following value should be a small value\")\n",
    "(C_vec - P_vec - (spot - k_vec)).mean() # r=0.0"
   ]
  },
  {
   "cell_type": "code",
   "execution_count": null,
   "metadata": {},
   "outputs": [],
   "source": []
  }
 ],
 "metadata": {
  "@webio": {
   "lastCommId": null,
   "lastKernelId": null
  },
  "kernelspec": {
   "display_name": "Python 3",
   "language": "python",
   "name": "python3"
  },
  "language_info": {
   "codemirror_mode": {
    "name": "ipython",
    "version": 3
   },
   "file_extension": ".py",
   "mimetype": "text/x-python",
   "name": "python",
   "nbconvert_exporter": "python",
   "pygments_lexer": "ipython3",
   "version": "3.7.4"
  }
 },
 "nbformat": 4,
 "nbformat_minor": 4
}
