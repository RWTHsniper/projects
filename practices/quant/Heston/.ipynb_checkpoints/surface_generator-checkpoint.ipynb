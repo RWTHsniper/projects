{
 "cells": [
  {
   "cell_type": "code",
   "execution_count": 1,
   "metadata": {},
   "outputs": [],
   "source": [
    "# For a given set of parameters, generate a surface"
   ]
  },
  {
   "cell_type": "code",
   "execution_count": 10,
   "metadata": {},
   "outputs": [],
   "source": [
    "import numpy as np\n",
    "from scipy import integrate\n",
    "import matplotlib.pyplot as plt\n",
    "from scipy.fft import fft, ifft\n",
    "import pandas as pd\n",
    "\n",
    "from Heston_process import *"
   ]
  },
  {
   "cell_type": "code",
   "execution_count": 18,
   "metadata": {},
   "outputs": [
    {
     "name": "stdout",
     "output_type": "stream",
     "text": [
      "Feller condition is  True\n"
     ]
    }
   ],
   "source": [
    "#-0.02857142857142858,1.0,0.5477225575051661,1.0,2.8579999999999997,8.57157142857143,2.8579999999999997,0.010001158480588888,0.01747353534752533\n",
    "#theta = 0.132328; kappa = 10.980797; sigma = 1.7; rho = -0.351560; v0 = 0.065690\n",
    "theta = 0.132328; kappa = 10.980797; sigma = 1.7; rho = -0.351560; v0 = 0.4\n",
    "#spot, K = 659.37, 600.0\n",
    "spot, K = 1.0, 600.0/659.37\n",
    "#spot, K = 659.37, 758.28\n",
    "#spot, K = 659.37, 800.0\n",
    "alp = 0.75\n",
    "s = np.log(spot)\n",
    "k = np.log(K)\n",
    "x = np.log(spot)\n",
    "\n",
    "v0,rho,kappa,theta,sigma=0.5477225575051661,-0.35156,2.8579999999999997,8.57157142857143,2.8579999999999997\n",
    "\n",
    "feller_cond = Heston_feller_cond(kappa, theta, sigma)\n",
    "print(\"Feller condition is \", feller_cond)"
   ]
  },
  {
   "cell_type": "code",
   "execution_count": 22,
   "metadata": {},
   "outputs": [
    {
     "name": "stderr",
     "output_type": "stream",
     "text": [
      "C:\\Users\\golde\\Documents\\GitHub\\projects\\practices\\quant\\Heston\\Heston_process.py:28: RuntimeWarning: overflow encountered in cdouble_scalars\n",
      "  denominator = (np.cosh(half_gam_T) + (ka-1j*rho*sig*u)/gam*np.sinh(half_gam_T))**(2.0*ka*th/sig**2)\n",
      "C:\\Users\\golde\\Documents\\GitHub\\projects\\practices\\quant\\Heston\\Heston_process.py:29: RuntimeWarning: invalid value encountered in cdouble_scalars\n",
      "  return numerator/denominator\n",
      "C:\\Users\\golde\\Documents\\GitHub\\projects\\practices\\quant\\Heston\\Heston_process.py:25: RuntimeWarning: overflow encountered in tanh\n",
      "  coth = 1.0/np.tanh(half_gam_T)\n",
      "C:\\Users\\golde\\Documents\\GitHub\\projects\\practices\\quant\\Heston\\Heston_process.py:28: RuntimeWarning: overflow encountered in cosh\n",
      "  denominator = (np.cosh(half_gam_T) + (ka-1j*rho*sig*u)/gam*np.sinh(half_gam_T))**(2.0*ka*th/sig**2)\n",
      "C:\\Users\\golde\\Documents\\GitHub\\projects\\practices\\quant\\Heston\\Heston_process.py:28: RuntimeWarning: overflow encountered in sinh\n",
      "  denominator = (np.cosh(half_gam_T) + (ka-1j*rho*sig*u)/gam*np.sinh(half_gam_T))**(2.0*ka*th/sig**2)\n",
      "C:\\Users\\golde\\Documents\\GitHub\\projects\\practices\\quant\\Heston\\Heston_process.py:28: RuntimeWarning: invalid value encountered in cdouble_scalars\n",
      "  denominator = (np.cosh(half_gam_T) + (ka-1j*rho*sig*u)/gam*np.sinh(half_gam_T))**(2.0*ka*th/sig**2)\n"
     ]
    }
   ],
   "source": [
    "num_grid_1d = 8\n",
    "num_grid_1d = 100\n",
    "\n",
    "alp = 0.75\n",
    "C_price_bounds = [1e-3, 0.5]\n",
    "\n",
    "K_min = np.exp(-0.2)\n",
    "K_max = np.exp(0.2)\n",
    "dk = (K_max - K_min)/num_grid_1d # gap between price in real world\n",
    "k_list = np.log(np.linspace(K_min,K_max,num=num_grid_1d))# logstrike\n",
    "logS0 = 0.0 # log-spot. Assume S0: 1\n",
    "dlogS0 = np.log(1.00001)\n",
    "dS0 = np.exp(dlogS0) - np.exp(logS0)\n",
    "\n",
    "#dlogS0 = np.log(1.00001)\n",
    "dt = 1/12 # monthly \n",
    "#T_list = np.append(np.linspace(2.*dt,1.0,num=11), np.linspace(1.0+dt,2.0,num=12))  #\n",
    "T_list = np.array([1.0])  #\n",
    "#v0_list = np.linspace(np.sqrt(1e-1),np.sqrt(0.3),num=num_grid_1d) \n",
    "r = 0.0\n",
    "#rho_list = np.linspace(-1.0, 1.0,num=num_grid_1d) \n",
    "#kappa_list = np.linspace(1e-3, 20.0,num=num_grid_1d) \n",
    "#theta_list = np.linspace(1e-3, 10.0,num=num_grid_1d) \n",
    "#sigma_list = np.linspace(1e-3, 20.0,num=num_grid_1d) \n",
    "\n",
    "pd_dict = {}\n",
    "pd_dict['k'] = []; pd_dict['T'] = []; pd_dict['v0'] = []; pd_dict['rho'] = []\n",
    "pd_dict['kappa'] = []; pd_dict['theta'] = []; pd_dict['sigma'] = []; pd_dict['C_price'] = []\n",
    "pd_dict['delta'] = []\n",
    "\n",
    "for k in k_list:\n",
    "    for T in T_list:\n",
    "        C_price = get_Heston_fft_call(k, logS0, v0, r, rho, kappa, theta, sigma, T, alp, N=2**10, dk=1e-2)\n",
    "        if (C_price <= C_price_bounds[0]) | (C_price >= C_price_bounds[1]) | np.isnan(C_price):\n",
    "            continue\n",
    "        C_price_p = get_Heston_fft_call(k, logS0+dlogS0, v0, r, rho, kappa, theta, sigma, T, alp, N=2**10, dk=1e-2)\n",
    "        pd_dict['delta'].append((C_price_p-C_price)/dS0) # delta of call \n",
    "        pd_dict['k'].append(k)\n",
    "        pd_dict['T'].append(T)\n",
    "        pd_dict['v0'].append(v0)\n",
    "        pd_dict['rho'].append(rho)\n",
    "        pd_dict['kappa'].append(kappa)\n",
    "        pd_dict['theta'].append(theta)\n",
    "        pd_dict['sigma'].append(sigma)\n",
    "        pd_dict['C_price'].append(C_price)\n",
    "\n",
    "df = pd.DataFrame(pd_dict)\n"
   ]
  },
  {
   "cell_type": "code",
   "execution_count": 23,
   "metadata": {},
   "outputs": [
    {
     "data": {
      "text/html": [
       "<div>\n",
       "<style scoped>\n",
       "    .dataframe tbody tr th:only-of-type {\n",
       "        vertical-align: middle;\n",
       "    }\n",
       "\n",
       "    .dataframe tbody tr th {\n",
       "        vertical-align: top;\n",
       "    }\n",
       "\n",
       "    .dataframe thead th {\n",
       "        text-align: right;\n",
       "    }\n",
       "</style>\n",
       "<table border=\"1\" class=\"dataframe\">\n",
       "  <thead>\n",
       "    <tr style=\"text-align: right;\">\n",
       "      <th></th>\n",
       "      <th>k</th>\n",
       "      <th>T</th>\n",
       "      <th>v0</th>\n",
       "      <th>rho</th>\n",
       "      <th>kappa</th>\n",
       "      <th>theta</th>\n",
       "      <th>sigma</th>\n",
       "      <th>C_price</th>\n",
       "      <th>delta</th>\n",
       "    </tr>\n",
       "  </thead>\n",
       "  <tbody>\n",
       "  </tbody>\n",
       "</table>\n",
       "</div>"
      ],
      "text/plain": [
       "Empty DataFrame\n",
       "Columns: [k, T, v0, rho, kappa, theta, sigma, C_price, delta]\n",
       "Index: []"
      ]
     },
     "execution_count": 23,
     "metadata": {},
     "output_type": "execute_result"
    }
   ],
   "source": [
    "df.dropna(inplace=True)\n",
    "df.reset_index()\n",
    "df"
   ]
  },
  {
   "cell_type": "code",
   "execution_count": 14,
   "metadata": {},
   "outputs": [],
   "source": [
    "df.to_csv('Heston_surface', index=False)"
   ]
  },
  {
   "cell_type": "code",
   "execution_count": 15,
   "metadata": {},
   "outputs": [
    {
     "data": {
      "text/plain": [
       "0.004026720050821881"
      ]
     },
     "execution_count": 15,
     "metadata": {},
     "output_type": "execute_result"
    }
   ],
   "source": [
    "k_min = np.exp(-0.2)\n",
    "k_max = np.exp(0.2)\n",
    "dk = (k_max - k_min)/num_grid_1d\n",
    "dk"
   ]
  },
  {
   "cell_type": "code",
   "execution_count": 21,
   "metadata": {},
   "outputs": [
    {
     "data": {
      "text/plain": [
       "array([-0.2       , -0.19504437, -0.19011318, -0.18520619, -0.18032316,\n",
       "       -0.17546386, -0.17062805, -0.16581552, -0.16102604, -0.15625939,\n",
       "       -0.15151535, -0.14679371, -0.14209426, -0.13741679, -0.1327611 ,\n",
       "       -0.12812698, -0.12351424, -0.11892268, -0.1143521 , -0.10980232,\n",
       "       -0.10527315, -0.1007644 , -0.09627588, -0.09180743, -0.08735885,\n",
       "       -0.08292997, -0.07852062, -0.07413063, -0.06975982, -0.06540804,\n",
       "       -0.06107511, -0.05676088, -0.05246518, -0.04818785, -0.04392874,\n",
       "       -0.0396877 , -0.03546456, -0.03125919, -0.02707142, -0.02290112,\n",
       "       -0.01874814, -0.01461234, -0.01049356, -0.00639169, -0.00230657,\n",
       "        0.00176193,  0.00581394,  0.0098496 ,  0.01386904,  0.01787239,\n",
       "        0.02185978,  0.02583133,  0.02978717,  0.03372742,  0.0376522 ,\n",
       "        0.04156165,  0.04545587,  0.04933498,  0.0531991 ,  0.05704835,\n",
       "        0.06088284,  0.06470268,  0.06850799,  0.07229887,  0.07607543,\n",
       "        0.07983779,  0.08358604,  0.0873203 ,  0.09104066,  0.09474724,\n",
       "        0.09844012,  0.10211942,  0.10578523,  0.10943766,  0.11307679,\n",
       "        0.11670272,  0.12031556,  0.12391539,  0.1275023 ,  0.1310764 ,\n",
       "        0.13463777,  0.1381865 ,  0.14172268,  0.1452464 ,  0.14875775,\n",
       "        0.15225681,  0.15574367,  0.15921841,  0.16268113,  0.16613189,\n",
       "        0.16957079,  0.1729979 ,  0.1764133 ,  0.17981709,  0.18320932,\n",
       "        0.18659009,  0.18995946,  0.19331752,  0.19666434,  0.2       ])"
      ]
     },
     "execution_count": 21,
     "metadata": {},
     "output_type": "execute_result"
    }
   ],
   "source": [
    "k_list"
   ]
  },
  {
   "cell_type": "code",
   "execution_count": null,
   "metadata": {},
   "outputs": [],
   "source": []
  }
 ],
 "metadata": {
  "kernelspec": {
   "display_name": "Python 3",
   "language": "python",
   "name": "python3"
  },
  "language_info": {
   "codemirror_mode": {
    "name": "ipython",
    "version": 3
   },
   "file_extension": ".py",
   "mimetype": "text/x-python",
   "name": "python",
   "nbconvert_exporter": "python",
   "pygments_lexer": "ipython3",
   "version": "3.7.4"
  }
 },
 "nbformat": 4,
 "nbformat_minor": 4
}
