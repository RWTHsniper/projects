{
 "cells": [
  {
   "cell_type": "code",
   "execution_count": 1,
   "metadata": {},
   "outputs": [],
   "source": [
    "import numpy as np\n",
    "import pandas as pd\n",
    "import matplotlib.pyplot as plt\n",
    "from sklearn.model_selection import train_test_split\n",
    "from sklearn import preprocessing\n",
    "import copy\n",
    "\n",
    "import torch\n",
    "import torch.nn as nn\n",
    "import torch.nn.functional as F\n",
    "import torch.optim as optim\n",
    "from torch.autograd import grad\n",
    "\n",
    "from scipy.optimize import minimize\n",
    "\n",
    "from pickle import dump, load\n",
    "\n",
    "from Heston_NN import Net,weights_init"
   ]
  },
  {
   "cell_type": "code",
   "execution_count": 2,
   "metadata": {},
   "outputs": [
    {
     "data": {
      "text/plain": [
       "'\\n1. Write a wrapper function.\\nout = model.forward(input)\\n2. Write a wrapper function for gradients\\n\\n'"
      ]
     },
     "execution_count": 2,
     "metadata": {},
     "output_type": "execute_result"
    }
   ],
   "source": [
    "\"\"\"\n",
    "1. Write a wrapper function.\n",
    "out = model.forward(input)\n",
    "2. Write a wrapper function for gradients\n",
    "\n",
    "\"\"\""
   ]
  },
  {
   "cell_type": "code",
   "execution_count": 4,
   "metadata": {},
   "outputs": [
    {
     "data": {
      "text/plain": [
       "Net(\n",
       "  (fc1): Linear(in_features=7, out_features=64, bias=True)\n",
       "  (fc2): Linear(in_features=64, out_features=64, bias=True)\n",
       "  (fc3): Linear(in_features=64, out_features=64, bias=True)\n",
       "  (fc7): Linear(in_features=64, out_features=1, bias=True)\n",
       ")"
      ]
     },
     "execution_count": 4,
     "metadata": {},
     "output_type": "execute_result"
    }
   ],
   "source": [
    "#model = Net()\n",
    "model = Net(num_neurons=64)\n",
    "\n",
    "#model.load_state_dict(torch.load('heston_NN_colab'))\n",
    "#model = Net(num_neurons=16,device='cpu')\n",
    "model.load_state_dict(torch.load('heston_NN_intermediate'))\n",
    "device = model.device\n",
    "\n",
    "model = model.double()\n",
    "model.eval() # evaluation mode"
   ]
  },
  {
   "cell_type": "code",
   "execution_count": null,
   "metadata": {
    "scrolled": true
   },
   "outputs": [],
   "source": [
    "df = pd.read_csv('Heston_surface')\n",
    "X = df.drop(['C_price','delta'], axis=1)\n",
    "y = df[['C_price']]\n",
    "input_scaler = load(open('input_scaler.pkl', 'rb'))\n",
    "X_scaled =input_scaler.transform(X)\n",
    "y_tensor = torch.DoubleTensor(y.values).to(device)\n",
    "true_parameters = df.iloc[0][2:7]\n",
    "df # k,T, C_price are given. Find v0, rho, kappa, theta, sigma"
   ]
  },
  {
   "cell_type": "code",
   "execution_count": null,
   "metadata": {},
   "outputs": [],
   "source": [
    "# First, we should have a dataset from a parameter set"
   ]
  },
  {
   "cell_type": "code",
   "execution_count": null,
   "metadata": {},
   "outputs": [],
   "source": [
    "#inp = np.array([np.double(np.random.uniform()) for i in range(7)]) # random tensor\n",
    "inp = np.array([np.double(np.random.uniform()) for i in range(5)]) # random tensor (0,1) don't need to scale\n",
    "inp[1] = np.random.uniform(0.0,0.5) # rho is usually negative\n",
    "print(inp)\n",
    "#inp = df.iloc[99].values"
   ]
  },
  {
   "cell_type": "code",
   "execution_count": null,
   "metadata": {},
   "outputs": [],
   "source": [
    "criterion = nn.MSELoss()\n",
    "\n",
    "def model_wrapper(inp):\n",
    "    buffer = X_scaled.copy()\n",
    "    buffer[:,2:7] = inp\n",
    "    tensor_buffer = torch.DoubleTensor(buffer).to(device)\n",
    "    out =  model.forward(tensor_buffer).detach()\n",
    "    loss = criterion(out, y_tensor)\n",
    "#    num_rows = df.shape[0]\n",
    "#    for index in range(num_rows):\n",
    "#        row = X_scaled[index,:]\n",
    "#        buffer[0:2] = row[0:2]\n",
    "#        buffer[2:7] = inp[:]\n",
    "#        C_price = df.iloc[index]['C_price']\n",
    "#        out = model.forward(torch.tensor(buffer, dtype=torch.double).to(device)).detach().cpu().numpy()\n",
    "#        loss += np.power(out[0] - C_price,2)\n",
    "\n",
    "    return loss.detach().cpu().numpy()"
   ]
  },
  {
   "cell_type": "code",
   "execution_count": null,
   "metadata": {},
   "outputs": [],
   "source": [
    "res = minimize(model_wrapper,inp,tol=1e-8)\n",
    "print('initial function ',model_wrapper(inp))\n",
    "print('function value ',res.fun)\n",
    "print('initial guess ',inp)\n",
    "print('result ',res.x)\n",
    "print('true ',X_scaled[0,2:7])\n",
    "print('function with true ', model_wrapper(X_scaled[0,2:7]))"
   ]
  },
  {
   "cell_type": "code",
   "execution_count": null,
   "metadata": {},
   "outputs": [],
   "source": [
    "print('true parameters',true_parameters.values)"
   ]
  },
  {
   "cell_type": "code",
   "execution_count": null,
   "metadata": {},
   "outputs": [],
   "source": [
    "X_scaled[0,2:7]"
   ]
  },
  {
   "cell_type": "code",
   "execution_count": null,
   "metadata": {},
   "outputs": [],
   "source": [
    "solution_scaled = np.append(X_scaled[0][0:2], res.x)"
   ]
  },
  {
   "cell_type": "code",
   "execution_count": null,
   "metadata": {},
   "outputs": [],
   "source": [
    "solution = input_scaler.inverse_transform([solution_scaled])[0][2:7]\n",
    "solution"
   ]
  },
  {
   "cell_type": "markdown",
   "metadata": {},
   "source": [
    "# Validation by known solution"
   ]
  },
  {
   "cell_type": "code",
   "execution_count": null,
   "metadata": {},
   "outputs": [],
   "source": [
    "df_val_known = df.copy()\n",
    "df_val_known[df_val_known.columns[2:7]] = true_parameters.values\n",
    "X_val_known = df_val_known.drop(['C_price','delta'], axis=1)\n",
    "#y_val = df_val[['C_price']]\n",
    "X_val_known_scaled =input_scaler.transform(X_val_known)\n",
    "X_val_known_scaled = torch.DoubleTensor(X_val_known_scaled).to(device)"
   ]
  },
  {
   "cell_type": "code",
   "execution_count": null,
   "metadata": {},
   "outputs": [],
   "source": [
    "y_val_known_model = model.forward(X_val_known_scaled).detach()\n",
    "loss = criterion(y_val_known_model, y_tensor.to(device))\n",
    "print(loss)"
   ]
  },
  {
   "cell_type": "code",
   "execution_count": null,
   "metadata": {},
   "outputs": [],
   "source": [
    "y_val_known_model = y_val_known_model.detach().cpu()\n",
    "y_tensor = y_tensor.cpu()\n",
    "plt.plot(df['k'],y_val_known_model,label='NN model')\n",
    "plt.plot(df['k'],y_tensor,label='True value')\n",
    "#plt.yscale('log')\n",
    "plt.legend()\n",
    "plt.show()"
   ]
  },
  {
   "cell_type": "markdown",
   "metadata": {},
   "source": [
    "# Validation by solution"
   ]
  },
  {
   "cell_type": "code",
   "execution_count": null,
   "metadata": {},
   "outputs": [],
   "source": [
    "df_val = df.copy()\n",
    "df_val[df_val.columns[2:7]] = solution # reset values\n",
    "X_val = df_val.drop(['C_price','delta'], axis=1)\n",
    "#y_val = df_val[['C_price']]\n",
    "X_val_scaled =input_scaler.transform(X_val)\n",
    "X_val_scaled = torch.DoubleTensor(X_val_scaled).to(device)"
   ]
  },
  {
   "cell_type": "code",
   "execution_count": null,
   "metadata": {},
   "outputs": [],
   "source": [
    "X_val_scaled"
   ]
  },
  {
   "cell_type": "code",
   "execution_count": null,
   "metadata": {},
   "outputs": [],
   "source": [
    "criterion = nn.MSELoss()\n",
    "y_val_model = model.forward(X_val_scaled)\n",
    "loss = criterion(y_val_model, y_tensor.to(device))\n",
    "print(loss)"
   ]
  },
  {
   "cell_type": "code",
   "execution_count": null,
   "metadata": {},
   "outputs": [],
   "source": [
    "y_val_model = y_val_model.detach().cpu()\n",
    "y_tensor = y_tensor.cpu()\n",
    "plt.plot(df['k'],y_val_model,label='NN model')\n",
    "plt.plot(df['k'],y_tensor,label='True value')\n",
    "#plt.yscale('log')\n",
    "plt.legend()\n",
    "plt.show()"
   ]
  },
  {
   "cell_type": "code",
   "execution_count": null,
   "metadata": {},
   "outputs": [],
   "source": []
  },
  {
   "cell_type": "code",
   "execution_count": null,
   "metadata": {},
   "outputs": [],
   "source": []
  }
 ],
 "metadata": {
  "kernelspec": {
   "display_name": "Python 3",
   "language": "python",
   "name": "python3"
  },
  "language_info": {
   "codemirror_mode": {
    "name": "ipython",
    "version": 3
   },
   "file_extension": ".py",
   "mimetype": "text/x-python",
   "name": "python",
   "nbconvert_exporter": "python",
   "pygments_lexer": "ipython3",
   "version": "3.7.4"
  }
 },
 "nbformat": 4,
 "nbformat_minor": 4
}
