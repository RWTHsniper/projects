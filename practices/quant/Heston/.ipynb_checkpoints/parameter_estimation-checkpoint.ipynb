{
 "cells": [
  {
   "cell_type": "code",
   "execution_count": 1,
   "metadata": {},
   "outputs": [],
   "source": [
    "import numpy as np\n",
    "import pandas as pd\n",
    "import matplotlib.pyplot as plt\n",
    "from sklearn.model_selection import train_test_split\n",
    "from sklearn import preprocessing\n",
    "import copy\n",
    "\n",
    "import torch\n",
    "import torch.nn as nn\n",
    "import torch.nn.functional as F\n",
    "import torch.optim as optim\n",
    "from torch.autograd import grad\n",
    "\n",
    "from scipy.optimize import minimize\n",
    "\n",
    "from pickle import dump, load\n",
    "\n",
    "from Heston_NN import Net,weights_init"
   ]
  },
  {
   "cell_type": "code",
   "execution_count": 2,
   "metadata": {},
   "outputs": [
    {
     "data": {
      "text/plain": [
       "'\\n1. Write a wrapper function.\\nout = model.forward(input)\\n2. Write a wrapper function for gradients\\n\\n'"
      ]
     },
     "execution_count": 2,
     "metadata": {},
     "output_type": "execute_result"
    }
   ],
   "source": [
    "\"\"\"\n",
    "1. Write a wrapper function.\n",
    "out = model.forward(input)\n",
    "2. Write a wrapper function for gradients\n",
    "\n",
    "\"\"\""
   ]
  },
  {
   "cell_type": "code",
   "execution_count": 4,
   "metadata": {},
   "outputs": [
    {
     "data": {
      "text/plain": [
       "Net(\n",
       "  (fc1): Linear(in_features=7, out_features=128, bias=True)\n",
       "  (fc2): Linear(in_features=128, out_features=128, bias=True)\n",
       "  (fc3): Linear(in_features=128, out_features=128, bias=True)\n",
       "  (fc7): Linear(in_features=128, out_features=1, bias=True)\n",
       ")"
      ]
     },
     "execution_count": 4,
     "metadata": {},
     "output_type": "execute_result"
    }
   ],
   "source": [
    "model = Net()\n",
    "model.load_state_dict(torch.load('heston_NN_colab'))\n",
    "device = model.device\n",
    "\n",
    "model = model.double()\n",
    "model.eval() # evaluation mode"
   ]
  },
  {
   "cell_type": "code",
   "execution_count": 5,
   "metadata": {
    "scrolled": true
   },
   "outputs": [
    {
     "data": {
      "text/html": [
       "<div>\n",
       "<style scoped>\n",
       "    .dataframe tbody tr th:only-of-type {\n",
       "        vertical-align: middle;\n",
       "    }\n",
       "\n",
       "    .dataframe tbody tr th {\n",
       "        vertical-align: top;\n",
       "    }\n",
       "\n",
       "    .dataframe thead th {\n",
       "        text-align: right;\n",
       "    }\n",
       "</style>\n",
       "<table border=\"1\" class=\"dataframe\">\n",
       "  <thead>\n",
       "    <tr style=\"text-align: right;\">\n",
       "      <th></th>\n",
       "      <th>k</th>\n",
       "      <th>T</th>\n",
       "      <th>v0</th>\n",
       "      <th>rho</th>\n",
       "      <th>kappa</th>\n",
       "      <th>theta</th>\n",
       "      <th>sigma</th>\n",
       "      <th>C_price</th>\n",
       "      <th>delta</th>\n",
       "    </tr>\n",
       "  </thead>\n",
       "  <tbody>\n",
       "    <tr>\n",
       "      <th>0</th>\n",
       "      <td>-0.200000</td>\n",
       "      <td>1.0</td>\n",
       "      <td>0.06569</td>\n",
       "      <td>-0.35156</td>\n",
       "      <td>10.980797</td>\n",
       "      <td>0.132328</td>\n",
       "      <td>1.7</td>\n",
       "      <td>0.307294</td>\n",
       "      <td>0.908984</td>\n",
       "    </tr>\n",
       "    <tr>\n",
       "      <th>1</th>\n",
       "      <td>-0.195044</td>\n",
       "      <td>1.0</td>\n",
       "      <td>0.06569</td>\n",
       "      <td>-0.35156</td>\n",
       "      <td>10.980797</td>\n",
       "      <td>0.132328</td>\n",
       "      <td>1.7</td>\n",
       "      <td>0.304313</td>\n",
       "      <td>0.904967</td>\n",
       "    </tr>\n",
       "    <tr>\n",
       "      <th>2</th>\n",
       "      <td>-0.190113</td>\n",
       "      <td>1.0</td>\n",
       "      <td>0.06569</td>\n",
       "      <td>-0.35156</td>\n",
       "      <td>10.980797</td>\n",
       "      <td>0.132328</td>\n",
       "      <td>1.7</td>\n",
       "      <td>0.301356</td>\n",
       "      <td>0.900251</td>\n",
       "    </tr>\n",
       "    <tr>\n",
       "      <th>3</th>\n",
       "      <td>-0.185206</td>\n",
       "      <td>1.0</td>\n",
       "      <td>0.06569</td>\n",
       "      <td>-0.35156</td>\n",
       "      <td>10.980797</td>\n",
       "      <td>0.132328</td>\n",
       "      <td>1.7</td>\n",
       "      <td>0.298419</td>\n",
       "      <td>0.896039</td>\n",
       "    </tr>\n",
       "    <tr>\n",
       "      <th>4</th>\n",
       "      <td>-0.180323</td>\n",
       "      <td>1.0</td>\n",
       "      <td>0.06569</td>\n",
       "      <td>-0.35156</td>\n",
       "      <td>10.980797</td>\n",
       "      <td>0.132328</td>\n",
       "      <td>1.7</td>\n",
       "      <td>0.295505</td>\n",
       "      <td>0.891396</td>\n",
       "    </tr>\n",
       "    <tr>\n",
       "      <th>...</th>\n",
       "      <td>...</td>\n",
       "      <td>...</td>\n",
       "      <td>...</td>\n",
       "      <td>...</td>\n",
       "      <td>...</td>\n",
       "      <td>...</td>\n",
       "      <td>...</td>\n",
       "      <td>...</td>\n",
       "      <td>...</td>\n",
       "    </tr>\n",
       "    <tr>\n",
       "      <th>95</th>\n",
       "      <td>0.186590</td>\n",
       "      <td>1.0</td>\n",
       "      <td>0.06569</td>\n",
       "      <td>-0.35156</td>\n",
       "      <td>10.980797</td>\n",
       "      <td>0.132328</td>\n",
       "      <td>1.7</td>\n",
       "      <td>0.118242</td>\n",
       "      <td>0.450129</td>\n",
       "    </tr>\n",
       "    <tr>\n",
       "      <th>96</th>\n",
       "      <td>0.189959</td>\n",
       "      <td>1.0</td>\n",
       "      <td>0.06569</td>\n",
       "      <td>-0.35156</td>\n",
       "      <td>10.980797</td>\n",
       "      <td>0.132328</td>\n",
       "      <td>1.7</td>\n",
       "      <td>0.117125</td>\n",
       "      <td>0.448379</td>\n",
       "    </tr>\n",
       "    <tr>\n",
       "      <th>97</th>\n",
       "      <td>0.193318</td>\n",
       "      <td>1.0</td>\n",
       "      <td>0.06569</td>\n",
       "      <td>-0.35156</td>\n",
       "      <td>10.980797</td>\n",
       "      <td>0.132328</td>\n",
       "      <td>1.7</td>\n",
       "      <td>0.116039</td>\n",
       "      <td>0.439165</td>\n",
       "    </tr>\n",
       "    <tr>\n",
       "      <th>98</th>\n",
       "      <td>0.196664</td>\n",
       "      <td>1.0</td>\n",
       "      <td>0.06569</td>\n",
       "      <td>-0.35156</td>\n",
       "      <td>10.980797</td>\n",
       "      <td>0.132328</td>\n",
       "      <td>1.7</td>\n",
       "      <td>0.114958</td>\n",
       "      <td>0.437472</td>\n",
       "    </tr>\n",
       "    <tr>\n",
       "      <th>99</th>\n",
       "      <td>0.200000</td>\n",
       "      <td>1.0</td>\n",
       "      <td>0.06569</td>\n",
       "      <td>-0.35156</td>\n",
       "      <td>10.980797</td>\n",
       "      <td>0.132328</td>\n",
       "      <td>1.7</td>\n",
       "      <td>0.113883</td>\n",
       "      <td>0.435788</td>\n",
       "    </tr>\n",
       "  </tbody>\n",
       "</table>\n",
       "<p>100 rows × 9 columns</p>\n",
       "</div>"
      ],
      "text/plain": [
       "           k    T       v0      rho      kappa     theta  sigma   C_price  \\\n",
       "0  -0.200000  1.0  0.06569 -0.35156  10.980797  0.132328    1.7  0.307294   \n",
       "1  -0.195044  1.0  0.06569 -0.35156  10.980797  0.132328    1.7  0.304313   \n",
       "2  -0.190113  1.0  0.06569 -0.35156  10.980797  0.132328    1.7  0.301356   \n",
       "3  -0.185206  1.0  0.06569 -0.35156  10.980797  0.132328    1.7  0.298419   \n",
       "4  -0.180323  1.0  0.06569 -0.35156  10.980797  0.132328    1.7  0.295505   \n",
       "..       ...  ...      ...      ...        ...       ...    ...       ...   \n",
       "95  0.186590  1.0  0.06569 -0.35156  10.980797  0.132328    1.7  0.118242   \n",
       "96  0.189959  1.0  0.06569 -0.35156  10.980797  0.132328    1.7  0.117125   \n",
       "97  0.193318  1.0  0.06569 -0.35156  10.980797  0.132328    1.7  0.116039   \n",
       "98  0.196664  1.0  0.06569 -0.35156  10.980797  0.132328    1.7  0.114958   \n",
       "99  0.200000  1.0  0.06569 -0.35156  10.980797  0.132328    1.7  0.113883   \n",
       "\n",
       "       delta  \n",
       "0   0.908984  \n",
       "1   0.904967  \n",
       "2   0.900251  \n",
       "3   0.896039  \n",
       "4   0.891396  \n",
       "..       ...  \n",
       "95  0.450129  \n",
       "96  0.448379  \n",
       "97  0.439165  \n",
       "98  0.437472  \n",
       "99  0.435788  \n",
       "\n",
       "[100 rows x 9 columns]"
      ]
     },
     "execution_count": 5,
     "metadata": {},
     "output_type": "execute_result"
    }
   ],
   "source": [
    "df = pd.read_csv('Heston_surface')\n",
    "X = df.drop(['C_price','delta'], axis=1)\n",
    "y = df[['C_price']]\n",
    "input_scaler = load(open('input_scaler.pkl', 'rb'))\n",
    "X_scaled =input_scaler.transform(X)\n",
    "y_tensor = torch.DoubleTensor(y.values).to(device)\n",
    "true_parameters = df.iloc[0][2:7]\n",
    "df # k,T, C_price are given. Find v0, rho, kappa, theta, sigma"
   ]
  },
  {
   "cell_type": "code",
   "execution_count": 14,
   "metadata": {},
   "outputs": [
    {
     "data": {
      "text/plain": [
       "array([2.5       , 1.        , 4.31975162, 0.5       , 0.0500025 ,\n",
       "       0.10001   , 0.0700035 ])"
      ]
     },
     "execution_count": 14,
     "metadata": {},
     "output_type": "execute_result"
    }
   ],
   "source": [
    "input_scaler.scale_"
   ]
  },
  {
   "cell_type": "code",
   "execution_count": 16,
   "metadata": {},
   "outputs": [
    {
     "data": {
      "text/plain": [
       "array([ 5.00000000e-01, -1.00000000e+00, -1.36602540e+00,  5.00000000e-01,\n",
       "       -5.00025001e-05, -1.00010001e-04, -7.00035002e-05])"
      ]
     },
     "execution_count": 16,
     "metadata": {},
     "output_type": "execute_result"
    }
   ],
   "source": [
    "input_scaler.min_"
   ]
  },
  {
   "cell_type": "code",
   "execution_count": 18,
   "metadata": {},
   "outputs": [
    {
     "data": {
      "text/plain": [
       "array([-1.08226092,  0.32422   ,  0.5490173 ,  0.01313411,  0.11893595])"
      ]
     },
     "execution_count": 18,
     "metadata": {},
     "output_type": "execute_result"
    }
   ],
   "source": [
    "X_scaled[0][2:7]"
   ]
  },
  {
   "cell_type": "code",
   "execution_count": null,
   "metadata": {},
   "outputs": [],
   "source": [
    "# First, we should have a dataset from a parameter set"
   ]
  },
  {
   "cell_type": "code",
   "execution_count": 22,
   "metadata": {},
   "outputs": [
    {
     "name": "stdout",
     "output_type": "stream",
     "text": [
      "[0.81948424 0.38891952 0.87788049 0.69190045 0.56167336]\n"
     ]
    }
   ],
   "source": [
    "#inp = np.array([np.double(np.random.uniform()) for i in range(7)]) # random tensor\n",
    "inp = np.array([np.double(np.random.uniform()) for i in range(5)]) # random tensor (0,1) don't need to scale\n",
    "inp[1] = np.random.uniform(0.0,0.5) # rho is usually negative\n",
    "print(inp)\n",
    "#inp = df.iloc[99].values"
   ]
  },
  {
   "cell_type": "code",
   "execution_count": 23,
   "metadata": {},
   "outputs": [],
   "source": [
    "def model_wrapper(inp):\n",
    "    buffer = np.zeros(7)\n",
    "    loss = 0.0\n",
    "    num_rows = df.shape[0]\n",
    "    for index in range(num_rows):\n",
    "        row = X_scaled[index,:]\n",
    "        buffer[0:2] = row[0:2]\n",
    "        buffer[2:7] = inp[:]\n",
    "        C_price = df.iloc[index]['C_price']\n",
    "        out = model.forward(torch.tensor(buffer, dtype=torch.double).to(device)).detach().cpu().numpy()\n",
    "        loss += np.power(out[0] - C_price,2)\n",
    "\n",
    "    loss /= num_rows\n",
    "    \n",
    "    return loss"
   ]
  },
  {
   "cell_type": "code",
   "execution_count": 24,
   "metadata": {},
   "outputs": [
    {
     "data": {
      "text/plain": [
       "0.042858891072320084"
      ]
     },
     "execution_count": 24,
     "metadata": {},
     "output_type": "execute_result"
    }
   ],
   "source": [
    "model_wrapper(inp)"
   ]
  },
  {
   "cell_type": "code",
   "execution_count": 25,
   "metadata": {},
   "outputs": [
    {
     "name": "stdout",
     "output_type": "stream",
     "text": [
      "0.0022605117208806397\n",
      "initial guess  [0.81948424 0.38891952 0.87788049 0.69190045 0.56167336]\n",
      "result  [0.81346935 0.54233463 0.69422862 0.73234646 0.73242894]\n",
      "true  [-1.08226092  0.32422     0.5490173   0.01313411  0.11893595]\n"
     ]
    }
   ],
   "source": [
    "res = minimize(model_wrapper,inp,tol=1e-8)\n",
    "print(res.fun)\n",
    "print('initial guess ',inp)\n",
    "print('result ',res.x)\n",
    "print('true ',X_scaled[0,2:7])"
   ]
  },
  {
   "cell_type": "code",
   "execution_count": 26,
   "metadata": {},
   "outputs": [
    {
     "name": "stdout",
     "output_type": "stream",
     "text": [
      "true  [ 0.06569  -0.35156  10.980797  0.132328  1.7     ]\n"
     ]
    }
   ],
   "source": [
    "print('true ',true_parameters.values)"
   ]
  },
  {
   "cell_type": "code",
   "execution_count": 27,
   "metadata": {},
   "outputs": [
    {
     "data": {
      "text/plain": [
       "array([-1.08226092,  0.32422   ,  0.5490173 ,  0.01313411,  0.11893595])"
      ]
     },
     "execution_count": 27,
     "metadata": {},
     "output_type": "execute_result"
    }
   ],
   "source": [
    "X_scaled[0,2:7]"
   ]
  },
  {
   "cell_type": "code",
   "execution_count": 28,
   "metadata": {},
   "outputs": [
    {
     "data": {
      "text/plain": [
       "array([-1.08226092,  0.32422   ,  0.5490173 ,  0.01313411,  0.11893595])"
      ]
     },
     "execution_count": 28,
     "metadata": {},
     "output_type": "execute_result"
    }
   ],
   "source": [
    "X_scaled[0][2:7]"
   ]
  },
  {
   "cell_type": "code",
   "execution_count": null,
   "metadata": {},
   "outputs": [],
   "source": [
    "solution_scaled = np.append(X_scaled[0][0:2], res.x)"
   ]
  },
  {
   "cell_type": "code",
   "execution_count": null,
   "metadata": {},
   "outputs": [],
   "source": [
    "solution = input_scaler.inverse_transform([solution_scaled])[0][2:7]"
   ]
  },
  {
   "cell_type": "code",
   "execution_count": null,
   "metadata": {},
   "outputs": [],
   "source": [
    "solution"
   ]
  },
  {
   "cell_type": "code",
   "execution_count": null,
   "metadata": {},
   "outputs": [],
   "source": [
    "true_parameters"
   ]
  },
  {
   "cell_type": "markdown",
   "metadata": {},
   "source": [
    "# Validation by generating prices"
   ]
  },
  {
   "cell_type": "code",
   "execution_count": null,
   "metadata": {},
   "outputs": [],
   "source": [
    "df_val = df.copy()\n",
    "df_val[df_val.columns[2:7]] = solution # reset values\n",
    "X_val = df_val.drop(['C_price','delta'], axis=1)\n",
    "y_val = df_val[['C_price']]\n",
    "X_val_scaled =input_scaler.transform(X_val)\n",
    "X_val_scaled = torch.DoubleTensor(X_val_scaled).to(device)"
   ]
  },
  {
   "cell_type": "code",
   "execution_count": null,
   "metadata": {},
   "outputs": [],
   "source": [
    "X_val_scaled"
   ]
  },
  {
   "cell_type": "code",
   "execution_count": null,
   "metadata": {},
   "outputs": [],
   "source": [
    "criterion = nn.MSELoss()\n",
    "y_val = model.forward(X_val_scaled)\n",
    "loss = criterion(y_val, y_tensor)"
   ]
  },
  {
   "cell_type": "code",
   "execution_count": null,
   "metadata": {},
   "outputs": [],
   "source": [
    "y_val = y_val.detach().cpu()\n",
    "y_tensor = y_tensor.cpu()\n",
    "plt.plot(df['k'],y_val,label='NN model')\n",
    "plt.plot(df['k'],y_tensor,label='True value')\n",
    "#plt.yscale('log')\n",
    "plt.legend()\n",
    "plt.show()"
   ]
  },
  {
   "cell_type": "code",
   "execution_count": null,
   "metadata": {},
   "outputs": [],
   "source": []
  }
 ],
 "metadata": {
  "kernelspec": {
   "display_name": "Python 3",
   "language": "python",
   "name": "python3"
  },
  "language_info": {
   "codemirror_mode": {
    "name": "ipython",
    "version": 3
   },
   "file_extension": ".py",
   "mimetype": "text/x-python",
   "name": "python",
   "nbconvert_exporter": "python",
   "pygments_lexer": "ipython3",
   "version": "3.7.4"
  }
 },
 "nbformat": 4,
 "nbformat_minor": 4
}
