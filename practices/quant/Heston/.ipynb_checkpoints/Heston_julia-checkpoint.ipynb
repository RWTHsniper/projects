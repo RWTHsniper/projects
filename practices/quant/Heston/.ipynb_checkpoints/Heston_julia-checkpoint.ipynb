{
 "cells": [
  {
   "cell_type": "code",
   "execution_count": 32,
   "metadata": {},
   "outputs": [
    {
     "name": "stderr",
     "output_type": "stream",
     "text": [
      "┌ Info: Precompiling Interpolations [a98d9a8b-a2ab-59e6-89dd-64a1c18fca59]\n",
      "└ @ Base loading.jl:1260\n"
     ]
    }
   ],
   "source": [
    "import FFTW, Interpolations"
   ]
  },
  {
   "cell_type": "code",
   "execution_count": 4,
   "metadata": {},
   "outputs": [
    {
     "data": {
      "text/plain": [
       "feller_cond (generic function with 1 method)"
      ]
     },
     "execution_count": 4,
     "metadata": {},
     "output_type": "execute_result"
    }
   ],
   "source": [
    "function feller_cond(kappa, theta, sigma)\n",
    "    return 2*kappa*theta > sigma^2\n",
    "end"
   ]
  },
  {
   "cell_type": "code",
   "execution_count": 5,
   "metadata": {},
   "outputs": [
    {
     "data": {
      "text/plain": [
       "-0.09435517848114576"
      ]
     },
     "execution_count": 5,
     "metadata": {},
     "output_type": "execute_result"
    }
   ],
   "source": [
    "theta = 0.132328; kappa = 10.980797; sigma = 1.7; rho = -0.351560; v0 = 0.065690\n",
    "spot, K = 1.0, 600.0/659.37\n",
    "\n",
    "alp = 0.75\n",
    "s = log(spot)\n",
    "k = log(K)"
   ]
  },
  {
   "cell_type": "code",
   "execution_count": 96,
   "metadata": {},
   "outputs": [
    {
     "name": "stdout",
     "output_type": "stream",
     "text": [
      "fw = FFTW.fft([1, 2, 3, 4, 5, 6]) = Complex{Float64}[21.0 + 0.0im, -3.0 + 5.196152422706632im, -3.0 + 1.7320508075688772im, -3.0 + 0.0im, -3.0 - 1.7320508075688772im, -3.0 - 5.196152422706632im]\n",
      "bw = FFTW.ifft(fw) = Complex{Float64}[1.0 + 0.0im, 2.0 + 0.0im, 3.0 + 0.0im, 4.0 + 0.0im, 5.0 + 0.0im, 6.0 + 0.0im]\n"
     ]
    },
    {
     "data": {
      "text/plain": [
       "6-element Array{Complex{Float64},1}:\n",
       " 1.0 + 0.0im\n",
       " 2.0 + 0.0im\n",
       " 3.0 + 0.0im\n",
       " 4.0 + 0.0im\n",
       " 5.0 + 0.0im\n",
       " 6.0 + 0.0im"
      ]
     },
     "execution_count": 96,
     "metadata": {},
     "output_type": "execute_result"
    }
   ],
   "source": [
    "@show fw = FFTW.fft([1,2,3,4,5,6])\n",
    "@show bw = FFTW.ifft(fw)"
   ]
  },
  {
   "cell_type": "code",
   "execution_count": 106,
   "metadata": {},
   "outputs": [
    {
     "data": {
      "text/plain": [
       "get_Heston_fft_call (generic function with 3 methods)"
      ]
     },
     "execution_count": 106,
     "metadata": {},
     "output_type": "execute_result"
    }
   ],
   "source": [
    "function get_Heston_chf(x, u, v0, r, rho, ka, th, sig, T)\n",
    "    gam = sqrt(sig^2*u*(u+im) + (ka-im*rho*sig*u)^2)\n",
    "    half_gam_T = gam*T/2.0\n",
    "    coth = 1.0/tanh(half_gam_T)\n",
    "    log_numerator = ka*th*T*(ka-im*rho*sig*u)/sig^2 + im*u*(T*r+x) - (u*(u+im)*v0)/(gam*coth + ka - im*rho*sig*u)\n",
    "    numerator = exp(log_numerator)\n",
    "    denominator = (cosh(half_gam_T) + (ka-im*rho*sig*u)/gam*sinh(half_gam_T))^(2.0*ka*th/sig^2)\n",
    "    return numerator/denominator\n",
    "    \n",
    "end\n",
    "\n",
    "function get_damped_Heston_chf(x, v, v0, r, rho, ka, th, sig, T, alp=0.75)\n",
    "    chf_inp = v - (alp+1.0)*im\n",
    "    numerator = exp(-r*T) * get_Heston_chf(x, chf_inp, v0, r, rho, ka, th, sig, T)\n",
    "    denominator = alp^2 + alp - v^2 +im*(2.0*alp +1.0)*v\n",
    "    return numerator / denominator    \n",
    "end\n",
    "\n",
    "function get_Heston_fft_call(k, x, v0, r, rho, kappa, theta, sigma, T, alp, N=2^12, dk=0.01)# 2048*5\n",
    "    u_list = collect(0:N-1) \n",
    "    dv = 2.0*pi/(N*dk)\n",
    "    k_list = [x + dk*u_elem - N*dk/2.0 for u_elem in u_list]\n",
    "    v_list = collect(0:N-1)*dv\n",
    "    x_list = zeros(Complex{Float64},length(v_list))\n",
    "\n",
    "    for (j,vj) in enumerate(v_list) # j=0 to N-1\n",
    "        jj = j-1 # 0-based indexing\n",
    "        if jj==0\n",
    "            kroneker_delta = 1.0\n",
    "        else\n",
    "            kroneker_delta = 0.0        \n",
    "        end\n",
    "        simpson_coeff = dv/3.0*(3.0 + (-1)^jj - kroneker_delta)\n",
    "        x_list[j] = exp(im*(N/2.0*dk-x)*vj)*simpson_coeff*get_damped_Heston_chf(x, vj, v0, r, rho, kappa, theta, sigma, T, alp)\n",
    "    end\n",
    "    fft_prices = exp(-alp*k)/pi*real(FFTW.fft(x_list))\n",
    "\n",
    "    # interpolate results\n",
    "#    println(k_list)\n",
    "    println(fft_prices[end-5:end])\n",
    "    return Interpolations.LinearInterpolation(exp.(k_list),fft_prices)(exp(k)) # fft_price\n",
    "\n",
    "end\n"
   ]
  },
  {
   "cell_type": "code",
   "execution_count": 108,
   "metadata": {},
   "outputs": [
    {
     "name": "stdout",
     "output_type": "stream",
     "text": [
      "get_Heston_chf(s, 1.0, v0, r, rho, kappa, theta, sigma, T) = 0.9345074136306533 - 0.055431779426290094im\n",
      "get_damped_Heston_chf(s, 1.0, v0, r, rho, kappa, theta, sigma, T) = 0.10800278041809996 - 0.3916096746416378im\n",
      "[0.058276096133986696, 0.05700038211942545, 0.05572340825825821, 0.05444619626199482, 0.053169777659432524, 0.05189519139532866]\n",
      "get_Heston_fft_call(k, s, v0, r, rho, kappa, theta, sigma, T, alp, 2 ^ 15, 0.01) = 0.18431595807352924\n"
     ]
    },
    {
     "data": {
      "text/plain": [
       "0.18431595807352924"
      ]
     },
     "execution_count": 108,
     "metadata": {},
     "output_type": "execute_result"
    }
   ],
   "source": [
    "r = 0.0\n",
    "T = 1.0\n",
    "@show get_Heston_chf(s, 1.0, v0, r, rho, kappa, theta, sigma, T) # analytic chf  (0.9345074136306541-0.055431779426290094j)\n",
    "@show get_damped_Heston_chf(s, 1.0, v0, r, rho, kappa, theta, sigma, T)\n",
    "@show get_Heston_fft_call(k, s, v0, r, rho, kappa, theta, sigma, T, alp,2^15,1e-2)"
   ]
  },
  {
   "cell_type": "code",
   "execution_count": null,
   "metadata": {},
   "outputs": [],
   "source": []
  }
 ],
 "metadata": {
  "kernelspec": {
   "display_name": "Julia 1.4.0",
   "language": "julia",
   "name": "julia-1.4"
  },
  "language_info": {
   "file_extension": ".jl",
   "mimetype": "application/julia",
   "name": "julia",
   "version": "1.4.0"
  }
 },
 "nbformat": 4,
 "nbformat_minor": 4
}
