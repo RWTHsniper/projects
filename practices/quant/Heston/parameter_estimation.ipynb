{
 "cells": [
  {
   "cell_type": "code",
   "execution_count": 1,
   "metadata": {},
   "outputs": [],
   "source": [
    "import numpy as np\n",
    "import pandas as pd\n",
    "import matplotlib.pyplot as plt\n",
    "from sklearn.model_selection import train_test_split\n",
    "from sklearn import preprocessing\n",
    "import copy\n",
    "\n",
    "import torch\n",
    "import torch.nn as nn\n",
    "import torch.nn.functional as F\n",
    "import torch.optim as optim\n",
    "from torch.autograd import grad\n",
    "\n",
    "from scipy.optimize import minimize\n",
    "\n",
    "from pickle import dump, load\n",
    "\n",
    "from Heston_NN import Net,weights_init"
   ]
  },
  {
   "cell_type": "code",
   "execution_count": 2,
   "metadata": {},
   "outputs": [
    {
     "data": {
      "text/plain": [
       "'\\n1. Write a wrapper function.\\nout = model.forward(input)\\n2. Write a wrapper function for gradients\\n\\n'"
      ]
     },
     "execution_count": 2,
     "metadata": {},
     "output_type": "execute_result"
    }
   ],
   "source": [
    "\"\"\"\n",
    "1. Write a wrapper function.\n",
    "out = model.forward(input)\n",
    "2. Write a wrapper function for gradients\n",
    "\n",
    "\"\"\""
   ]
  },
  {
   "cell_type": "code",
   "execution_count": 4,
   "metadata": {},
   "outputs": [
    {
     "data": {
      "text/plain": [
       "Net(\n",
       "  (fc1): Linear(in_features=7, out_features=64, bias=True)\n",
       "  (fc2): Linear(in_features=64, out_features=64, bias=True)\n",
       "  (fc3): Linear(in_features=64, out_features=64, bias=True)\n",
       "  (fc7): Linear(in_features=64, out_features=1, bias=True)\n",
       ")"
      ]
     },
     "execution_count": 4,
     "metadata": {},
     "output_type": "execute_result"
    }
   ],
   "source": [
    "#model = Net()\n",
    "model = Net(num_neurons=64)\n",
    "\n",
    "#model.load_state_dict(torch.load('heston_NN_colab'))\n",
    "#model = Net(num_neurons=16,device='cpu')\n",
    "model.load_state_dict(torch.load('heston_NN_intermediate'))\n",
    "device = model.device\n",
    "\n",
    "model = model.double()\n",
    "model.eval() # evaluation mode"
   ]
  },
  {
   "cell_type": "code",
   "execution_count": 5,
   "metadata": {
    "scrolled": true
   },
   "outputs": [
    {
     "data": {
      "text/html": [
       "<div>\n",
       "<style scoped>\n",
       "    .dataframe tbody tr th:only-of-type {\n",
       "        vertical-align: middle;\n",
       "    }\n",
       "\n",
       "    .dataframe tbody tr th {\n",
       "        vertical-align: top;\n",
       "    }\n",
       "\n",
       "    .dataframe thead th {\n",
       "        text-align: right;\n",
       "    }\n",
       "</style>\n",
       "<table border=\"1\" class=\"dataframe\">\n",
       "  <thead>\n",
       "    <tr style=\"text-align: right;\">\n",
       "      <th></th>\n",
       "      <th>k</th>\n",
       "      <th>T</th>\n",
       "      <th>v0</th>\n",
       "      <th>rho</th>\n",
       "      <th>kappa</th>\n",
       "      <th>theta</th>\n",
       "      <th>sigma</th>\n",
       "      <th>C_price</th>\n",
       "      <th>delta</th>\n",
       "    </tr>\n",
       "  </thead>\n",
       "  <tbody>\n",
       "    <tr>\n",
       "      <th>0</th>\n",
       "      <td>-0.200000</td>\n",
       "      <td>1.0</td>\n",
       "      <td>0.481581</td>\n",
       "      <td>-0.428571</td>\n",
       "      <td>0.001</td>\n",
       "      <td>0.001</td>\n",
       "      <td>0.001</td>\n",
       "      <td>0.433132</td>\n",
       "      <td>0.882956</td>\n",
       "    </tr>\n",
       "    <tr>\n",
       "      <th>1</th>\n",
       "      <td>-0.195044</td>\n",
       "      <td>1.0</td>\n",
       "      <td>0.481581</td>\n",
       "      <td>-0.428571</td>\n",
       "      <td>0.001</td>\n",
       "      <td>0.001</td>\n",
       "      <td>0.001</td>\n",
       "      <td>0.430897</td>\n",
       "      <td>0.881005</td>\n",
       "    </tr>\n",
       "    <tr>\n",
       "      <th>2</th>\n",
       "      <td>-0.190113</td>\n",
       "      <td>1.0</td>\n",
       "      <td>0.481581</td>\n",
       "      <td>-0.428571</td>\n",
       "      <td>0.001</td>\n",
       "      <td>0.001</td>\n",
       "      <td>0.001</td>\n",
       "      <td>0.428681</td>\n",
       "      <td>0.877284</td>\n",
       "    </tr>\n",
       "    <tr>\n",
       "      <th>3</th>\n",
       "      <td>-0.185206</td>\n",
       "      <td>1.0</td>\n",
       "      <td>0.481581</td>\n",
       "      <td>-0.428571</td>\n",
       "      <td>0.001</td>\n",
       "      <td>0.001</td>\n",
       "      <td>0.001</td>\n",
       "      <td>0.426476</td>\n",
       "      <td>0.875320</td>\n",
       "    </tr>\n",
       "    <tr>\n",
       "      <th>4</th>\n",
       "      <td>-0.180323</td>\n",
       "      <td>1.0</td>\n",
       "      <td>0.481581</td>\n",
       "      <td>-0.428571</td>\n",
       "      <td>0.001</td>\n",
       "      <td>0.001</td>\n",
       "      <td>0.001</td>\n",
       "      <td>0.424287</td>\n",
       "      <td>0.871649</td>\n",
       "    </tr>\n",
       "    <tr>\n",
       "      <th>...</th>\n",
       "      <td>...</td>\n",
       "      <td>...</td>\n",
       "      <td>...</td>\n",
       "      <td>...</td>\n",
       "      <td>...</td>\n",
       "      <td>...</td>\n",
       "      <td>...</td>\n",
       "      <td>...</td>\n",
       "      <td>...</td>\n",
       "    </tr>\n",
       "    <tr>\n",
       "      <th>95</th>\n",
       "      <td>0.186590</td>\n",
       "      <td>1.0</td>\n",
       "      <td>0.481581</td>\n",
       "      <td>-0.428571</td>\n",
       "      <td>0.001</td>\n",
       "      <td>0.001</td>\n",
       "      <td>0.001</td>\n",
       "      <td>0.272725</td>\n",
       "      <td>0.641579</td>\n",
       "    </tr>\n",
       "    <tr>\n",
       "      <th>96</th>\n",
       "      <td>0.189959</td>\n",
       "      <td>1.0</td>\n",
       "      <td>0.481581</td>\n",
       "      <td>-0.428571</td>\n",
       "      <td>0.001</td>\n",
       "      <td>0.001</td>\n",
       "      <td>0.001</td>\n",
       "      <td>0.271484</td>\n",
       "      <td>0.639545</td>\n",
       "    </tr>\n",
       "    <tr>\n",
       "      <th>97</th>\n",
       "      <td>0.193318</td>\n",
       "      <td>1.0</td>\n",
       "      <td>0.481581</td>\n",
       "      <td>-0.428571</td>\n",
       "      <td>0.001</td>\n",
       "      <td>0.001</td>\n",
       "      <td>0.001</td>\n",
       "      <td>0.270251</td>\n",
       "      <td>0.637013</td>\n",
       "    </tr>\n",
       "    <tr>\n",
       "      <th>98</th>\n",
       "      <td>0.196664</td>\n",
       "      <td>1.0</td>\n",
       "      <td>0.481581</td>\n",
       "      <td>-0.428571</td>\n",
       "      <td>0.001</td>\n",
       "      <td>0.001</td>\n",
       "      <td>0.001</td>\n",
       "      <td>0.269025</td>\n",
       "      <td>0.635005</td>\n",
       "    </tr>\n",
       "    <tr>\n",
       "      <th>99</th>\n",
       "      <td>0.200000</td>\n",
       "      <td>1.0</td>\n",
       "      <td>0.481581</td>\n",
       "      <td>-0.428571</td>\n",
       "      <td>0.001</td>\n",
       "      <td>0.001</td>\n",
       "      <td>0.001</td>\n",
       "      <td>0.267805</td>\n",
       "      <td>0.633008</td>\n",
       "    </tr>\n",
       "  </tbody>\n",
       "</table>\n",
       "<p>100 rows × 9 columns</p>\n",
       "</div>"
      ],
      "text/plain": [
       "           k    T        v0       rho  kappa  theta  sigma   C_price     delta\n",
       "0  -0.200000  1.0  0.481581 -0.428571  0.001  0.001  0.001  0.433132  0.882956\n",
       "1  -0.195044  1.0  0.481581 -0.428571  0.001  0.001  0.001  0.430897  0.881005\n",
       "2  -0.190113  1.0  0.481581 -0.428571  0.001  0.001  0.001  0.428681  0.877284\n",
       "3  -0.185206  1.0  0.481581 -0.428571  0.001  0.001  0.001  0.426476  0.875320\n",
       "4  -0.180323  1.0  0.481581 -0.428571  0.001  0.001  0.001  0.424287  0.871649\n",
       "..       ...  ...       ...       ...    ...    ...    ...       ...       ...\n",
       "95  0.186590  1.0  0.481581 -0.428571  0.001  0.001  0.001  0.272725  0.641579\n",
       "96  0.189959  1.0  0.481581 -0.428571  0.001  0.001  0.001  0.271484  0.639545\n",
       "97  0.193318  1.0  0.481581 -0.428571  0.001  0.001  0.001  0.270251  0.637013\n",
       "98  0.196664  1.0  0.481581 -0.428571  0.001  0.001  0.001  0.269025  0.635005\n",
       "99  0.200000  1.0  0.481581 -0.428571  0.001  0.001  0.001  0.267805  0.633008\n",
       "\n",
       "[100 rows x 9 columns]"
      ]
     },
     "execution_count": 5,
     "metadata": {},
     "output_type": "execute_result"
    }
   ],
   "source": [
    "df = pd.read_csv('Heston_surface')\n",
    "X = df.drop(['C_price','delta'], axis=1)\n",
    "y = df[['C_price']]\n",
    "input_scaler = load(open('input_scaler.pkl', 'rb'))\n",
    "X_scaled =input_scaler.transform(X)\n",
    "y_tensor = torch.DoubleTensor(y.values).to(device)\n",
    "true_parameters = df.iloc[0][2:7]\n",
    "df # k,T, C_price are given. Find v0, rho, kappa, theta, sigma"
   ]
  },
  {
   "cell_type": "code",
   "execution_count": 6,
   "metadata": {},
   "outputs": [],
   "source": [
    "# First, we should have a dataset from a parameter set"
   ]
  },
  {
   "cell_type": "code",
   "execution_count": 7,
   "metadata": {},
   "outputs": [
    {
     "name": "stdout",
     "output_type": "stream",
     "text": [
      "[0.3254848  0.23021917 0.59095773 0.43760224 0.58324472]\n"
     ]
    }
   ],
   "source": [
    "#inp = np.array([np.double(np.random.uniform()) for i in range(7)]) # random tensor\n",
    "inp = np.array([np.double(np.random.uniform()) for i in range(5)]) # random tensor (0,1) don't need to scale\n",
    "inp[1] = np.random.uniform(0.0,0.5) # rho is usually negative\n",
    "print(inp)\n",
    "#inp = df.iloc[99].values"
   ]
  },
  {
   "cell_type": "code",
   "execution_count": 9,
   "metadata": {},
   "outputs": [],
   "source": [
    "criterion = nn.MSELoss()\n",
    "\n",
    "def model_wrapper(inp):\n",
    "    buffer = X_scaled.copy()\n",
    "    buffer[:,2:7] = inp\n",
    "    tensor_buffer = torch.DoubleTensor(buffer).to(device)\n",
    "    out =  model.forward(tensor_buffer).detach()\n",
    "    loss = criterion(out, y_tensor)\n",
    "#    num_rows = df.shape[0]\n",
    "#    for index in range(num_rows):\n",
    "#        row = X_scaled[index,:]\n",
    "#        buffer[0:2] = row[0:2]\n",
    "#        buffer[2:7] = inp[:]\n",
    "#        C_price = df.iloc[index]['C_price']\n",
    "#        out = model.forward(torch.tensor(buffer, dtype=torch.double).to(device)).detach().cpu().numpy()\n",
    "#        loss += np.power(out[0] - C_price,2)\n",
    "\n",
    "    return loss.detach().cpu().numpy()"
   ]
  },
  {
   "cell_type": "code",
   "execution_count": 10,
   "metadata": {},
   "outputs": [
    {
     "name": "stdout",
     "output_type": "stream",
     "text": [
      "initial function  0.11589128213713537\n",
      "function value  0.11589128213713537\n",
      "initial guess  [0.3254848  0.23021917 0.59095773 0.43760224 0.58324472]\n",
      "result  [0.3254848  0.23021917 0.59095773 0.43760224 0.58324472]\n",
      "true  [ 0.02403026  0.23214286  0.          0.         -0.0205849 ]\n",
      "function with true  0.11589128213713537\n"
     ]
    }
   ],
   "source": [
    "res = minimize(model_wrapper,inp,tol=1e-8)\n",
    "print('initial function ',model_wrapper(inp))\n",
    "print('function value ',res.fun)\n",
    "print('initial guess ',inp)\n",
    "print('result ',res.x)\n",
    "print('true ',X_scaled[0,2:7])\n",
    "print('function with true ', model_wrapper(X_scaled[0,2:7]))"
   ]
  },
  {
   "cell_type": "code",
   "execution_count": 17,
   "metadata": {},
   "outputs": [
    {
     "data": {
      "text/plain": [
       "      fun: 0.11589128213713537\n",
       " hess_inv: array([[1, 0, 0, 0, 0],\n",
       "       [0, 1, 0, 0, 0],\n",
       "       [0, 0, 1, 0, 0],\n",
       "       [0, 0, 0, 1, 0],\n",
       "       [0, 0, 0, 0, 1]])\n",
       "      jac: array([0., 0., 0., 0., 0.])\n",
       "  message: 'Optimization terminated successfully.'\n",
       "     nfev: 6\n",
       "      nit: 0\n",
       "     njev: 1\n",
       "   status: 0\n",
       "  success: True\n",
       "        x: array([0.3254848 , 0.23021917, 0.59095773, 0.43760224, 0.58324472])"
      ]
     },
     "execution_count": 17,
     "metadata": {},
     "output_type": "execute_result"
    }
   ],
   "source": [
    "res"
   ]
  },
  {
   "cell_type": "code",
   "execution_count": 11,
   "metadata": {},
   "outputs": [
    {
     "name": "stdout",
     "output_type": "stream",
     "text": [
      "true parameters [ 0.48158119 -0.42857143  0.001       0.001       0.001     ]\n"
     ]
    }
   ],
   "source": [
    "print('true parameters',true_parameters.values)"
   ]
  },
  {
   "cell_type": "code",
   "execution_count": 12,
   "metadata": {},
   "outputs": [
    {
     "data": {
      "text/plain": [
       "array([ 0.02403026,  0.23214286,  0.        ,  0.        , -0.0205849 ])"
      ]
     },
     "execution_count": 12,
     "metadata": {},
     "output_type": "execute_result"
    }
   ],
   "source": [
    "X_scaled[0,2:7]"
   ]
  },
  {
   "cell_type": "code",
   "execution_count": 15,
   "metadata": {},
   "outputs": [],
   "source": [
    "solution_scaled = np.append(X_scaled[0][0:2], res.x)"
   ]
  },
  {
   "cell_type": "code",
   "execution_count": 16,
   "metadata": {},
   "outputs": [
    {
     "data": {
      "text/plain": [
       "array([ 6.51037045, -0.43164932,  0.47317522,  4.37658481,  0.26500252])"
      ]
     },
     "execution_count": 16,
     "metadata": {},
     "output_type": "execute_result"
    }
   ],
   "source": [
    "solution = input_scaler.inverse_transform([solution_scaled])[0][2:7]\n",
    "solution"
   ]
  },
  {
   "cell_type": "markdown",
   "metadata": {},
   "source": [
    "# Validation by known solution"
   ]
  },
  {
   "cell_type": "code",
   "execution_count": null,
   "metadata": {},
   "outputs": [],
   "source": [
    "df_val_known = df.copy()\n",
    "df_val_known[df_val_known.columns[2:7]] = true_parameters.values\n",
    "X_val_known = df_val_known.drop(['C_price','delta'], axis=1)\n",
    "#y_val = df_val[['C_price']]\n",
    "X_val_known_scaled =input_scaler.transform(X_val_known)\n",
    "X_val_known_scaled = torch.DoubleTensor(X_val_known_scaled).to(device)"
   ]
  },
  {
   "cell_type": "code",
   "execution_count": null,
   "metadata": {},
   "outputs": [],
   "source": [
    "y_val_known_model = model.forward(X_val_known_scaled).detach()\n",
    "loss = criterion(y_val_known_model, y_tensor.to(device))\n",
    "print(loss)"
   ]
  },
  {
   "cell_type": "code",
   "execution_count": null,
   "metadata": {},
   "outputs": [],
   "source": [
    "y_val_known_model = y_val_known_model.detach().cpu()\n",
    "y_tensor = y_tensor.cpu()\n",
    "plt.plot(df['k'],y_val_known_model,label='NN model')\n",
    "plt.plot(df['k'],y_tensor,label='True value')\n",
    "#plt.yscale('log')\n",
    "plt.legend()\n",
    "plt.show()"
   ]
  },
  {
   "cell_type": "markdown",
   "metadata": {},
   "source": [
    "# Validation by solution"
   ]
  },
  {
   "cell_type": "code",
   "execution_count": null,
   "metadata": {},
   "outputs": [],
   "source": [
    "df_val = df.copy()\n",
    "df_val[df_val.columns[2:7]] = solution # reset values\n",
    "X_val = df_val.drop(['C_price','delta'], axis=1)\n",
    "#y_val = df_val[['C_price']]\n",
    "X_val_scaled =input_scaler.transform(X_val)\n",
    "X_val_scaled = torch.DoubleTensor(X_val_scaled).to(device)"
   ]
  },
  {
   "cell_type": "code",
   "execution_count": null,
   "metadata": {},
   "outputs": [],
   "source": [
    "X_val_scaled"
   ]
  },
  {
   "cell_type": "code",
   "execution_count": null,
   "metadata": {},
   "outputs": [],
   "source": [
    "criterion = nn.MSELoss()\n",
    "y_val_model = model.forward(X_val_scaled)\n",
    "loss = criterion(y_val_model, y_tensor.to(device))\n",
    "print(loss)"
   ]
  },
  {
   "cell_type": "code",
   "execution_count": null,
   "metadata": {},
   "outputs": [],
   "source": [
    "y_val_model = y_val_model.detach().cpu()\n",
    "y_tensor = y_tensor.cpu()\n",
    "plt.plot(df['k'],y_val_model,label='NN model')\n",
    "plt.plot(df['k'],y_tensor,label='True value')\n",
    "#plt.yscale('log')\n",
    "plt.legend()\n",
    "plt.show()"
   ]
  },
  {
   "cell_type": "code",
   "execution_count": null,
   "metadata": {},
   "outputs": [],
   "source": []
  },
  {
   "cell_type": "code",
   "execution_count": null,
   "metadata": {},
   "outputs": [],
   "source": []
  }
 ],
 "metadata": {
  "kernelspec": {
   "display_name": "Python 3",
   "language": "python",
   "name": "python3"
  },
  "language_info": {
   "codemirror_mode": {
    "name": "ipython",
    "version": 3
   },
   "file_extension": ".py",
   "mimetype": "text/x-python",
   "name": "python",
   "nbconvert_exporter": "python",
   "pygments_lexer": "ipython3",
   "version": "3.7.4"
  }
 },
 "nbformat": 4,
 "nbformat_minor": 4
}
