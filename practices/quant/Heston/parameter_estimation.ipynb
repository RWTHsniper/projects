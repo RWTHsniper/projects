{
 "cells": [
  {
   "cell_type": "code",
   "execution_count": 1,
   "metadata": {},
   "outputs": [],
   "source": [
    "import numpy as np\n",
    "import pandas as pd\n",
    "import matplotlib.pyplot as plt\n",
    "from sklearn.model_selection import train_test_split\n",
    "from sklearn import preprocessing\n",
    "import copy\n",
    "\n",
    "import torch\n",
    "import torch.nn as nn\n",
    "import torch.nn.functional as F\n",
    "import torch.optim as optim\n",
    "from torch.autograd import grad\n",
    "\n",
    "from scipy.optimize import minimize\n",
    "\n",
    "from pickle import dump, load\n",
    "\n",
    "from Heston_NN import Net,weights_init"
   ]
  },
  {
   "cell_type": "code",
   "execution_count": 2,
   "metadata": {},
   "outputs": [
    {
     "data": {
      "text/plain": [
       "'\\n1. Write a wrapper function.\\nout = model.forward(input)\\n2. Write a wrapper function for gradients\\n\\n'"
      ]
     },
     "execution_count": 2,
     "metadata": {},
     "output_type": "execute_result"
    }
   ],
   "source": [
    "\"\"\"\n",
    "1. Write a wrapper function.\n",
    "out = model.forward(input)\n",
    "2. Write a wrapper function for gradients\n",
    "\n",
    "\"\"\""
   ]
  },
  {
   "cell_type": "code",
   "execution_count": 3,
   "metadata": {},
   "outputs": [
    {
     "data": {
      "text/plain": [
       "Net(\n",
       "  (fc1): Linear(in_features=7, out_features=128, bias=True)\n",
       "  (fc2): Linear(in_features=128, out_features=128, bias=True)\n",
       "  (fc3): Linear(in_features=128, out_features=128, bias=True)\n",
       "  (fc7): Linear(in_features=128, out_features=1, bias=True)\n",
       ")"
      ]
     },
     "execution_count": 3,
     "metadata": {},
     "output_type": "execute_result"
    }
   ],
   "source": [
    "#model = Net()\n",
    "model = Net(num_neurons=128)\n",
    "\n",
    "#model.load_state_dict(torch.load('heston_NN_colab'))\n",
    "#model = Net(num_neurons=16,device='cpu')\n",
    "model.load_state_dict(torch.load('heston_NN_intermediate'))\n",
    "device = model.device\n",
    "\n",
    "model = model.double()\n",
    "model.eval() # evaluation mode"
   ]
  },
  {
   "cell_type": "code",
   "execution_count": 4,
   "metadata": {
    "scrolled": true
   },
   "outputs": [
    {
     "data": {
      "text/html": [
       "<div>\n",
       "<style scoped>\n",
       "    .dataframe tbody tr th:only-of-type {\n",
       "        vertical-align: middle;\n",
       "    }\n",
       "\n",
       "    .dataframe tbody tr th {\n",
       "        vertical-align: top;\n",
       "    }\n",
       "\n",
       "    .dataframe thead th {\n",
       "        text-align: right;\n",
       "    }\n",
       "</style>\n",
       "<table border=\"1\" class=\"dataframe\">\n",
       "  <thead>\n",
       "    <tr style=\"text-align: right;\">\n",
       "      <th></th>\n",
       "      <th>k</th>\n",
       "      <th>T</th>\n",
       "      <th>v0</th>\n",
       "      <th>rho</th>\n",
       "      <th>kappa</th>\n",
       "      <th>theta</th>\n",
       "      <th>sigma</th>\n",
       "      <th>C_price</th>\n",
       "      <th>delta</th>\n",
       "    </tr>\n",
       "  </thead>\n",
       "  <tbody>\n",
       "    <tr>\n",
       "      <th>0</th>\n",
       "      <td>-0.200000</td>\n",
       "      <td>1.0</td>\n",
       "      <td>0.4</td>\n",
       "      <td>-0.35156</td>\n",
       "      <td>10.980797</td>\n",
       "      <td>0.132328</td>\n",
       "      <td>1.7</td>\n",
       "      <td>0.320623</td>\n",
       "      <td>0.898325</td>\n",
       "    </tr>\n",
       "    <tr>\n",
       "      <th>1</th>\n",
       "      <td>-0.195044</td>\n",
       "      <td>1.0</td>\n",
       "      <td>0.4</td>\n",
       "      <td>-0.35156</td>\n",
       "      <td>10.980797</td>\n",
       "      <td>0.132328</td>\n",
       "      <td>1.7</td>\n",
       "      <td>0.317760</td>\n",
       "      <td>0.894629</td>\n",
       "    </tr>\n",
       "    <tr>\n",
       "      <th>2</th>\n",
       "      <td>-0.190113</td>\n",
       "      <td>1.0</td>\n",
       "      <td>0.4</td>\n",
       "      <td>-0.35156</td>\n",
       "      <td>10.980797</td>\n",
       "      <td>0.132328</td>\n",
       "      <td>1.7</td>\n",
       "      <td>0.314919</td>\n",
       "      <td>0.890076</td>\n",
       "    </tr>\n",
       "    <tr>\n",
       "      <th>3</th>\n",
       "      <td>-0.185206</td>\n",
       "      <td>1.0</td>\n",
       "      <td>0.4</td>\n",
       "      <td>-0.35156</td>\n",
       "      <td>10.980797</td>\n",
       "      <td>0.132328</td>\n",
       "      <td>1.7</td>\n",
       "      <td>0.312098</td>\n",
       "      <td>0.886231</td>\n",
       "    </tr>\n",
       "    <tr>\n",
       "      <th>4</th>\n",
       "      <td>-0.180323</td>\n",
       "      <td>1.0</td>\n",
       "      <td>0.4</td>\n",
       "      <td>-0.35156</td>\n",
       "      <td>10.980797</td>\n",
       "      <td>0.132328</td>\n",
       "      <td>1.7</td>\n",
       "      <td>0.309299</td>\n",
       "      <td>0.881747</td>\n",
       "    </tr>\n",
       "    <tr>\n",
       "      <th>...</th>\n",
       "      <td>...</td>\n",
       "      <td>...</td>\n",
       "      <td>...</td>\n",
       "      <td>...</td>\n",
       "      <td>...</td>\n",
       "      <td>...</td>\n",
       "      <td>...</td>\n",
       "      <td>...</td>\n",
       "      <td>...</td>\n",
       "    </tr>\n",
       "    <tr>\n",
       "      <th>95</th>\n",
       "      <td>0.186590</td>\n",
       "      <td>1.0</td>\n",
       "      <td>0.4</td>\n",
       "      <td>-0.35156</td>\n",
       "      <td>10.980797</td>\n",
       "      <td>0.132328</td>\n",
       "      <td>1.7</td>\n",
       "      <td>0.134397</td>\n",
       "      <td>0.483120</td>\n",
       "    </tr>\n",
       "    <tr>\n",
       "      <th>96</th>\n",
       "      <td>0.189959</td>\n",
       "      <td>1.0</td>\n",
       "      <td>0.4</td>\n",
       "      <td>-0.35156</td>\n",
       "      <td>10.980797</td>\n",
       "      <td>0.132328</td>\n",
       "      <td>1.7</td>\n",
       "      <td>0.133224</td>\n",
       "      <td>0.481275</td>\n",
       "    </tr>\n",
       "    <tr>\n",
       "      <th>97</th>\n",
       "      <td>0.193318</td>\n",
       "      <td>1.0</td>\n",
       "      <td>0.4</td>\n",
       "      <td>-0.35156</td>\n",
       "      <td>10.980797</td>\n",
       "      <td>0.132328</td>\n",
       "      <td>1.7</td>\n",
       "      <td>0.132076</td>\n",
       "      <td>0.473339</td>\n",
       "    </tr>\n",
       "    <tr>\n",
       "      <th>98</th>\n",
       "      <td>0.196664</td>\n",
       "      <td>1.0</td>\n",
       "      <td>0.4</td>\n",
       "      <td>-0.35156</td>\n",
       "      <td>10.980797</td>\n",
       "      <td>0.132328</td>\n",
       "      <td>1.7</td>\n",
       "      <td>0.130935</td>\n",
       "      <td>0.471545</td>\n",
       "    </tr>\n",
       "    <tr>\n",
       "      <th>99</th>\n",
       "      <td>0.200000</td>\n",
       "      <td>1.0</td>\n",
       "      <td>0.4</td>\n",
       "      <td>-0.35156</td>\n",
       "      <td>10.980797</td>\n",
       "      <td>0.132328</td>\n",
       "      <td>1.7</td>\n",
       "      <td>0.129800</td>\n",
       "      <td>0.469760</td>\n",
       "    </tr>\n",
       "  </tbody>\n",
       "</table>\n",
       "<p>100 rows × 9 columns</p>\n",
       "</div>"
      ],
      "text/plain": [
       "           k    T   v0      rho      kappa     theta  sigma   C_price  \\\n",
       "0  -0.200000  1.0  0.4 -0.35156  10.980797  0.132328    1.7  0.320623   \n",
       "1  -0.195044  1.0  0.4 -0.35156  10.980797  0.132328    1.7  0.317760   \n",
       "2  -0.190113  1.0  0.4 -0.35156  10.980797  0.132328    1.7  0.314919   \n",
       "3  -0.185206  1.0  0.4 -0.35156  10.980797  0.132328    1.7  0.312098   \n",
       "4  -0.180323  1.0  0.4 -0.35156  10.980797  0.132328    1.7  0.309299   \n",
       "..       ...  ...  ...      ...        ...       ...    ...       ...   \n",
       "95  0.186590  1.0  0.4 -0.35156  10.980797  0.132328    1.7  0.134397   \n",
       "96  0.189959  1.0  0.4 -0.35156  10.980797  0.132328    1.7  0.133224   \n",
       "97  0.193318  1.0  0.4 -0.35156  10.980797  0.132328    1.7  0.132076   \n",
       "98  0.196664  1.0  0.4 -0.35156  10.980797  0.132328    1.7  0.130935   \n",
       "99  0.200000  1.0  0.4 -0.35156  10.980797  0.132328    1.7  0.129800   \n",
       "\n",
       "       delta  \n",
       "0   0.898325  \n",
       "1   0.894629  \n",
       "2   0.890076  \n",
       "3   0.886231  \n",
       "4   0.881747  \n",
       "..       ...  \n",
       "95  0.483120  \n",
       "96  0.481275  \n",
       "97  0.473339  \n",
       "98  0.471545  \n",
       "99  0.469760  \n",
       "\n",
       "[100 rows x 9 columns]"
      ]
     },
     "execution_count": 4,
     "metadata": {},
     "output_type": "execute_result"
    }
   ],
   "source": [
    "df = pd.read_csv('Heston_surface')\n",
    "X = df.drop(['C_price','delta'], axis=1)\n",
    "y = df[['C_price']]\n",
    "input_scaler = load(open('input_scaler.pkl', 'rb'))\n",
    "X_scaled =input_scaler.transform(X)\n",
    "y_tensor = torch.DoubleTensor(y.values).to(device)\n",
    "true_parameters = df.iloc[0][2:7]\n",
    "df # k,T, C_price are given. Find v0, rho, kappa, theta, sigma"
   ]
  },
  {
   "cell_type": "code",
   "execution_count": 5,
   "metadata": {},
   "outputs": [],
   "source": [
    "# First, we should have a dataset from a parameter set"
   ]
  },
  {
   "cell_type": "code",
   "execution_count": 6,
   "metadata": {},
   "outputs": [
    {
     "name": "stdout",
     "output_type": "stream",
     "text": [
      "[0.21607271 0.1036858  0.40243797 0.28652921 0.92489406]\n"
     ]
    }
   ],
   "source": [
    "#inp = np.array([np.double(np.random.uniform()) for i in range(7)]) # random tensor\n",
    "inp = np.array([np.double(np.random.uniform()) for i in range(5)]) # random tensor (0,1) don't need to scale\n",
    "inp[1] = np.random.uniform(0.0,0.5) # rho is usually negative\n",
    "print(inp)\n",
    "#inp = df.iloc[99].values"
   ]
  },
  {
   "cell_type": "code",
   "execution_count": 7,
   "metadata": {},
   "outputs": [],
   "source": [
    "criterion = nn.MSELoss()\n",
    "\n",
    "def model_wrapper(inp):\n",
    "    buffer = X_scaled.copy()\n",
    "    buffer[:,2:7] = inp\n",
    "    tensor_buffer = torch.DoubleTensor(buffer).to(device)\n",
    "    out =  model.forward(tensor_buffer).detach()\n",
    "    loss = criterion(out, y_tensor)\n",
    "#    num_rows = df.shape[0]\n",
    "#    for index in range(num_rows):\n",
    "#        row = X_scaled[index,:]\n",
    "#        buffer[0:2] = row[0:2]\n",
    "#        buffer[2:7] = inp[:]\n",
    "#        C_price = df.iloc[index]['C_price']\n",
    "#        out = model.forward(torch.tensor(buffer, dtype=torch.double).to(device)).detach().cpu().numpy()\n",
    "#        loss += np.power(out[0] - C_price,2)\n",
    "\n",
    "    return loss.detach().cpu().numpy()"
   ]
  },
  {
   "cell_type": "code",
   "execution_count": 8,
   "metadata": {},
   "outputs": [
    {
     "name": "stdout",
     "output_type": "stream",
     "text": [
      "initial function  0.0036312705494726915\n",
      "function value  0.002114695033607699\n",
      "initial guess  [0.21607271 0.1036858  0.40243797 0.28652921 0.92489406]\n",
      "result  [-0.21178512  0.08436286  0.15151818  0.15052149  0.63754837]\n",
      "true  [0.36187524 0.32422    0.5490173  0.01313411 0.11893595]\n",
      "function with true  0.04302160584501976\n"
     ]
    }
   ],
   "source": [
    "res = minimize(model_wrapper,inp,tol=1e-8)\n",
    "print('initial function ',model_wrapper(inp))\n",
    "print('function value ',res.fun)\n",
    "print('initial guess ',inp)\n",
    "print('result ',res.x)\n",
    "print('true ',X_scaled[0,2:7])\n",
    "print('function with true ', model_wrapper(X_scaled[0,2:7]))"
   ]
  },
  {
   "cell_type": "code",
   "execution_count": 9,
   "metadata": {},
   "outputs": [
    {
     "name": "stdout",
     "output_type": "stream",
     "text": [
      "true parameters [ 0.4      -0.35156  10.980797  0.132328  1.7     ]\n"
     ]
    }
   ],
   "source": [
    "print('true parameters',true_parameters.values)"
   ]
  },
  {
   "cell_type": "code",
   "execution_count": 10,
   "metadata": {},
   "outputs": [
    {
     "data": {
      "text/plain": [
       "array([0.36187524, 0.32422   , 0.5490173 , 0.01313411, 0.11893595])"
      ]
     },
     "execution_count": 10,
     "metadata": {},
     "output_type": "execute_result"
    }
   ],
   "source": [
    "X_scaled[0,2:7]"
   ]
  },
  {
   "cell_type": "code",
   "execution_count": 11,
   "metadata": {},
   "outputs": [],
   "source": [
    "solution_scaled = np.append(X_scaled[0][0:2], res.x)"
   ]
  },
  {
   "cell_type": "code",
   "execution_count": 12,
   "metadata": {},
   "outputs": [
    {
     "data": {
      "text/plain": [
       "array([ 0.26720061, -0.83127428,  3.031212  ,  1.50606442,  9.10837841])"
      ]
     },
     "execution_count": 12,
     "metadata": {},
     "output_type": "execute_result"
    }
   ],
   "source": [
    "solution = input_scaler.inverse_transform([solution_scaled])[0][2:7]\n",
    "solution"
   ]
  },
  {
   "cell_type": "markdown",
   "metadata": {},
   "source": [
    "# Validation by known solution"
   ]
  },
  {
   "cell_type": "code",
   "execution_count": 13,
   "metadata": {},
   "outputs": [],
   "source": [
    "df_val_known = df.copy()\n",
    "df_val_known[df_val_known.columns[2:7]] = true_parameters.values\n",
    "X_val_known = df_val_known.drop(['C_price','delta'], axis=1)\n",
    "#y_val = df_val[['C_price']]\n",
    "X_val_known_scaled =input_scaler.transform(X_val_known)\n",
    "X_val_known_scaled = torch.DoubleTensor(X_val_known_scaled).to(device)"
   ]
  },
  {
   "cell_type": "code",
   "execution_count": 14,
   "metadata": {},
   "outputs": [
    {
     "name": "stdout",
     "output_type": "stream",
     "text": [
      "tensor(0.0430, device='cuda:0', dtype=torch.float64, grad_fn=<MseLossBackward>)\n"
     ]
    }
   ],
   "source": [
    "y_val_known_model = model.forward(X_val_known_scaled)\n",
    "loss = criterion(y_val_known_model, y_tensor.to(device))\n",
    "print(loss)"
   ]
  },
  {
   "cell_type": "code",
   "execution_count": 20,
   "metadata": {},
   "outputs": [
    {
     "data": {
      "image/png": "[encoded data removed]",
      "text/plain": [
       "<Figure size 432x288 with 1 Axes>"
      ]
     },
     "metadata": {
      "needs_background": "light"
     },
     "output_type": "display_data"
    }
   ],
   "source": [
    "y_val_known_model = y_val_known_model.detach().cpu()\n",
    "y_tensor = y_tensor.cpu()\n",
    "plt.plot(df['k'],y_val_known_model,label='NN model')\n",
    "plt.plot(df['k'],y_tensor,label='True value')\n",
    "#plt.yscale('log')\n",
    "plt.legend()\n",
    "plt.show()"
   ]
  },
  {
   "cell_type": "markdown",
   "metadata": {},
   "source": [
    "# Validation by solution"
   ]
  },
  {
   "cell_type": "code",
   "execution_count": 16,
   "metadata": {},
   "outputs": [],
   "source": [
    "df_val = df.copy()\n",
    "df_val[df_val.columns[2:7]] = solution # reset values\n",
    "X_val = df_val.drop(['C_price','delta'], axis=1)\n",
    "#y_val = df_val[['C_price']]\n",
    "X_val_scaled =input_scaler.transform(X_val)\n",
    "X_val_scaled = torch.DoubleTensor(X_val_scaled).to(device)"
   ]
  },
  {
   "cell_type": "code",
   "execution_count": 17,
   "metadata": {},
   "outputs": [
    {
     "data": {
      "text/plain": [
       "tensor([[-1.1102e-16,  0.0000e+00, -2.1179e-01,  8.4363e-02,  1.5152e-01,\n",
       "          1.5052e-01,  6.3755e-01],\n",
       "        [ 1.2389e-02,  0.0000e+00, -2.1179e-01,  8.4363e-02,  1.5152e-01,\n",
       "          1.5052e-01,  6.3755e-01],\n",
       "        [ 2.4717e-02,  0.0000e+00, -2.1179e-01,  8.4363e-02,  1.5152e-01,\n",
       "          1.5052e-01,  6.3755e-01],\n",
       "        [ 3.6985e-02,  0.0000e+00, -2.1179e-01,  8.4363e-02,  1.5152e-01,\n",
       "          1.5052e-01,  6.3755e-01],\n",
       "        [ 4.9192e-02,  0.0000e+00, -2.1179e-01,  8.4363e-02,  1.5152e-01,\n",
       "          1.5052e-01,  6.3755e-01],\n",
       "        [ 6.1340e-02,  0.0000e+00, -2.1179e-01,  8.4363e-02,  1.5152e-01,\n",
       "          1.5052e-01,  6.3755e-01],\n",
       "        [ 7.3430e-02,  0.0000e+00, -2.1179e-01,  8.4363e-02,  1.5152e-01,\n",
       "          1.5052e-01,  6.3755e-01],\n",
       "        [ 8.5461e-02,  0.0000e+00, -2.1179e-01,  8.4363e-02,  1.5152e-01,\n",
       "          1.5052e-01,  6.3755e-01],\n",
       "        [ 9.7435e-02,  0.0000e+00, -2.1179e-01,  8.4363e-02,  1.5152e-01,\n",
       "          1.5052e-01,  6.3755e-01],\n",
       "        [ 1.0935e-01,  0.0000e+00, -2.1179e-01,  8.4363e-02,  1.5152e-01,\n",
       "          1.5052e-01,  6.3755e-01],\n",
       "        [ 1.2121e-01,  0.0000e+00, -2.1179e-01,  8.4363e-02,  1.5152e-01,\n",
       "          1.5052e-01,  6.3755e-01],\n",
       "        [ 1.3302e-01,  0.0000e+00, -2.1179e-01,  8.4363e-02,  1.5152e-01,\n",
       "          1.5052e-01,  6.3755e-01],\n",
       "        [ 1.4476e-01,  0.0000e+00, -2.1179e-01,  8.4363e-02,  1.5152e-01,\n",
       "          1.5052e-01,  6.3755e-01],\n",
       "        [ 1.5646e-01,  0.0000e+00, -2.1179e-01,  8.4363e-02,  1.5152e-01,\n",
       "          1.5052e-01,  6.3755e-01],\n",
       "        [ 1.6810e-01,  0.0000e+00, -2.1179e-01,  8.4363e-02,  1.5152e-01,\n",
       "          1.5052e-01,  6.3755e-01],\n",
       "        [ 1.7968e-01,  0.0000e+00, -2.1179e-01,  8.4363e-02,  1.5152e-01,\n",
       "          1.5052e-01,  6.3755e-01],\n",
       "        [ 1.9121e-01,  0.0000e+00, -2.1179e-01,  8.4363e-02,  1.5152e-01,\n",
       "          1.5052e-01,  6.3755e-01],\n",
       "        [ 2.0269e-01,  0.0000e+00, -2.1179e-01,  8.4363e-02,  1.5152e-01,\n",
       "          1.5052e-01,  6.3755e-01],\n",
       "        [ 2.1412e-01,  0.0000e+00, -2.1179e-01,  8.4363e-02,  1.5152e-01,\n",
       "          1.5052e-01,  6.3755e-01],\n",
       "        [ 2.2549e-01,  0.0000e+00, -2.1179e-01,  8.4363e-02,  1.5152e-01,\n",
       "          1.5052e-01,  6.3755e-01],\n",
       "        [ 2.3682e-01,  0.0000e+00, -2.1179e-01,  8.4363e-02,  1.5152e-01,\n",
       "          1.5052e-01,  6.3755e-01],\n",
       "        [ 2.4809e-01,  0.0000e+00, -2.1179e-01,  8.4363e-02,  1.5152e-01,\n",
       "          1.5052e-01,  6.3755e-01],\n",
       "        [ 2.5931e-01,  0.0000e+00, -2.1179e-01,  8.4363e-02,  1.5152e-01,\n",
       "          1.5052e-01,  6.3755e-01],\n",
       "        [ 2.7048e-01,  0.0000e+00, -2.1179e-01,  8.4363e-02,  1.5152e-01,\n",
       "          1.5052e-01,  6.3755e-01],\n",
       "        [ 2.8160e-01,  0.0000e+00, -2.1179e-01,  8.4363e-02,  1.5152e-01,\n",
       "          1.5052e-01,  6.3755e-01],\n",
       "        [ 2.9268e-01,  0.0000e+00, -2.1179e-01,  8.4363e-02,  1.5152e-01,\n",
       "          1.5052e-01,  6.3755e-01],\n",
       "        [ 3.0370e-01,  0.0000e+00, -2.1179e-01,  8.4363e-02,  1.5152e-01,\n",
       "          1.5052e-01,  6.3755e-01],\n",
       "        [ 3.1467e-01,  0.0000e+00, -2.1179e-01,  8.4363e-02,  1.5152e-01,\n",
       "          1.5052e-01,  6.3755e-01],\n",
       "        [ 3.2560e-01,  0.0000e+00, -2.1179e-01,  8.4363e-02,  1.5152e-01,\n",
       "          1.5052e-01,  6.3755e-01],\n",
       "        [ 3.3648e-01,  0.0000e+00, -2.1179e-01,  8.4363e-02,  1.5152e-01,\n",
       "          1.5052e-01,  6.3755e-01],\n",
       "        [ 3.4731e-01,  0.0000e+00, -2.1179e-01,  8.4363e-02,  1.5152e-01,\n",
       "          1.5052e-01,  6.3755e-01],\n",
       "        [ 3.5810e-01,  0.0000e+00, -2.1179e-01,  8.4363e-02,  1.5152e-01,\n",
       "          1.5052e-01,  6.3755e-01],\n",
       "        [ 3.6884e-01,  0.0000e+00, -2.1179e-01,  8.4363e-02,  1.5152e-01,\n",
       "          1.5052e-01,  6.3755e-01],\n",
       "        [ 3.7953e-01,  0.0000e+00, -2.1179e-01,  8.4363e-02,  1.5152e-01,\n",
       "          1.5052e-01,  6.3755e-01],\n",
       "        [ 3.9018e-01,  0.0000e+00, -2.1179e-01,  8.4363e-02,  1.5152e-01,\n",
       "          1.5052e-01,  6.3755e-01],\n",
       "        [ 4.0078e-01,  0.0000e+00, -2.1179e-01,  8.4363e-02,  1.5152e-01,\n",
       "          1.5052e-01,  6.3755e-01],\n",
       "        [ 4.1134e-01,  0.0000e+00, -2.1179e-01,  8.4363e-02,  1.5152e-01,\n",
       "          1.5052e-01,  6.3755e-01],\n",
       "        [ 4.2185e-01,  0.0000e+00, -2.1179e-01,  8.4363e-02,  1.5152e-01,\n",
       "          1.5052e-01,  6.3755e-01],\n",
       "        [ 4.3232e-01,  0.0000e+00, -2.1179e-01,  8.4363e-02,  1.5152e-01,\n",
       "          1.5052e-01,  6.3755e-01],\n",
       "        [ 4.4275e-01,  0.0000e+00, -2.1179e-01,  8.4363e-02,  1.5152e-01,\n",
       "          1.5052e-01,  6.3755e-01],\n",
       "        [ 4.5313e-01,  0.0000e+00, -2.1179e-01,  8.4363e-02,  1.5152e-01,\n",
       "          1.5052e-01,  6.3755e-01],\n",
       "        [ 4.6347e-01,  0.0000e+00, -2.1179e-01,  8.4363e-02,  1.5152e-01,\n",
       "          1.5052e-01,  6.3755e-01],\n",
       "        [ 4.7377e-01,  0.0000e+00, -2.1179e-01,  8.4363e-02,  1.5152e-01,\n",
       "          1.5052e-01,  6.3755e-01],\n",
       "        [ 4.8402e-01,  0.0000e+00, -2.1179e-01,  8.4363e-02,  1.5152e-01,\n",
       "          1.5052e-01,  6.3755e-01],\n",
       "        [ 4.9423e-01,  0.0000e+00, -2.1179e-01,  8.4363e-02,  1.5152e-01,\n",
       "          1.5052e-01,  6.3755e-01],\n",
       "        [ 5.0440e-01,  0.0000e+00, -2.1179e-01,  8.4363e-02,  1.5152e-01,\n",
       "          1.5052e-01,  6.3755e-01],\n",
       "        [ 5.1453e-01,  0.0000e+00, -2.1179e-01,  8.4363e-02,  1.5152e-01,\n",
       "          1.5052e-01,  6.3755e-01],\n",
       "        [ 5.2462e-01,  0.0000e+00, -2.1179e-01,  8.4363e-02,  1.5152e-01,\n",
       "          1.5052e-01,  6.3755e-01],\n",
       "        [ 5.3467e-01,  0.0000e+00, -2.1179e-01,  8.4363e-02,  1.5152e-01,\n",
       "          1.5052e-01,  6.3755e-01],\n",
       "        [ 5.4468e-01,  0.0000e+00, -2.1179e-01,  8.4363e-02,  1.5152e-01,\n",
       "          1.5052e-01,  6.3755e-01],\n",
       "        [ 5.5465e-01,  0.0000e+00, -2.1179e-01,  8.4363e-02,  1.5152e-01,\n",
       "          1.5052e-01,  6.3755e-01],\n",
       "        [ 5.6458e-01,  0.0000e+00, -2.1179e-01,  8.4363e-02,  1.5152e-01,\n",
       "          1.5052e-01,  6.3755e-01],\n",
       "        [ 5.7447e-01,  0.0000e+00, -2.1179e-01,  8.4363e-02,  1.5152e-01,\n",
       "          1.5052e-01,  6.3755e-01],\n",
       "        [ 5.8432e-01,  0.0000e+00, -2.1179e-01,  8.4363e-02,  1.5152e-01,\n",
       "          1.5052e-01,  6.3755e-01],\n",
       "        [ 5.9413e-01,  0.0000e+00, -2.1179e-01,  8.4363e-02,  1.5152e-01,\n",
       "          1.5052e-01,  6.3755e-01],\n",
       "        [ 6.0390e-01,  0.0000e+00, -2.1179e-01,  8.4363e-02,  1.5152e-01,\n",
       "          1.5052e-01,  6.3755e-01],\n",
       "        [ 6.1364e-01,  0.0000e+00, -2.1179e-01,  8.4363e-02,  1.5152e-01,\n",
       "          1.5052e-01,  6.3755e-01],\n",
       "        [ 6.2334e-01,  0.0000e+00, -2.1179e-01,  8.4363e-02,  1.5152e-01,\n",
       "          1.5052e-01,  6.3755e-01],\n",
       "        [ 6.3300e-01,  0.0000e+00, -2.1179e-01,  8.4363e-02,  1.5152e-01,\n",
       "          1.5052e-01,  6.3755e-01],\n",
       "        [ 6.4262e-01,  0.0000e+00, -2.1179e-01,  8.4363e-02,  1.5152e-01,\n",
       "          1.5052e-01,  6.3755e-01],\n",
       "        [ 6.5221e-01,  0.0000e+00, -2.1179e-01,  8.4363e-02,  1.5152e-01,\n",
       "          1.5052e-01,  6.3755e-01],\n",
       "        [ 6.6176e-01,  0.0000e+00, -2.1179e-01,  8.4363e-02,  1.5152e-01,\n",
       "          1.5052e-01,  6.3755e-01],\n",
       "        [ 6.7127e-01,  0.0000e+00, -2.1179e-01,  8.4363e-02,  1.5152e-01,\n",
       "          1.5052e-01,  6.3755e-01],\n",
       "        [ 6.8075e-01,  0.0000e+00, -2.1179e-01,  8.4363e-02,  1.5152e-01,\n",
       "          1.5052e-01,  6.3755e-01],\n",
       "        [ 6.9019e-01,  0.0000e+00, -2.1179e-01,  8.4363e-02,  1.5152e-01,\n",
       "          1.5052e-01,  6.3755e-01],\n",
       "        [ 6.9959e-01,  0.0000e+00, -2.1179e-01,  8.4363e-02,  1.5152e-01,\n",
       "          1.5052e-01,  6.3755e-01],\n",
       "        [ 7.0897e-01,  0.0000e+00, -2.1179e-01,  8.4363e-02,  1.5152e-01,\n",
       "          1.5052e-01,  6.3755e-01],\n",
       "        [ 7.1830e-01,  0.0000e+00, -2.1179e-01,  8.4363e-02,  1.5152e-01,\n",
       "          1.5052e-01,  6.3755e-01],\n",
       "        [ 7.2760e-01,  0.0000e+00, -2.1179e-01,  8.4363e-02,  1.5152e-01,\n",
       "          1.5052e-01,  6.3755e-01],\n",
       "        [ 7.3687e-01,  0.0000e+00, -2.1179e-01,  8.4363e-02,  1.5152e-01,\n",
       "          1.5052e-01,  6.3755e-01],\n",
       "        [ 7.4610e-01,  0.0000e+00, -2.1179e-01,  8.4363e-02,  1.5152e-01,\n",
       "          1.5052e-01,  6.3755e-01],\n",
       "        [ 7.5530e-01,  0.0000e+00, -2.1179e-01,  8.4363e-02,  1.5152e-01,\n",
       "          1.5052e-01,  6.3755e-01],\n",
       "        [ 7.6446e-01,  0.0000e+00, -2.1179e-01,  8.4363e-02,  1.5152e-01,\n",
       "          1.5052e-01,  6.3755e-01],\n",
       "        [ 7.7359e-01,  0.0000e+00, -2.1179e-01,  8.4363e-02,  1.5152e-01,\n",
       "          1.5052e-01,  6.3755e-01],\n",
       "        [ 7.8269e-01,  0.0000e+00, -2.1179e-01,  8.4363e-02,  1.5152e-01,\n",
       "          1.5052e-01,  6.3755e-01],\n",
       "        [ 7.9176e-01,  0.0000e+00, -2.1179e-01,  8.4363e-02,  1.5152e-01,\n",
       "          1.5052e-01,  6.3755e-01],\n",
       "        [ 8.0079e-01,  0.0000e+00, -2.1179e-01,  8.4363e-02,  1.5152e-01,\n",
       "          1.5052e-01,  6.3755e-01],\n",
       "        [ 8.0979e-01,  0.0000e+00, -2.1179e-01,  8.4363e-02,  1.5152e-01,\n",
       "          1.5052e-01,  6.3755e-01],\n",
       "        [ 8.1876e-01,  0.0000e+00, -2.1179e-01,  8.4363e-02,  1.5152e-01,\n",
       "          1.5052e-01,  6.3755e-01],\n",
       "        [ 8.2769e-01,  0.0000e+00, -2.1179e-01,  8.4363e-02,  1.5152e-01,\n",
       "          1.5052e-01,  6.3755e-01],\n",
       "        [ 8.3659e-01,  0.0000e+00, -2.1179e-01,  8.4363e-02,  1.5152e-01,\n",
       "          1.5052e-01,  6.3755e-01],\n",
       "        [ 8.4547e-01,  0.0000e+00, -2.1179e-01,  8.4363e-02,  1.5152e-01,\n",
       "          1.5052e-01,  6.3755e-01],\n",
       "        [ 8.5431e-01,  0.0000e+00, -2.1179e-01,  8.4363e-02,  1.5152e-01,\n",
       "          1.5052e-01,  6.3755e-01],\n",
       "        [ 8.6312e-01,  0.0000e+00, -2.1179e-01,  8.4363e-02,  1.5152e-01,\n",
       "          1.5052e-01,  6.3755e-01],\n",
       "        [ 8.7189e-01,  0.0000e+00, -2.1179e-01,  8.4363e-02,  1.5152e-01,\n",
       "          1.5052e-01,  6.3755e-01],\n",
       "        [ 8.8064e-01,  0.0000e+00, -2.1179e-01,  8.4363e-02,  1.5152e-01,\n",
       "          1.5052e-01,  6.3755e-01],\n",
       "        [ 8.8936e-01,  0.0000e+00, -2.1179e-01,  8.4363e-02,  1.5152e-01,\n",
       "          1.5052e-01,  6.3755e-01],\n",
       "        [ 8.9805e-01,  0.0000e+00, -2.1179e-01,  8.4363e-02,  1.5152e-01,\n",
       "          1.5052e-01,  6.3755e-01],\n",
       "        [ 9.0670e-01,  0.0000e+00, -2.1179e-01,  8.4363e-02,  1.5152e-01,\n",
       "          1.5052e-01,  6.3755e-01],\n",
       "        [ 9.1533e-01,  0.0000e+00, -2.1179e-01,  8.4363e-02,  1.5152e-01,\n",
       "          1.5052e-01,  6.3755e-01],\n",
       "        [ 9.2393e-01,  0.0000e+00, -2.1179e-01,  8.4363e-02,  1.5152e-01,\n",
       "          1.5052e-01,  6.3755e-01],\n",
       "        [ 9.3249e-01,  0.0000e+00, -2.1179e-01,  8.4363e-02,  1.5152e-01,\n",
       "          1.5052e-01,  6.3755e-01],\n",
       "        [ 9.4103e-01,  0.0000e+00, -2.1179e-01,  8.4363e-02,  1.5152e-01,\n",
       "          1.5052e-01,  6.3755e-01],\n",
       "        [ 9.4954e-01,  0.0000e+00, -2.1179e-01,  8.4363e-02,  1.5152e-01,\n",
       "          1.5052e-01,  6.3755e-01],\n",
       "        [ 9.5802e-01,  0.0000e+00, -2.1179e-01,  8.4363e-02,  1.5152e-01,\n",
       "          1.5052e-01,  6.3755e-01],\n",
       "        [ 9.6648e-01,  0.0000e+00, -2.1179e-01,  8.4363e-02,  1.5152e-01,\n",
       "          1.5052e-01,  6.3755e-01],\n",
       "        [ 9.7490e-01,  0.0000e+00, -2.1179e-01,  8.4363e-02,  1.5152e-01,\n",
       "          1.5052e-01,  6.3755e-01],\n",
       "        [ 9.8329e-01,  0.0000e+00, -2.1179e-01,  8.4363e-02,  1.5152e-01,\n",
       "          1.5052e-01,  6.3755e-01],\n",
       "        [ 9.9166e-01,  0.0000e+00, -2.1179e-01,  8.4363e-02,  1.5152e-01,\n",
       "          1.5052e-01,  6.3755e-01],\n",
       "        [ 1.0000e+00,  0.0000e+00, -2.1179e-01,  8.4363e-02,  1.5152e-01,\n",
       "          1.5052e-01,  6.3755e-01]], device='cuda:0', dtype=torch.float64)"
      ]
     },
     "execution_count": 17,
     "metadata": {},
     "output_type": "execute_result"
    }
   ],
   "source": [
    "X_val_scaled"
   ]
  },
  {
   "cell_type": "code",
   "execution_count": 18,
   "metadata": {},
   "outputs": [
    {
     "name": "stdout",
     "output_type": "stream",
     "text": [
      "tensor(0.0021, device='cuda:0', dtype=torch.float64, grad_fn=<MseLossBackward>)\n"
     ]
    }
   ],
   "source": [
    "criterion = nn.MSELoss()\n",
    "y_val_model = model.forward(X_val_scaled)\n",
    "loss = criterion(y_val_model, y_tensor.to(device))\n",
    "print(loss)"
   ]
  },
  {
   "cell_type": "code",
   "execution_count": 19,
   "metadata": {},
   "outputs": [
    {
     "data": {
      "image/png": "[encoded data removed]",
      "text/plain": [
       "<Figure size 432x288 with 1 Axes>"
      ]
     },
     "metadata": {
      "needs_background": "light"
     },
     "output_type": "display_data"
    }
   ],
   "source": [
    "y_val_model = y_val_model.detach().cpu()\n",
    "y_tensor = y_tensor.cpu()\n",
    "plt.plot(df['k'],y_val_model,label='NN model')\n",
    "plt.plot(df['k'],y_tensor,label='True value')\n",
    "#plt.yscale('log')\n",
    "plt.legend()\n",
    "plt.show()"
   ]
  },
  {
   "cell_type": "code",
   "execution_count": null,
   "metadata": {},
   "outputs": [],
   "source": []
  },
  {
   "cell_type": "code",
   "execution_count": null,
   "metadata": {},
   "outputs": [],
   "source": []
  }
 ],
 "metadata": {
  "kernelspec": {
   "display_name": "Python 3",
   "language": "python",
   "name": "python3"
  },
  "language_info": {
   "codemirror_mode": {
    "name": "ipython",
    "version": 3
   },
   "file_extension": ".py",
   "mimetype": "text/x-python",
   "name": "python",
   "nbconvert_exporter": "python",
   "pygments_lexer": "ipython3",
   "version": "3.7.4"
  }
 },
 "nbformat": 4,
 "nbformat_minor": 4
}
