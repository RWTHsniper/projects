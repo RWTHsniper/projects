{
 "cells": [
  {
   "cell_type": "code",
   "execution_count": 1,
   "metadata": {},
   "outputs": [],
   "source": [
    "import FFTW, Interpolations\n",
    "import DataFrames, CSV"
   ]
  },
  {
   "cell_type": "code",
   "execution_count": 2,
   "metadata": {},
   "outputs": [
    {
     "data": {
      "text/plain": [
       "feller_cond (generic function with 1 method)"
      ]
     },
     "execution_count": 2,
     "metadata": {},
     "output_type": "execute_result"
    }
   ],
   "source": [
    "function feller_cond(kappa, theta, sigma)\n",
    "    return 2*kappa*theta > sigma^2\n",
    "end"
   ]
  },
  {
   "cell_type": "code",
   "execution_count": 3,
   "metadata": {},
   "outputs": [
    {
     "data": {
      "text/plain": [
       "500"
      ]
     },
     "execution_count": 3,
     "metadata": {},
     "output_type": "execute_result"
    }
   ],
   "source": [
    "theta = 0.132328; kappa = 10.980797; sigma = 1.7; rho = -0.351560; v0 = 0.065690\n",
    "spot, K = 1.0, 600.0/659.37\n",
    "\n",
    "alp = 0.75\n",
    "s = log(spot)\n",
    "k = log(K)\n",
    "\n",
    "save_freq = 500"
   ]
  },
  {
   "cell_type": "code",
   "execution_count": 4,
   "metadata": {},
   "outputs": [
    {
     "name": "stdout",
     "output_type": "stream",
     "text": [
      "fw = FFTW.fft([1, 2, 3, 4, 5, 6]) = Complex{Float64}[21.0 + 0.0im, -3.0 + 5.196152422706632im, -3.0 + 1.7320508075688772im, -3.0 + 0.0im, -3.0 - 1.7320508075688772im, -3.0 - 5.196152422706632im]\n",
      "bw = FFTW.ifft(fw) = Complex{Float64}[1.0 + 0.0im, 2.0 + 0.0im, 3.0 + 0.0im, 4.0 + 0.0im, 5.0 + 0.0im, 6.0 + 0.0im]\n"
     ]
    },
    {
     "data": {
      "text/plain": [
       "6-element Array{Complex{Float64},1}:\n",
       " 1.0 + 0.0im\n",
       " 2.0 + 0.0im\n",
       " 3.0 + 0.0im\n",
       " 4.0 + 0.0im\n",
       " 5.0 + 0.0im\n",
       " 6.0 + 0.0im"
      ]
     },
     "execution_count": 4,
     "metadata": {},
     "output_type": "execute_result"
    }
   ],
   "source": [
    "@show fw = FFTW.fft([1,2,3,4,5,6])\n",
    "@show bw = FFTW.ifft(fw)"
   ]
  },
  {
   "cell_type": "code",
   "execution_count": 5,
   "metadata": {},
   "outputs": [
    {
     "data": {
      "text/plain": [
       "get_Heston_fft_call (generic function with 3 methods)"
      ]
     },
     "execution_count": 5,
     "metadata": {},
     "output_type": "execute_result"
    }
   ],
   "source": [
    "function get_Heston_chf(x, u, v0, r, rho, ka, th, sig, T)\n",
    "    gam = sqrt(sig^2*u*(u+im) + (ka-im*rho*sig*u)^2)\n",
    "    half_gam_T = gam*T/2.0\n",
    "    coth = 1.0/tanh(half_gam_T)\n",
    "    log_numerator = ka*th*T*(ka-im*rho*sig*u)/sig^2 + im*u*(T*r+x) - (u*(u+im)*v0)/(gam*coth + ka - im*rho*sig*u)\n",
    "    numerator = exp(log_numerator)\n",
    "    denominator = (cosh(half_gam_T) + (ka-im*rho*sig*u)/gam*sinh(half_gam_T))^(2.0*ka*th/sig^2)\n",
    "    return numerator/denominator\n",
    "    \n",
    "end\n",
    "\n",
    "function get_damped_Heston_chf(x, v, v0, r, rho, ka, th, sig, T, alp=0.75)\n",
    "    chf_inp = v - (alp+1.0)*im\n",
    "    numerator = exp(-r*T) * get_Heston_chf(x, chf_inp, v0, r, rho, ka, th, sig, T)\n",
    "    denominator = alp^2 + alp - v^2 +im*(2.0*alp +1.0)*v\n",
    "    return numerator / denominator    \n",
    "end\n",
    "\n",
    "function get_Heston_fft_call(k, x, v0, r, rho, kappa, theta, sigma, T, alp, N=2^12, dk=0.01)# 2048*5\n",
    "    u_list = collect(0:N-1) \n",
    "    dv = 2.0*pi/(N*dk)\n",
    "    k_list = [x + dk*u_elem - N*dk/2.0 for u_elem in u_list]\n",
    "    v_list = collect(0:N-1)*dv\n",
    "    x_list = zeros(Complex{Float64},length(v_list))\n",
    "\n",
    "    for (j,vj) in enumerate(v_list) # j=0 to N-1\n",
    "        jj = j-1 # 0-based indexing\n",
    "        if jj==0\n",
    "            kroneker_delta = 1.0\n",
    "        else\n",
    "            kroneker_delta = 0.0        \n",
    "        end\n",
    "        simpson_coeff = dv/3.0*(3.0 + (-1)^jj - kroneker_delta)\n",
    "        x_list[j] = exp(im*(N/2.0*dk-x)*vj)*simpson_coeff*get_damped_Heston_chf(x, vj, v0, r, rho, kappa, theta, sigma, T, alp)\n",
    "    end\n",
    "    fft_prices = exp(-alp*k)/pi*real(FFTW.fft(x_list))\n",
    "\n",
    "    # interpolate results\n",
    "#    println(k_list)\n",
    "#    println(fft_prices[end-5:end])\n",
    "    return Interpolations.LinearInterpolation(exp.(k_list),fft_prices)(exp(k)) # fft_price\n",
    "\n",
    "end\n"
   ]
  },
  {
   "cell_type": "code",
   "execution_count": 6,
   "metadata": {},
   "outputs": [
    {
     "name": "stdout",
     "output_type": "stream",
     "text": [
      "get_Heston_chf(s, 1.0, v0, r, rho, kappa, theta, sigma, T) = 0.9345074136306533 - 0.055431779426290094im\n",
      "get_damped_Heston_chf(s, 1.0, v0, r, rho, kappa, theta, sigma, T) = 0.10800278041809996 - 0.3916096746416378im\n",
      "get_Heston_fft_call(k, s, v0, r, rho, kappa, theta, sigma, T, alp, 2 ^ 15, 0.01) = 0.18431595807352924\n"
     ]
    },
    {
     "data": {
      "text/plain": [
       "0.18431595807352924"
      ]
     },
     "execution_count": 6,
     "metadata": {},
     "output_type": "execute_result"
    }
   ],
   "source": [
    "r = 0.0\n",
    "T = 1.0\n",
    "@show get_Heston_chf(s, 1.0, v0, r, rho, kappa, theta, sigma, T) # analytic chf  (0.9345074136306541-0.055431779426290094j)\n",
    "@show get_damped_Heston_chf(s, 1.0, v0, r, rho, kappa, theta, sigma, T)\n",
    "@show get_Heston_fft_call(k, s, v0, r, rho, kappa, theta, sigma, T, alp,2^15,1e-2)"
   ]
  },
  {
   "cell_type": "markdown",
   "metadata": {},
   "source": [
    "# Generate Dataset"
   ]
  },
  {
   "cell_type": "code",
   "execution_count": 10,
   "metadata": {},
   "outputs": [
    {
     "data": {
      "text/plain": [
       "0"
      ]
     },
     "execution_count": 10,
     "metadata": {},
     "output_type": "execute_result"
    }
   ],
   "source": [
    "#num_grid_1d = 3\n",
    "#num_grid_1d = 5\n",
    "num_grid_1d = 10\n",
    "alp = 0.75\n",
    "C_price_bounds = [1e-3, 0.5]\n",
    "k_list = range(-0.2,0.2,length=num_grid_1d)\n",
    "logS0 = 0.0 # log-spot. Assume S0: 1\n",
    "dlogS0 = log(1.00001)\n",
    "dS0 = exp(dlogS0) - exp(logS0)\n",
    "T_list = [0.25,0.5,0.75,1.0,2.0]\n",
    "v0_list = range(1e-2,sqrt(0.2),length=num_grid_1d) \n",
    "r = 0.0\n",
    "rho_list = range(-0.8,0.8,length=num_grid_1d) \n",
    "kappa_list = range(1e-3,20.0,length=num_grid_1d) \n",
    "theta_list = range(1e-3,10.0,length=num_grid_1d) \n",
    "sigma_max = sqrt(2.0*maximum(kappa_list)*maximum(theta_list)) \n",
    "sigma_list = range(1e-3,0.8,length=num_grid_1d) \n",
    "\n",
    "pd_dict = Dict()\n",
    "pd_dict[\"k\"] = []; pd_dict[\"T\"] = []; pd_dict[\"v0\"] = []; pd_dict[\"rho\"] = []\n",
    "pd_dict[\"kappa\"] = []; pd_dict[\"theta\"] = []; pd_dict[\"sigma\"] = []; pd_dict[\"C_price\"] = []\n",
    "pd_dict[\"delta\"] = []\n",
    "violation_count = 0\n",
    "count = 0"
   ]
  },
  {
   "cell_type": "code",
   "execution_count": 11,
   "metadata": {},
   "outputs": [
    {
     "name": "stdout",
     "output_type": "stream",
     "text": [
      "Intermediate save 500\n",
      "Intermediate save 1000\n",
      "Intermediate save 1500\n",
      "Intermediate save 2000\n",
      "Intermediate save 2500\n",
      "Intermediate save 3000\n",
      "Intermediate save 3500\n",
      "Intermediate save 4000\n",
      "Intermediate save 4500\n",
      "Intermediate save 5000\n",
      "Intermediate save 5500\n",
      "Intermediate save 6000\n",
      "Intermediate save 6500\n",
      "Intermediate save 7000\n",
      "Intermediate save 7500\n",
      "Intermediate save 8000\n",
      "Intermediate save 8500\n",
      "Intermediate save 9000\n",
      "Intermediate save 9500\n",
      "Intermediate save 10000\n",
      "Intermediate save 10500\n",
      "Intermediate save 11000\n",
      "Intermediate save 11500\n",
      "Intermediate save 12000\n",
      "Intermediate save 12500\n",
      "Intermediate save 13000\n",
      "Intermediate save 13500\n",
      "Intermediate save 14000\n",
      "Intermediate save 14500\n",
      "Intermediate save 15000\n",
      "Intermediate save 15500\n",
      "Intermediate save 16000\n",
      "Intermediate save 16500\n",
      "Intermediate save 17000\n",
      "Intermediate save 17500\n",
      "Intermediate save 18000\n",
      "Intermediate save 18500\n",
      "Intermediate save 19000\n",
      "Intermediate save 19500\n",
      "Intermediate save 20000\n",
      "Intermediate save 20500\n",
      "Intermediate save 21000\n",
      "Intermediate save 21500\n",
      "Intermediate save 22000\n",
      "Intermediate save 22500\n",
      "Intermediate save 23000\n",
      "Intermediate save 23500\n",
      "Intermediate save 24000\n",
      "Intermediate save 24500\n",
      "Intermediate save 25000\n",
      "Intermediate save 25500\n",
      "Intermediate save 26000\n",
      "Intermediate save 26500\n",
      "Intermediate save 27000\n",
      "Intermediate save 27500\n",
      "Intermediate save 28000\n",
      "Intermediate save 28500\n",
      "Intermediate save 29000\n",
      "Intermediate save 29500\n",
      "Intermediate save 30000\n",
      "Intermediate save 30500\n",
      "Intermediate save 31000\n",
      "Intermediate save 31500\n",
      "Intermediate save 32000\n",
      "Intermediate save 32500\n",
      "Intermediate save 33000\n",
      "Intermediate save 33500\n",
      "Intermediate save 34000\n",
      "Intermediate save 34500\n",
      "Intermediate save 35000\n",
      "Intermediate save 35500\n",
      "Intermediate save 36000\n",
      "Intermediate save 36500\n",
      "Intermediate save 37000\n",
      "Intermediate save 37500\n",
      "Intermediate save 38000\n",
      "Intermediate save 38500\n",
      "Intermediate save 39000\n",
      "Intermediate save 39500\n",
      "Intermediate save 40000\n",
      "Intermediate save 40500\n",
      "Intermediate save 41000\n",
      "Intermediate save 41500\n",
      "Intermediate save 42000\n",
      "Intermediate save 42500\n",
      "Intermediate save 43000\n",
      "Intermediate save 43500\n",
      "Intermediate save 44000\n",
      "Intermediate save 44500\n",
      "Intermediate save 45000\n",
      "Intermediate save 45500\n",
      "Intermediate save 46000\n",
      "Intermediate save 46500\n",
      "Intermediate save 47000\n",
      "Intermediate save 47500\n",
      "Intermediate save 48000\n",
      "Intermediate save 48500\n",
      "Intermediate save 49000\n",
      "Intermediate save 49500\n",
      "Intermediate save 50000\n",
      "Intermediate save 50500\n",
      "Intermediate save 51000\n",
      "Intermediate save 51500\n",
      "Intermediate save 52000\n",
      "Intermediate save 52500\n",
      "Intermediate save 53000\n",
      "Intermediate save 53500\n",
      "Intermediate save 54000\n",
      "Intermediate save 54500\n",
      "Intermediate save 55000\n",
      "Intermediate save 55500\n",
      "Intermediate save 56000\n",
      "Intermediate save 56500\n",
      "Intermediate save 57000\n",
      "Intermediate save 57500\n",
      "Intermediate save 58000\n",
      "Intermediate save 58500\n",
      "Intermediate save 59000\n",
      "Intermediate save 59500\n",
      "Intermediate save 60000\n",
      "Intermediate save 60500\n",
      "Intermediate save 61000\n",
      "Intermediate save 61500\n",
      "Intermediate save 62000\n",
      "Intermediate save 62500\n",
      "Intermediate save 63000\n",
      "Intermediate save 63500\n",
      "Intermediate save 64000\n",
      "Intermediate save 64500\n",
      "Intermediate save 65000\n",
      "Intermediate save 65500\n",
      "Intermediate save 66000\n",
      "Intermediate save 66500\n",
      "Intermediate save 67000\n",
      "Intermediate save 67500\n",
      "Intermediate save 68000\n",
      "Intermediate save 68500\n",
      "Intermediate save 69000\n",
      "Intermediate save 69500\n",
      "Intermediate save 70000\n",
      "Intermediate save 70500\n",
      "Intermediate save 71000\n",
      "Intermediate save 71500\n",
      "Intermediate save 72000\n",
      "Intermediate save 72500\n",
      "Intermediate save 73000\n",
      "Intermediate save 73500\n",
      "Intermediate save 74000\n",
      "Intermediate save 74500\n",
      "Intermediate save 75000\n",
      "Intermediate save 75500\n",
      "Intermediate save 76000\n",
      "Intermediate save 76500\n",
      "Intermediate save 77000\n",
      "Intermediate save 77500\n",
      "Intermediate save 78000\n",
      "Intermediate save 78500\n",
      "Intermediate save 79000\n",
      "Intermediate save 79500\n",
      "Intermediate save 80000\n",
      "Intermediate save 80500\n",
      "Intermediate save 81000\n",
      "Intermediate save 81500\n",
      "Intermediate save 82000\n",
      "Intermediate save 82500\n",
      "Intermediate save 83000\n",
      "Intermediate save 83500\n",
      "Intermediate save 84000\n",
      "Intermediate save 84500\n",
      "Intermediate save 85000\n",
      "Intermediate save 85500\n",
      "Intermediate save 86000\n",
      "Intermediate save 86500\n",
      "Intermediate save 87000\n",
      "Intermediate save 87500\n",
      "Intermediate save 88000\n",
      "Intermediate save 88500\n",
      "Intermediate save 89000\n",
      "Intermediate save 89500\n",
      "Intermediate save 90000\n",
      "Intermediate save 90500\n",
      "Intermediate save 91000\n",
      "Intermediate save 91500\n",
      "Intermediate save 92000\n",
      "Intermediate save 92500\n",
      "Intermediate save 93000\n",
      "Intermediate save 93500\n",
      "Intermediate save 94000\n",
      "Intermediate save 94500\n",
      "Intermediate save 95000\n",
      "Intermediate save 95500\n",
      "Intermediate save 96000\n",
      "Intermediate save 96500\n",
      "Intermediate save 97000\n",
      "Intermediate save 97500\n",
      "Intermediate save 98000\n",
      "Intermediate save 98500\n",
      "Intermediate save 99000\n",
      "Intermediate save 99500\n",
      "Intermediate save 100000\n",
      "Intermediate save 100500\n",
      "Intermediate save 101000\n",
      "Intermediate save 101500\n",
      "Intermediate save 102000\n",
      "Intermediate save 102500\n",
      "Intermediate save 103000\n",
      "Intermediate save 103500\n",
      "Intermediate save 104000\n",
      "Intermediate save 104500\n",
      "Intermediate save 105000\n",
      "Intermediate save 105500\n",
      "Intermediate save 106000\n",
      "Intermediate save 106500\n",
      "Intermediate save 107000\n",
      "Intermediate save 107500\n",
      "Intermediate save 108000\n",
      "Intermediate save 108500\n",
      "Intermediate save 109000\n",
      "Intermediate save 109500\n",
      "Intermediate save 110000\n",
      "Intermediate save 110500\n",
      "Intermediate save 111000\n",
      "Intermediate save 111500\n",
      "Intermediate save 112000\n",
      "Intermediate save 112500\n",
      "Intermediate save 113000\n",
      "Intermediate save 113500\n",
      "Intermediate save 114000\n",
      "Intermediate save 114500\n",
      "Intermediate save 115000\n",
      "Intermediate save 115500\n",
      "Intermediate save 116000\n",
      "Intermediate save 116500\n",
      "Intermediate save 117000\n",
      "Intermediate save 117500\n",
      "Intermediate save 118000\n",
      "Intermediate save 118500\n",
      "Intermediate save 119000\n",
      "Intermediate save 119500\n",
      "Intermediate save 120000\n",
      "Intermediate save 120500\n",
      "Intermediate save 121000\n",
      "Intermediate save 121500\n",
      "Intermediate save 122000\n",
      "Intermediate save 122500\n",
      "Intermediate save 123000\n",
      "Intermediate save 123500\n",
      "Intermediate save 124000\n",
      "Intermediate save 124500\n"
     ]
    },
    {
     "data": {
      "text/plain": [
       "\"Heston_Julia.csv\""
      ]
     },
     "execution_count": 11,
     "metadata": {},
     "output_type": "execute_result"
    }
   ],
   "source": [
    "for kappa in kappa_list\n",
    "    for theta in theta_list\n",
    "        for sigma in sigma_list\n",
    "            f_cond = feller_cond(kappa, theta, sigma)\n",
    "            if f_cond == true\n",
    "                for k in k_list\n",
    "                    for T in T_list\n",
    "                        for v0 in v0_list\n",
    "                            for rho in rho_list\n",
    "#                                println((k, logS0, v0, r, rho, kappa, theta, sigma, T, alp, 2^15, 1e-2))\n",
    "                                C_price = get_Heston_fft_call(k, logS0, v0, r, rho, kappa, theta, sigma, T, alp, 2^15, 1e-2)\n",
    "#                                println(C_price, \" \", isnan(C_price))\n",
    "                                if (C_price <= C_price_bounds[1]) | (C_price >= C_price_bounds[2]) | isnan(C_price)\n",
    "                                    continue\n",
    "                                end\n",
    "                                count += 1\n",
    "                                C_price_p = get_Heston_fft_call(k,logS0+dlogS0, v0, r, rho, kappa, theta, sigma,T,alp,2^15,1e-2)                                \n",
    "#                                println(C_price_p, \" \", isnan(C_price_p))\n",
    "                                append!(pd_dict[\"delta\"],(C_price_p-C_price)/dS0) # delta of call \n",
    "                                append!(pd_dict[\"k\"],k)\n",
    "                                append!(pd_dict[\"T\"],T)\n",
    "                                append!(pd_dict[\"v0\"],v0)\n",
    "                                append!(pd_dict[\"rho\"],rho)\n",
    "                                append!(pd_dict[\"kappa\"],kappa)\n",
    "                                append!(pd_dict[\"theta\"],theta)\n",
    "                                append!(pd_dict[\"sigma\"],sigma)\n",
    "                                append!(pd_dict[\"C_price\"],C_price)\n",
    "                                if count % save_freq == 0\n",
    "                                   println(\"Intermediate save \", count)\n",
    "                                df = DataFrames.DataFrame(pd_dict)\n",
    "                                CSV.write(\"Heston_Julia.csv\",df)\n",
    "                                end                                \n",
    "                            end\n",
    "                        end\n",
    "                    end\n",
    "                end\n",
    "            else\n",
    "                violation_count += 1\n",
    "            end\n",
    "        end\n",
    "    end\n",
    "end\n",
    "\n",
    "df = DataFrames.DataFrame(pd_dict)\n",
    "CSV.write(\"Heston_Julia.csv\",df)\n"
   ]
  },
  {
   "cell_type": "code",
   "execution_count": null,
   "metadata": {},
   "outputs": [],
   "source": []
  },
  {
   "cell_type": "code",
   "execution_count": 9,
   "metadata": {},
   "outputs": [
    {
     "data": {
      "text/plain": [
       "0"
      ]
     },
     "execution_count": 9,
     "metadata": {},
     "output_type": "execute_result"
    }
   ],
   "source": [
    "120%3"
   ]
  },
  {
   "cell_type": "code",
   "execution_count": null,
   "metadata": {},
   "outputs": [],
   "source": []
  }
 ],
 "metadata": {
  "kernelspec": {
   "display_name": "Julia 1.4.0",
   "language": "julia",
   "name": "julia-1.4"
  },
  "language_info": {
   "file_extension": ".jl",
   "mimetype": "application/julia",
   "name": "julia",
   "version": "1.4.0"
  }
 },
 "nbformat": 4,
 "nbformat_minor": 4
}
