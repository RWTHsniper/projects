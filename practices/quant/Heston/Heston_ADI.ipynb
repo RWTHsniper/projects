{
 "cells": [
  {
   "cell_type": "code",
   "execution_count": 1,
   "metadata": {},
   "outputs": [],
   "source": [
    "# from math import log, sqrt, pi, exp\n",
    "# from scipy.stats import norm\n",
    "from datetime import datetime, date\n",
    "import numpy as np\n",
    "import scipy\n",
    "from scipy import sparse\n",
    "from scipy.sparse import linalg\n",
    "import pandas as pd\n",
    "from pandas import DataFrame\n",
    "from matplotlib import pyplot as plt\n",
    "import copy\n",
    "from collections import OrderedDict\n",
    "\n",
    "from fd_adi import * "
   ]
  },
  {
   "cell_type": "code",
   "execution_count": 2,
   "metadata": {},
   "outputs": [],
   "source": [
    "T = 1\n",
    "Nx = np.array([4,4]) # x and v spaces\n",
    "Nx = np.array([2**5,2**5]) # x and v spaces\n",
    "# Nx = np.array([2**6,2**6]) # x and v spaces\n",
    "# Nx = np.array([2**10,2**6]) # x and v spaces\n",
    "x_max = np.array([1.5,0.3]) # log(price), vol-vol\n",
    "x_min = np.array([-2,0.0])\n",
    "dx = (x_max-x_min)/(Nx-1)\n",
    "Nt = 12 # always scalar\n",
    "t_space = np.linspace(0,T,Nt+1)\n",
    "dt = t_space[1]-t_space[0]"
   ]
  },
  {
   "cell_type": "code",
   "execution_count": 3,
   "metadata": {},
   "outputs": [],
   "source": [
    "theta = 0.05; kappa = 0.3; sigma = 0.5; rho = -0.6; v0 = 0.04\n",
    "r = 0.0 # always presume zero risk-free interest\n",
    "S0 = 1.0; k = 1.0;\n",
    "x0 = np.log(S0); log_k = np.log(k)\n",
    "\n",
    "# Let's plan\n",
    "# For a test, we can start with dense matrix. Don't complicate too much at the beginning.\n",
    "# First, think about Pxv\n",
    "# ux(x,y) = (u(x+1,y)-u(x,y))/dx\n",
    "# uxy(x,y) = (u(x+1,y+1) + u(x-1,y-1) - u(x+1,y-1) - u(x-1,y+1))/(4dxdy) # 2dx,2dy\n",
    "# uxy(x,y) = (u(x+1,y+1) + u(x-1,y) - u(x+1,y) - u(x-1,y+1))/(2*dxdy) # 2dx,dy\n",
    "# uxy(x,y) = (u(x+1,y+1) + u(x,y-1) - u(x+1,y-1) - u(x,y+1))/(dx2*dy) # dx,2dy\n",
    "# uxy(x,y) = (u(x+1,y+1) + u(x,y) - u(x+1,y) - u(x,y+1))/(dxdy) # dx,dy\n",
    "\n",
    "num_dof = Nx.prod()\n",
    "mat_xv = np.zeros((num_dof,num_dof)) # No choice but to use a dense matrix\n",
    "for i in range(Nx[0]):\n",
    "    for j in range(Nx[1]):\n",
    "        pos = (i,j)\n",
    "        ind = get_ind(Nx,pos)\n",
    "        denom = 4.0*dx.prod()\n",
    "        # Mind bounds\n",
    "        if i==0:\n",
    "            ind_i = (i,i+1)\n",
    "            denom /= 2.0\n",
    "        elif i==Nx[0]-1:\n",
    "            ind_i = (i-1,i)\n",
    "            denom /= 2.0\n",
    "        else:\n",
    "            ind_i = (i-1,i+1)\n",
    "        if j==0:\n",
    "            ind_j = (j,j+1)\n",
    "            denom /= 2.0\n",
    "        elif j==Nx[1]-1:\n",
    "            ind_j = (j-1,j)\n",
    "            denom /= 2.0\n",
    "        else:\n",
    "            ind_j = (j-1,j+1)\n",
    "\n",
    "        ind_1 = get_ind(Nx,(ind_i[1],ind_j[1])) # x+1,y+1\n",
    "        ind_2 = get_ind(Nx,(ind_i[0],ind_j[0])) # x-1,y-1\n",
    "        ind_3 = get_ind(Nx,(ind_i[1],ind_j[0])) # x+1,y-1\n",
    "        ind_4 = get_ind(Nx,(ind_i[0],ind_j[1])) # x-1,y+1\n",
    "        coef_xy = rho*sigma*get_v(dx,pos)/denom\n",
    "        mat_xv[ind,ind_1] = coef_xy\n",
    "        mat_xv[ind,ind_2] = coef_xy # ind_2\n",
    "        mat_xv[ind,ind_3] = -coef_xy # ind_2\n",
    "        mat_xv[ind,ind_4] = -coef_xy # ind_2\n",
    "        \n",
    "\n",
    "# Second, construct Pxx + Px\n",
    "mat_xx = np.zeros((num_dof,num_dof))\n",
    "for i in range(Nx[0]):\n",
    "    for j in range(Nx[1]):\n",
    "        pos = (i,j)\n",
    "        ind = get_ind(Nx,pos)\n",
    "        # -0.5*r term\n",
    "        mat_xx[ind,ind] += -0.5*r\n",
    "        # fxx\n",
    "        if (0<i<Nx[0]-1): # zero-gamma\n",
    "            ind_m = get_ind(Nx,(i-1,j))\n",
    "            ind_p = get_ind(Nx,(i+1,j))\n",
    "            fxx = np.array([1,-2,1])/dx[0]**2\n",
    "            coef_xx = 0.5*get_v(dx,pos)\n",
    "            Pxx = fxx*coef_xx\n",
    "            mat_xx[ind,ind_m] += Pxx[0]\n",
    "            mat_xx[ind,ind] += Pxx[1]\n",
    "            mat_xx[ind,ind_p] += Pxx[2]\n",
    "        # fx\n",
    "        coef_x = r - 0.5*sigma**2 *get_v(dx,pos)\n",
    "        if (0<i<Nx[0]-1):\n",
    "            ind_m = get_ind(Nx,(i-1,j))\n",
    "            ind_p = get_ind(Nx,(i+1,j))\n",
    "            fx = np.array([-1,1])/(2.0*dx[0])\n",
    "            Px = fx*coef_x\n",
    "            mat_xx[ind,ind_m] += Px[0]\n",
    "            mat_xx[ind,ind_p] += Px[1]\n",
    "        if i==0:\n",
    "            ind_p = get_ind(Nx,(i+1,j))\n",
    "            fx = np.array([-1,1])/dx[0]\n",
    "            Px = fx*coef_x\n",
    "            mat_xx[ind,ind] += Px[0]\n",
    "            mat_xx[ind,ind_p] += Px[1]\n",
    "        elif i==Nx[0]-1:\n",
    "            ind_m = get_ind(Nx,(i-1,j))\n",
    "            fx = np.array([-1,1])/dx[0]\n",
    "            Px = fx*coef_x\n",
    "            mat_xx[ind,ind_m] += Px[0]\n",
    "            mat_xx[ind,ind] += Px[1]\n",
    "\n",
    "# New space\n",
    "mat_xx_new = np.zeros((num_dof,num_dof))\n",
    "for i in range(Nx[0]):\n",
    "    for j in range(Nx[1]):\n",
    "        pos = (i,j)\n",
    "        ind = get_ind(Nx,pos)\n",
    "        ind = i + Nx[0]*j # new\n",
    "        # -0.5*r term\n",
    "        mat_xx_new[ind,ind] += -0.5*r\n",
    "        # fxx\n",
    "        if (0<i<Nx[0]-1): # zero-gamma\n",
    "            ind_m = (i-1) + Nx[0]*j\n",
    "            ind_p = (i+1) + Nx[0]*j\n",
    "            fxx = np.array([1,-2,1])/dx[0]**2\n",
    "            coef_xx = 0.5*get_v(dx,pos)\n",
    "            Pxx = fxx*coef_xx\n",
    "            mat_xx_new[ind,ind_m] += Pxx[0]\n",
    "            mat_xx_new[ind,ind] += Pxx[1]\n",
    "            mat_xx_new[ind,ind_p] += Pxx[2]\n",
    "        # fx\n",
    "        coef_x = r - 0.5*sigma**2 *get_v(dx,pos)\n",
    "        if (0<i<Nx[0]-1):\n",
    "            ind_m = (i-1) + Nx[0]*j\n",
    "            ind_p = (i+1) + Nx[0]*j\n",
    "            fx = np.array([-1,1])/(2.0*dx[0])\n",
    "            Px = fx*coef_x\n",
    "            mat_xx_new[ind,ind_m] += Px[0]\n",
    "            mat_xx_new[ind,ind_p] += Px[1]\n",
    "        if i==0:\n",
    "            ind_p = (i+1) + Nx[0]*j\n",
    "            fx = np.array([-1,1])/dx[0]\n",
    "            Px = fx*coef_x\n",
    "            mat_xx_new[ind,ind] += Px[0]\n",
    "            mat_xx_new[ind,ind_p] += Px[1]\n",
    "        elif i==Nx[0]-1:\n",
    "            ind_m = (i-1) + Nx[0]*j\n",
    "            fx = np.array([-1,1])/dx[0]\n",
    "            Px = fx*coef_x\n",
    "            mat_xx_new[ind,ind_m] += Px[0]\n",
    "            mat_xx_new[ind,ind] += Px[1]\n",
    "            \n",
    "\n",
    "# Third, construct Pvv + Pv terms\n",
    "mat_vv = np.zeros((num_dof,num_dof))\n",
    "for i in range(Nx[0]):\n",
    "    for j in range(Nx[1]):\n",
    "        pos = (i,j)\n",
    "        ind = get_ind(Nx,pos)\n",
    "        # -0.5*r term\n",
    "        mat_vv[ind,ind] += -0.5*r\n",
    "        # fvv\n",
    "        if (0<j<Nx[1]-1): # zero-gamma\n",
    "            ind_m = get_ind(Nx,(i,j-1))\n",
    "            ind_p = get_ind(Nx,(i,j+1))\n",
    "            fvv = np.array([1,-2,1])/dx[1]**2\n",
    "            coef_vv = 0.5*sigma**2*get_v(dx,pos)\n",
    "            Pvv = fvv*coef_vv\n",
    "            mat_vv[ind,ind_m] += Pvv[0]\n",
    "            mat_vv[ind,ind] += Pvv[1]\n",
    "            mat_vv[ind,ind_p] += Pvv[2]\n",
    "        # fv\n",
    "        coef_v = kappa*(theta - get_v(dx,pos))\n",
    "        if (0<j<Nx[1]-1):\n",
    "            ind_m = get_ind(Nx,(i,j-1))\n",
    "            ind_p = get_ind(Nx,(i,j+1))\n",
    "            fv = np.array([-1,1])/(2.0*dx[1])\n",
    "            Pv = fv*coef_v\n",
    "            mat_vv[ind,ind_m] += Pv[0]\n",
    "            mat_vv[ind,ind_p] += Pv[1]\n",
    "        if j==0:\n",
    "            ind_p = get_ind(Nx,(i,j+1))\n",
    "            fv = np.array([-1,1])/dx[1]\n",
    "            Pv = fv*coef_v\n",
    "            mat_vv[ind,ind] += Pv[0]\n",
    "            mat_vv[ind,ind_p] += Pv[1]\n",
    "        elif j==Nx[1]-1:\n",
    "            ind_m = get_ind(Nx,(i,j-1))\n",
    "            fv = np.array([-1,1])/dx[1]\n",
    "            Pv = fv*coef_v\n",
    "            mat_vv[ind,ind_m] += Pv[0]\n",
    "            mat_vv[ind,ind] += Pv[1]\n",
    "            \n",
    "# Finally, think about how to convert Pxx+Px in [v,x] to [x,v] to fully utilize the efficiency of tridiagonal matrix"
   ]
  },
  {
   "cell_type": "markdown",
   "metadata": {},
   "source": [
    "# Convert mat_xx to a tridiagonal matrix"
   ]
  },
  {
   "cell_type": "code",
   "execution_count": 12,
   "metadata": {},
   "outputs": [],
   "source": [
    "# conventional (0,0),(0,1),(0,2),...,(1,0), ... , (Nx[0]-1,Nx[1]-1)\n",
    "# I want (0,0),(1,0),(2,0),...,(0,1), ... , (Nx[0]-1,Nx[1]-1)\n",
    "# Construct fwd and bwd converters to reshape a matrix to be a diagonal\n",
    "fwd_convert = OrderedDict() # conventional -> new\n",
    "for i in range(Nx[0]):\n",
    "    for j in range(Nx[1]):\n",
    "        pos = (i,j)\n",
    "        i_c = get_ind(Nx,pos) # conventional\n",
    "        i_n = i + Nx[0]*j # new\n",
    "        fwd_convert[i_c] = i_n\n",
    "bwd_convert = dict({y:x for x,y in fwd_convert.items()}) # switch key and item\n",
    "bwd_convert = OrderedDict(sorted(bwd_convert.items(), key=lambda t: t[0])) # sort keys"
   ]
  },
  {
   "cell_type": "markdown",
   "metadata": {},
   "source": [
    "# Solution Process Douglas Scheme"
   ]
  },
  {
   "cell_type": "code",
   "execution_count": 16,
   "metadata": {},
   "outputs": [
    {
     "data": {
      "text/plain": [
       "array([[  -1.55      ,    1.55      ,    0.        , ...,    0.        ,\n",
       "           0.        ,    0.        ],\n",
       "       [  12.29166667,  -25.83333333,   13.54166667, ...,    0.        ,\n",
       "           0.        ,    0.        ],\n",
       "       [   0.        ,   25.35833333,  -51.66666667, ...,    0.        ,\n",
       "           0.        ,    0.        ],\n",
       "       ...,\n",
       "       [   0.        ,    0.        ,    0.        , ..., -749.16666667,\n",
       "         371.00833333,    0.        ],\n",
       "       [   0.        ,    0.        ,    0.        , ...,  391.225     ,\n",
       "        -775.        ,  383.775     ],\n",
       "       [   0.        ,    0.        ,    0.        , ...,    0.        ,\n",
       "           7.75      ,   -7.75      ]])"
      ]
     },
     "execution_count": 16,
     "metadata": {},
     "output_type": "execute_result"
    }
   ],
   "source": [
    "mat_vv"
   ]
  },
  {
   "cell_type": "code",
   "execution_count": 14,
   "metadata": {},
   "outputs": [
    {
     "data": {
      "text/plain": [
       "array([0., 0., 0., ..., 0., 0., 0.])"
      ]
     },
     "execution_count": 14,
     "metadata": {},
     "output_type": "execute_result"
    }
   ],
   "source": [
    "np.dot(mat_vv,P0)"
   ]
  },
  {
   "cell_type": "code",
   "execution_count": 18,
   "metadata": {},
   "outputs": [
    {
     "data": {
      "text/plain": [
       "array([0., 0., 0., ..., 0., 0., 0.])"
      ]
     },
     "execution_count": 18,
     "metadata": {},
     "output_type": "execute_result"
    }
   ],
   "source": [
    "tr = tridiagonal(matrix=mat_vv)\n",
    "tr*P0"
   ]
  },
  {
   "cell_type": "code",
   "execution_count": 22,
   "metadata": {},
   "outputs": [
    {
     "data": {
      "text/plain": [
       "array([  1.55      ,  13.54166667,  26.30833333, ..., 358.24166667,\n",
       "       371.00833333, 383.775     ])"
      ]
     },
     "execution_count": 22,
     "metadata": {},
     "output_type": "execute_result"
    }
   ],
   "source": [
    "tr.diag_3"
   ]
  },
  {
   "cell_type": "code",
   "execution_count": 13,
   "metadata": {},
   "outputs": [
    {
     "name": "stdout",
     "output_type": "stream",
     "text": [
      "Prepare transformed mat_1_new\n",
      "Completed transformed tri_1_new\n",
      "[0.         0.         0.         ... 3.4692999  3.46887269 3.46844548]\n",
      "[ 0.00000000e+00 -2.82816492e-31 -3.08120965e-26 ...  3.47003811e+00\n",
      "  3.46965447e+00  3.46927174e+00]\n",
      "[-7.54445003e-16 -6.59530954e-15 -1.77414763e-14 ...  3.47027189e+00\n",
      "  3.46989379e+00  3.46951584e+00]\n",
      "[-1.50889001e-15 -8.73415060e-14 -2.97664977e-13 ...  3.46341754e+00\n",
      "  3.46280155e+00  3.46219719e+00]\n",
      "[-1.50889001e-15 -8.75481757e-14 -2.98778019e-13 ...  3.46388959e+00\n",
      "  3.46329864e+00  3.46271953e+00]\n",
      "[-1.10046600e-13 -9.56179412e-13 -2.49979303e-12 ...  3.46406773e+00\n",
      "  3.46346529e+00  3.46286386e+00]\n",
      "[-2.19338755e-13 -2.43458099e-12 -6.76510702e-12 ...  3.46023250e+00\n",
      "  3.45947050e+00  3.45872166e+00]\n",
      "[-2.19338755e-13 -2.43620956e-12 -6.77348443e-12 ...  3.46057176e+00\n",
      "  3.45982710e+00  3.45909571e+00]\n",
      "[-1.01506340e-12 -8.02164507e-12 -2.01066059e-11 ...  3.46070889e+00\n",
      "  3.45995122e+00  3.45919541e+00]\n",
      "[-1.92008020e-12 -1.71675044e-11 -4.44136165e-11 ...  3.45890149e+00\n",
      "  3.45802981e+00  3.45716907e+00]\n",
      "[-1.92008020e-12 -1.71744081e-11 -4.44476158e-11 ...  3.45916338e+00\n",
      "  3.45830511e+00  3.45745794e+00]\n",
      "[-5.17863626e-12 -3.74127487e-11 -9.03308285e-11 ...  3.45926257e+00\n",
      "  3.45839445e+00  3.45752885e+00]\n",
      "[-9.34220911e-12 -7.28068378e-11 -1.79108165e-10 ...  3.45899380e+00\n",
      "  3.45804801e+00  3.45711064e+00]\n",
      "[-9.34220911e-12 -7.28280025e-11 -1.79208419e-10 ...  3.45920510e+00\n",
      "  3.45827028e+00  3.45734411e+00]\n",
      "[-1.91340202e-11 -1.27175702e-10 -2.97064153e-10 ...  3.45927116e+00\n",
      "  3.45832970e+00  3.45739120e+00]\n",
      "[-3.30894042e-11 -2.31163994e-10 -5.46200713e-10 ...  3.46024466e+00\n",
      "  3.45925839e+00  3.45827871e+00]\n",
      "[-3.30894042e-11 -2.31216803e-10 -5.46442397e-10 ...  3.46042022e+00\n",
      "  3.45944324e+00  3.45847309e+00]\n",
      "[-5.72090340e-11 -3.51983335e-10 -7.98385274e-10 ...  3.46045799e+00\n",
      "  3.45947670e+00  3.45849864e+00]\n",
      "[-9.52840479e-11 -6.06163881e-10 -1.38453263e-09 ...  3.46246787e+00\n",
      "  3.46147231e+00  3.46048217e+00]\n",
      "[-9.52840479e-11 -6.06277978e-10 -1.38503911e-09 ...  3.46261687e+00\n",
      "  3.46162933e+00  3.46064745e+00]\n",
      "[-1.46931812e-10 -8.41559771e-10 -1.85940167e-09 ...  3.46263018e+00\n",
      "  3.46163996e+00  3.46065312e+00]\n",
      "[-2.36654590e-10 -1.38589525e-09 -3.07422281e-09 ...  3.46552120e+00\n",
      "  3.46454513e+00  3.46357377e+00]\n",
      "[-2.36654590e-10 -1.38611682e-09 -3.07517982e-09 ...  3.46564970e+00\n",
      "  3.46468067e+00  3.46371656e+00]\n",
      "[-3.36276531e-10 -1.80217113e-09 -3.88877394e-09 ...  3.46564147e+00\n",
      "  3.46467091e+00  3.46370381e+00]\n",
      "[-5.25621250e-10 -2.85711430e-09 -6.17668642e-09 ...  3.46928998e+00\n",
      "  3.46836001e+00  3.46743429e+00]\n",
      "[-5.25621250e-10 -2.85751054e-09 -6.17835617e-09 ...  3.46940219e+00\n",
      "  3.46847844e+00  3.46755915e+00]\n",
      "[-7.02809691e-10 -3.54048577e-09 -7.47746520e-09 ...  3.46937478e+00\n",
      "  3.46845033e+00  3.46752936e+00]\n",
      "[-1.06934285e-09 -5.43138463e-09 -1.14753588e-08 ...  3.47367793e+00\n",
      "  3.47281857e+00  3.47196317e+00]\n",
      "[-1.06934285e-09 -5.43204824e-09 -1.14780930e-08 ...  3.47377687e+00\n",
      "  3.47292304e+00  3.47207336e+00]\n",
      "[-1.36470240e-09 -6.48903308e-09 -1.34382425e-08 ...  3.47373235e+00\n",
      "  3.47287838e+00  3.47202786e+00]\n",
      "[-2.02659512e-09 -9.67201626e-09 -2.00156541e-08 ...  3.47860156e+00\n",
      "  3.47783527e+00  3.47707269e+00]\n",
      "[-2.02659512e-09 -9.67306977e-09 -2.00199061e-08 ...  3.47868941e+00\n",
      "  3.47792807e+00  3.47717061e+00]\n",
      "[-2.49348620e-09 -1.12324575e-08 -2.28445060e-08 ...  3.47862973e+00\n",
      "  3.47786853e+00  3.47711073e+00]\n",
      "[-3.62227000e-09 -1.63209767e-08 -3.31428018e-08 ...  3.48398659e+00\n",
      "  3.48333371e+00  3.48268436e+00]\n",
      "[-3.62227000e-09 -1.63225764e-08 -3.31491360e-08 ...  3.48406502e+00\n",
      "  3.48341658e+00  3.48277180e+00]\n",
      "[-4.32835282e-09 -1.85337718e-08 -3.70671320e-08 ...  3.48399202e+00\n",
      "  3.48334380e+00  3.48269889e+00]\n"
     ]
    }
   ],
   "source": [
    "# Initial value for the call option\n",
    "th_douglas = 1.0\n",
    "P0 = np.zeros(num_dof)\n",
    "for i in range(Nx[0]):\n",
    "    for j in range(Nx[1]):\n",
    "        pos = (i,j)\n",
    "        ind = get_ind(Nx,pos)\n",
    "        x,_ = get_x(dx,pos,x_min)\n",
    "        S = np.exp(x)\n",
    "        P0[ind] = np.maximum(S-k,0.0) # initial value (payoff at maturity)\n",
    "\n",
    "Pn = copy.deepcopy(P0) # next\n",
    "Pc = copy.deepcopy(P0) # current\n",
    "\n",
    "# Douglas scheme            \n",
    "# transformed matrices and vectors\n",
    "print(\"Prepare transformed mat_1_new\")\n",
    "rhs_new = np.zeros(num_dof)\n",
    "mat_1_new = np.eye(num_dof) - dt*th_douglas*mat_xx_new # time-consuming\n",
    "tri_1_new = tridiagonal(matrix=mat_1_new)\n",
    "# mat_1 = np.eye(num_dof) - dt*th_douglas*mat_xx\n",
    "# mat_1_new = np.zeros(mat_1.shape)\n",
    "# for i_c in range(num_dof):\n",
    "#     for j_c in range(num_dof):\n",
    "#         i_n = fwd_convert[i_c]; j_n = fwd_convert[j_c]\n",
    "#         mat_1_new[i_n,j_n] = mat_1[i_c,j_c]\n",
    "# tri_1_new = tridiagonal(matrix=mat_1_new)\n",
    "print(\"Completed transformed tri_1_new\")\n",
    "\n",
    "mat_2 = np.eye(num_dof) - dt*th_douglas*mat_vv\n",
    "tri_2 = tridiagonal(matrix=mat_2)\n",
    "tri_vv = tridiagonal(matrix=mat_vv)\n",
    "        \n",
    "Y1 = np.zeros(num_dof)\n",
    "for i,t in enumerate(t_space):\n",
    "    if i==0: continue # skip the very first\n",
    "    Pc[:] = Pn[:]\n",
    "    # Explicit step\n",
    "    Y0 = Pc + dt*(np.dot(mat_xv,Pc) + np.dot(mat_xx,Pc) + np.dot(mat_vv,Pc)) # np.dot is better\n",
    "    # First implicit step\n",
    "    tmp = Y0 - dt*th_douglas*np.dot(mat_xx,Pc)\n",
    "    for ii in range(num_dof): # Convert the vector into a new space\n",
    "        rhs_new[fwd_convert[ii]] = tmp[ii]\n",
    "    Y1_tmp = tri_1_new.solve(rhs_new) # solution in a new space\n",
    "    # Transform the solution back to the convention\n",
    "    for ii in range(num_dof):\n",
    "        Y1[bwd_convert[ii]] = Y1_tmp[ii] # convert to the conventional space\n",
    "    print(Y0)\n",
    "    print(Y1)\n",
    "    Y2 = tri_2.solve(Y1 - dt*th_douglas*(tri_vv*Pc))\n",
    "    print(Y2)\n",
    "    Pn[:] = Y2[:]\n",
    "Pc[:] = Pn[:]\n"
   ]
  },
  {
   "cell_type": "code",
   "execution_count": 6,
   "metadata": {},
   "outputs": [],
   "source": [
    "rhs_new = np.zeros(num_dof)\n",
    "\n",
    "mat_1_new = np.eye(num_dof) - dt*th_douglas*mat_xx_new\n"
   ]
  },
  {
   "cell_type": "code",
   "execution_count": 7,
   "metadata": {},
   "outputs": [],
   "source": [
    "mat_1_new = copy.deepcopy(mat_xx_new)"
   ]
  },
  {
   "cell_type": "code",
   "execution_count": 8,
   "metadata": {},
   "outputs": [
    {
     "data": {
      "text/plain": [
       "0.0078125"
      ]
     },
     "execution_count": 8,
     "metadata": {},
     "output_type": "execute_result"
    }
   ],
   "source": [
    "mat_xx_new.nbytes/ (2**(10*3)) # we are not going to use it"
   ]
  },
  {
   "cell_type": "code",
   "execution_count": 9,
   "metadata": {},
   "outputs": [
    {
     "data": {
      "text/plain": [
       "8388608"
      ]
     },
     "execution_count": 9,
     "metadata": {},
     "output_type": "execute_result"
    }
   ],
   "source": [
    "mat_xx_new.nbytes"
   ]
  },
  {
   "cell_type": "code",
   "execution_count": 11,
   "metadata": {},
   "outputs": [
    {
     "name": "stdout",
     "output_type": "stream",
     "text": [
      "Interpolated  0.05915433079170907\n"
     ]
    }
   ],
   "source": [
    "x_ind = get_x_ind(log_k,dx[0],x_min[0])\n",
    "v_ind = get_x_ind(v0,dx[1],x_min[1])\n",
    "ind = get_ind(Nx,(x_ind,v_ind))\n",
    "ind_p = get_ind(Nx,(x_ind+1,v_ind+1))\n",
    "x = get_x(dx,(x_ind,v_ind),x_min)\n",
    "x_p = get_x(dx,(x_ind+1,v_ind+1),x_min)\n",
    "u = (log_k-x_p[0])/(x[0]-x_p[0])\n",
    "P_interpolated = u*Pc[ind]+(1-u)*Pc[ind_p]\n",
    "sol3 = P_interpolated\n",
    "print('Interpolated ',P_interpolated) # reference 0.06542118636775274"
   ]
  },
  {
   "cell_type": "code",
   "execution_count": null,
   "metadata": {},
   "outputs": [],
   "source": []
  }
 ],
 "metadata": {
  "@webio": {
   "lastCommId": null,
   "lastKernelId": null
  },
  "kernelspec": {
   "display_name": "Python 3",
   "language": "python",
   "name": "python3"
  },
  "language_info": {
   "codemirror_mode": {
    "name": "ipython",
    "version": 3
   },
   "file_extension": ".py",
   "mimetype": "text/x-python",
   "name": "python",
   "nbconvert_exporter": "python",
   "pygments_lexer": "ipython3",
   "version": "3.7.4"
  }
 },
 "nbformat": 4,
 "nbformat_minor": 2
}
