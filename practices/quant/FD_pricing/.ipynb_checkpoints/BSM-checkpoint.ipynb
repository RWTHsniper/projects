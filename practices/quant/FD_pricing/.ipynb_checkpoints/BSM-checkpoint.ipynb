{
 "cells": [
  {
   "cell_type": "code",
   "execution_count": 1,
   "metadata": {},
   "outputs": [],
   "source": [
    "from math import log, sqrt, pi, exp\n",
    "from scipy.stats import norm\n",
    "from datetime import datetime, date\n",
    "import numpy as np\n",
    "import pandas as pd\n",
    "from pandas import DataFrame\n",
    "from matplotlib import pyplot as plt"
   ]
  },
  {
   "cell_type": "code",
   "execution_count": 2,
   "metadata": {},
   "outputs": [],
   "source": [
    "def d1(S,K,T,r,sigma):\n",
    "    return(log(S/K)+(r+sigma**2/2.)*T)/sigma*sqrt(T)\n",
    "\n",
    "def d2(S,K,T,r,sigma):\n",
    "    return d1(S,K,T,r,sigma)-sigma*sqrt(T)\n",
    "\n",
    "def bs_call(S,K,T,r,sigma):\n",
    "    return S*norm.cdf(d1(S,K,T,r,sigma))-K*exp(-r*T)*norm.cdf(d2(S,K,T,r,sigma))\n",
    "  \n",
    "def bs_put(S,K,T,r,sigma):\n",
    "    return K*exp(-r*T)-S+bs_call(S,K,T,r,sigma)"
   ]
  },
  {
   "cell_type": "code",
   "execution_count": 3,
   "metadata": {},
   "outputs": [
    {
     "data": {
      "text/plain": [
       "20.144406289860115"
      ]
     },
     "execution_count": 3,
     "metadata": {},
     "output_type": "execute_result"
    }
   ],
   "source": [
    "S, K, T, r, sig = 100,100,1,0.01,0.5\n",
    "bs_call(S, K, T, r, sig)"
   ]
  },
  {
   "cell_type": "code",
   "execution_count": 8,
   "metadata": {},
   "outputs": [],
   "source": [
    "ns = 1024 # number of price grids\n",
    "nt = 256 # number of time steps\n",
    "factor = 3\n",
    "\n",
    "def FD_BSM(S, K, T, r, sig, ns, nt, factor, type='European'):\n",
    "    # B * F_{i-1} = C * F_{i}\n",
    "    # F_{i-1} = B \\ C * F_{i}\n",
    "    S_max = K * factor\n",
    "    ds = S_max / ns\n",
    "    dt = T / nt\n",
    "\n",
    "    # Lower bound: Dirichlet boundary. 0 spot price means 0 call option price\n",
    "    # Upper bound: Zero Gamma boundary.\n",
    "\n",
    "    V = np.zeros([ns,nt]) # value at each time step. t=i*dt, Sj = j*ds\n",
    "    B = np.zeros([ns-1,ns-1])\n",
    "    C = np.zeros([ns-1,ns-1])\n",
    "\n",
    "    # Apply Gamma free BC \n",
    "    B[ns-2,ns-2] = 1.0\n",
    "    B[ns-2,ns-3] = -2.0\n",
    "    B[ns-2,ns-4] = 1.0\n",
    "\n",
    "    # Assign payoff at maturity\n",
    "    for j in range(V.shape[0]): # each row in the last column\n",
    "        Sj = (j+1)*ds\n",
    "        V[j,nt-1] = np.max([Sj-K,0.0])\n",
    "    #    print(V[j,nt-1])\n",
    "\n",
    "    # Build up B and C\n",
    "    for j in range(B.shape[0]-1):\n",
    "        jj = j+1 # j value for computing grid values\n",
    "        a = dt/4*(r*jj-(sig*jj)**2)\n",
    "        b = dt/2*((sig*jj)**2+r*dt)\n",
    "        c = -dt/4*(r*jj+(sig*jj)**2)    \n",
    "    #    print(a,b,c)\n",
    "        if j > 0:\n",
    "            B[j,j-1] = a\n",
    "            C[j,j-1] = -a\n",
    "        B[j,j] = 1+b\n",
    "        B[j,j+1] = c\n",
    "        C[j,j] = 1-b\n",
    "        C[j,j+1] = -c\n",
    "\n",
    "    # Each time step excluding the very last\n",
    "    for i in reversed(range(nt-1)):\n",
    "        rhs = np.dot(C,V[1:,i+1])\n",
    "        rhs[ns-2] = 0.0 # zero Gamma boundary\n",
    "        V[1:,i] = np.linalg.solve(B, rhs)\n",
    "        if type == 'American':\n",
    "            for j in range(1,ns):\n",
    "                V[j,i] = np.max([V[j,i], ds*j-K])\n",
    "\n",
    "    # ATM location\n",
    "    ATM_loc = int(K / ds)\n",
    "    return V[ATM_loc,0]\n"
   ]
  },
  {
   "cell_type": "code",
   "execution_count": 9,
   "metadata": {},
   "outputs": [
    {
     "name": "stdout",
     "output_type": "stream",
     "text": [
      "[9.69539505 6.76463471 5.19675477 4.22147652 3.5567328  3.07491269\n",
      " 2.70989596 2.42400329 2.19416712 2.00532462]\n"
     ]
    }
   ],
   "source": [
    "sig_arr = np.linspace(0.1,0.5,10)\n",
    "BS_analytic = np.zeros(len(sig_arr))\n",
    "BS_FD = np.zeros(len(sig_arr))\n",
    "\n",
    "for i,sig in enumerate(sig_arr):\n",
    "    BS_analytic[i] = bs_call(S, K, T, r, sig)\n",
    "    BS_FD[i] = FD_BSM(S, K, T, r, sig, ns=512, nt=nt, factor=factor)\n",
    "    \n",
    "rel_error = (BS_FD - BS_analytic)/ BS_analytic * 100\n",
    "print(rel_error)"
   ]
  },
  {
   "cell_type": "markdown",
   "metadata": {},
   "source": [
    "# American Option Pricing"
   ]
  },
  {
   "cell_type": "code",
   "execution_count": 6,
   "metadata": {},
   "outputs": [],
   "source": [
    "# Binomial Tree for America and European options\n",
    "# Author: Mehdi Bounouar,\n",
    "# \n",
    "# The code is inspired from:\n",
    "# [S.R Das, B. Ganger, Journal of Investment Management, Vol.9, No.4, (2010), pp.73-84]\n",
    "# and the C++ code version from Volopta written by Dr. F. Rouah\n",
    "\n",
    "def BinomialTreeCRR(n, Spot, k, r, v, T, PutCall, OpStyle):\n",
    "    \"\"\"\n",
    "    n: steps\n",
    "    Spot: Spot price\n",
    "    K: Strike price\n",
    "    r: Risk free rate\n",
    "    v: volatility\n",
    "    T: Maturity\n",
    "    PutCall: European or American\n",
    "    OpStyle: Call or Put\n",
    "    \"\"\"\n",
    "    dt = T/n\n",
    "    u = np.exp(v*np.sqrt(dt))\n",
    "    d = 1./u\n",
    "    p = (np.exp(r*dt)-d)/(u-d)\n",
    "    \n",
    "    #Binomial price tree\n",
    "    stkval = np.zeros((n+1,n+1))\n",
    "    stkval[0,0] = Spot\n",
    "    for i in range(1,n+1):\n",
    "        stkval[i,0] = stkval[i-1,0]*u\n",
    "        for j in range(1,i+1):\n",
    "            stkval[i,j] = stkval[i-1,j-1]*d\n",
    "    \n",
    "    #option value at each final node\n",
    "    optval = np.zeros((n+1,n+1))\n",
    "    for j in range(n+1):\n",
    "        if PutCall==\"C\": # Call\n",
    "            optval[n,j] = max(0, stkval[n,j]-k)\n",
    "        elif PutCall==\"P\": #Put\n",
    "            optval[n,j] = max(0, k-stkval[n,j])\n",
    "    \n",
    "    #backward recursion for option price\n",
    "    for i in range(n-1,-1,-1):\n",
    "        for j in range(i+1):\n",
    "            if OpStyle==\"E\":\n",
    "                optval[i,j] = np.exp(-r*dt)*(p*optval[i+1,j] + (1-p)*optval[i+1,j+1])\n",
    "            elif OpStyle==\"A\":\n",
    "                if PutCall==\"P\":\n",
    "                    optval[i,j] = max(k-stkval[i,j], np.exp(-r*dt)*(p*optval[i+1,j]+(1-p)*optval[i+1,j+1]))\n",
    "                elif PutCall==\"C\":\n",
    "                    optval[i,j] = max(stkval[i,j]-k, np.exp(-r*dt)*(p*optval[i+1,j]+(1-p)*optval[i+1,j+1]))\n",
    "    return optval[0,0]"
   ]
  },
  {
   "cell_type": "code",
   "execution_count": null,
   "metadata": {},
   "outputs": [],
   "source": [
    "Spot = 100.           # Spot Price\n",
    "k = 100.               # Strike Price\n",
    "r = .01               # Annual Risk-free rate\n",
    "v = sig             # Annual Volatility\n",
    "T = 365./(365)        # Time in year (days/365)\n",
    "n = 512                 # Number of steps\n",
    "BinomialTreeCRR(n, Spot, k, r, v, T, PutCall=\"C\", OpStyle=\"A\")"
   ]
  },
  {
   "cell_type": "code",
   "execution_count": null,
   "metadata": {},
   "outputs": [],
   "source": [
    "FD_BSM(S, K, T, r, sig, ns=512, nt=nt, factor=factor,type='American')"
   ]
  },
  {
   "cell_type": "code",
   "execution_count": null,
   "metadata": {},
   "outputs": [],
   "source": [
    "FD_BSM(S, K, T, r, sig, ns=512, nt=nt, factor=factor,type='European')"
   ]
  },
  {
   "cell_type": "code",
   "execution_count": null,
   "metadata": {},
   "outputs": [],
   "source": []
  },
  {
   "cell_type": "code",
   "execution_count": null,
   "metadata": {},
   "outputs": [],
   "source": []
  }
 ],
 "metadata": {
  "kernelspec": {
   "display_name": "Python 3",
   "language": "python",
   "name": "python3"
  },
  "language_info": {
   "codemirror_mode": {
    "name": "ipython",
    "version": 3
   },
   "file_extension": ".py",
   "mimetype": "text/x-python",
   "name": "python",
   "nbconvert_exporter": "python",
   "pygments_lexer": "ipython3",
   "version": "3.7.4"
  }
 },
 "nbformat": 4,
 "nbformat_minor": 4
}
