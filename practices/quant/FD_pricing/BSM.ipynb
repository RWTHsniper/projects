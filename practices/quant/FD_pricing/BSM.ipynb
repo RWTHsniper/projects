{
 "cells": [
  {
   "cell_type": "code",
   "execution_count": 1,
   "metadata": {},
   "outputs": [],
   "source": [
    "from math import log, sqrt, pi, exp\n",
    "from scipy.stats import norm\n",
    "from datetime import datetime, date\n",
    "import numpy as np\n",
    "import pandas as pd\n",
    "from pandas import DataFrame\n",
    "from matplotlib import pyplot as plt"
   ]
  },
  {
   "cell_type": "code",
   "execution_count": 2,
   "metadata": {},
   "outputs": [],
   "source": [
    "def d1(S,K,T,r,sigma):\n",
    "    return(log(S/K)+(r+sigma**2/2.)*T)/sigma*sqrt(T)\n",
    "\n",
    "def d2(S,K,T,r,sigma):\n",
    "    return d1(S,K,T,r,sigma)-sigma*sqrt(T)\n",
    "\n",
    "def bs_call(S,K,T,r,sigma):\n",
    "    return S*norm.cdf(d1(S,K,T,r,sigma))-K*exp(-r*T)*norm.cdf(d2(S,K,T,r,sigma))\n",
    "  \n",
    "def bs_put(S,K,T,r,sigma):\n",
    "    return K*exp(-r*T)-S+bs_call(S,K,T,r,sigma)"
   ]
  },
  {
   "cell_type": "code",
   "execution_count": 3,
   "metadata": {},
   "outputs": [
    {
     "data": {
      "text/plain": [
       "20.144406289860115"
      ]
     },
     "execution_count": 3,
     "metadata": {},
     "output_type": "execute_result"
    }
   ],
   "source": [
    "S, K, T, r, sig = 100,100,1,0.01,0.5\n",
    "bs_call(S, K, T, r, sig)"
   ]
  },
  {
   "cell_type": "code",
   "execution_count": 4,
   "metadata": {},
   "outputs": [],
   "source": [
    "\n",
    "\n",
    "def FD_BSM(S, K, T, r, sig, ns, nt, factor, type='European'):\n",
    "    # B * F_{i-1} = C * F_{i}\n",
    "    # F_{i-1} = B \\ C * F_{i}\n",
    "    S_max = K * factor\n",
    "    ds = S_max / ns\n",
    "    dt = T / nt\n",
    "\n",
    "    # Lower bound: Dirichlet boundary. 0 spot price means 0 call option price\n",
    "    # Upper bound: Zero Gamma boundary.\n",
    "\n",
    "    V = np.zeros([ns,nt]) # value at each time step. t=i*dt, Sj = j*ds\n",
    "    B = np.zeros([ns-1,ns-1])\n",
    "    C = np.zeros([ns-1,ns-1])\n",
    "\n",
    "    # Apply Gamma free BC \n",
    "    B[ns-2,ns-2] = 1.0\n",
    "    B[ns-2,ns-3] = -2.0\n",
    "    B[ns-2,ns-4] = 1.0\n",
    "\n",
    "    # Assign payoff at maturity\n",
    "    for j in range(V.shape[0]): # each row in the last column\n",
    "        Sj = (j+1)*ds\n",
    "        V[j,nt-1] = np.max([Sj-K,0.0])\n",
    "    #    print(V[j,nt-1])\n",
    "\n",
    "    # Build up B and C\n",
    "    # Explicit scheme: v(i+1)-v(i)=v(i+1,j-1)*2a + v(i+1,j)*2b + v(i+1,j+1)*2c\n",
    "    for j in range(B.shape[0]-1):\n",
    "        jj = j+1 # j value for computing grid values\n",
    "        a = 0.5*dt*(r*jj-(sig*jj)**2)/2\n",
    "        b = 0.5*dt*((sig*jj)**2+r)\n",
    "        c = 0.5*-dt*(r*jj+(sig*jj)**2)/2\n",
    "    #    print(a,b,c)\n",
    "        if j > 0:\n",
    "            B[j,j-1] = a\n",
    "            C[j,j-1] = -a\n",
    "        B[j,j] = 1+b\n",
    "        B[j,j+1] = c\n",
    "        C[j,j] = 1-b\n",
    "        C[j,j+1] = -c\n",
    "\n",
    "    # Each time step excluding the very last\n",
    "    for i in reversed(range(nt-1)):\n",
    "        rhs = np.dot(C,V[1:,i+1])\n",
    "        rhs[ns-2] = 0.0 # zero Gamma boundary\n",
    "        V[1:,i] = np.linalg.solve(B, rhs)\n",
    "        if type == 'American':\n",
    "            for j in range(1,ns):\n",
    "                V[j,i] = np.max([V[j,i], ds*j-K])\n",
    "\n",
    "    # Return result by interpolation\n",
    "    k_array = np.array(range(1,ns+1))*ds\n",
    "    return np.interp(K,k_array,V[:,0])\n",
    "\n",
    "def FD_BSM_log(S, K, T, r, sig, ns, nt, factor, type='European'):\n",
    "    # log-normal price process\n",
    "    # B * F_{i-1} = C * F_{i}\n",
    "    # F_{i-1} = B \\ C * F_{i}\n",
    "    s = np.log(S)\n",
    "    k = np.log(K)\n",
    "    s_max = np.log(K*factor)\n",
    "    ds = s_max/ns\n",
    "    dt = T/nt\n",
    "    \n",
    "    # Lower bound: Dirichlet boundary. 0 spot price means 0 call option price\n",
    "    # Upper bound: Zero Gamma boundary.\n",
    "    V = np.zeros([ns,nt]) # value at each time step. t=i*dt, Sj = j*ds\n",
    "    B = np.zeros([ns-1,ns-1])\n",
    "    C = np.zeros([ns-1,ns-1])\n",
    "    \n",
    "    # Apply Gamma free BC \n",
    "    B[ns-2,ns-2] = 1/ds**2 - 1/(2*ds) # s(j+1)\n",
    "    B[ns-2,ns-3] = -2/ds**2 # s(j)\n",
    "    B[ns-2,ns-4] = 1/ds**2 + 1/(2*ds) # s(j-1)\n",
    "    B[ns-2,ns-2] = 1.0\n",
    "    B[ns-2,ns-3] = -2.0\n",
    "    B[ns-2,ns-4] = 1.0\n",
    "    \n",
    "    # Assign payoff at maturity\n",
    "    for j in range(V.shape[0]): # each row in the last column\n",
    "        sj = (j+1)*ds\n",
    "        V[j,nt-1] = np.max([np.exp(sj)-K,0.0])\n",
    "\n",
    "    # Build up B and C\n",
    "    # Explicit scheme: v(i+1)-v(i)=v(i+1,j-1)*2a + v(i+1,j)*2b + v(i+1,j+1)*2c\n",
    "    for j in range(B.shape[0]-1):\n",
    "        jj = j+1 # j value for computing grid values\n",
    "        a = 0.5*dt*((r-0.5*sig**2)/(2*ds)-(sig**2)/(2*ds**2))\n",
    "        b = 0.5*dt*(r+(sig/ds)**2)\n",
    "        c = 0.5*dt*(-(r-0.5*sig**2)/(2*ds)-(sig**2)/(2*ds**2))\n",
    "    #    print(a,b,c)\n",
    "        if j > 0:\n",
    "            B[j,j-1] = a\n",
    "            C[j,j-1] = -a\n",
    "        B[j,j] = 1+b\n",
    "        B[j,j+1] = c\n",
    "        C[j,j] = 1-b\n",
    "        C[j,j+1] = -c\n",
    "\n",
    "    # Each time step excluding the very last\n",
    "    # for log-price, zero Gamma needs to be modified\n",
    "    for i in reversed(range(nt-1)):\n",
    "        rhs = np.dot(C,V[1:,i+1])\n",
    "        rhs[ns-2] = 0.0 # zero Gamma boundary\n",
    "        V[1:,i] = np.linalg.solve(B, rhs)\n",
    "        if type == 'American':\n",
    "            for j in range(1,ns):\n",
    "                V[j,i] = np.max([V[j,i], ds*j-K])\n",
    "\n",
    "    # Return result by interpolation\n",
    "    k_array = np.array(range(1,ns+1))*ds\n",
    "    return np.interp(k,k_array,V[:,0])\n"
   ]
  },
  {
   "cell_type": "code",
   "execution_count": 5,
   "metadata": {},
   "outputs": [
    {
     "name": "stdout",
     "output_type": "stream",
     "text": [
      "[-0.69445455 -0.70450259 -0.70786045 -0.70912335 -0.70955011 -0.70958278\n",
      " -0.70940344 -0.70909747 -0.70873182 -0.70850395]\n",
      "[ 0.00253843 -0.05978819 -0.08499754 -0.09757269 -0.10521343 -0.11536714\n",
      " -0.14627357 -0.23223687 -0.41854805 -0.75119242]\n"
     ]
    }
   ],
   "source": [
    "ns = 512 # number of price grids\n",
    "nt = 400 # number of time steps\n",
    "factor = 3\n",
    "sig_arr = np.linspace(0.1,0.5,10)\n",
    "BS_analytic = np.zeros(len(sig_arr))\n",
    "BS_FD = np.zeros(len(sig_arr))\n",
    "BS_FD_log = np.zeros(len(sig_arr))\n",
    "\n",
    "for i,sig in enumerate(sig_arr):\n",
    "    BS_analytic[i] = bs_call(S, K, T, r, sig)\n",
    "    BS_FD[i] = FD_BSM(S, K, T, r, sig, ns=ns, nt=nt, factor=factor)\n",
    "    BS_FD_log[i] = FD_BSM_log(S, K, T, r, sig, ns=ns, nt=nt, factor=factor)\n",
    "    \n",
    "rel_error = (BS_FD - BS_analytic)/ BS_analytic * 100\n",
    "print(rel_error)\n",
    "rel_error_log = (BS_FD_log - BS_analytic)/ BS_analytic * 100\n",
    "print(rel_error_log)"
   ]
  },
  {
   "cell_type": "code",
   "execution_count": null,
   "metadata": {},
   "outputs": [],
   "source": []
  },
  {
   "cell_type": "markdown",
   "metadata": {},
   "source": [
    "# American Option Pricing"
   ]
  },
  {
   "cell_type": "code",
   "execution_count": 6,
   "metadata": {},
   "outputs": [],
   "source": [
    "# Binomial Tree for America and European options\n",
    "# Author: Mehdi Bounouar,\n",
    "# \n",
    "# The code is inspired from:\n",
    "# [S.R Das, B. Ganger, Journal of Investment Management, Vol.9, No.4, (2010), pp.73-84]\n",
    "# and the C++ code version from Volopta written by Dr. F. Rouah\n",
    "\n",
    "def BinomialTreeCRR(n, Spot, k, r, v, T, PutCall, OpStyle):\n",
    "    \"\"\"\n",
    "    n: steps\n",
    "    Spot: Spot price\n",
    "    K: Strike price\n",
    "    r: Risk free rate\n",
    "    v: volatility\n",
    "    T: Maturity\n",
    "    PutCall: European or American\n",
    "    OpStyle: Call or Put\n",
    "    \"\"\"\n",
    "    dt = T/n\n",
    "    u = np.exp(v*np.sqrt(dt))\n",
    "    d = 1./u\n",
    "    p = (np.exp(r*dt)-d)/(u-d)\n",
    "    \n",
    "    #Binomial price tree\n",
    "    stkval = np.zeros((n+1,n+1))\n",
    "    stkval[0,0] = Spot\n",
    "    for i in range(1,n+1):\n",
    "        stkval[i,0] = stkval[i-1,0]*u\n",
    "        for j in range(1,i+1):\n",
    "            stkval[i,j] = stkval[i-1,j-1]*d\n",
    "    \n",
    "    #option value at each final node\n",
    "    optval = np.zeros((n+1,n+1))\n",
    "    for j in range(n+1):\n",
    "        if PutCall==\"C\": # Call\n",
    "            optval[n,j] = max(0, stkval[n,j]-k)\n",
    "        elif PutCall==\"P\": #Put\n",
    "            optval[n,j] = max(0, k-stkval[n,j])\n",
    "    \n",
    "    #backward recursion for option price\n",
    "    for i in range(n-1,-1,-1):\n",
    "        for j in range(i+1):\n",
    "            if OpStyle==\"E\":\n",
    "                optval[i,j] = np.exp(-r*dt)*(p*optval[i+1,j] + (1-p)*optval[i+1,j+1])\n",
    "            elif OpStyle==\"A\":\n",
    "                if PutCall==\"P\":\n",
    "                    optval[i,j] = max(k-stkval[i,j], np.exp(-r*dt)*(p*optval[i+1,j]+(1-p)*optval[i+1,j+1]))\n",
    "                elif PutCall==\"C\":\n",
    "                    optval[i,j] = max(stkval[i,j]-k, np.exp(-r*dt)*(p*optval[i+1,j]+(1-p)*optval[i+1,j+1]))\n",
    "    return optval[0,0]"
   ]
  },
  {
   "cell_type": "code",
   "execution_count": 7,
   "metadata": {},
   "outputs": [
    {
     "data": {
      "text/plain": [
       "20.13481805205403"
      ]
     },
     "execution_count": 7,
     "metadata": {},
     "output_type": "execute_result"
    }
   ],
   "source": [
    "Spot = 100.           # Spot Price\n",
    "k = 100.               # Strike Price\n",
    "r = .01               # Annual Risk-free rate\n",
    "v = sig             # Annual Volatility\n",
    "T = 365./(365)        # Time in year (days/365)\n",
    "n = 512                 # Number of steps\n",
    "BinomialTreeCRR(n, Spot, k, r, v, T, PutCall=\"C\", OpStyle=\"A\")"
   ]
  },
  {
   "cell_type": "code",
   "execution_count": 8,
   "metadata": {},
   "outputs": [
    {
     "data": {
      "text/plain": [
       "20.00168237589211"
      ]
     },
     "execution_count": 8,
     "metadata": {},
     "output_type": "execute_result"
    }
   ],
   "source": [
    "FD_BSM(S, K, T, r, sig, ns=512, nt=nt, factor=factor,type='American')"
   ]
  },
  {
   "cell_type": "code",
   "execution_count": 9,
   "metadata": {},
   "outputs": [
    {
     "data": {
      "text/plain": [
       "20.00168237589211"
      ]
     },
     "execution_count": 9,
     "metadata": {},
     "output_type": "execute_result"
    }
   ],
   "source": [
    "FD_BSM(S, K, T, r, sig, ns=512, nt=nt, factor=factor,type='European')"
   ]
  },
  {
   "cell_type": "code",
   "execution_count": null,
   "metadata": {},
   "outputs": [],
   "source": []
  },
  {
   "cell_type": "code",
   "execution_count": null,
   "metadata": {},
   "outputs": [],
   "source": []
  }
 ],
 "metadata": {
  "kernelspec": {
   "display_name": "Python 3",
   "language": "python",
   "name": "python3"
  },
  "language_info": {
   "codemirror_mode": {
    "name": "ipython",
    "version": 3
   },
   "file_extension": ".py",
   "mimetype": "text/x-python",
   "name": "python",
   "nbconvert_exporter": "python",
   "pygments_lexer": "ipython3",
   "version": "3.7.4"
  }
 },
 "nbformat": 4,
 "nbformat_minor": 4
}
