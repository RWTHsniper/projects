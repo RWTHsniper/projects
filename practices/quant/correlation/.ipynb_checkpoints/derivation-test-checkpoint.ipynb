{
 "cells": [
  {
   "cell_type": "code",
   "execution_count": 1,
   "metadata": {},
   "outputs": [],
   "source": [
    "import sympy\n",
    "sp = sympy\n",
    "import numpy as np\n",
    "from scipy.integrate import odeint,RK45,solve_ivp\n",
    "import matplotlib.pyplot as plt"
   ]
  },
  {
   "cell_type": "code",
   "execution_count": 30,
   "metadata": {},
   "outputs": [],
   "source": [
    "def Riccati_solution(a,b,c,tau,init_val):\n",
    "    g = sp.sqrt(b**2 - 4.0*a*c)\n",
    "    ex = sp.exp(g*tau) - 1\n",
    "    num = 2*g*init_val + ((b+g)*init_val+2*c)*ex\n",
    "    denom = 2*g - (2*a*init_val+b-g)*ex\n",
    "    print(g,ex,num,denom)\n",
    "    return num/denom\n",
    "\n",
    "def Riccati_solution_vec(a,b,c,tau,init_val):\n",
    "    n = len(a)\n",
    "    res = np.zeros(n)\n",
    "    for i in range(n):\n",
    "        res[i] = Riccati_solution(a[i],b[i],c[i],tau,init_val[i])\n",
    "    return res\n",
    "    \n",
    "def int_Riccati_solution(a,b,c,tau,ricc_init_val):\n",
    "    g = sp.sqrt(b**2 - 4.0*a*c)\n",
    "    print(g)\n",
    "    ex = sp.exp(g*tau) - 1\n",
    "    term1 = (-b+g)*tau/(2.0*a) \n",
    "    term2 = sp.log(2*g/sp.Abs(2*g+(g-b-2*a*ricc_init_val)*ex))/a\n",
    "    return term1 + term2\n",
    "\n",
    "def int_Riccati_solution_vec(a,b,c,tau,ricc_init_val):\n",
    "    n = len(a)\n",
    "    res = np.zeros(n)\n",
    "    for i in range(n):\n",
    "#        print(int_Riccati_solution(a[i],b[i],c[i],tau,ricc_init_val[i]))\n",
    "        res[i] = int_Riccati_solution(a[i],b[i],c[i],tau,ricc_init_val[i])\n",
    "    return res\n"
   ]
  },
  {
   "cell_type": "code",
   "execution_count": 3,
   "metadata": {},
   "outputs": [],
   "source": [
    "a, b, c, tau, init_val = sp.symbols(\"a b c tau init_val\")"
   ]
  },
  {
   "cell_type": "code",
   "execution_count": 4,
   "metadata": {},
   "outputs": [
    {
     "data": {
      "text/latex": [
       "$\\displaystyle \\frac{4.0 init_{val} \\sqrt{- a c + 0.25 b^{2}} + \\left(2 c + init_{val} \\left(b + 2.0 \\sqrt{- a c + 0.25 b^{2}}\\right)\\right) \\left(e^{2.0 \\tau \\sqrt{- a c + 0.25 b^{2}}} - 1\\right)}{4.0 \\sqrt{- a c + 0.25 b^{2}} - \\left(e^{2.0 \\tau \\sqrt{- a c + 0.25 b^{2}}} - 1\\right) \\left(2 a init_{val} + b - 2.0 \\sqrt{- a c + 0.25 b^{2}}\\right)}$"
      ],
      "text/plain": [
       "(4.0*init_val*sqrt(-a*c + 0.25*b**2) + (2*c + init_val*(b + 2.0*sqrt(-a*c + 0.25*b**2)))*(exp(2.0*tau*sqrt(-a*c + 0.25*b**2)) - 1))/(4.0*sqrt(-a*c + 0.25*b**2) - (exp(2.0*tau*sqrt(-a*c + 0.25*b**2)) - 1)*(2*a*init_val + b - 2.0*sqrt(-a*c + 0.25*b**2)))"
      ]
     },
     "execution_count": 4,
     "metadata": {},
     "output_type": "execute_result"
    }
   ],
   "source": [
    "Riccati_solution(a,b,c,tau,init_val)"
   ]
  },
  {
   "cell_type": "code",
   "execution_count": 5,
   "metadata": {},
   "outputs": [
    {
     "data": {
      "text/plain": [
       "  message: 'The solver successfully reached the end of the integration interval.'\n",
       "     nfev: 121\n",
       "     njev: 0\n",
       "      nlu: 0\n",
       "      sol: None\n",
       "   status: 0\n",
       "  success: True\n",
       "        t: array([ 0.        ,  0.3030303 ,  0.60606061,  0.90909091,  1.21212121,\n",
       "        1.51515152,  1.81818182,  2.12121212,  2.42424242,  2.72727273,\n",
       "        3.03030303,  3.33333333,  3.63636364,  3.93939394,  4.24242424,\n",
       "        4.54545455,  4.84848485,  5.15151515,  5.45454545,  5.75757576,\n",
       "        6.06060606,  6.36363636,  6.66666667,  6.96969697,  7.27272727,\n",
       "        7.57575758,  7.87878788,  8.18181818,  8.48484848,  8.78787879,\n",
       "        9.09090909,  9.39393939,  9.6969697 , 10.        , 10.3030303 ,\n",
       "       10.60606061, 10.90909091, 11.21212121, 11.51515152, 11.81818182,\n",
       "       12.12121212, 12.42424242, 12.72727273, 13.03030303, 13.33333333,\n",
       "       13.63636364, 13.93939394, 14.24242424, 14.54545455, 14.84848485,\n",
       "       15.15151515, 15.45454545, 15.75757576, 16.06060606, 16.36363636,\n",
       "       16.66666667, 16.96969697, 17.27272727, 17.57575758, 17.87878788,\n",
       "       18.18181818, 18.48484848, 18.78787879, 19.09090909, 19.39393939,\n",
       "       19.6969697 , 20.        , 20.3030303 , 20.60606061, 20.90909091,\n",
       "       21.21212121, 21.51515152, 21.81818182, 22.12121212, 22.42424242,\n",
       "       22.72727273, 23.03030303, 23.33333333, 23.63636364, 23.93939394,\n",
       "       24.24242424, 24.54545455, 24.84848485, 25.15151515, 25.45454545,\n",
       "       25.75757576, 26.06060606, 26.36363636, 26.66666667, 26.96969697,\n",
       "       27.27272727, 27.57575758, 27.87878788, 28.18181818, 28.48484848,\n",
       "       28.78787879, 29.09090909, 29.39393939, 29.6969697 , 30.        ])\n",
       " t_events: None\n",
       "        y: array([[1.        , 1.51307469, 1.99089135, 2.43651731, 2.85269028,\n",
       "        3.24184911, 3.6061633 , 3.94760045, 4.26793743, 4.56877244,\n",
       "        4.85154439, 5.1175566 , 5.36800894, 5.60399819, 5.82652062,\n",
       "        6.03648789, 6.23472342, 6.42199224, 6.59900533, 6.76641968,\n",
       "        6.92483839, 7.07482   , 7.21687239, 7.35146636, 7.47904487,\n",
       "        7.6000231 , 7.71478844, 7.82370044, 7.92709367, 8.02527824,\n",
       "        8.11853785, 8.20714165, 8.29134458, 8.37138741, 8.44749671,\n",
       "        8.51988486, 8.58875042, 8.65428063, 8.71664536, 8.77600511,\n",
       "        8.83251319, 8.88631568, 8.93755149, 8.98635228, 9.03284255,\n",
       "        9.07713957, 9.11935424, 9.15958947, 9.19793937, 9.23449427,\n",
       "        9.26934085, 9.30256219, 9.33423769, 9.36444315, 9.39325073,\n",
       "        9.42072894, 9.44694267, 9.47195366, 9.49581796, 9.51858746,\n",
       "        9.54031226, 9.56104063, 9.58081906, 9.59969223, 9.61770302,\n",
       "        9.6348925 , 9.65129994, 9.6669628 , 9.68191676, 9.69619577,\n",
       "        9.70983054, 9.722849  , 9.7352782 , 9.74714432, 9.75847268,\n",
       "        9.76928774, 9.77961308, 9.78947144, 9.79888467, 9.80787379,\n",
       "        9.81645891, 9.82465933, 9.83249344, 9.8399785 , 9.84712937,\n",
       "        9.85396004, 9.86048412, 9.86671482, 9.87266497, 9.87834702,\n",
       "        9.88377301, 9.88895462, 9.89390311, 9.89862938, 9.90314393,\n",
       "        9.90745687, 9.91157793, 9.91551644, 9.91928063, 9.92287678]])\n",
       " y_events: None"
      ]
     },
     "execution_count": 5,
     "metadata": {},
     "output_type": "execute_result"
    }
   ],
   "source": [
    "grad = lambda y,t,a,b,c: [a*y[0]*y[0] + b*y[0] + c]\n",
    "# grad = lambda y,t,a,b,c: a*y*y + b*y + c\n",
    "y0 = [1.0]\n",
    "# grad = lambda y,t,a,b,c: a*y**2 + b*y + c\n",
    "# y0 = 1.0\n",
    "t = np.linspace(0, 30, 100)\n",
    "args = (0.005,-0.25,2) # a,b,c need to put realistic numbers\n",
    "# sol= odeint(grad, y0, t, args=args)\n",
    "grad_RK45 = lambda t,y: grad(y,t,*args)\n",
    "# sol= solve_ivp(grad_RK45,[t[0],t[-1]], y0,t_eval=[t[0],t[-1]])\n",
    "sol= solve_ivp(grad_RK45,[t[0],t[-1]], y0, t_eval=t,rtol = 1e-5,first_step=1e-8)\n",
    "sol"
   ]
  },
  {
   "cell_type": "code",
   "execution_count": 6,
   "metadata": {},
   "outputs": [
    {
     "data": {
      "text/plain": [
       "9.922893892084652"
      ]
     },
     "execution_count": 6,
     "metadata": {},
     "output_type": "execute_result"
    }
   ],
   "source": [
    "Riccati_solution(*args,sol.t[-1],y0[0])"
   ]
  },
  {
   "cell_type": "code",
   "execution_count": 7,
   "metadata": {},
   "outputs": [
    {
     "data": {
      "text/plain": [
       "[<matplotlib.lines.Line2D at 0x1d549a64250>]"
      ]
     },
     "execution_count": 7,
     "metadata": {},
     "output_type": "execute_result"
    },
    {
     "data": {
      "image/png": "[encoded data removed]",
      "text/plain": [
       "<Figure size 432x288 with 1 Axes>"
      ]
     },
     "metadata": {
      "needs_background": "light"
     },
     "output_type": "display_data"
    }
   ],
   "source": [
    "plt.plot(sol.t,sol.y.reshape(-1))"
   ]
  },
  {
   "cell_type": "code",
   "execution_count": 27,
   "metadata": {},
   "outputs": [],
   "source": [
    "grad = lambda y,t,a,b,c,init_val: [Riccati_solution(a,b,c,t,init_val)]\n",
    "# grad = lambda y,t,a,b,c: a*y*y + b*y + c\n",
    "y0 = [1.0]\n",
    "# grad = lambda y,t,a,b,c: a*y**2 + b*y + c\n",
    "# y0 = 1.0\n",
    "t = np.linspace(0, 10, 5000)\n",
    "# args = (0.005,-0.25,2) # a,b,c need to put realistic numbers\n",
    "sol= odeint(grad, 0.0, t, args=args+(y0[0],))"
   ]
  },
  {
   "cell_type": "code",
   "execution_count": 28,
   "metadata": {},
   "outputs": [
    {
     "data": {
      "text/plain": [
       "array([58.10006889])"
      ]
     },
     "execution_count": 28,
     "metadata": {},
     "output_type": "execute_result"
    }
   ],
   "source": [
    "sol[-1]"
   ]
  },
  {
   "cell_type": "code",
   "execution_count": 29,
   "metadata": {},
   "outputs": [
    {
     "data": {
      "text/latex": [
       "$\\displaystyle 58.1000686349332$"
      ],
      "text/plain": [
       "58.1000686349332"
      ]
     },
     "execution_count": 29,
     "metadata": {},
     "output_type": "execute_result"
    }
   ],
   "source": [
    "int_Riccati_solution(*args,t[-1],y0[0])"
   ]
  },
  {
   "cell_type": "code",
   "execution_count": 31,
   "metadata": {},
   "outputs": [],
   "source": [
    "# How to compute a Chf\n",
    "# US parameters\n",
    "# for treasury param\n",
    "l0 = -0.127061\n",
    "# presume constant shift\n",
    "ve = np.array([0.2715618,0.0195524,0.0009720])\n",
    "ka = np.array([5.6772530,0.2520333,0.147])\n",
    "th = ve/ka\n",
    "si = np.array([0.0181427,0.0422960,0.034]) # adjusted si[2]\n",
    "xi = np.array([0.05095958,0.06725220,0.00961570])\n",
    "# Equity parameters (US LC, OS)\n",
    "mu0 = np.array([0.000815,0.000822])\n",
    "mu1 = np.array([-0.5,-0.5])\n",
    "v0 = np.array([0.019528084,0.080837794])\n",
    "alp = np.array([0.022,0.108045])\n",
    "beta = np.array([0.98803,1.284485])\n",
    "sigma = np.array([0.142303,0.121922]) # volatility of variance\n",
    "\n",
    "# sA vA sB vB\n",
    "# correlation parameters\n",
    "sAvA = -0.5\n",
    "sAsB = 0.5\n",
    "sAvB = -0.5\n",
    "vAsB = -0.5\n",
    "vAvB = 0.5\n",
    "sBvB = -0.5\n",
    "correlation = np.matrix([[1,sAvA,sAsB,sAvB],[sAvA,1,vAsB,vAvB],[sAsB,vAsB,1,sBvB],[sAvB,vAvB,sBvB,1]]) \n",
    "if np.all(np.linalg.eigvals(correlation) < 0):\n",
    "    print('Correlation matrix is not positive definite!')\n",
    "L = np.linalg.cholesky(correlation) # Cholesky decomposition of the correlation for simulation"
   ]
  },
  {
   "cell_type": "code",
   "execution_count": 36,
   "metadata": {},
   "outputs": [
    {
     "name": "stdout",
     "output_type": "stream",
     "text": [
      "5.67713704218560 4.52369071258728e+24 1.80947361191300e+25 5.13636729017566e+25\n",
      "0.237413095352573 9.74167411460352 38.9890511516698 5.24168144090661\n",
      "0.130326513035529 2.68129698018232 10.7272643970646 1.00421796337295\n",
      "5.67713704218560\n",
      "0.237413095352573\n",
      "0.130326513035529\n",
      "1.05918150000000 39806.6745271875 0.0413675706064920 84311.3634239473\n",
      "1.34544600000000 696942.761518331 0.217525773172248 1874562.90985647\n"
     ]
    }
   ],
   "source": [
    "# test\n",
    "tau = t[-1]\n",
    "u = np.array([1.0, 1.0]) # uA uB\n",
    "\n",
    "# compute Bi (treasury parameter)\n",
    "Bi_param = {'a':0.5*si**2,'b':-ka,'c':sum(u)*np.ones(len(ka)),'init_val':xi}\n",
    "Bi = Riccati_solution_vec(Bi_param['a'],Bi_param['b'],Bi_param['c'],tau,Bi_param['init_val'])\n",
    "int_Bi = int_Riccati_solution_vec(Bi_param['a'],Bi_param['b'],Bi_param['c'],tau,Bi_param['init_val'])\n",
    "\n",
    "# compute Ci for variance process\n",
    "# heston model's parameter\n",
    "Ci_param = {'a':0.5*sigma**2, 'b':(u*np.array([sAvA,sBvB])*sigma-beta), 'c':0.5*u**2+u*mu1,'init_val':v0}\n",
    "Ci = Riccati_solution_vec(Ci_param['a'],Ci_param['b'],Ci_param['c'],tau,Ci_param['init_val'])\n"
   ]
  },
  {
   "cell_type": "code",
   "execution_count": null,
   "metadata": {},
   "outputs": [],
   "source": [
    "Bi_com = np.zeros((len(t),3))\n",
    "for i,elem in enumerate(t):\n",
    "    Bi_com[i,:] = int_Riccati_solution_vec(Bi_param['a'],Bi_param['b'],Bi_param['c'],elem,Bi_param['init_val'])\n",
    "Bi_com"
   ]
  },
  {
   "cell_type": "code",
   "execution_count": 38,
   "metadata": {},
   "outputs": [
    {
     "data": {
      "text/plain": [
       "array([ 3.46978941, 51.18437817, 65.49881376])"
      ]
     },
     "execution_count": 38,
     "metadata": {},
     "output_type": "execute_result"
    }
   ],
   "source": [
    "int_Bi"
   ]
  },
  {
   "cell_type": "code",
   "execution_count": null,
   "metadata": {},
   "outputs": [],
   "source": []
  }
 ],
 "metadata": {
  "kernelspec": {
   "display_name": "Python 3",
   "language": "python",
   "name": "python3"
  },
  "language_info": {
   "codemirror_mode": {
    "name": "ipython",
    "version": 3
   },
   "file_extension": ".py",
   "mimetype": "text/x-python",
   "name": "python",
   "nbconvert_exporter": "python",
   "pygments_lexer": "ipython3",
   "version": "3.8.3"
  }
 },
 "nbformat": 4,
 "nbformat_minor": 4
}
