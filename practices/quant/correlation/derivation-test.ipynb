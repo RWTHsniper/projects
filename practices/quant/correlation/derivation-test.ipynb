{
 "cells": [
  {
   "cell_type": "code",
   "execution_count": 1,
   "metadata": {},
   "outputs": [],
   "source": [
    "import sympy\n",
    "sp = sympy\n",
    "import numpy as np\n",
    "from scipy.integrate import odeint,RK45,solve_ivp\n",
    "import matplotlib.pyplot as plt"
   ]
  },
  {
   "cell_type": "code",
   "execution_count": 2,
   "metadata": {},
   "outputs": [],
   "source": [
    "def Riccati_solution(a,b,c,tau,init_val):\n",
    "    g = sp.sqrt(b**2 - 4.0*a*c)\n",
    "    ex = sp.exp(g*tau) - 1\n",
    "    num = 2*g*init_val + ((b+g)*init_val+2*c)*ex\n",
    "    denom = 2*g - (2*a*init_val+b-g)*ex\n",
    "    return num/denom\n",
    "\n",
    "def Riccati_solution_vec(a,b,c,tau,init_val):\n",
    "    n = len(a)\n",
    "    res = np.zeros(n)\n",
    "    for i in range(n):\n",
    "        res[i] = Riccati_solution(a[i],b[i],c[i],tau,init_val[i])\n",
    "    return res\n",
    "    \n",
    "def int_Riccati_solution(a,b,c,tau,ricc_init_val):\n",
    "    g = sp.sqrt(b**2 - 4.0*a*c)\n",
    "    ex = sp.exp(g*tau) - 1\n",
    "    term1 = (-b+g)*tau/(2.0*a) \n",
    "    term2 = sp.log(2*g/sp.Abs(2*g+(g-b-2*a*ricc_init_val)*ex))/a\n",
    "    return term1 + term2\n",
    "\n",
    "def int_Riccati_solution_vec(a,b,c,tau,ricc_init_val):\n",
    "    n = len(a)\n",
    "    res = np.zeros(n)\n",
    "    for i in range(n):\n",
    "#        print(int_Riccati_solution(a[i],b[i],c[i],tau,ricc_init_val[i]))\n",
    "        res[i] = int_Riccati_solution(a[i],b[i],c[i],tau,ricc_init_val[i])\n",
    "    return res\n"
   ]
  },
  {
   "cell_type": "code",
   "execution_count": 3,
   "metadata": {},
   "outputs": [],
   "source": [
    "a, b, c, tau, init_val = sp.symbols(\"a b c tau init_val\")"
   ]
  },
  {
   "cell_type": "code",
   "execution_count": 4,
   "metadata": {},
   "outputs": [
    {
     "data": {
      "text/latex": [
       "$\\displaystyle \\frac{4.0 init_{val} \\sqrt{- a c + 0.25 b^{2}} + \\left(2 c + init_{val} \\left(b + 2.0 \\sqrt{- a c + 0.25 b^{2}}\\right)\\right) \\left(e^{2.0 \\tau \\sqrt{- a c + 0.25 b^{2}}} - 1\\right)}{4.0 \\sqrt{- a c + 0.25 b^{2}} - \\left(e^{2.0 \\tau \\sqrt{- a c + 0.25 b^{2}}} - 1\\right) \\left(2 a init_{val} + b - 2.0 \\sqrt{- a c + 0.25 b^{2}}\\right)}$"
      ],
      "text/plain": [
       "(4.0*init_val*sqrt(-a*c + 0.25*b**2) + (2*c + init_val*(b + 2.0*sqrt(-a*c + 0.25*b**2)))*(exp(2.0*tau*sqrt(-a*c + 0.25*b**2)) - 1))/(4.0*sqrt(-a*c + 0.25*b**2) - (exp(2.0*tau*sqrt(-a*c + 0.25*b**2)) - 1)*(2*a*init_val + b - 2.0*sqrt(-a*c + 0.25*b**2)))"
      ]
     },
     "execution_count": 4,
     "metadata": {},
     "output_type": "execute_result"
    }
   ],
   "source": [
    "Riccati_solution(a,b,c,tau,init_val)"
   ]
  },
  {
   "cell_type": "code",
   "execution_count": 5,
   "metadata": {},
   "outputs": [
    {
     "data": {
      "text/plain": [
       "  message: 'The solver successfully reached the end of the integration interval.'\n",
       "     nfev: 121\n",
       "     njev: 0\n",
       "      nlu: 0\n",
       "      sol: None\n",
       "   status: 0\n",
       "  success: True\n",
       "        t: array([ 0.        ,  0.3030303 ,  0.60606061,  0.90909091,  1.21212121,\n",
       "        1.51515152,  1.81818182,  2.12121212,  2.42424242,  2.72727273,\n",
       "        3.03030303,  3.33333333,  3.63636364,  3.93939394,  4.24242424,\n",
       "        4.54545455,  4.84848485,  5.15151515,  5.45454545,  5.75757576,\n",
       "        6.06060606,  6.36363636,  6.66666667,  6.96969697,  7.27272727,\n",
       "        7.57575758,  7.87878788,  8.18181818,  8.48484848,  8.78787879,\n",
       "        9.09090909,  9.39393939,  9.6969697 , 10.        , 10.3030303 ,\n",
       "       10.60606061, 10.90909091, 11.21212121, 11.51515152, 11.81818182,\n",
       "       12.12121212, 12.42424242, 12.72727273, 13.03030303, 13.33333333,\n",
       "       13.63636364, 13.93939394, 14.24242424, 14.54545455, 14.84848485,\n",
       "       15.15151515, 15.45454545, 15.75757576, 16.06060606, 16.36363636,\n",
       "       16.66666667, 16.96969697, 17.27272727, 17.57575758, 17.87878788,\n",
       "       18.18181818, 18.48484848, 18.78787879, 19.09090909, 19.39393939,\n",
       "       19.6969697 , 20.        , 20.3030303 , 20.60606061, 20.90909091,\n",
       "       21.21212121, 21.51515152, 21.81818182, 22.12121212, 22.42424242,\n",
       "       22.72727273, 23.03030303, 23.33333333, 23.63636364, 23.93939394,\n",
       "       24.24242424, 24.54545455, 24.84848485, 25.15151515, 25.45454545,\n",
       "       25.75757576, 26.06060606, 26.36363636, 26.66666667, 26.96969697,\n",
       "       27.27272727, 27.57575758, 27.87878788, 28.18181818, 28.48484848,\n",
       "       28.78787879, 29.09090909, 29.39393939, 29.6969697 , 30.        ])\n",
       " t_events: None\n",
       "        y: array([[1.        , 1.51307469, 1.99089135, 2.43651731, 2.85269028,\n",
       "        3.24184911, 3.6061633 , 3.94760045, 4.26793743, 4.56877244,\n",
       "        4.85154439, 5.1175566 , 5.36800894, 5.60399819, 5.82652062,\n",
       "        6.03648789, 6.23472342, 6.42199224, 6.59900533, 6.76641968,\n",
       "        6.92483839, 7.07482   , 7.21687239, 7.35146636, 7.47904487,\n",
       "        7.6000231 , 7.71478844, 7.82370044, 7.92709367, 8.02527824,\n",
       "        8.11853785, 8.20714165, 8.29134458, 8.37138741, 8.44749671,\n",
       "        8.51988486, 8.58875042, 8.65428063, 8.71664536, 8.77600511,\n",
       "        8.83251319, 8.88631568, 8.93755149, 8.98635228, 9.03284255,\n",
       "        9.07713957, 9.11935424, 9.15958947, 9.19793937, 9.23449427,\n",
       "        9.26934085, 9.30256219, 9.33423769, 9.36444315, 9.39325073,\n",
       "        9.42072894, 9.44694267, 9.47195366, 9.49581796, 9.51858746,\n",
       "        9.54031226, 9.56104063, 9.58081906, 9.59969223, 9.61770302,\n",
       "        9.6348925 , 9.65129994, 9.6669628 , 9.68191676, 9.69619577,\n",
       "        9.70983054, 9.722849  , 9.7352782 , 9.74714432, 9.75847268,\n",
       "        9.76928774, 9.77961308, 9.78947144, 9.79888467, 9.80787379,\n",
       "        9.81645891, 9.82465933, 9.83249344, 9.8399785 , 9.84712937,\n",
       "        9.85396004, 9.86048412, 9.86671482, 9.87266497, 9.87834702,\n",
       "        9.88377301, 9.88895462, 9.89390311, 9.89862938, 9.90314393,\n",
       "        9.90745687, 9.91157793, 9.91551644, 9.91928063, 9.92287678]])\n",
       " y_events: None"
      ]
     },
     "execution_count": 5,
     "metadata": {},
     "output_type": "execute_result"
    }
   ],
   "source": [
    "grad = lambda y,t,a,b,c: [a*y[0]*y[0] + b*y[0] + c]\n",
    "# grad = lambda y,t,a,b,c: a*y*y + b*y + c\n",
    "y0 = [1.0]\n",
    "# grad = lambda y,t,a,b,c: a*y**2 + b*y + c\n",
    "# y0 = 1.0\n",
    "t = np.linspace(0, 30, 100)\n",
    "args = (0.005,-0.25,2) # a,b,c need to put realistic numbers\n",
    "# sol= odeint(grad, y0, t, args=args)\n",
    "grad_RK45 = lambda t,y: grad(y,t,*args)\n",
    "# sol= solve_ivp(grad_RK45,[t[0],t[-1]], y0,t_eval=[t[0],t[-1]])\n",
    "sol= solve_ivp(grad_RK45,[t[0],t[-1]], y0, t_eval=t,rtol = 1e-5,first_step=1e-8)\n",
    "sol"
   ]
  },
  {
   "cell_type": "code",
   "execution_count": 6,
   "metadata": {},
   "outputs": [
    {
     "data": {
      "text/latex": [
       "$\\displaystyle 9.92289389208465$"
      ],
      "text/plain": [
       "9.92289389208465"
      ]
     },
     "execution_count": 6,
     "metadata": {},
     "output_type": "execute_result"
    }
   ],
   "source": [
    "Riccati_solution(*args,sol.t[-1],y0[0])"
   ]
  },
  {
   "cell_type": "code",
   "execution_count": 7,
   "metadata": {},
   "outputs": [
    {
     "data": {
      "text/plain": [
       "[<matplotlib.lines.Line2D at 0x1f6288ae1c8>]"
      ]
     },
     "execution_count": 7,
     "metadata": {},
     "output_type": "execute_result"
    },
    {
     "data": {
      "image/png": "[encoded data removed]",
      "text/plain": [
       "<Figure size 432x288 with 1 Axes>"
      ]
     },
     "metadata": {
      "needs_background": "light"
     },
     "output_type": "display_data"
    }
   ],
   "source": [
    "plt.plot(sol.t,sol.y.reshape(-1))"
   ]
  },
  {
   "cell_type": "code",
   "execution_count": 8,
   "metadata": {},
   "outputs": [],
   "source": [
    "grad = lambda y,t,a,b,c,init_val: [Riccati_solution(a,b,c,t,init_val)]\n",
    "# grad = lambda y,t,a,b,c: a*y*y + b*y + c\n",
    "y0 = [1.0]\n",
    "# grad = lambda y,t,a,b,c: a*y**2 + b*y + c\n",
    "# y0 = 1.0\n",
    "t = np.linspace(0, 10, 100)\n",
    "# args = (0.005,-0.25,2) # a,b,c need to put realistic numbers\n",
    "sol= odeint(grad, 0.0, t, args=args+(y0[0],))"
   ]
  },
  {
   "cell_type": "code",
   "execution_count": 16,
   "metadata": {},
   "outputs": [
    {
     "data": {
      "text/plain": [
       "10.0"
      ]
     },
     "execution_count": 16,
     "metadata": {},
     "output_type": "execute_result"
    }
   ],
   "source": [
    "t[-1]"
   ]
  },
  {
   "cell_type": "code",
   "execution_count": 10,
   "metadata": {},
   "outputs": [
    {
     "data": {
      "text/latex": [
       "$\\displaystyle 58.1000686349332$"
      ],
      "text/plain": [
       "58.1000686349332"
      ]
     },
     "execution_count": 10,
     "metadata": {},
     "output_type": "execute_result"
    }
   ],
   "source": [
    "int_Riccati_solution(*args,t[-1],y0[0])"
   ]
  },
  {
   "cell_type": "code",
   "execution_count": 11,
   "metadata": {},
   "outputs": [],
   "source": [
    "# How to compute a Chf\n",
    "# US parameters\n",
    "# for treasury param\n",
    "l0 = -0.127061\n",
    "# presume constant shift\n",
    "ve = np.array([0.2715618,0.0195524,0.0009720])\n",
    "ka = np.array([5.6772530,0.2520333,0.147])\n",
    "th = ve/ka\n",
    "si = np.array([0.0181427,0.0422960,0.034]) # adjusted si[2]\n",
    "xi = np.array([0.05095958,0.06725220,0.00961570])\n",
    "# Equity parameters (US LC, OS)\n",
    "mu0 = np.array([0.000815,0.000822])\n",
    "mu1 = np.array([-0.5,-0.5])\n",
    "v0 = np.array([0.019528084,0.080837794])\n",
    "alp = np.array([0.022,0.108045])\n",
    "beta = np.array([0.98803,1.284485])\n",
    "sigma = np.array([0.142303,0.121922]) # volatility of variance\n",
    "\n",
    "# sA vA sB vB\n",
    "# correlation parameters\n",
    "sAvA = -0.5\n",
    "sAsB = 0.5\n",
    "sAvB = -0.5\n",
    "vAsB = -0.5\n",
    "vAvB = 0.5\n",
    "sBvB = -0.5\n",
    "correlation = np.matrix([[1,sAvA,sAsB,sAvB],[sAvA,1,vAsB,vAvB],[sAsB,vAsB,1,sBvB],[sAvB,vAvB,sBvB,1]]) \n",
    "if np.all(np.linalg.eigvals(correlation) < 0):\n",
    "    print('Correlation matrix is not positive definite!')\n",
    "L = np.linalg.cholesky(correlation) # Cholesky decomposition of the correlation for simulation"
   ]
  },
  {
   "cell_type": "code",
   "execution_count": 12,
   "metadata": {},
   "outputs": [],
   "source": [
    "# test\n",
    "tau = t[-1]\n",
    "u = np.array([1.0, 1.0]) # uA uB\n",
    "\n",
    "# compute Bi (treasury parameter)\n",
    "Bi_param = {'a':0.5*si**2,'b':-ka,'c':sum(u)*np.ones(len(ka)),'init_val':xi}\n",
    "Bi = Riccati_solution_vec(Bi_param['a'],Bi_param['b'],Bi_param['c'],tau,Bi_param['init_val'])\n",
    "int_Bi = int_Riccati_solution_vec(Bi_param['a'],Bi_param['b'],Bi_param['c'],tau,Bi_param['init_val'])\n",
    "\n",
    "# compute Ci for variance process\n",
    "# heston model's parameter\n",
    "Ci_param = {'a':0.5*sigma**2, 'b':(u*np.array([sAvA,sBvB])*sigma-beta), 'c':0.5*u**2+u*mu1,'init_val':v0}\n",
    "Ci = Riccati_solution_vec(Ci_param['a'],Ci_param['b'],Ci_param['c'],tau,Ci_param['init_val'])\n"
   ]
  },
  {
   "cell_type": "code",
   "execution_count": 13,
   "metadata": {},
   "outputs": [
    {
     "data": {
      "text/plain": [
       "array([[5.09595800e-02, 6.72522000e-02, 9.61570000e-03],\n",
       "       [1.82465760e-01, 2.65034867e-01, 2.10002626e-01],\n",
       "       [2.56579408e-01, 4.57855158e-01, 4.07440922e-01],\n",
       "       [2.98348145e-01, 6.45844130e-01, 6.01978460e-01],\n",
       "       [3.21888074e-01, 8.29129063e-01, 7.93662213e-01],\n",
       "       [3.35154664e-01, 1.00783359e+00, 9.82538273e-01],\n",
       "       [3.42631427e-01, 1.18207779e+00, 1.16865187e+00],\n",
       "       [3.46845171e-01, 1.35197836e+00, 1.35204739e+00],\n",
       "       [3.49219947e-01, 1.51764866e+00, 1.53276840e+00],\n",
       "       [3.50558320e-01, 1.67919884e+00, 1.71085767e+00],\n",
       "       [3.51312599e-01, 1.83673599e+00, 1.88635716e+00],\n",
       "       [3.51737694e-01, 1.99036415e+00, 2.05930809e+00],\n",
       "       [3.51977269e-01, 2.14018448e+00, 2.22975090e+00],\n",
       "       [3.52112288e-01, 2.28629531e+00, 2.39772531e+00],\n",
       "       [3.52188382e-01, 2.42879226e+00, 2.56327032e+00],\n",
       "       [3.52231267e-01, 2.56776829e+00, 2.72642421e+00],\n",
       "       [3.52255436e-01, 2.70331381e+00, 2.88722458e+00],\n",
       "       [3.52269057e-01, 2.83551672e+00, 3.04570837e+00],\n",
       "       [3.52276734e-01, 2.96446254e+00, 3.20191183e+00],\n",
       "       [3.52281060e-01, 3.09023445e+00, 3.35587059e+00],\n",
       "       [3.52283499e-01, 3.21291335e+00, 3.50761963e+00],\n",
       "       [3.52284873e-01, 3.33257797e+00, 3.65719332e+00],\n",
       "       [3.52285647e-01, 3.44930490e+00, 3.80462540e+00],\n",
       "       [3.52286084e-01, 3.56316864e+00, 3.94994906e+00],\n",
       "       [3.52286330e-01, 3.67424172e+00, 4.09319688e+00],\n",
       "       [3.52286468e-01, 3.78259471e+00, 4.23440086e+00],\n",
       "       [3.52286546e-01, 3.88829630e+00, 4.37359246e+00],\n",
       "       [3.52286590e-01, 3.99141332e+00, 4.51080260e+00],\n",
       "       [3.52286615e-01, 4.09201086e+00, 4.64606165e+00],\n",
       "       [3.52286629e-01, 4.19015226e+00, 4.77939945e+00],\n",
       "       [3.52286637e-01, 4.28589917e+00, 4.91084535e+00],\n",
       "       [3.52286642e-01, 4.37931165e+00, 5.04042817e+00],\n",
       "       [3.52286644e-01, 4.47044814e+00, 5.16817627e+00],\n",
       "       [3.52286645e-01, 4.55936557e+00, 5.29411748e+00],\n",
       "       [3.52286646e-01, 4.64611935e+00, 5.41827920e+00],\n",
       "       [3.52286647e-01, 4.73076347e+00, 5.54068834e+00],\n",
       "       [3.52286647e-01, 4.81335049e+00, 5.66137137e+00],\n",
       "       [3.52286647e-01, 4.89393161e+00, 5.78035431e+00],\n",
       "       [3.52286647e-01, 4.97255668e+00, 5.89766272e+00],\n",
       "       [3.52286647e-01, 5.04927430e+00, 6.01332178e+00],\n",
       "       [3.52286647e-01, 5.12413176e+00, 6.12735619e+00],\n",
       "       [3.52286647e-01, 5.19717515e+00, 6.23979029e+00],\n",
       "       [3.52286647e-01, 5.26844939e+00, 6.35064798e+00],\n",
       "       [3.52286647e-01, 5.33799821e+00, 6.45995279e+00],\n",
       "       [3.52286647e-01, 5.40586424e+00, 6.56772784e+00],\n",
       "       [3.52286647e-01, 5.47208900e+00, 6.67399588e+00],\n",
       "       [3.52286647e-01, 5.53671297e+00, 6.77877928e+00],\n",
       "       [3.52286647e-01, 5.59977557e+00, 6.88210005e+00],\n",
       "       [3.52286647e-01, 5.66131523e+00, 6.98397983e+00],\n",
       "       [3.52286647e-01, 5.72136939e+00, 7.08443991e+00],\n",
       "       [3.52286647e-01, 5.77997455e+00, 7.18350124e+00],\n",
       "       [3.52286647e-01, 5.83716628e+00, 7.28118443e+00],\n",
       "       [3.52286647e-01, 5.89297924e+00, 7.37750975e+00],\n",
       "       [3.52286647e-01, 5.94744723e+00, 7.47249714e+00],\n",
       "       [3.52286647e-01, 6.00060317e+00, 7.56616622e+00],\n",
       "       [3.52286647e-01, 6.05247916e+00, 7.65853630e+00],\n",
       "       [3.52286647e-01, 6.10310651e+00, 7.74962638e+00],\n",
       "       [3.52286647e-01, 6.15251572e+00, 7.83945515e+00],\n",
       "       [3.52286647e-01, 6.20073653e+00, 7.92804100e+00],\n",
       "       [3.52286647e-01, 6.24779794e+00, 8.01540204e+00],\n",
       "       [3.52286647e-01, 6.29372820e+00, 8.10155608e+00],\n",
       "       [3.52286647e-01, 6.33855489e+00, 8.18652065e+00],\n",
       "       [3.52286647e-01, 6.38230487e+00, 8.27031300e+00],\n",
       "       [3.52286647e-01, 6.42500433e+00, 8.35295012e+00],\n",
       "       [3.52286647e-01, 6.46667883e+00, 8.43444871e+00],\n",
       "       [3.52286647e-01, 6.50735328e+00, 8.51482524e+00],\n",
       "       [3.52286647e-01, 6.54705197e+00, 8.59409588e+00],\n",
       "       [3.52286647e-01, 6.58579857e+00, 8.67227659e+00],\n",
       "       [3.52286647e-01, 6.62361620e+00, 8.74938305e+00],\n",
       "       [3.52286647e-01, 6.66052737e+00, 8.82543071e+00],\n",
       "       [3.52286647e-01, 6.69655406e+00, 8.90043476e+00],\n",
       "       [3.52286647e-01, 6.73171768e+00, 8.97441019e+00],\n",
       "       [3.52286647e-01, 6.76603913e+00, 9.04737173e+00],\n",
       "       [3.52286647e-01, 6.79953879e+00, 9.11933388e+00],\n",
       "       [3.52286647e-01, 6.83223653e+00, 9.19031094e+00],\n",
       "       [3.52286647e-01, 6.86415174e+00, 9.26031696e+00],\n",
       "       [3.52286647e-01, 6.89530333e+00, 9.32936580e+00],\n",
       "       [3.52286647e-01, 6.92570973e+00, 9.39747110e+00],\n",
       "       [3.52286647e-01, 6.95538894e+00, 9.46464627e+00],\n",
       "       [3.52286647e-01, 6.98435850e+00, 9.53090456e+00],\n",
       "       [3.52286647e-01, 7.01263553e+00, 9.59625896e+00],\n",
       "       [3.52286647e-01, 7.04023673e+00, 9.66072231e+00],\n",
       "       [3.52286647e-01, 7.06717837e+00, 9.72430724e+00],\n",
       "       [3.52286647e-01, 7.09347636e+00, 9.78702618e+00],\n",
       "       [3.52286647e-01, 7.11914619e+00, 9.84889137e+00],\n",
       "       [3.52286647e-01, 7.14420298e+00, 9.90991488e+00],\n",
       "       [3.52286647e-01, 7.16866149e+00, 9.97010860e+00],\n",
       "       [3.52286647e-01, 7.19253609e+00, 1.00294842e+01],\n",
       "       [3.52286647e-01, 7.21584084e+00, 1.00880532e+01],\n",
       "       [3.52286647e-01, 7.23858943e+00, 1.01458271e+01],\n",
       "       [3.52286647e-01, 7.26079523e+00, 1.02028168e+01],\n",
       "       [3.52286647e-01, 7.28247127e+00, 1.02590336e+01],\n",
       "       [3.52286647e-01, 7.30363027e+00, 1.03144882e+01],\n",
       "       [3.52286647e-01, 7.32428464e+00, 1.03691912e+01],\n",
       "       [3.52286647e-01, 7.34444651e+00, 1.04231534e+01],\n",
       "       [3.52286647e-01, 7.36412767e+00, 1.04763849e+01],\n",
       "       [3.52286647e-01, 7.38333967e+00, 1.05288961e+01],\n",
       "       [3.52286647e-01, 7.40209375e+00, 1.05806969e+01],\n",
       "       [3.52286647e-01, 7.42040088e+00, 1.06317974e+01],\n",
       "       [3.52286647e-01, 7.43827178e+00, 1.06822072e+01]])"
      ]
     },
     "execution_count": 13,
     "metadata": {},
     "output_type": "execute_result"
    }
   ],
   "source": [
    "Bi_com = np.zeros((len(t),3))\n",
    "for i,elem in enumerate(t):\n",
    "    Bi_com[i,:] = Riccati_solution_vec(Bi_param['a'],Bi_param['b'],Bi_param['c'],elem,Bi_param['init_val'])\n",
    "Bi_com"
   ]
  },
  {
   "cell_type": "code",
   "execution_count": 14,
   "metadata": {},
   "outputs": [
    {
     "data": {
      "text/plain": [
       "[3.4683428019000004, 51.18284070836391, 65.49753590419161]"
      ]
     },
     "execution_count": 14,
     "metadata": {},
     "output_type": "execute_result"
    }
   ],
   "source": [
    "trap_Bi = []\n",
    "for i in range(Bi_com.shape[1]):\n",
    "    trap_Bi.append(np.trapz(Bi_com[:,i], x=t))\n",
    "trap_Bi"
   ]
  },
  {
   "cell_type": "code",
   "execution_count": 15,
   "metadata": {},
   "outputs": [
    {
     "data": {
      "text/plain": [
       "array([ 3.46978941, 51.18437817, 65.49881376])"
      ]
     },
     "execution_count": 15,
     "metadata": {},
     "output_type": "execute_result"
    }
   ],
   "source": [
    "int_Bi"
   ]
  },
  {
   "cell_type": "code",
   "execution_count": null,
   "metadata": {},
   "outputs": [],
   "source": []
  },
  {
   "cell_type": "code",
   "execution_count": null,
   "metadata": {},
   "outputs": [],
   "source": []
  }
 ],
 "metadata": {
  "kernelspec": {
   "display_name": "Python 3",
   "language": "python",
   "name": "python3"
  },
  "language_info": {
   "codemirror_mode": {
    "name": "ipython",
    "version": 3
   },
   "file_extension": ".py",
   "mimetype": "text/x-python",
   "name": "python",
   "nbconvert_exporter": "python",
   "pygments_lexer": "ipython3",
   "version": "3.7.4"
  }
 },
 "nbformat": 4,
 "nbformat_minor": 4
}
