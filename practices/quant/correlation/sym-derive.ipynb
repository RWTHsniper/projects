{
 "cells": [
  {
   "cell_type": "code",
   "execution_count": 1,
   "metadata": {},
   "outputs": [],
   "source": [
    "import sympy\n",
    "sp = sympy\n",
    "import numpy as np\n",
    "from scipy.integrate import odeint,RK45,solve_ivp\n",
    "import matplotlib.pyplot as plt"
   ]
  },
  {
   "cell_type": "markdown",
   "metadata": {},
   "source": [
    "# Functions to Derive Affine Form"
   ]
  },
  {
   "cell_type": "code",
   "execution_count": 2,
   "metadata": {},
   "outputs": [],
   "source": [
    "def get_g(a,b,c):\n",
    "    return sp.sqrt(b**2 - 4.0*a*c)\n",
    "    \n",
    "def get_Riccati_solution(a,b,c,tau,f0):\n",
    "    g = get_g(a,b,c)\n",
    "    ex = sp.exp(g*tau) - 1\n",
    "    num = 2*g*f0 + ((b+g)*f0+2*c)*ex\n",
    "    denom = 2*g - (2*a*f0+b-g)*ex\n",
    "    return num/denom\n",
    "\n",
    "def get_Riccati_solution_vec(a,b,c,tau,f0):\n",
    "    n = len(a)\n",
    "    res = np.zeros(n)\n",
    "    for i in range(n):\n",
    "        res[i] = get_Riccati_solution(a[i],b[i],c[i],tau,f0[i])\n",
    "    return res\n",
    "\n",
    "def get_int_Riccati_solution(a,b,c,tau,riccati_f0):\n",
    "    g = get_g(a,b,c)\n",
    "    ex = sp.exp(g*tau) - 1\n",
    "    term1 = (-b+g)*tau/(2.0*a) \n",
    "    term2 = sp.log(2*g/sp.Abs(2*g+(g-b-2*a*riccati_f0)*ex))/a\n",
    "    return term1 + term2        \n",
    "\n",
    "def get_int_Riccati_solution_vec(a,b,c,tau,riccati_f0):\n",
    "    n = len(a)\n",
    "    res = np.zeros(n)\n",
    "    for i in range(n):\n",
    "        res[i] = get_int_Riccati_solution(a[i],b[i],c[i],tau,riccati_f0[i])\n",
    "    return res\n",
    "\n",
    "def get_E_vAvB(t,alp,beta,sigma,v0):\n",
    "    res = np.exp(-beta*t)*(v0 - alp/beta) + alp/beta\n",
    "    return res.prod()"
   ]
  },
  {
   "cell_type": "code",
   "execution_count": 3,
   "metadata": {},
   "outputs": [],
   "source": [
    "a, b, c, tau, f0 = sp.symbols(\"a b c tau f0\")"
   ]
  },
  {
   "cell_type": "code",
   "execution_count": 4,
   "metadata": {},
   "outputs": [
    {
     "data": {
      "text/latex": [
       "$\\displaystyle \\frac{4.0 f_{0} \\sqrt{- a c + 0.25 b^{2}} - \\left(1 - e^{2.0 \\tau \\sqrt{- a c + 0.25 b^{2}}}\\right) \\left(2 c + f_{0} \\left(b + 2.0 \\sqrt{- a c + 0.25 b^{2}}\\right)\\right)}{\\left(1 - e^{2.0 \\tau \\sqrt{- a c + 0.25 b^{2}}}\\right) \\left(2 a f_{0} + b - 2.0 \\sqrt{- a c + 0.25 b^{2}}\\right) + 4.0 \\sqrt{- a c + 0.25 b^{2}}}$"
      ],
      "text/plain": [
       "(4.0*f0*sqrt(-a*c + 0.25*b**2) - (1 - exp(2.0*tau*sqrt(-a*c + 0.25*b**2)))*(2*c + f0*(b + 2.0*sqrt(-a*c + 0.25*b**2))))/((1 - exp(2.0*tau*sqrt(-a*c + 0.25*b**2)))*(2*a*f0 + b - 2.0*sqrt(-a*c + 0.25*b**2)) + 4.0*sqrt(-a*c + 0.25*b**2))"
      ]
     },
     "execution_count": 4,
     "metadata": {},
     "output_type": "execute_result"
    }
   ],
   "source": [
    "g = sp.symbols('g')\n",
    "riccati_res = get_Riccati_solution(a,b,c,tau,f0)\n",
    "#riccati_res = riccati_res.subs(get_g(a,b,c),g)\n",
    "#riccati_res = riccati_res.subs(sp.sqrt(-a*c+0.25*b*b),g/4)\n",
    "riccati_res = riccati_res.simplify()\n",
    "riccati_res"
   ]
  },
  {
   "cell_type": "code",
   "execution_count": 5,
   "metadata": {},
   "outputs": [
    {
     "data": {
      "text/latex": [
       "$\\displaystyle 9.92289389208465$"
      ],
      "text/plain": [
       "9.92289389208465"
      ]
     },
     "execution_count": 5,
     "metadata": {},
     "output_type": "execute_result"
    }
   ],
   "source": [
    "# Print the expression\n",
    "inp = {a:0.005,b:-0.25,c:2,f0:1.0,tau:30}\n",
    "riccati_res.subs(inp)"
   ]
  },
  {
   "cell_type": "markdown",
   "metadata": {},
   "source": [
    "# Affine Form"
   ]
  },
  {
   "cell_type": "code",
   "execution_count": 6,
   "metadata": {},
   "outputs": [],
   "source": [
    "# correlation parameters\n",
    "sAsB = 0.15 # It is important \n",
    "sAvA = -0.5\n",
    "sAvB = -0.5\n",
    "sBvA = -0.5\n",
    "sBvB = -0.5\n",
    "vAvB = 0.5\n",
    "# sA, sB, vA, vB check the sequense always\n",
    "correlation = np.matrix([[1,sAsB,sAvA,sAvB],\n",
    "                         [sAsB,1,sBvA,sBvB],\n",
    "                         [sAvA,sBvA,1,vAvB],\n",
    "                         [sAvB,sBvB,vAvB,1]])\n",
    "# correlation = np.matrix([[1,sAvA,sAsB,sAvB],\n",
    "#                          [sAvA,1,vAsB,vAvB],\n",
    "#                          [sAsB,vAsB,1,sBvB],\n",
    "#                          [sAvB,vAvB,sBvB,1]])\n",
    "if np.sum(np.linalg.eigvals(correlation) < 0):\n",
    "    print('Correlation matrix is not positive definite!')\n",
    "L = np.linalg.cholesky(correlation) # Cholesky decomposition of the correlation for simulation\n",
    "\n",
    "params = {\n",
    "# chf params    \n",
    "    'tau': 30,\n",
    "    'w': np.array([1,1,1]), # weights for chf\n",
    "    'u': np.array([1.0,1.0]), # weights for price\n",
    "    'psi': np.array([1.0,1.0]), # weights for vol\n",
    "# treasury params\n",
    "    'l0': -0.127061, # constant shift\n",
    "    've': np.array([0.2715618,0.0195524,0.0009720]),\n",
    "    'ka': np.array([5.6772530,0.2520333,0.147]),\n",
    "    'si': np.array([0.0181427,0.0422960,0.034]), # adjusted si[2]\n",
    "    'x0': np.array([0.05095958,0.06725220,0.00961570]),\n",
    "# Equity parameters (US LC, OS)\n",
    "    's0': np.array([0.0,0.0]), # initial value\n",
    "    'mu0': np.array([0.000815,0.000822]), # official value\n",
    "    'mu0': np.array([0.07,0.110]), # my value\n",
    "    'mu1': np.array([-0.5,-0.5]), # I think just -0.5 is too strict? High volatility -> Always stock crush\n",
    "    # mu1 = np.array([-0.001,-0.002]) + np.array([-0.5,-0.5]) # I think just -0.5 is too strict?\n",
    "    'v0': np.array([0.019528084,0.080837794]),\n",
    "    'alpha': np.array([0.022,0.108045]),\n",
    "    'beta': np.array([0.98803,1.284485]),\n",
    "    'sigma': np.array([0.142303,0.121922]), # volatility of variance\n",
    "    'correlation': correlation,\n",
    "    'L': L\n",
    "}\n",
    "params[\"th\"] = params[\"ve\"]/params[\"ka\"]"
   ]
  },
  {
   "cell_type": "code",
   "execution_count": 13,
   "metadata": {},
   "outputs": [
    {
     "data": {
      "text/plain": [
       "414.4711822554628"
      ]
     },
     "execution_count": 13,
     "metadata": {},
     "output_type": "execute_result"
    }
   ],
   "source": [
    "# compute chf\n",
    "p = params\n",
    "u = p[\"u\"]\n",
    "tau = p[\"tau\"]\n",
    "correlation = p[\"correlation\"]\n",
    "sAsB = p[\"correlation\"][0,1]\n",
    "sBvA = p[\"correlation\"][1,2]\n",
    "sAvB = p[\"correlation\"][0,3]\n",
    "sigma = p[\"sigma\"]\n",
    "# compute parameters\n",
    "B_a = 0.5*p['si']**2\n",
    "B_b = -p['ka']\n",
    "B_c = p['u'].sum() * np.ones(len(p['x0']))\n",
    "B_f0 = p['w']\n",
    "C_a = 0.5*sigma**2\n",
    "C_b = p['u']*np.array([p['correlation'][0,3],p['correlation'][1,3]])*p['sigma']-p['beta']\n",
    "C_c = 0.5*p['u']**2 + p['u']*p['mu1']\n",
    "C_f0 = p['psi']\n",
    "E_vAvB = get_E_vAvB(30.0,p[\"alpha\"],p[\"beta\"],p[\"sigma\"],p[\"v0\"]) # presume\n",
    "\n",
    "# compute A\n",
    "A = 0.0\n",
    "A += ((u*p[\"mu0\"]).sum() + p[\"l0\"]*u.sum()+E_vAvB*u.prod()*sAsB)*tau\n",
    "A += (p[\"ka\"]*p[\"th\"]*get_int_Riccati_solution_vec(B_a,B_b,B_c,tau,B_f0)).sum()\n",
    "A += ((p[\"alpha\"] + np.array([u[1]*sBvA,u[0]*sAvB])*sigma*E_vAvB)*get_int_Riccati_solution_vec(C_a,C_b,C_c,tau,C_f0)).sum()\n",
    "# compute B\n",
    "B =  get_Riccati_solution_vec(B_a,B_b,B_c,tau,B_f0)\n",
    "# compute C\n",
    "C = get_Riccati_solution_vec(C_a,C_b,C_c,tau,C_f0)\n",
    "# Compute ChF\n",
    "np.exp(A + np.dot(u,p[\"s0\"]) + np.dot(B,p[\"x0\"]) + np.dot(C,p[\"v0\"]))"
   ]
  },
  {
   "cell_type": "code",
   "execution_count": 12,
   "metadata": {},
   "outputs": [
    {
     "name": "stdout",
     "output_type": "stream",
     "text": [
      "5.323564771519748 [ 0.35228665  8.16686377 14.16919632] [1.60055688e-14 2.97038380e-18]\n"
     ]
    }
   ],
   "source": [
    "print(A,B,C)"
   ]
  },
  {
   "cell_type": "markdown",
   "metadata": {},
   "source": [
    "# Appendicies"
   ]
  },
  {
   "cell_type": "code",
   "execution_count": null,
   "metadata": {},
   "outputs": [],
   "source": [
    "int_riccati_res = get_int_Riccati_solution(a,b,c,tau,f0)\n",
    "int_riccati_res"
   ]
  },
  {
   "cell_type": "code",
   "execution_count": null,
   "metadata": {},
   "outputs": [],
   "source": [
    "inp = {a:0.005,b:-0.25,c:2,f0:1.0,tau:10}\n",
    "int_riccati_res.subs(inp)"
   ]
  },
  {
   "cell_type": "code",
   "execution_count": null,
   "metadata": {},
   "outputs": [],
   "source": [
    "int_riccati_res_sp = sp.integrate(riccati_res,tau)\n",
    "int0 = int_riccati_res_sp.subs(tau,0).expand()\n",
    "int_riccati_res_sp -= int0\n",
    "# int_riccati_res_sp.subs(inp) - int0.subs(inp)"
   ]
  },
  {
   "cell_type": "code",
   "execution_count": null,
   "metadata": {},
   "outputs": [],
   "source": [
    "dfda = sp.diff(riccati_res,a)\n",
    "dfda = dfda.subs(get_g(a,b,c),g)\n",
    "dfda = dfda.subs(sp.sqrt(-a*c+0.25*b*b),g/4)\n",
    "dfda = dfda.simplify()\n",
    "dfda"
   ]
  },
  {
   "cell_type": "code",
   "execution_count": null,
   "metadata": {},
   "outputs": [],
   "source": [
    "g = sp.symbols('g')\n",
    "riccati_res.subs(sp.sqrt(b**2 - 4.0*a*c),g)"
   ]
  },
  {
   "cell_type": "code",
   "execution_count": null,
   "metadata": {},
   "outputs": [],
   "source": [
    "str(riccati_res)"
   ]
  },
  {
   "cell_type": "code",
   "execution_count": null,
   "metadata": {},
   "outputs": [],
   "source": [
    "print(sp.python(riccati_res))"
   ]
  },
  {
   "cell_type": "code",
   "execution_count": null,
   "metadata": {},
   "outputs": [],
   "source": []
  },
  {
   "cell_type": "code",
   "execution_count": null,
   "metadata": {},
   "outputs": [],
   "source": []
  }
 ],
 "metadata": {
  "kernelspec": {
   "display_name": "Python 3",
   "language": "python",
   "name": "python3"
  },
  "language_info": {
   "codemirror_mode": {
    "name": "ipython",
    "version": 3
   },
   "file_extension": ".py",
   "mimetype": "text/x-python",
   "name": "python",
   "nbconvert_exporter": "python",
   "pygments_lexer": "ipython3",
   "version": "3.7.4"
  }
 },
 "nbformat": 4,
 "nbformat_minor": 4
}
