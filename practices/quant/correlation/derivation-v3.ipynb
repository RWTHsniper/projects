{
 "cells": [
  {
   "cell_type": "markdown",
   "metadata": {},
   "source": [
    "# For log returns"
   ]
  },
  {
   "cell_type": "code",
   "execution_count": 1,
   "metadata": {},
   "outputs": [],
   "source": [
    "# import sympy\n",
    "# sp = sympy\n",
    "import numpy as np\n",
    "from scipy.integrate import odeint,RK45,solve_ivp\n",
    "import matplotlib.pyplot as plt"
   ]
  },
  {
   "cell_type": "markdown",
   "metadata": {},
   "source": [
    "# Functions to Derive Affine Form"
   ]
  },
  {
   "cell_type": "code",
   "execution_count": 2,
   "metadata": {},
   "outputs": [],
   "source": [
    "def get_g(a,b,c):\n",
    "    return np.sqrt(b**2 - 4.0*a*c)\n",
    "    \n",
    "def get_Riccati_solution(a,b,c,tau,f0):\n",
    "    g = get_g(a,b,c)\n",
    "    ex = np.exp(g*tau) - 1\n",
    "    num = 2*g*f0 + ((b+g)*f0+2*c)*ex\n",
    "    denom = 2*g - (2*a*f0+b-g)*ex\n",
    "    return num/denom\n",
    "\n",
    "def get_Riccati_solution_vec(a,b,c,tau,f0):\n",
    "    n = len(a)\n",
    "    res = np.zeros(n)\n",
    "    for i in range(n):\n",
    "        res[i] = get_Riccati_solution(a[i],b[i],c[i],tau,f0[i])\n",
    "    return res\n",
    "\n",
    "def get_int_Riccati_solution(a,b,c,tau,riccati_f0):\n",
    "    g = get_g(a,b,c)\n",
    "    ex = np.exp(g*tau) - 1\n",
    "    term1 = (-b+g)*tau/(2.0*a) \n",
    "    term2 = np.log(2*g/np.abs(2*g+(g-b-2*a*riccati_f0)*ex))/a\n",
    "#     term2 = sp.log(2*g/sp.Abs(2*g+(g-b-2*a*riccati_f0)*ex))/a\n",
    "    return term1 + term2\n",
    "\n",
    "def get_int_Riccati_solution_vec(a,b,c,tau,riccati_f0):\n",
    "    n = len(a)\n",
    "    res = np.zeros(n)\n",
    "    for i in range(n):\n",
    "        res[i] = get_int_Riccati_solution(a[i],b[i],c[i],tau,riccati_f0[i])\n",
    "    return res\n",
    "\n",
    "def get_E_vAvB(t,alp,beta,sigma,v0):\n",
    "    res = np.exp(-beta*t)*(v0 - alp/beta) + alp/beta\n",
    "    return res.prod()\n",
    "\n",
    "def get_int_E_vAvB(t,alpha,beta,sigma,v0):\n",
    "    \"\"\"\n",
    "    Vectorized implementation\n",
    "    \"\"\"\n",
    "    res = -(v0-alpha/beta).prod()*(np.exp(-beta.prod()*t)-1)/beta.sum() - np.sum((v0-alpha/beta)*np.flip(alpha)/beta.prod()*(np.exp(-beta*t)-1)) + alpha.prod()/beta.prod()*t\n",
    "    return res\n",
    "\n",
    "def get_CIR_Sample(NoOfPaths,kappa,gamma,vbar,s,t,v_s):\n",
    "    delta = 4.0 *kappa*vbar/gamma/gamma\n",
    "    c= 1.0/(4.0*kappa)*gamma*gamma*(1.0-np.exp(-kappa*(t-s)))\n",
    "    kappaBar = 4.0*kappa*v_s*np.exp(-kappa*(t-s))/(gamma*gamma*(1.0-np.exp(-kappa*(t-s))))\n",
    "    sample = c* np.random.noncentral_chisquare(delta,kappaBar,NoOfPaths)\n",
    "    return sample"
   ]
  },
  {
   "cell_type": "markdown",
   "metadata": {},
   "source": [
    "# Input Parameters"
   ]
  },
  {
   "cell_type": "code",
   "execution_count": 3,
   "metadata": {},
   "outputs": [],
   "source": [
    "# correlation parameters\n",
    "sAsB = 0.015 # It is important. It impacts\n",
    "sAsB = 0.5 # It is important. It impacts\n",
    "sAvA = -0.5\n",
    "sAvB = -0.5\n",
    "sBvA = -0.5\n",
    "sBvB = -0.5\n",
    "vAvB = 0.5\n",
    "# sA, sB, vA, vB check the sequense always\n",
    "correlation = np.matrix([[1,sAsB,sAvA,sAvB],\n",
    "                         [sAsB,1,sBvA,sBvB],\n",
    "                         [sAvA,sBvA,1,vAvB],\n",
    "                         [sAvB,sBvB,vAvB,1]])\n",
    "# correlation = np.matrix([[1,sAvA,sAsB,sAvB],\n",
    "#                          [sAvA,1,vAsB,vAvB],\n",
    "#                          [sAsB,vAsB,1,sBvB],\n",
    "#                          [sAvB,vAvB,sBvB,1]])\n",
    "if np.sum(np.linalg.eigvals(correlation) < 0):\n",
    "    print('Correlation matrix is not positive definite!')\n",
    "L = np.linalg.cholesky(correlation) # Cholesky decomposition of the correlation for simulation\n",
    "\n",
    "params = {\n",
    "# chf params    \n",
    "    'tau': 1, # investment time\n",
    "    'h': 29, # horizon in the future\n",
    "    'w': np.array([1,1,1]), # weights for chf\n",
    "    'u': np.array([1.0,1.0]), # weights for price\n",
    "    'psi': np.array([1.0,1.0]), # weights for vol\n",
    "# treasury params\n",
    "    'l0': -0.127061, # constant shift\n",
    "    've': np.array([0.2715618,0.0195524,0.0009720]),\n",
    "    'ka': np.array([5.6772530,0.2520333,0.147]),\n",
    "    'si': np.array([0.0181427,0.0422960,0.034]), # adjusted si[2]\n",
    "    'x0': np.array([0.05095958,0.06725220,0.00961570]),\n",
    "# Equity parameters (US LC, OS)\n",
    "    's0': np.array([0.0,0.0]), # initial value\n",
    "    'mu0': np.array([0.000815,0.000822]), # official value\n",
    "    'mu0': np.array([0.07,0.110]), # my value\n",
    "    'mu1': np.array([-0.5,-0.5]), # I think just -0.5 is too strict? High volatility -> Always stock crush\n",
    "    # mu1 = np.array([-0.001,-0.002]) + np.array([-0.5,-0.5]) # I think just -0.5 is too strict?\n",
    "    'v0': np.array([0.019528084,0.080837794]),\n",
    "    'alpha': np.array([0.022,0.108045]),\n",
    "    'beta': np.array([0.98803,1.284485]),\n",
    "    'sigma': np.array([0.142303,0.121922]), # volatility of variance\n",
    "    'correlation': correlation,\n",
    "    'L': L\n",
    "}\n",
    "params[\"th\"] = params[\"ve\"]/params[\"ka\"]"
   ]
  },
  {
   "cell_type": "code",
   "execution_count": 4,
   "metadata": {},
   "outputs": [],
   "source": [
    "def get_chf(params):\n",
    "    # compute chf\n",
    "    p = params\n",
    "    u = p[\"u\"]\n",
    "    tau = p[\"tau\"]\n",
    "    correlation = p[\"correlation\"]\n",
    "    sAsB = p[\"correlation\"][0,1]\n",
    "    sBvA = p[\"correlation\"][1,2]\n",
    "    sAvB = p[\"correlation\"][0,3]\n",
    "    sigma = p[\"sigma\"]\n",
    "    # compute parameters for the affine form\n",
    "    B_a = 0.5*p['si']**2\n",
    "    B_b = -p['ka']\n",
    "    B_c = p['u'].sum() * np.ones(len(p['x0']))\n",
    "    B_f0 = p['w']\n",
    "    C_a = 0.5*sigma**2\n",
    "    C_b = p['u']*np.array([p['correlation'][0,3],p['correlation'][1,3]])*p['sigma']-p['beta']\n",
    "    C_c = 0.5*p['u']**2 + p['u']*p['mu1']\n",
    "    C_f0 = p['psi']\n",
    "    E_vAvB = get_E_vAvB(30.0,p[\"alpha\"],p[\"beta\"],p[\"sigma\"],p[\"v0\"]) # presume\n",
    "#     E_vAvB = get_int_E_vAvB(tau,p[\"alpha\"],p[\"beta\"],p[\"sigma\"],p[\"v0\"])\n",
    "#     print(E_vAvB)\n",
    "\n",
    "    # compute A\n",
    "    A = 0.0\n",
    "    A += ((u*p[\"mu0\"]).sum() + p[\"l0\"]*u.sum()+E_vAvB*u.prod()*sAsB)*tau # v1\n",
    "#     A += ((u*p[\"mu0\"]).sum() + p[\"l0\"]*u.sum())*tau +E_vAvB*u.prod()*sAsB # v2\n",
    "    A += (p[\"ka\"]*p[\"th\"]*get_int_Riccati_solution_vec(B_a,B_b,B_c,tau,B_f0)).sum()\n",
    "    A += ((p[\"alpha\"] + np.array([u[1]*sBvA,u[0]*sAvB])*sigma*E_vAvB)*get_int_Riccati_solution_vec(C_a,C_b,C_c,tau,C_f0)).sum()\n",
    "    # compute B\n",
    "    B =  get_Riccati_solution_vec(B_a,B_b,B_c,tau,B_f0)\n",
    "    # compute C\n",
    "    C = get_Riccati_solution_vec(C_a,C_b,C_c,tau,C_f0)\n",
    "    # Compute ChF\n",
    "    return np.exp(A + np.dot(u,p[\"s0\"]) + np.dot(B,p[\"x0\"]) + np.dot(C,p[\"v0\"])),A,B,C # return A, B, C in case it is necessary"
   ]
  },
  {
   "cell_type": "code",
   "execution_count": 5,
   "metadata": {},
   "outputs": [],
   "source": [
    "def get_return_chf(params):\n",
    "    # Now compute A2, B2, C2\n",
    "    _,A,B,C=get_chf(params)\n",
    "    keys = ['u','w','psi','tau']\n",
    "    lst = []\n",
    "    for k in keys:\n",
    "        lst.append(params[k])\n",
    "    params['u'] = np.zeros(len(params['s0']))\n",
    "    params['w'] = B\n",
    "    params['psi'] = C\n",
    "    params['tau'] = params['h'] # set different tau for the second affine form\n",
    "    chf_ret,A2,B2,C2 = get_chf(params)\n",
    "    chf_ret *= np.exp(A)\n",
    "    for ind,k in enumerate(keys): # restore values\n",
    "        params[k] = lst[ind]    \n",
    "    return chf_ret,A,B,C,A2,B2,C2"
   ]
  },
  {
   "cell_type": "raw",
   "metadata": {},
   "source": [
    "# compute derivatives using FD\n",
    "params_fd = params.copy()\n",
    "params_fd_p = params.copy()\n",
    "# initialize inputs\n",
    "params_fd['u'] = 0*params_fd['u']\n",
    "params_fd['w'] = 0*params_fd['w']\n",
    "params_fd['psi'] = 0*params_fd['psi']\n",
    "params_fd_p['u'] = 0*params_fd_p['u']\n",
    "params_fd_p['w'] = 0*params_fd_p['w']\n",
    "params_fd_p['psi'] = 0*params_fd_p['psi']\n",
    "# sA \n",
    "du = np.zeros(len(params['s0']))\n",
    "eps = 1e-7\n",
    "params_fd_p['u'][0] = eps\n",
    "du[0] = get_return_chf(params_fd_p)[0]\n",
    "params_fd_p['u'][0] = -eps\n",
    "du[0] = (du[0] - get_return_chf(params_fd_p)[0])/(2*eps)\n",
    "params_fd_p['u'][0] = 0\n",
    "params_fd_p['u'][1] = eps\n",
    "du[1] = get_return_chf(params_fd_p)[1]\n",
    "params_fd_p['u'][1] = -eps\n",
    "du[1] = (du[1] - get_return_chf(params_fd_p)[1])/(2*eps)\n",
    "# 2nd order\n",
    "params_fd_p['u'][0] = eps\n",
    "params_fd_p['u'][1] = eps\n",
    "u11 = get_return_chf(params_fd_p)[0]\n",
    "params_fd_p['u'][0] = eps\n",
    "params_fd_p['u'][1] = -eps\n",
    "u10 = get_return_chf(params_fd_p)[0]\n",
    "params_fd_p['u'][0] = -eps\n",
    "params_fd_p['u'][1] = eps\n",
    "u01 = get_return_chf(params_fd_p)[0]\n",
    "params_fd_p['u'][0] = -eps\n",
    "params_fd_p['u'][1] = -eps\n",
    "u00 = get_return_chf(params_fd_p)[0]\n",
    "duAuB = (u11-u10-u01+u00)/(4*eps**2)\n",
    "corr = duAuB - du.prod()\n",
    "corr"
   ]
  },
  {
   "cell_type": "markdown",
   "metadata": {},
   "source": [
    "# Monte Carlo Simulation"
   ]
  },
  {
   "cell_type": "code",
   "execution_count": 6,
   "metadata": {},
   "outputs": [],
   "source": [
    "# input parameters\n",
    "p = params\n",
    "T = p[\"h\"] + p[\"tau\"]\n",
    "x0 = p[\"x0\"]\n",
    "l0 = p[\"l0\"]\n",
    "ka = p[\"ka\"]\n",
    "si = p[\"si\"]\n",
    "th = p[\"th\"]\n",
    "s0 = p[\"s0\"]\n",
    "mu0 = p[\"mu0\"]\n",
    "mu1 = p[\"mu1\"]\n",
    "v0 = p[\"v0\"]\n",
    "alpha = p[\"alpha\"]\n",
    "beta = p[\"beta\"]\n",
    "sigma = p[\"sigma\"]\n",
    "L = p[\"L\"]\n",
    "\n",
    "# simulation parameters\n",
    "np.random.seed(1)\n",
    "num_steps = int(T*500)\n",
    "num_paths = 10000\n",
    "res = np.zeros((num_steps, num_paths))\n",
    "dt = T/num_steps\n",
    "t_sim = np.linspace(0.0,T,num_steps+1)\n",
    "# Initialize states\n",
    "\n",
    "x = np.zeros([num_steps+1, len(x0), num_paths]) # middle: num state var\n",
    "r = np.zeros([num_steps+1, num_paths])\n",
    "s = np.zeros([num_steps+1, len(s0), num_paths])\n",
    "v = np.zeros([num_steps+1, len(v0), num_paths])\n",
    "\n",
    "# Initialization\n",
    "r[0,:] = l0\n",
    "for j in range(len(x0)):\n",
    "    x[0,j,:] = x0[j]\n",
    "    r[0,:] += x0[j]\n",
    "for j in range(len(s0)):\n",
    "    s[0,j,:] = s0[j]\n",
    "    v[0,j,:] = v0[j]\n",
    "    \n",
    "for i in range(num_steps):\n",
    "    # noncentral chisquare processes\n",
    "    # Treasury\n",
    "    r[i+1,:] = l0\n",
    "    for j in range(len(x0)): # x1,x2,x3\n",
    "        x[i+1,j,:] = get_CIR_Sample(num_paths,ka[j],si[j],th[j],0,dt,x[i,j,:])\n",
    "        r[i+1,:] += x[i+1,j,:]\n",
    "\n",
    "    # Volatility\n",
    "    dW_indep = np.random.normal(0.0,1.0,(4,num_paths))\n",
    "    dW_indep = (dW_indep-dW_indep.mean(axis=1).reshape(-1,1))/dW_indep.std(axis=1).reshape(-1,1) # normalize\n",
    "    # normalize \n",
    "    dW = L*dW_indep*np.sqrt(dt) # each row (sA sB vA vB)\n",
    "    for j in range(len(v0)): # j in (A,B)\n",
    "        drift_term = (alpha[j] - beta[j]*v[i,j,:])*dt\n",
    "        dWv = dW[2+j,:] # A or B\n",
    "        vol_term = sigma[j]*np.multiply(np.sqrt(v[i,j,:]),dWv)\n",
    "        vol_term += 0.25*sigma[j]**2.0 * (np.power(dWv,2) - dt) # Milstein term\n",
    "        v[i+1,j,:] = np.maximum(0.0,v[i,j,:] + drift_term + vol_term) # truncation\n",
    "#         v[i+1,j,:] = np.abs(v[i,j,:] + drift_term*dt + vol_term ) # reflection\n",
    "    \n",
    "    # Stock price\n",
    "    for j in range(len(s0)): # j in (A,B)\n",
    "        drift_term = (np.add(r[i], mu0[j]) + mu1[j]*v[i,j,:])*dt\n",
    "        dWs = dW[j,:] # A or B\n",
    "        vol_term = np.multiply(np.sqrt(v[i,j,:]), dWs)\n",
    "        s[i+1,j,:] = s[i,j,:] + drift_term + vol_term\n",
    "    "
   ]
  },
  {
   "cell_type": "code",
   "execution_count": 7,
   "metadata": {},
   "outputs": [],
   "source": [
    "h_step = int(num_steps*params[\"h\"]/T)\n",
    "h_tau_step = int(num_steps*(params[\"h\"]+params[\"tau\"])/T)"
   ]
  },
  {
   "cell_type": "code",
   "execution_count": 8,
   "metadata": {},
   "outputs": [
    {
     "data": {
      "text/plain": [
       "0.022043070273153477"
      ]
     },
     "execution_count": 8,
     "metadata": {},
     "output_type": "execute_result"
    }
   ],
   "source": [
    "mc_du = (s[h_tau_step,:,:]-s[h_step,:,:]).mean(axis=1)\n",
    "mc_duAuB = (s[h_tau_step,:,:]-s[h_step,:,:]).prod(axis=0).mean()\n",
    "mc_corr = mc_duAuB - mc_du.prod()\n",
    "mc_corr"
   ]
  },
  {
   "cell_type": "markdown",
   "metadata": {},
   "source": [
    "# Characteristic Function from MC"
   ]
  },
  {
   "cell_type": "code",
   "execution_count": 9,
   "metadata": {},
   "outputs": [
    {
     "name": "stdout",
     "output_type": "stream",
     "text": [
      "711.2838647170199\n"
     ]
    }
   ],
   "source": [
    "u = params[\"u\"]\n",
    "psi = params[\"psi\"]\n",
    "w = params[\"w\"]\n",
    "chf = np.mean(np.exp(np.dot(u,s[-1,:,:]) + np.dot(psi,v[-1,:,:]) + np.dot(w,x[-1,:,:])))\n",
    "print(chf)"
   ]
  },
  {
   "cell_type": "code",
   "execution_count": 10,
   "metadata": {},
   "outputs": [
    {
     "name": "stdout",
     "output_type": "stream",
     "text": [
      "[1. 1.] [1. 1.] [1 1 1]\n"
     ]
    }
   ],
   "source": [
    "chf_MC = np.zeros(len(t_sim))\n",
    "chf_analytic = np.zeros(len(t_sim))\n",
    "p = params.copy()\n",
    "print(u,psi,w)\n",
    "for i,t_step in enumerate(t_sim):\n",
    "    chf_MC[i] = np.mean(np.exp(np.dot(u,s[i,:,:]) + np.dot(psi,v[i,:,:]) + np.dot(w,x[i,:,:])))\n",
    "    p['tau'] = t_step\n",
    "    chf_analytic[i],_,_,_ = get_chf(p)"
   ]
  },
  {
   "cell_type": "code",
   "execution_count": 11,
   "metadata": {},
   "outputs": [
    {
     "data": {
      "text/plain": [
       "<matplotlib.legend.Legend at 0x16bf0a1cc88>"
      ]
     },
     "execution_count": 11,
     "metadata": {},
     "output_type": "execute_result"
    },
    {
     "data": {
      "image/png": "[encoded data removed]",
      "text/plain": [
       "<Figure size 432x288 with 1 Axes>"
      ]
     },
     "metadata": {
      "needs_background": "light"
     },
     "output_type": "display_data"
    }
   ],
   "source": [
    "plt.plot(t_sim,chf_MC,label='MC')\n",
    "plt.plot(t_sim,chf_analytic,label='Analytic')\n",
    "plt.legend()"
   ]
  },
  {
   "cell_type": "code",
   "execution_count": 12,
   "metadata": {},
   "outputs": [
    {
     "name": "stdout",
     "output_type": "stream",
     "text": [
      "IR mean sim:  0.005377316531987319  steady-state  0.0049631918489159155\n",
      "s statistics\n",
      "mean of s  [1.89706493 2.16733108]\n",
      "var of s  [0.78010777 2.65320712]\n",
      "skew of s  [-0.27725778 -0.08980224]\n",
      "kurtosis of s  [0.23036862 0.00428682]\n",
      "x statistics\n",
      "mean of x  [0.04783939 0.07794529 0.00665363]\n",
      "var of x  [1.36067062e-06 2.80620776e-04 2.61103122e-05]\n",
      "skew of x  [0.04674415 0.4214312  1.48070911]\n",
      "kurtosis of x  [-0.05846405  0.2763226   3.21734188]\n",
      "v statistics\n",
      "mean of v  [0.02229829 0.08413628]\n",
      "var of v  [0.00023145 0.00048915]\n",
      "skew of v  [1.36500303 0.4907614 ]\n",
      "kurtosis of v  [2.78758999 0.22820358]\n",
      "x ss  [0.04783331 0.07757864 0.00661224]\n",
      "Ex sim  0.0478393938266434 0.07794528874065133 0.006653633964692577\n",
      "v ss  [0.02226653 0.08411542]\n",
      "Ev sim  0.022298294998730445 0.08413627825865197\n",
      "v exact  0.021445468553363257   0.08314167090733969\n"
     ]
    }
   ],
   "source": [
    "from scipy.stats import skew,kurtosis\n",
    "p = params\n",
    "tau = p[\"tau\"]\n",
    "x0 = p[\"x0\"]\n",
    "l0 = p[\"l0\"]\n",
    "ka = p[\"ka\"]\n",
    "si = p[\"si\"]\n",
    "th = p[\"th\"]\n",
    "s0 = p[\"s0\"]\n",
    "mu0 = p[\"mu0\"]\n",
    "mu1 = p[\"mu1\"]\n",
    "v0 = p[\"v0\"]\n",
    "alpha = p[\"alpha\"]\n",
    "beta = p[\"beta\"]\n",
    "sigma = p[\"sigma\"]\n",
    "L = p[\"L\"]\n",
    "# simulation result check\n",
    "print('IR mean sim: ',r[-1,:].mean(),' steady-state ',th.sum()+l0)\n",
    "print('s statistics')\n",
    "print('mean of s ', s[-1,:,:].mean(axis=1))\n",
    "print('var of s ', s[-1,:,:].var(axis=1))\n",
    "print('skew of s ', skew(s[-1,:,:],axis=1))\n",
    "print('kurtosis of s ', kurtosis(s[-1,:,:],axis=1))\n",
    "print('x statistics')\n",
    "print('mean of x ', x[-1,:,:].mean(axis=1))\n",
    "print('var of x ', x[-1,:,:].var(axis=1))\n",
    "print('skew of x ', skew(x[-1,:,:],axis=1))\n",
    "print('kurtosis of x ', kurtosis(x[-1,:,:],axis=1))\n",
    "print('v statistics')\n",
    "print('mean of v ', v[-1,:,:].mean(axis=1))\n",
    "print('var of v ', v[-1,:,:].var(axis=1))\n",
    "print('skew of v ', skew(v[-1,:,:],axis=1))\n",
    "print('kurtosis of v ', kurtosis(v[-1,:,:],axis=1))\n",
    "\n",
    "print('x ss ',th)\n",
    "print('Ex sim ',x[-1,0,:].mean(), x[-1,1,:].mean(), x[-1,2,:].mean())\n",
    "print('v ss ',alpha/beta)\n",
    "print('Ev sim ',v[-1,0,:].mean(), v[-1,1,:].mean())\n",
    "v_exact0 = get_CIR_Sample(num_paths,beta[0],sigma[0],(alpha/beta)[0],0.0,tau,v0[0])\n",
    "v_exact1 = get_CIR_Sample(num_paths,beta[1],sigma[1],(alpha/beta)[1],0.0,tau,v0[1])\n",
    "print('v exact ',v_exact0.mean(),' ',v_exact1.mean())"
   ]
  },
  {
   "cell_type": "raw",
   "metadata": {},
   "source": [
    "# small sAsB\n",
    "IR mean sim:  0.004850011083623458  steady-state  0.0049631918489159155\n",
    "s statistics\n",
    "mean of s  [1.87551719 2.12846428]\n",
    "var of s  [0.75865533 2.73638529]\n",
    "skew of s  [-0.23380296 -0.10982321]\n",
    "kurtosis of s  [0.06535704 0.12171734]\n",
    "x statistics\n",
    "mean of x  [0.04783958 0.07741623 0.00665521]\n",
    "var of x  [1.40905195e-06 2.80818613e-04 2.60077619e-05]\n",
    "skew of x  [0.08695568 0.48531363 1.59006422]\n",
    "kurtosis of x  [-0.06476283  0.45341133  3.94036406]\n",
    "v statistics\n",
    "mean of v  [0.02240707 0.08433775]\n",
    "var of v  [0.00023824 0.00049553]\n",
    "skew of v  [1.50069997 0.54587785]\n",
    "kurtosis of v  [3.85236231 0.52071604]\n",
    "x ss  [0.04783331 0.07757864 0.00661224]\n",
    "Ex sim  0.04783957702173772 0.07741622705263689 0.006655207009248864\n",
    "v ss  [0.02226653 0.08411542]\n",
    "Ev sim  0.02240707370753261 0.0843377537464278\n",
    "v exact  0.022046409127722457   0.08465896192390157\n",
    "\n",
    "# high sAsB\n",
    "IR mean sim:  0.004850011083623458  steady-state  0.0049631918489159155\n",
    "s statistics\n",
    "mean of s  [1.89180265 2.159996  ]\n",
    "var of s  [0.75436537 2.71596422]\n",
    "skew of s  [-0.23108192 -0.12657946]\n",
    "kurtosis of s  [0.05924051 0.16238819]\n",
    "x statistics\n",
    "mean of x  [0.04783958 0.07741623 0.00665521]\n",
    "var of x  [1.40905195e-06 2.80818613e-04 2.60077619e-05]\n",
    "skew of x  [0.08695568 0.48531363 1.59006422]\n",
    "kurtosis of x  [-0.06476283  0.45341133  3.94036406]\n",
    "v statistics\n",
    "mean of v  [0.02225801 0.08412906]\n",
    "var of v  [0.00023421 0.00049099]\n",
    "skew of v  [1.47555345 0.55075684]\n",
    "kurtosis of v  [3.47316366 0.53586749]\n",
    "x ss  [0.04783331 0.07757864 0.00661224]\n",
    "Ex sim  0.04783957702173772 0.07741622705263689 0.006655207009248864\n",
    "v ss  [0.02226653 0.08411542]\n",
    "Ev sim  0.022258009430955995 0.08412906068656756\n",
    "v exact  0.02235121968975165   0.08393968096916389"
   ]
  },
  {
   "cell_type": "raw",
   "metadata": {},
   "source": [
    "# Comparing two integrations\n",
    "MC 706.2260436147579\n",
    "new 420.1179154895498\n",
    "current 422.7028769703524"
   ]
  },
  {
   "cell_type": "code",
   "execution_count": null,
   "metadata": {},
   "outputs": [],
   "source": []
  },
  {
   "cell_type": "code",
   "execution_count": null,
   "metadata": {},
   "outputs": [],
   "source": []
  }
 ],
 "metadata": {
  "kernelspec": {
   "display_name": "Python 3",
   "language": "python",
   "name": "python3"
  },
  "language_info": {
   "codemirror_mode": {
    "name": "ipython",
    "version": 3
   },
   "file_extension": ".py",
   "mimetype": "text/x-python",
   "name": "python",
   "nbconvert_exporter": "python",
   "pygments_lexer": "ipython3",
   "version": "3.7.4"
  }
 },
 "nbformat": 4,
 "nbformat_minor": 4
}
