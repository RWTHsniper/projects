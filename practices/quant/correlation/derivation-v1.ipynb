{
 "cells": [
  {
   "cell_type": "code",
   "execution_count": 13,
   "metadata": {},
   "outputs": [],
   "source": [
    "import sympy\n",
    "sp = sympy\n",
    "import numpy as np\n",
    "from scipy.integrate import odeint,RK45,solve_ivp\n",
    "import matplotlib.pyplot as plt"
   ]
  },
  {
   "cell_type": "code",
   "execution_count": 14,
   "metadata": {},
   "outputs": [],
   "source": [
    "def Riccati_solution(a,b,c,tau,init_val):\n",
    "    if b**2 - 4.0*a*c < 0.0:\n",
    "        print('riccati negative')\n",
    "    g = sp.sqrt(b**2 - 4.0*a*c)\n",
    "    ex = sp.exp(g*tau) - 1\n",
    "    num = 2*g*init_val + ((b+g)*init_val+2*c)*ex\n",
    "    denom = 2*g - (2*a*init_val+b-g)*ex\n",
    "    return num/denom\n",
    "\n",
    "def Riccati_solution_vec(a,b,c,tau,init_val):\n",
    "    n = len(a)\n",
    "    res = np.zeros(n)\n",
    "    for i in range(n):\n",
    "        res[i] = Riccati_solution(a[i],b[i],c[i],tau,init_val[i])\n",
    "    return res\n",
    "    \n",
    "def int_Riccati_solution(a,b,c,tau,ricc_init_val):\n",
    "    if b**2 - 4.0*a*c < 0.0:\n",
    "        print('int riccati negative')\n",
    "    g = sp.sqrt(b**2 - 4.0*a*c)\n",
    "    ex = sp.exp(g*tau) - 1\n",
    "    term1 = (-b+g)*tau/(2.0*a) \n",
    "    term2 = sp.log(2*g/sp.Abs(2*g+(g-b-2*a*ricc_init_val)*ex))/a\n",
    "    return term1 + term2\n",
    "\n",
    "def int_Riccati_solution_vec(a,b,c,tau,ricc_init_val):\n",
    "    n = len(a)\n",
    "    res = np.zeros(n)\n",
    "    for i in range(n):\n",
    "#        print(int_Riccati_solution(a[i],b[i],c[i],tau,ricc_init_val[i]))\n",
    "        res[i] = int_Riccati_solution(a[i],b[i],c[i],tau,ricc_init_val[i])\n",
    "    return res\n",
    "\n",
    "def get_E_vAvB(t,alp,beta,sigma,v0):\n",
    "    res = np.exp(-beta*t)*(v0 - alp/beta) + alp/beta\n",
    "    return res.prod()\n",
    "\n",
    "def get_A(tau,correlation,u,Bi_param,Ci_param):\n",
    "    mu0 = Bi_param['mu0']\n",
    "    l0 = Bi_param['l0']\n",
    "    ka = Bi_param['ka']\n",
    "    alp = Ci_param['alp']\n",
    "    beta = Ci_param['beta'] \n",
    "    sigma = Ci_param['sigma'] \n",
    "    v0 = Ci_param['v0'] \n",
    "    sAsB = correlation[0,2] # sA(0) vA(1) sB(2) vB(3)\n",
    "    vAsB = correlation[1,2]\n",
    "    sAvB = correlation[0,3]\n",
    "    A = 0.0 # initial value for A\n",
    "    E_vAvB = get_E_vAvB(30.0,alp,beta,sigma,v0) # presume\n",
    "    # int(const)\n",
    "    A += ((u*mu0).sum() + l0*u.sum()+E_vAvB*u.prod()*sAsB)*tau\n",
    "    # int(Bi)\n",
    "    A += (ka*th*int_Riccati_solution_vec(Bi_param['a'],Bi_param['b'],Bi_param['c'],tau,Bi_param['init_val'])).sum()\n",
    "    # int(Ci)\n",
    "    A += ((alp + np.array([u[1]*vAsB,u[0]*sAvB])*sigma*E_vAvB)*int_Riccati_solution_vec(Ci_param['a'],Ci_param['b'],Ci_param['c'],tau,Ci_param['init_val'])).sum()\n",
    "#     A += ((alp + np.array([u[1]*vAsB,u[0]*sAvB])*E_vAvB)*int_Riccati_solution_vec(Ci_param['a'],Ci_param['b'],Ci_param['c'],tau,Ci_param['init_val'])).sum()\n",
    "    return A\n",
    "\n",
    "def get_chf(tau,Bi_param,Ci_param,u,correlation):\n",
    "    A = get_A(tau,correlation,u,Bi_param,Ci_param)\n",
    "    Bi = Riccati_solution_vec(Bi_param['a'],Bi_param['b'],Bi_param['c'],tau,Bi_param['init_val'])\n",
    "    Ci = Riccati_solution_vec(Ci_param['a'],Ci_param['b'],Ci_param['c'],tau,Ci_param['init_val'])\n",
    "    return np.exp(A + np.dot(Bi,Bi_param['x0']) + np.dot(Ci,Ci_param['v0']))\n",
    "\n",
    "def get_CIR_Sample(NoOfPaths,kappa,gamma,vbar,s,t,v_s):\n",
    "    delta = 4.0 *kappa*vbar/gamma/gamma\n",
    "    c= 1.0/(4.0*kappa)*gamma*gamma*(1.0-np.exp(-kappa*(t-s)))\n",
    "    kappaBar = 4.0*kappa*v_s*np.exp(-kappa*(t-s))/(gamma*gamma*(1.0-np.exp(-kappa*(t-s))))\n",
    "    sample = c* np.random.noncentral_chisquare(delta,kappaBar,NoOfPaths)\n",
    "    return sample"
   ]
  },
  {
   "cell_type": "code",
   "execution_count": 15,
   "metadata": {},
   "outputs": [],
   "source": [
    "args = (0.005,-0.25,2) # a,b,c need to put realistic numbers\n",
    "t = np.linspace(0, 30, 100)\n",
    "y0 = [1.0]\n",
    "\n",
    "a, b, c, tau, init_val = sp.symbols(\"a b c tau init_val\")"
   ]
  },
  {
   "cell_type": "markdown",
   "metadata": {},
   "source": [
    "Vega Kappa Sigma Lambda0 Lambda1\n",
    "0.0071789087893710636\t0.91955317271506032\t0.079225954492688294\t0.0060143056850302115\t0.33406218084747519\n",
    "0.026791457724679751\t0.65519716144767481\t0.061915823381776328\t-0.024040627706502959\t0.567193787366429\n",
    "0.0041764252498052122\t0.00016824092656831811\t0.16070586134556636\t0.002936459547620166\t-0.43539851995741613\n",
    "Pivot mat Pivot yield\n",
    "0.25\t0.015470045999999897\n",
    "8\t0.018333333333333333\n",
    "9\t0.018666666666666665\n",
    "\n",
    "US LC\n"
   ]
  },
  {
   "cell_type": "code",
   "execution_count": 25,
   "metadata": {},
   "outputs": [],
   "source": [
    "# How to compute a Chf\n",
    "# US parameters\n",
    "# for treasury param\n",
    "l0 = -0.127061\n",
    "# presume constant shift\n",
    "ve = np.array([0.2715618,0.0195524,0.0009720])\n",
    "ka = np.array([5.6772530,0.2520333,0.147])\n",
    "th = ve/ka\n",
    "si = np.array([0.0181427,0.0422960,0.034]) # adjusted si[2]\n",
    "x0 = np.array([0.05095958,0.06725220,0.00961570])\n",
    "# Equity parameters (US LC, OS)\n",
    "s0 = np.array([0.0,0.0]) # initial value\n",
    "mu0 = np.array([0.000815,0.000822]) # official value\n",
    "mu0 = np.array([0.07,0.110]) # my value\n",
    "mu1 = np.array([-0.5,-0.5]) # I think just -0.5 is too strict? High volatility -> Always stock crush\n",
    "# mu1 = np.array([-0.001,-0.002]) + np.array([-0.5,-0.5]) # I think just -0.5 is too strict?\n",
    "v0 = np.array([0.019528084,0.080837794])\n",
    "alp = np.array([0.022,0.108045])\n",
    "beta = np.array([0.98803,1.284485])\n",
    "sigma = np.array([0.142303,0.121922]) # volatility of variance\n",
    "vbar = alp/beta\n",
    "\n",
    "# sA vA sB vB\n",
    "# correlation parameters\n",
    "sAvA = -0.5\n",
    "sAsB = 0.15 # It is important \n",
    "sAvB = -0.5\n",
    "vAsB = -0.5\n",
    "vAvB = 0.5\n",
    "sBvB = -0.5\n",
    "\n",
    "#presume no cross correlation\n",
    "# test case\n",
    "# no correlation fine\n",
    "# sAvA, sBvB are fine. (cross correlation is zero)\n",
    "# Fully correlated -> chf 333,MC 556\n",
    "# I think the scale of the cross correlation b.t.w. A & B is important\n",
    "# If correlation is fully independent, it is fine.\n",
    "# Allowing sAvA and sBvB is fine\n",
    "# sAvA = -0.0\n",
    "# sAsB = 0.0 # This impacts\n",
    "# sAvB = 0.0\n",
    "# vAsB = 0.0\n",
    "# vAvB = 0.0 # It is ignored in Andrea's formula\n",
    "# sBvB = -0.0\n",
    "\n",
    "correlation = np.matrix([[1,sAvA,sAsB,sAvB],\n",
    "                         [sAvA,1,vAsB,vAvB],\n",
    "                         [sAsB,vAsB,1,sBvB],\n",
    "                         [sAvB,vAvB,sBvB,1]])\n",
    "if np.sum(np.linalg.eigvals(correlation) < 0):\n",
    "    print('Correlation matrix is not positive definite!')\n",
    "L = np.linalg.cholesky(correlation) # Cholesky decomposition of the correlation for simulation"
   ]
  },
  {
   "cell_type": "markdown",
   "metadata": {},
   "source": [
    "Characteristic function (phi)\n",
    "phi = E_{t}[exp(uAsA+uBsB+wi*xi+pAvA+pBvB)] = exp(A + Bi*xi + Cj*vj +uj*sj)"
   ]
  },
  {
   "cell_type": "code",
   "execution_count": 26,
   "metadata": {},
   "outputs": [
    {
     "name": "stdout",
     "output_type": "stream",
     "text": [
      "A  5.323564771519748\n",
      "B  [ 0.35228665  8.16686377 14.16919632]\n",
      "C  [1.60055688e-14 2.97038380e-18]\n"
     ]
    },
    {
     "data": {
      "text/plain": [
       "414.4711822554628"
      ]
     },
     "execution_count": 26,
     "metadata": {},
     "output_type": "execute_result"
    }
   ],
   "source": [
    "# test parameters\n",
    "\n",
    "# chf parameters\n",
    "# u is not fine 6.756838706555411 11.115305305630752\n",
    "# wi is fine 1.1408511635460272\n",
    "# psi is fine 1.11277473457259\n",
    "u = np.array([1.0, 1.0]) # uA uB\n",
    "# u = np.array([0.1, 0.1]) # uA uB\n",
    "wi = [1,1,1] # weight for treasury state variables\n",
    "psi = [1.0, 1.0] # weight for variance process\n",
    "# u = np.array([0.0, 0.0]) # uA uB\n",
    "# wi = [0,0,0] # weight for treasury state variables\n",
    "# psi = [0.0, 0.0] # weight for variance process\n",
    "\n",
    "\n",
    "tau = t[-1]\n",
    "# compute Bi (treasury parameter)\n",
    "Bi_param = {'a':0.5*si**2,'b':-ka,'c':sum(u)*np.ones(len(ka)),'init_val':wi}\n",
    "Bi_param['mu0'] = mu0\n",
    "Bi_param['l0'] = l0\n",
    "Bi_param['x0'] = x0\n",
    "Bi_param['ka'] = ka\n",
    "Bi = Riccati_solution_vec(Bi_param['a'],Bi_param['b'],Bi_param['c'],tau,Bi_param['init_val'])\n",
    "int_Bi = int_Riccati_solution_vec(Bi_param['a'],Bi_param['b'],Bi_param['c'],tau,Bi_param['init_val'])\n",
    "\n",
    "# compute Ci for variance process\n",
    "# heston model's parameter\n",
    "Ci_param = {'a':0.5*sigma**2, 'b':(u*np.array([sAvA,sBvB])*sigma-beta), 'c':0.5*u**2+u*mu1,'init_val':psi}\n",
    "Ci_param['alp'] = alp\n",
    "Ci_param['beta'] = beta\n",
    "Ci_param['sigma'] = sigma\n",
    "Ci_param['v0'] = v0\n",
    "\n",
    "Ci = Riccati_solution_vec(Ci_param['a'],Ci_param['b'],Ci_param['c'],tau,Ci_param['init_val'])\n",
    "int_Ci = int_Riccati_solution_vec(Ci_param['a'],Ci_param['b'],Ci_param['c'],tau,Ci_param['init_val'])\n",
    "\n",
    "# Ai_param['a'] \n",
    "A = get_A(tau,correlation,u,Bi_param,Ci_param)\n",
    "Bi = Riccati_solution_vec(Bi_param['a'],Bi_param['b'],Bi_param['c'],tau,Bi_param['init_val'])\n",
    "Ci = Riccati_solution_vec(Ci_param['a'],Ci_param['b'],Ci_param['c'],tau,Ci_param['init_val'])\n",
    "print('A ',A)\n",
    "print('B ',Bi)\n",
    "print('C ',Ci)\n",
    "# Compute ChF\n",
    "np.exp(A + np.dot(u,s0) + np.dot(Bi,x0) + np.dot(Ci,v0))"
   ]
  },
  {
   "cell_type": "code",
   "execution_count": 27,
   "metadata": {},
   "outputs": [
    {
     "data": {
      "text/plain": [
       "414.4711822554628"
      ]
     },
     "execution_count": 27,
     "metadata": {},
     "output_type": "execute_result"
    }
   ],
   "source": [
    "get_chf(tau,Bi_param,Ci_param,u,correlation)"
   ]
  },
  {
   "cell_type": "markdown",
   "metadata": {},
   "source": [
    "# Monte Carlo Simulation"
   ]
  },
  {
   "cell_type": "code",
   "execution_count": 28,
   "metadata": {},
   "outputs": [],
   "source": [
    "# tau = t[-1]\n",
    "np.random.seed(1)\n",
    "num_steps = int(tau*500)\n",
    "num_paths = 5000\n",
    "res = np.zeros((num_steps, num_paths))\n",
    "dt = tau/num_steps\n",
    "t_sim = np.linspace(0.0,tau,num_steps+1)\n",
    "# Initialize states\n",
    "\n",
    "x = np.zeros([num_steps+1, len(x0), num_paths]) # middle: num state var\n",
    "r = np.zeros([num_steps+1, num_paths])\n",
    "s = np.zeros([num_steps+1, len(s0), num_paths])\n",
    "v = np.zeros([num_steps+1, len(v0), num_paths])\n",
    "\n",
    "# Initialization\n",
    "r[0,:] = l0\n",
    "for j in range(len(x0)):\n",
    "    x[0,j,:] = x0[j]\n",
    "    r[0,:] += x0[j]\n",
    "for j in range(len(s0)):\n",
    "    s[0,j,:] = s0[j]\n",
    "    v[0,j,:] = v0[j]\n",
    "    \n",
    "for i in range(num_steps):\n",
    "    # noncentral chisquare processes\n",
    "    # Treasury\n",
    "    r[i+1,:] = l0\n",
    "    for j in range(len(x0)): # x1,x2,x3\n",
    "        x[i+1,j,:] = get_CIR_Sample(num_paths,ka[j],si[j],th[j],0,dt,x[i,j,:])\n",
    "        r[i+1,:] += x[i+1,j,:]\n",
    "\n",
    "    # Volatility\n",
    "    dW_indep = np.random.normal(0.0,1.0,(4,num_paths))\n",
    "    dW = L*dW_indep*np.sqrt(dt) # each row (sA vA sB vB)\n",
    "    for j in range(len(v0)): # j in (A,B)\n",
    "        drift_term = (alp[j] - beta[j]*v[i,j,:])*dt\n",
    "        if j == 0: # A\n",
    "            dWv = dW[1,:]\n",
    "        elif j == 1: # B\n",
    "            dWv = dW[3,:]\n",
    "        vol_term = sigma[j]*np.multiply(np.sqrt(v[i,j,:]),dWv)\n",
    "        vol_term += 0.25*sigma[j]**2.0 * (np.power(dWv,2) - dt) # Milstein term\n",
    "        v[i+1,j,:] = np.maximum(0.0,v[i,j,:] + drift_term + vol_term) # truncation\n",
    "#         v[i+1,j,:] = np.abs(v[i,j,:] + drift_term*dt + vol_term ) # reflection\n",
    "    \n",
    "    # Stock price\n",
    "    for j in range(len(s0)): # j in (A,B)\n",
    "        drift_term = (np.add(r[i], mu0[j]) + mu1[j]*v[i,j,:])*dt\n",
    "        if j == 0: # A\n",
    "            dWs = dW[0,:]\n",
    "        elif j == 1: # B\n",
    "            dWs = dW[2,:]\n",
    "        vol_term = np.multiply(np.sqrt(v[i,j,:]), dWs)\n",
    "        s[i+1,j,:] = s[i,j,:] + drift_term + vol_term # reflection\n",
    "    "
   ]
  },
  {
   "cell_type": "markdown",
   "metadata": {},
   "source": [
    "# Characteristic Function from MC"
   ]
  },
  {
   "cell_type": "code",
   "execution_count": 29,
   "metadata": {},
   "outputs": [
    {
     "name": "stdout",
     "output_type": "stream",
     "text": [
      "490.2964993035471\n"
     ]
    }
   ],
   "source": [
    "chf = np.mean(np.exp(np.dot(u,s[-1,:,:]) + np.dot(psi,v[-1,:,:]) + np.dot(wi,x[-1,:,:])))\n",
    "print(chf)"
   ]
  },
  {
   "cell_type": "code",
   "execution_count": 30,
   "metadata": {},
   "outputs": [],
   "source": [
    "chf_MC = np.zeros(len(t_sim))\n",
    "chf_analytic = np.zeros(len(t_sim))\n",
    "for i,t_step in enumerate(t_sim):\n",
    "    chf_MC[i] = np.mean(np.exp(np.dot(u,s[i,:,:]) + np.dot(psi,v[i,:,:]) + np.dot(wi,x[i,:,:])))\n",
    "    chf_analytic[i] = get_chf(t_step,Bi_param,Ci_param,u,correlation)"
   ]
  },
  {
   "cell_type": "code",
   "execution_count": 31,
   "metadata": {
    "scrolled": false
   },
   "outputs": [
    {
     "data": {
      "text/plain": [
       "<matplotlib.legend.Legend at 0x165ed2c9348>"
      ]
     },
     "execution_count": 31,
     "metadata": {},
     "output_type": "execute_result"
    },
    {
     "data": {
      "image/png": "[encoded data removed]",
      "text/plain": [
       "<Figure size 432x288 with 1 Axes>"
      ]
     },
     "metadata": {
      "needs_background": "light"
     },
     "output_type": "display_data"
    }
   ],
   "source": [
    "plt.plot(t_sim,chf_MC,label='MC')\n",
    "plt.plot(t_sim,chf_analytic,label='Analytic')\n",
    "plt.legend()"
   ]
  },
  {
   "cell_type": "code",
   "execution_count": 23,
   "metadata": {},
   "outputs": [
    {
     "name": "stdout",
     "output_type": "stream",
     "text": [
      "IR mean sim:  0.004850011083623458  steady-state  0.0049631918489159155\n",
      "mean of s  [1.88872758 2.19315678]\n",
      "var of s  [0.75523773 2.65522375]\n",
      "skew of s  [-0.20393954 -0.04091502]\n",
      "kurtosis of s  [ 0.10382688 -0.01203984]\n",
      "x ss  [0.04783331 0.07757864 0.00661224]\n",
      "Ex sim  0.04783957702173772 0.07741622705263689 0.006655207009248864\n",
      "v ss  [0.02226653 0.08411542]\n",
      "Ev sim  0.021904981597170945 0.08395754383410815\n",
      "v exact  0.02235121968975165   0.08393968096916389\n"
     ]
    }
   ],
   "source": [
    "from scipy.stats import skew,kurtosis\n",
    "# simulation result check\n",
    "print('IR mean sim: ',r[-1,:].mean(),' steady-state ',th.sum()+l0)\n",
    "print('mean of s ', s[-1,:,:].mean(axis=1))\n",
    "print('var of s ', s[-1,:,:].var(axis=1))\n",
    "print('skew of s ', skew(s[-1,:,:],axis=1))\n",
    "print('kurtosis of s ', kurtosis(s[-1,:,:],axis=1))\n",
    "print('x ss ',th)\n",
    "print('Ex sim ',x[-1,0,:].mean(), x[-1,1,:].mean(), x[-1,2,:].mean())\n",
    "print('v ss ',alp/beta)\n",
    "print('Ev sim ',v[-1,0,:].mean(), v[-1,1,:].mean())\n",
    "v_exact0 = get_CIR_Sample(num_paths,beta[0],sigma[0],(alp/beta)[0],0.0,tau,v0[0])\n",
    "v_exact1 = get_CIR_Sample(num_paths,beta[1],sigma[1],(alp/beta)[1],0.0,tau,v0[1])\n",
    "print('v exact ',v_exact0.mean(),' ',v_exact1.mean())"
   ]
  },
  {
   "cell_type": "code",
   "execution_count": 24,
   "metadata": {},
   "outputs": [
    {
     "name": "stdout",
     "output_type": "stream",
     "text": [
      "EsA  -5090.527749213243\n",
      "MC sA  1.888727580267359\n",
      "EsB  -1531.1891816340449\n",
      "MC sB  2.1931567765029567\n",
      "EvA  62.30633759264492\n",
      "MC vA  0.021904981597170945\n",
      "EvB  240.9566173060739\n",
      "MC vB  0.08395754383410815\n"
     ]
    }
   ],
   "source": [
    "Bi_cpy = Bi_param.copy()\n",
    "Ci_cpy = Ci_param.copy()\n",
    "# mean of sA, sB\n",
    "du = 0.01\n",
    "Bi_cpy['init_val'] = np.zeros(len(x0)) # zero wi\n",
    "Ci_cpy['init_val'] = np.zeros(len(v0)) # zero psi\n",
    "EsA = (get_chf(t_sim[-1],Bi_cpy,Ci_cpy,np.array([du,0]),correlation) - get_chf(t_sim[-1],Bi_cpy,Ci_cpy,np.array([0,0]),correlation))/du\n",
    "EsB = (get_chf(t_sim[-1],Bi_cpy,Ci_cpy,np.array([0,du]),correlation) - get_chf(t_sim[-1],Bi_cpy,Ci_cpy,np.array([0,0]),correlation))/du\n",
    "print('EsA ',EsA)\n",
    "print('MC sA ',s[-1,0,:].mean())\n",
    "print('EsB ',EsB)\n",
    "print('MC sB ',s[-1,1,:].mean())\n",
    "\n",
    "# mean of vA, vB\n",
    "Bi_cpy = Bi_param.copy()\n",
    "Bi_cpy['init_val'] = np.zeros(len(x0)) # zero wi\n",
    "Ci_cpy = Ci_param.copy()\n",
    "Ci_cpy_2 = Ci_param.copy()\n",
    "Ci_cpy['init_val'] = np.zeros(len(v0)) # zero psi\n",
    "Ci_cpy_2['init_val'] = np.array([du,0.0]) # zero psi\n",
    "u_cpy = 0.0*u.copy()\n",
    "EvA = (get_chf(t_sim[-1],Bi_cpy,Ci_cpy_2,u_cpy,correlation) - get_chf(t_sim[-1],Bi_cpy,Ci_cpy,u_cpy,correlation))/du\n",
    "print('EvA ',EvA)\n",
    "print('MC vA ',v[-1,0,:].mean())\n",
    "Ci_cpy_2['init_val'] = np.array([0.0,du]) # zero psi\n",
    "EvB = (get_chf(t_sim[-1],Bi_cpy,Ci_cpy_2,u_cpy,correlation) - get_chf(t_sim[-1],Bi_cpy,Ci_cpy,u_cpy,correlation))/du\n",
    "print('EvB ',EvB)\n",
    "print('MC vB ',v[-1,1,:].mean())\n"
   ]
  },
  {
   "cell_type": "raw",
   "metadata": {},
   "source": [
    "# Euler\n",
    "IR mean sim:  0.0050251503408563  steady-state  0.0049631918489159155\n",
    "x ss  [0.04783331 0.07757864 0.00661224]\n",
    "Ex sim  0.04783954711232382 0.07760093536507524 0.006645667863457244\n",
    "v ss  [0.02226653 0.08411542]\n",
    "Ev sim  0.021987811856271168 0.08401307646361608\n",
    "v exact  0.02235978301726086   0.08361826511310058"
   ]
  },
  {
   "cell_type": "raw",
   "metadata": {},
   "source": [
    "# Minstein\n",
    "IR mean sim:  0.005101878949756529  steady-state  0.0049631918489159155\n",
    "x ss  [0.04783331 0.07757864 0.00661224]\n",
    "Ex sim  0.047836961001861016 0.07760776786379109 0.006718150084104448\n",
    "v ss  [0.02226653 0.08411542]\n",
    "Ev sim  0.022371461131807106 0.08427758148260485\n",
    "v exact  0.02235978301726086   0.08401200364072164"
   ]
  },
  {
   "cell_type": "code",
   "execution_count": null,
   "metadata": {},
   "outputs": [],
   "source": []
  },
  {
   "cell_type": "code",
   "execution_count": null,
   "metadata": {},
   "outputs": [],
   "source": []
  }
 ],
 "metadata": {
  "kernelspec": {
   "display_name": "Python 3",
   "language": "python",
   "name": "python3"
  },
  "language_info": {
   "codemirror_mode": {
    "name": "ipython",
    "version": 3
   },
   "file_extension": ".py",
   "mimetype": "text/x-python",
   "name": "python",
   "nbconvert_exporter": "python",
   "pygments_lexer": "ipython3",
   "version": "3.7.4"
  }
 },
 "nbformat": 4,
 "nbformat_minor": 4
}
