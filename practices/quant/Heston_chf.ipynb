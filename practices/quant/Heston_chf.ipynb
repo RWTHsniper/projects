{
 "cells": [
  {
   "cell_type": "code",
   "execution_count": 1,
   "metadata": {},
   "outputs": [],
   "source": [
    "import numpy as np\n",
    "from scipy import integrate\n",
    "import matplotlib.pyplot as plt\n",
    "from scipy.fft import fft, ifft\n",
    "import pandas as pd"
   ]
  },
  {
   "cell_type": "code",
   "execution_count": 2,
   "metadata": {},
   "outputs": [
    {
     "name": "stdout",
     "output_type": "stream",
     "text": [
      "Feller condition is  True\n"
     ]
    }
   ],
   "source": [
    "theta = 0.132328; kappa = 10.980797; sigma = 1.7; rho = -0.351560; v0 = 0.065690\n",
    "#spot, K = 659.37, 600.0\n",
    "spot, K = 1.0, 600.0/659.37\n",
    "#spot, K = 659.37, 758.28\n",
    "#spot, K = 659.37, 800.0\n",
    "alp = 0.75\n",
    "s = np.log(spot)\n",
    "k = np.log(K)\n",
    "x = np.log(spot)\n",
    "feller_cond = 2*kappa*theta > sigma**2\n",
    "print(\"Feller condition is \", feller_cond)"
   ]
  },
  {
   "cell_type": "code",
   "execution_count": 3,
   "metadata": {},
   "outputs": [],
   "source": [
    "def HestonMC (spot, v0, rho, kappa, theta, sigma, T, num_steps, r=0.0, return_log = True):\n",
    "    # Generate a path\n",
    "    vt    = np.zeros(num_steps)\n",
    "    vt[0] = v0\n",
    "    logSt = np.zeros(num_steps)\n",
    "    logSt[0] = np.log(spot)\n",
    "    dt = T / num_steps\n",
    "\n",
    "    # Milstein scheme for volatility\n",
    "    for t in range(1,num_steps):\n",
    "        # Generate random Brownian Motion\n",
    "        dW_indep = np.random.normal(0.0,1.0,2)\n",
    "        dW_v = dW_indep[0]\n",
    "        dW_logS = rho*dW_indep[0] + np.sqrt(1-rho**2)*dW_indep[1] \n",
    "        vt[t] = vt[t-1] + kappa*(theta-vt[t-1])*dt + sigma* np.sqrt(vt[t-1]*dt)*dW_v + sigma**2/4.*dt*(dW_v**2-1.)\n",
    "        if vt[t] < 0.0:\n",
    "            vt[t] = 0.0\n",
    "        logSt[t] = logSt[t-1] + (r - vt[t-1]/2.)*dt + np.sqrt(vt[t-1]*dt)*dW_logS\n",
    "\n",
    "    if return_log:\n",
    "        return logSt, vt\n",
    "    else:        \n",
    "        St= np.exp(logSt)\n",
    "        return St, vt"
   ]
  },
  {
   "cell_type": "code",
   "execution_count": 4,
   "metadata": {},
   "outputs": [],
   "source": [
    "u = 1.0 \n",
    "r = 0.0\n",
    "#num_paths = 20000\n",
    "num_paths = 100\n",
    "payoff_sum = 0.0\n",
    "T = 1.0\n",
    "#T = 0.333\n",
    "num_steps = 252"
   ]
  },
  {
   "cell_type": "code",
   "execution_count": 5,
   "metadata": {},
   "outputs": [],
   "source": [
    "def get_chf(x_T,u):\n",
    "    return np.exp(u*1j*x_T)\n",
    "\n",
    "\"\"\"\n",
    "Compute E[e^{1j*u*x}]\n",
    "x: log(S)\n",
    "u: variable for the chf\n",
    "v0: v0\n",
    "r: risk-free rate\n",
    "rho: correlation\n",
    "ka: kappa\n",
    "th: theta\n",
    "sig: sigma\n",
    "\"\"\"\n",
    "def get_Heston_chf(x, u, v0, r, rho, ka, th, sig, T):\n",
    "    gam = np.sqrt(sig**2*u*(u+1j) + (ka-1j*rho*sig*u)**2)\n",
    "    half_gam_T = gam*T/2.0\n",
    "    coth = 1.0/np.tanh(half_gam_T)\n",
    "    log_numerator = ka*th*T*(ka-1j*rho*sig*u)/sig**2 + 1j*u*(T*r+x) - (u*(u+1j)*v0)/(gam*coth + ka - 1j*rho*sig*u)\n",
    "    numerator = np.exp(log_numerator)\n",
    "    denominator = (np.cosh(half_gam_T) + (ka-1j*rho*sig*u)/gam*np.sinh(half_gam_T))**(2.0*ka*th/sig**2)\n",
    "    return numerator/denominator\n",
    "\n",
    "def get_damped_Heston_chf(x, v, v0, r, rho, ka, th, sig, T, alp):\n",
    "    chf_inp = v - (alp+1.0)*1j\n",
    "    numerator = np.exp(-r*T) * get_Heston_chf(x, chf_inp, v0, r, rho, ka, th, sig, T)\n",
    "    denominator = alp**2 + alp - v**2 +1j*(2.0*alp +1.0)*v\n",
    "    return numerator / denominator"
   ]
  },
  {
   "cell_type": "code",
   "execution_count": 6,
   "metadata": {},
   "outputs": [
    {
     "name": "stdout",
     "output_type": "stream",
     "text": [
      "chf from mc  (0.9367481614150424-0.05472072214030216j)\n",
      "analytic chf  (0.9345074136306541-0.055431779426290094j)\n",
      "call from mc  0.17954005754633623\n",
      "1.0 0.9099595068019473 0.06569 -0.35156\n"
     ]
    }
   ],
   "source": [
    "heston_chf_mc = 0.0\n",
    "mc_call_price = 0.0\n",
    "for i in range(num_paths):\n",
    "    logS_last = HestonMC(spot, v0, rho, kappa, theta, sigma, T, num_steps, r=r, return_log = True)[0][-1]\n",
    "    heston_chf_mc += get_chf(logS_last,u)\n",
    "    mc_call_price += max(0., np.exp(logS_last)-K)\n",
    "heston_chf_mc /= num_paths\n",
    "mc_call_price /= num_paths\n",
    "print('chf from mc ', heston_chf_mc)\n",
    "print('analytic chf ', get_Heston_chf(x, u, v0, r, rho, kappa, theta, sigma, T))\n",
    "print('call from mc ', mc_call_price)\n",
    "print(spot, K, v0, rho)"
   ]
  },
  {
   "cell_type": "code",
   "execution_count": 7,
   "metadata": {},
   "outputs": [],
   "source": [
    "def get_Heston_fft_call(k, x, v0, r, rho, kappa, theta, sigma, T, alp, N=2**12, dk=0.01):# 2048*5\n",
    "    u_list = np.array(range(N-1))\n",
    "    # be careful about scales of dk and dv\n",
    "#    dk = np.abs(k)*0.01\n",
    "    dv = 2.0*np.pi/(N*dk)  # N*dv = 2*pi/dk\n",
    "\n",
    "#    dk = 2.0*np.pi/(N*dv) # nu nu*zeta = 2*pi/N\n",
    "    \n",
    "#    print(dv*(N-1))\n",
    "#    print('dk ds ', dk, ' ',dv)\n",
    "    k_list = np.array([x + dk*u_elem - N*dk/2.0 for u_elem in u_list])\n",
    "    v_list = np.array(range(N-1)) * dv\n",
    "#    print('maxv ', v_list[-1])\n",
    "#    if np.isinf(np.sinh(v_list[-1]**2)) | np.isinf(np.cosh(v_list[-1]**2)) | np.isinf(np.exp(v_list[-1]**2)):\n",
    "#        print('Infinite ',v_list[-1]**2)\n",
    "#        raise Exception('inifite')\n",
    "\n",
    "    x_list = [] # values in frequency domain\n",
    "    for (j,vj) in enumerate(v_list): # j=0 to N-1\n",
    "        if j==0:\n",
    "            kroneker_delta = 1.0\n",
    "        else:\n",
    "            kroneker_delta = 0.0        \n",
    "        simpson_coeff = dv/3.0*(3.0 + (-1)**j - kroneker_delta)\n",
    "        xj = np.exp(1j*(N/2.0*dk-s)*vj)*simpson_coeff*get_damped_Heston_chf(x, vj, v0, r, rho, kappa, theta, sigma, T, alp)\n",
    "        x_list.append(xj)\n",
    "\n",
    "    fft_prices = np.exp(-alp*k)/np.pi*fft(x_list).real\n",
    "#    price_index = np.where(k_list == k)[0]\n",
    "#    fft_price = fft_prices[int(N/2)]\n",
    "    # interpolate results\n",
    "    fft_price = np.interp(np.exp(k), np.exp(k_list), fft_prices)\n",
    "#    print(fft_price)\n",
    "    return fft_price"
   ]
  },
  {
   "cell_type": "code",
   "execution_count": 8,
   "metadata": {},
   "outputs": [
    {
     "name": "stderr",
     "output_type": "stream",
     "text": [
      "C:\\Users\\golde\\Anaconda3\\lib\\site-packages\\ipykernel_launcher.py:18: RuntimeWarning: overflow encountered in tanh\n"
     ]
    }
   ],
   "source": [
    "#fft_price = get_Heston_fft_call(k, x, v0, r, rho, kappa, theta, sigma, T, alp, N=2048*6)\n",
    "fft_price = get_Heston_fft_call(k, x, v0, r, rho, kappa, theta, sigma, T, alp, N=2**15, dk=1e-2)\n",
    "#fft_price = get_Heston_fft_call(np.log(600.0), np.log(659), v0, r, rho, kappa, theta, sigma, T, alp, N=2048*6, dv=1e-3)"
   ]
  },
  {
   "cell_type": "code",
   "execution_count": 9,
   "metadata": {},
   "outputs": [
    {
     "name": "stdout",
     "output_type": "stream",
     "text": [
      "call from mc  0.17954005754633623\n",
      "call from FFT  0.1824234257398621\n",
      "call from FFT  120.28453423009286\n"
     ]
    }
   ],
   "source": [
    "print('call from mc ', mc_call_price)\n",
    "print('call from FFT ', fft_price)\n",
    "print('call from FFT ', fft_price*659.37)"
   ]
  },
  {
   "cell_type": "code",
   "execution_count": 10,
   "metadata": {},
   "outputs": [
    {
     "data": {
      "text/plain": [
       "0.75"
      ]
     },
     "execution_count": 10,
     "metadata": {},
     "output_type": "execute_result"
    }
   ],
   "source": [
    "alp"
   ]
  },
  {
   "cell_type": "markdown",
   "metadata": {},
   "source": [
    "# Generate Dataset "
   ]
  },
  {
   "cell_type": "code",
   "execution_count": 15,
   "metadata": {},
   "outputs": [
    {
     "name": "stderr",
     "output_type": "stream",
     "text": [
      "C:\\Users\\golde\\Anaconda3\\lib\\site-packages\\ipykernel_launcher.py:21: RuntimeWarning: overflow encountered in cdouble_scalars\n",
      "C:\\Users\\golde\\Anaconda3\\lib\\site-packages\\ipykernel_launcher.py:22: RuntimeWarning: invalid value encountered in cdouble_scalars\n",
      "C:\\Users\\golde\\Anaconda3\\lib\\site-packages\\ipykernel_launcher.py:22: RuntimeWarning: overflow encountered in cdouble_scalars\n",
      "C:\\Users\\golde\\Anaconda3\\lib\\site-packages\\ipykernel_launcher.py:20: RuntimeWarning: overflow encountered in exp\n",
      "C:\\Users\\golde\\Anaconda3\\lib\\site-packages\\ipykernel_launcher.py:18: RuntimeWarning: overflow encountered in tanh\n",
      "C:\\Users\\golde\\Anaconda3\\lib\\site-packages\\ipykernel_launcher.py:21: RuntimeWarning: overflow encountered in cosh\n",
      "C:\\Users\\golde\\Anaconda3\\lib\\site-packages\\ipykernel_launcher.py:21: RuntimeWarning: overflow encountered in sinh\n",
      "C:\\Users\\golde\\Anaconda3\\lib\\site-packages\\ipykernel_launcher.py:21: RuntimeWarning: invalid value encountered in cdouble_scalars\n"
     ]
    },
    {
     "name": "stdout",
     "output_type": "stream",
     "text": [
      "violations  120\n"
     ]
    }
   ],
   "source": [
    "num_grid_1d = 6\n",
    "alp = 0.75\n",
    "C_price_bounds = [1e-3, 0.5]\n",
    "\n",
    "k_list = np.linspace(-0.2,0.2,num=num_grid_1d) # logstrike\n",
    "logS0 = 0.0 # log-spot \n",
    "T_list = [1.0] #\n",
    "v0_list = np.linspace(np.sqrt(1e-1),np.sqrt(0.3),num=num_grid_1d) \n",
    "r = 0.0\n",
    "rho_list = np.linspace(-1.0, 1.0,num=num_grid_1d) \n",
    "kappa_list = np.linspace(1e-3, 20.0,num=num_grid_1d) \n",
    "theta_list = np.linspace(1e-3, 10.0,num=num_grid_1d) \n",
    "sigma_list = np.linspace(1e-3, 20.0,num=num_grid_1d) \n",
    "\n",
    "pd_dict = {}\n",
    "pd_dict['k'] = []; pd_dict['T'] = []; pd_dict['v0'] = []; pd_dict['rho'] = []\n",
    "pd_dict['kappa'] = []; pd_dict['theta'] = []; pd_dict['sigma'] = []; pd_dict['C_price'] = []\n",
    "violation_count = 0\n",
    "\n",
    "for kappa in kappa_list:\n",
    "    for theta in theta_list:\n",
    "        for sigma in sigma_list:\n",
    "#            print(2*kappa*theta - sigma**2)\n",
    "            feller_cond = 2*kappa*theta > sigma**2\n",
    "            if feller_cond == True:\n",
    "                for k in k_list:\n",
    "                    for T in T_list:\n",
    "                        for v0 in v0_list:\n",
    "                            for rho in rho_list:\n",
    "                                C_price = get_Heston_fft_call(k, logS0, v0, r, rho, kappa, theta, sigma, T, alp, N=2**10, dk=1e-2)\n",
    "                                if (C_price >= C_price_bounds[0]) | (C_price <= C_price_bounds[1]) | np.isnan(C_price):\n",
    "                                    continue\n",
    "                                pd_dict['k'].append(k)\n",
    "                                pd_dict['T'].append(T)\n",
    "                                pd_dict['v0'].append(v0)\n",
    "                                pd_dict['rho'].append(rho)\n",
    "                                pd_dict['kappa'].append(kappa)\n",
    "                                pd_dict['theta'].append(theta)\n",
    "                                pd_dict['sigma'].append(sigma)\n",
    "                                pd_dict['C_price'].append(C_price)\n",
    "            else:\n",
    "                violation_count += 1\n",
    "\n",
    "df = pd.DataFrame(pd_dict)\n",
    "print('violations ', violation_count)"
   ]
  },
  {
   "cell_type": "code",
   "execution_count": 16,
   "metadata": {},
   "outputs": [
    {
     "name": "stdout",
     "output_type": "stream",
     "text": [
      "k          0\n",
      "T          0\n",
      "v0         0\n",
      "rho        0\n",
      "kappa      0\n",
      "theta      0\n",
      "sigma      0\n",
      "C_price    0\n",
      "dtype: int64\n"
     ]
    }
   ],
   "source": [
    "df.dropna(inplace=True)\n",
    "df.reset_index()\n",
    "print(df.isna().sum())"
   ]
  },
  {
   "cell_type": "code",
   "execution_count": 27,
   "metadata": {},
   "outputs": [],
   "source": [
    "df.to_csv('Heston_data', index=False)"
   ]
  },
  {
   "cell_type": "code",
   "execution_count": null,
   "metadata": {},
   "outputs": [],
   "source": [
    "\"\"\"\n",
    "N = 2048*6\n",
    "u_list = list(range(N-1))\n",
    "dk = k * 0.002 # zeta\n",
    "dv = 2.0*np.pi/(N*dk) # nu\n",
    "k_list = [s + dk*u_elem - N*dk/2.0 for u_elem in u_list]\n",
    "v_list = range(N-1) * dv\n",
    "x_list = [] # values in frequency domain\n",
    "for (j,vj) in enumerate(v_list): # j=0 to N-1\n",
    "    if j==0:\n",
    "        kroneker_delta = 1.0\n",
    "    else:\n",
    "        kroneker_delta = 0.0        \n",
    "    coeff = dv/3.0*(3.0 + (-1)**j - kroneker_delta)\n",
    "    xj = np.exp(1j*(N/2.0*dk-s)*vj)*coeff*get_damped_Heston_chf(x, vj, v0, r, rho, kappa, theta, sigma, T, alp)\n",
    "    x_list.append(xj)\n",
    "    \n",
    "fft_prices = fft(x_list).real\n",
    "fft_prices *= np.exp(-alp*k)/np.pi\n",
    "\"\"\""
   ]
  }
 ],
 "metadata": {
  "kernelspec": {
   "display_name": "Python 3",
   "language": "python",
   "name": "python3"
  },
  "language_info": {
   "codemirror_mode": {
    "name": "ipython",
    "version": 3
   },
   "file_extension": ".py",
   "mimetype": "text/x-python",
   "name": "python",
   "nbconvert_exporter": "python",
   "pygments_lexer": "ipython3",
   "version": "3.7.4"
  }
 },
 "nbformat": 4,
 "nbformat_minor": 4
}
