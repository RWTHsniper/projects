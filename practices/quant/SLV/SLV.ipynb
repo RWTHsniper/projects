{
 "cells": [
  {
   "cell_type": "code",
   "execution_count": 1,
   "metadata": {},
   "outputs": [],
   "source": [
    "import numpy as np\n",
    "from scipy import integrate, interpolate\n",
    "import matplotlib.pyplot as plt"
   ]
  },
  {
   "cell_type": "code",
   "execution_count": 2,
   "metadata": {},
   "outputs": [],
   "source": [
    "def get_aux_params(u, j, theta, kappa, sigma, rho):\n",
    "    alpha = - u**2 /2. - 1j*u/2. + 1j*j*u\n",
    "    beta = kappa - rho*sigma*j - rho*sigma*1j*u\n",
    "    gamma = sigma**2/2\n",
    "    d = np.sqrt(beta**2 - 4.*alpha*gamma)\n",
    "    r_p = (beta + d)/sigma**2\n",
    "    r_n = (beta - d)/sigma**2\n",
    "    g = r_n/r_p\n",
    "    return alpha, beta, gamma, d, r_p, r_n, g\n",
    "\n",
    "def get_C_D(u, j, tau, theta, kappa, sigma, rho):\n",
    "    _, _, _, d, _, r_n, g = get_aux_params(u, j, theta, kappa, sigma, rho)\n",
    "    d_tau = d*tau\n",
    "    C = kappa*(r_n*tau - 2./sigma**2*np.log((1.-g*np.exp(-d_tau))/(1.-g)))\n",
    "    D = r_n*(1.-np.exp(-d_tau))/(1.-g*np.exp(-d_tau))\n",
    "    return C, D\n",
    "\n",
    "def get_integrand(v0, x, u, j, tau, theta, kappa, sigma, rho):\n",
    "    C,D = get_C_D(u, j, tau, theta, kappa, sigma, rho)\n",
    "    return ((np.exp(C*theta + D*v0 + 1j*u*x)) / (1j*u)).real\n",
    "\n",
    "def P(v0, x, j, tau, theta, kappa, sigma, rho):\n",
    "    def wrapper(u):\n",
    "        return get_integrand(v0,x, u, j, tau, theta, kappa, sigma, rho)    \n",
    "    \n",
    "    if tau <= 1e-4:\n",
    "        tau = 1e-4\n",
    "    float_epsilon = np.finfo(float).eps\n",
    "    integral,err =  integrate.quad(wrapper,float_epsilon,4000.0)\n",
    "    return 0.5 + 1./np.pi * integral\n",
    "    \n",
    "def get_call_price(v0, spot, K, tau, theta, kappa, sigma, rho):\n",
    "    # presume zero risk-free\n",
    "    x= np.log(spot/K)\n",
    "    P0 = P(v0, x, 0, tau, theta, kappa, sigma, rho)\n",
    "    P1 = P(v0, x, 1, tau, theta, kappa, sigma, rho)\n",
    "    price = spot * P1 - K * P0\n",
    "    return price\n",
    "\n",
    "def get_CIR_Sample(NoOfPaths,kappa,gamma,vbar,s,t,v_s):\n",
    "    delta = 4.0 *kappa*vbar/gamma/gamma\n",
    "    c= 1.0/(4.0*kappa)*gamma*gamma*(1.0-np.exp(-kappa*(t-s)))\n",
    "    kappaBar = 4.0*kappa*v_s*np.exp(-kappa*(t-s))/(gamma*gamma*(1.0-np.exp(-kappa*(t-s))))\n",
    "    sample = c* np.random.noncentral_chisquare(delta,kappaBar,NoOfPaths)\n",
    "    return sample\n",
    "\n",
    "def getEVBinMethod(S,v,NoOfBins):\n",
    "    if (NoOfBins != 1):\n",
    "        mat  = np.transpose(np.array([S,v]))\n",
    "       \n",
    "        # Sort all the rows according to the first column\n",
    "\n",
    "        val = mat[mat[:,0].argsort()]\n",
    "        \n",
    "        binSize = int((np.size(S)/NoOfBins))\n",
    "         \n",
    "        expectation = np.zeros([np.size(S),2]) # columns of S and v\n",
    "\n",
    "        for i in range(1,binSize-1):\n",
    "            sample = val[(i-1)*binSize:i*binSize,1]\n",
    "            expectation[(i-1)*binSize:i*binSize,0] =val[(i-1)*binSize:i*binSize,0]\n",
    "            expectation[(i-1)*binSize:i*binSize,1] =np.mean(sample)\n",
    "        return expectation"
   ]
  },
  {
   "cell_type": "code",
   "execution_count": 3,
   "metadata": {},
   "outputs": [
    {
     "data": {
      "text/plain": [
       "[array([0.2090285 , 0.17026637, 0.13430672, 0.10204707, 0.07435474,\n",
       "        0.05184616, 0.03465636, 0.02234352, 0.01402364, 0.00865698]),\n",
       " array([0.2242402 , 0.18976999, 0.15812609, 0.12964499, 0.10456   ,\n",
       "        0.08296941, 0.06482173, 0.04992279, 0.03796346, 0.02856077]),\n",
       " array([0.23874645, 0.2069625 , 0.17777479, 0.15131604, 0.12764696,\n",
       "        0.10675381, 0.08855217, 0.07289646, 0.05959329, 0.04841695]),\n",
       " array([0.25213827, 0.22224103, 0.19471996, 0.16961764, 0.14692799,\n",
       "        0.12659956, 0.10854119, 0.09262929, 0.07871589, 0.06663681]),\n",
       " array([0.26452668, 0.23606314, 0.20979086, 0.18570647, 0.16377286,\n",
       "        0.14392352, 0.1260675 , 0.11009487, 0.09588204, 0.08329682]),\n",
       " array([0.2760622 , 0.24874771, 0.22347088, 0.20020263, 0.17889   ,\n",
       "        0.15946017, 0.14182461, 0.12588315, 0.11152772, 0.09864574]),\n",
       " array([0.28687481, 0.26051654, 0.23606705, 0.21348201, 0.19269993,\n",
       "        0.17364566, 0.15623377, 0.14037158, 0.12596198, 0.11290576]),\n",
       " array([0.29706924, 0.27152902, 0.24778793, 0.22579227, 0.20547593,\n",
       "        0.18676337, 0.16957233, 0.15381622, 0.13940617, 0.12625276]),\n",
       " array([0.30672903, 0.28190354, 0.25878264, 0.23730672, 0.21740728,\n",
       "        0.19900942, 0.18203395, 0.16639933, 0.15202321, 0.1388237 ]),\n",
       " array([0.31592128, 0.29173064, 0.26916201, 0.24815213, 0.22863144,\n",
       "        0.21052615, 0.19376   , 0.17825576, 0.16393639, 0.15072601]),\n",
       " array([0.32470053, 0.30108123, 0.27901108, 0.25842458, 0.23925191,\n",
       "        0.22142068, 0.20485738, 0.18948847, 0.17524138, 0.16204518]),\n",
       " array([0.33311164, 0.31001208, 0.28839679, 0.26819892, 0.24934895,\n",
       "        0.23177604, 0.21540916, 0.20017808, 0.18601402, 0.17285022])]"
      ]
     },
     "execution_count": 3,
     "metadata": {},
     "output_type": "execute_result"
    }
   ],
   "source": [
    "# Price surface using Heston model\n",
    "\n",
    "theta = 0.132328; kappa = 10.980797; sigma = 1.7; rho = -0.351560; v0 = 0.065690\n",
    "r = 0.0 # always presume zero risk-free interest\n",
    "#spot, K = 659.37, 758.28\n",
    "# spot, K = 659.37, 600.0\n",
    "# spot, K = 1.0, 0.9099595068019473\n",
    "spot = 1.0; K_vec = np.linspace(0.8,1.2,num=10)\n",
    "T_max = 3\n",
    "T_vec = np.linspace(0.25,T_max,int(((T_max)/0.25)))\n",
    "float_epsilon = np.finfo(float).eps\n",
    "#tau_vec = np.linspace(float_epsilon,0.1,num=100)\n",
    "# tau_vec = np.linspace(float_epsilon,1.,num=13)\n",
    "price_vec = []\n",
    "for tau in T_vec:\n",
    "    price_tau=[get_call_price(v0, spot, k, tau, theta, kappa, sigma, rho) for k in K_vec]\n",
    "    price_vec.append(np.array(price_tau))\n",
    "price_vec"
   ]
  },
  {
   "cell_type": "code",
   "execution_count": 50,
   "metadata": {},
   "outputs": [],
   "source": [
    "dk = K_vec[1] - K_vec[0]\n",
    "dt = T_vec[1] - T_vec[0]\n",
    "si_LV = []\n",
    "for (i_t,tau) in enumerate(T_vec):\n",
    "    lv_k = np.zeros(len(K_vec)) # local vol for each strike \n",
    "    for (i_k,k) in enumerate(K_vec):\n",
    "        # derivatives w.r.t. T\n",
    "        if i_t == 0: # left boundary\n",
    "            v_t = (price_vec[i_t+1][i_k]-price_vec[i_t][i_k])/dt\n",
    "        elif i_t == len(T_vec)-1: # right boundary\n",
    "            v_t = (price_vec[i_t][i_k]-price_vec[i_t-1][i_k])/dt\n",
    "        else:\n",
    "            v_t = (price_vec[i_t+1][i_k]-price_vec[i_t-1][i_k])/(2.0*dt)\n",
    "        \n",
    "        # derivatives w.r.t. K\n",
    "        if i_k == 0: # left boundary\n",
    "            v_k = (price_vec[i_t][i_k+1]-price_vec[i_t][i_k])/dk\n",
    "#             v_kk = (price_vec[i_t][i_k+2] - 2.0*price_vec[i_t][i_k+1] + price_vec[i_t][i_k])/(dk**2)\n",
    "        elif i_k == len(K_vec)-1: # right boundary\n",
    "            v_k = (price_vec[i_t][i_k]-price_vec[i_t][i_k-1])/dk\n",
    "#             v_kk = (price_vec[i_t][i_k] - 2.0*price_vec[i_t][i_k-1] + price_vec[i_t][i_k-2])/(dk**2)\n",
    "        else:\n",
    "            v_kk = (price_vec[i_t][i_k+1] - 2.0*price_vec[i_t][i_k] + price_vec[i_t][i_k-1])/(dk**2)\n",
    "            v_k = (price_vec[i_t][i_k+1]-price_vec[i_t][i_k-1])/(2.0*dk)\n",
    "            lv_k[i_k] = np.sqrt((v_t+r*k*v_k)/(0.5*k**2 * v_kk))\n",
    "\n",
    "        \n",
    "#         lv_k[i_k] = np.sqrt((v_t+r*k*v_k)/(0.5*k**2 * v_kk))\n",
    "    lv_k[0] = lv_k[1]\n",
    "    lv_k[len(K_vec)-1]= lv_k[len(K_vec)-2]\n",
    "    si_LV.append(lv_k)\n",
    "\n",
    "si_LV = np.matrix(si_LV)\n",
    "si_lv_func = interpolate.interp2d(K_vec,T_vec,si_LV)"
   ]
  },
  {
   "cell_type": "code",
   "execution_count": null,
   "metadata": {},
   "outputs": [],
   "source": []
  },
  {
   "cell_type": "code",
   "execution_count": 87,
   "metadata": {},
   "outputs": [],
   "source": [
    "# Run simulations to compute bins\n",
    "\n",
    "np.random.seed(1)\n",
    "T = T_vec[-1]\n",
    "num_steps = int(T*4*3*5) # weekly\n",
    "# num_paths = 7500\n",
    "num_paths = 15000\n",
    "num_paths = 30000\n",
    "res = np.zeros((num_steps, num_paths))\n",
    "dt = T/num_steps\n",
    "t_sim = np.linspace(0.0,T,num_steps+1)\n",
    "\n",
    "correlation = np.matrix([[1, rho],[rho, 1]])\n",
    "L = np.linalg.cholesky(correlation)\n",
    "alpha = kappa*theta\n",
    "beta = kappa\n",
    "s = np.zeros([num_steps+1, num_paths]) # log(S)\n",
    "v = np.zeros([num_steps+1, num_paths])\n",
    "v[0,:] = v0\n",
    "\n",
    "for i in range(num_steps):\n",
    "    # noncentral chisquare processes\n",
    "\n",
    "    # Volatility\n",
    "    dW_indep = np.random.normal(0.0,1.0,(2,num_paths))\n",
    "    dW_indep = (dW_indep-dW_indep.mean(axis=1).reshape(-1,1))/dW_indep.std(axis=1).reshape(-1,1) # normalize\n",
    "    dW = L*dW_indep*np.sqrt(dt) # each row (sA sB vA vB) \n",
    "#     dW   = np.random.multivariate_normal([0,0,0,0], p[\"correlation\"], num_paths).transpose()*np.sqrt(dt)\n",
    "    drift_term = (alpha - beta*v[i,:])*dt\n",
    "    dWv = dW[0,:] # A or B\n",
    "    vol_term = sigma*np.multiply(np.sqrt(v[i,:]),dWv)\n",
    "    vol_term += 0.25*sigma**2.0 * (np.power(dWv,2) - dt) # Milstein term\n",
    "    v[i+1,:] = np.maximum(0.0,v[i,:] + drift_term + vol_term) # truncation\n",
    "    \n",
    "    # Stock price\n",
    "    drift_term = (r-0.5*v[i,:])*dt\n",
    "    dWs = dW[1,:] \n",
    "    vol_term = np.multiply(np.sqrt(v[i,:]), dWs)\n",
    "    s[i+1,:] = s[i,:] + drift_term + vol_term\n",
    "    \n",
    "S = np.exp(s) # stock price"
   ]
  },
  {
   "cell_type": "markdown",
   "metadata": {},
   "source": [
    "# Check simulation result by pricing"
   ]
  },
  {
   "cell_type": "code",
   "execution_count": 88,
   "metadata": {},
   "outputs": [],
   "source": [
    "mc_call = []\n",
    "for (ind, _) in enumerate(T_vec):\n",
    "    t_ind = np.where(t_sim == T_vec[ind])[0][0]\n",
    "    mc_payoff = np.zeros(len(K_vec)) # slv for each k \n",
    "    for (i_k,k) in enumerate(K_vec):\n",
    "        payoff = S[t_ind] -k\n",
    "        payoff = np.where(payoff < 0.0, 0.0, payoff) # modify payoff\n",
    "        mc_payoff[i_k] = payoff.mean()\n",
    "    mc_call.append(mc_payoff)"
   ]
  },
  {
   "cell_type": "code",
   "execution_count": 89,
   "metadata": {},
   "outputs": [
    {
     "data": {
      "text/plain": [
       "[array([0.20886402, 0.17002051, 0.13394476, 0.10167419, 0.07411852,\n",
       "        0.05169206, 0.03456149, 0.02225075, 0.01396395, 0.00863023]),\n",
       " array([0.22383711, 0.18932536, 0.15772662, 0.12934752, 0.10443355,\n",
       "        0.08300552, 0.06499472, 0.0501327 , 0.03821301, 0.02880711]),\n",
       " array([0.23852321, 0.20659666, 0.17733904, 0.15087537, 0.12722504,\n",
       "        0.10633148, 0.08816167, 0.07260079, 0.0594346 , 0.04842343]),\n",
       " array([0.25180192, 0.22185671, 0.19430194, 0.16920611, 0.1465338 ,\n",
       "        0.12625261, 0.10827373, 0.09242752, 0.07855688, 0.06650804]),\n",
       " array([0.2642342 , 0.23580006, 0.2096057 , 0.18558248, 0.16364609,\n",
       "        0.14386213, 0.126132  , 0.1102692 , 0.09613153, 0.08360715]),\n",
       " array([0.27631987, 0.2490705 , 0.22388839, 0.20063989, 0.17928558,\n",
       "        0.15978562, 0.14211471, 0.12618706, 0.11184001, 0.09897404]),\n",
       " array([0.28699082, 0.26065031, 0.23622292, 0.21372852, 0.19301846,\n",
       "        0.17403177, 0.15668271, 0.14087001, 0.12651248, 0.11348871]),\n",
       " array([0.29771711, 0.27223304, 0.24854151, 0.22660691, 0.20629618,\n",
       "        0.18760898, 0.17046216, 0.15471727, 0.1403513 , 0.12723482]),\n",
       " array([0.30754525, 0.28285106, 0.25982297, 0.23848331, 0.21866118,\n",
       "        0.20036535, 0.1834729 , 0.16786297, 0.15350246, 0.14031604]),\n",
       " array([0.31726461, 0.29313306, 0.27068443, 0.24978365, 0.23036819,\n",
       "        0.21234237, 0.19560736, 0.180072  , 0.16566962, 0.15239451]),\n",
       " array([0.32736472, 0.30383013, 0.28184487, 0.26140064, 0.24234848,\n",
       "        0.22464231, 0.20815093, 0.19285094, 0.17864741, 0.16546091]),\n",
       " array([0.33502961, 0.31205498, 0.29057558, 0.27050686, 0.25180955,\n",
       "        0.23439017, 0.2181346 , 0.20292327, 0.18875701, 0.17559491])]"
      ]
     },
     "execution_count": 89,
     "metadata": {},
     "output_type": "execute_result"
    }
   ],
   "source": [
    "mc_call"
   ]
  },
  {
   "cell_type": "code",
   "execution_count": 90,
   "metadata": {},
   "outputs": [],
   "source": [
    "# NoOfBins = 25\n",
    "NoOfBins = 100\n",
    "expectations = []\n",
    "for (ind, _) in enumerate(T_vec):\n",
    "    t_ind = np.where(t_sim == T_vec[ind])[0][0]\n",
    "    f = getEVBinMethod(S[t_ind],v[t_ind],NoOfBins)\n",
    "    ind = np.where(f[:,1]==0)[0]\n",
    "    f = np.delete(f, ind, 0)\n",
    "    func = lambda x: np.interp(x, f[:,0], f[:,1])\n",
    "    expectations.append(func)"
   ]
  },
  {
   "cell_type": "code",
   "execution_count": 91,
   "metadata": {},
   "outputs": [
    {
     "data": {
      "text/plain": [
       "array([0.95070831, 0.95342118, 0.95613405, 0.95884692, 0.96155979,\n",
       "       0.96372659, 0.96534733, 0.96696807, 0.96858881, 0.97020954])"
      ]
     },
     "execution_count": 91,
     "metadata": {},
     "output_type": "execute_result"
    }
   ],
   "source": [
    "si_slv = [] # list of lambda expressions for SLV\n",
    "for (i_t,tau) in enumerate(T_vec):\n",
    "    slv = np.zeros(len(K_vec)) # slv for each k \n",
    "    for (i_k,k) in enumerate(K_vec):\n",
    "        v_expect = expectations[i_t](k)\n",
    "        slv[i_k] = si_LV[i_t, i_k] / np.sqrt(v_expect)\n",
    "#         slv[i_k] = 1.0 # test \n",
    "\n",
    "#     si_slv.append(lambda x: np.interp(x, K_vec, slv))\n",
    "    si_slv.append(slv)\n",
    "    \n",
    "si_slv = np.matrix(si_slv)\n",
    "si_slv_func = interpolate.interp2d(K_vec,T_vec,si_slv)\n",
    "si_slv_func(T,K_vec).reshape(-1)"
   ]
  },
  {
   "cell_type": "markdown",
   "metadata": {},
   "source": [
    "# SLV model simulation"
   ]
  },
  {
   "cell_type": "code",
   "execution_count": 92,
   "metadata": {},
   "outputs": [],
   "source": [
    "# Run simulations to compute bins\n",
    "\n",
    "np.random.seed(1)\n",
    "T = T_vec[-1]\n",
    "num_steps = int(T*4*3*5) # weekly\n",
    "# num_paths = 7500\n",
    "num_paths = 15000\n",
    "res = np.zeros((num_steps, num_paths))\n",
    "dt = T/num_steps\n",
    "t_sim = np.linspace(0.0,T,num_steps+1)\n",
    "\n",
    "correlation = np.matrix([[1, rho],[rho, 1]])\n",
    "L = np.linalg.cholesky(correlation)\n",
    "alpha = kappa*theta\n",
    "beta = kappa\n",
    "s = np.zeros([num_steps+1, num_paths]) # log(S)\n",
    "v = np.zeros([num_steps+1, num_paths])\n",
    "v[0,:] = v0\n",
    "\n",
    "for i in range(num_steps):\n",
    "    t = i*dt\n",
    "    # noncentral chisquare processes\n",
    "\n",
    "    # Volatility\n",
    "    dW_indep = np.random.normal(0.0,1.0,(2,num_paths))\n",
    "    dW_indep = (dW_indep-dW_indep.mean(axis=1).reshape(-1,1))/dW_indep.std(axis=1).reshape(-1,1) # normalize\n",
    "    dW = L*dW_indep*np.sqrt(dt) # each row (sA sB vA vB) \n",
    "\n",
    "    # Vol of vol\n",
    "    drift_term = (alpha - beta*v[i,:])*dt\n",
    "    dWv = dW[0,:] # A or B\n",
    "    vol_term = sigma*np.multiply(np.sqrt(v[i,:]),dWv)\n",
    "    vol_term += 0.25*sigma**2.0 * (np.power(dWv,2) - dt) # Milstein term\n",
    "    v[i+1,:] = np.maximum(0.0,v[i,:] + drift_term + vol_term) # truncation\n",
    "    \n",
    "    # Stock price\n",
    "    drift_term = (r-0.5*v[i,:])*dt\n",
    "    dWs = dW[1,:] \n",
    "    S_i = np.exp(s[i,:])\n",
    "    slv_i = si_slv_func(t,S_i).reshape(-1)\n",
    "    vol_term = np.multiply(slv_i, np.multiply(np.sqrt(v[i,:]), dWs))\n",
    "    s[i+1,:] = s[i,:] + drift_term + vol_term\n",
    "    \n",
    "S = np.exp(s) # stock price"
   ]
  },
  {
   "cell_type": "code",
   "execution_count": 93,
   "metadata": {},
   "outputs": [],
   "source": [
    "# Do pricing using the simulation data\n",
    "slv_sim = []\n",
    "for (i_t,tau) in enumerate(T_vec):\n",
    "    t_ind = np.where(t_sim == T_vec[i_t])[0][0]\n",
    "    slv_payoff = np.zeros(len(K_vec)) # slv for each k \n",
    "    for (i_k,k) in enumerate(K_vec):\n",
    "        payoff = S[t_ind] -k\n",
    "        payoff = np.where(payoff < 0.0, 0.0, payoff) # modify payoff\n",
    "        slv_payoff[i_k] = payoff.mean()\n",
    "    slv_sim.append(slv_payoff)"
   ]
  },
  {
   "cell_type": "code",
   "execution_count": 94,
   "metadata": {},
   "outputs": [
    {
     "data": {
      "text/plain": [
       "[array([0.20913621, 0.17033463, 0.13441575, 0.1022705 , 0.07473327,\n",
       "        0.05238455, 0.03524676, 0.02290261, 0.0144281 , 0.00888484]),\n",
       " array([0.22516497, 0.1907375 , 0.15911662, 0.130725  , 0.10575687,\n",
       "        0.0843323 , 0.06633527, 0.0515171 , 0.03967593, 0.03030108]),\n",
       " array([0.24262179, 0.21088047, 0.18163682, 0.15512138, 0.13127918,\n",
       "        0.1102057 , 0.09182023, 0.07589267, 0.06242289, 0.05101726]),\n",
       " array([0.25787671, 0.22789122, 0.20027119, 0.17511044, 0.15229311,\n",
       "        0.13172971, 0.11336128, 0.09705911, 0.08277395, 0.07035238]),\n",
       " array([0.26569721, 0.23711359, 0.21077655, 0.18671614, 0.16484555,\n",
       "        0.14503777, 0.12703541, 0.11082163, 0.09641781, 0.08364041]),\n",
       " array([0.27593104, 0.24855555, 0.22312329, 0.19970035, 0.17823614,\n",
       "        0.15872025, 0.1410576 , 0.12511866, 0.11070436, 0.09772134]),\n",
       " array([0.28611694, 0.25970081, 0.23521378, 0.21251469, 0.19160727,\n",
       "        0.17244827, 0.15494537, 0.13906242, 0.12463545, 0.11152113]),\n",
       " array([0.29541609, 0.26977081, 0.24609636, 0.22420027, 0.20395992,\n",
       "        0.1852406 , 0.16802539, 0.15227471, 0.13791392, 0.12474844]),\n",
       " array([0.30410031, 0.27924871, 0.25610747, 0.23465342, 0.21483719,\n",
       "        0.19654149, 0.17962878, 0.16403455, 0.14967925, 0.13651442]),\n",
       " array([0.31081698, 0.28654981, 0.26390464, 0.24282884, 0.2232295 ,\n",
       "        0.2051226 , 0.18841242, 0.17300153, 0.15883007, 0.14577026]),\n",
       " array([0.31923948, 0.29552581, 0.27331278, 0.252551  , 0.23319221,\n",
       "        0.21523173, 0.1986546 , 0.18330619, 0.16909915, 0.15599618]),\n",
       " array([0.32618806, 0.30284705, 0.28098507, 0.26051806, 0.24152635,\n",
       "        0.22384536, 0.20741674, 0.19219645, 0.17809444, 0.16505474])]"
      ]
     },
     "execution_count": 94,
     "metadata": {},
     "output_type": "execute_result"
    }
   ],
   "source": [
    "slv_sim"
   ]
  },
  {
   "cell_type": "code",
   "execution_count": 95,
   "metadata": {},
   "outputs": [
    {
     "data": {
      "text/plain": [
       "[array([0.2090285 , 0.17026637, 0.13430672, 0.10204707, 0.07435474,\n",
       "        0.05184616, 0.03465636, 0.02234352, 0.01402364, 0.00865698]),\n",
       " array([0.2242402 , 0.18976999, 0.15812609, 0.12964499, 0.10456   ,\n",
       "        0.08296941, 0.06482173, 0.04992279, 0.03796346, 0.02856077]),\n",
       " array([0.23874645, 0.2069625 , 0.17777479, 0.15131604, 0.12764696,\n",
       "        0.10675381, 0.08855217, 0.07289646, 0.05959329, 0.04841695]),\n",
       " array([0.25213827, 0.22224103, 0.19471996, 0.16961764, 0.14692799,\n",
       "        0.12659956, 0.10854119, 0.09262929, 0.07871589, 0.06663681]),\n",
       " array([0.26452668, 0.23606314, 0.20979086, 0.18570647, 0.16377286,\n",
       "        0.14392352, 0.1260675 , 0.11009487, 0.09588204, 0.08329682]),\n",
       " array([0.2760622 , 0.24874771, 0.22347088, 0.20020263, 0.17889   ,\n",
       "        0.15946017, 0.14182461, 0.12588315, 0.11152772, 0.09864574]),\n",
       " array([0.28687481, 0.26051654, 0.23606705, 0.21348201, 0.19269993,\n",
       "        0.17364566, 0.15623377, 0.14037158, 0.12596198, 0.11290576]),\n",
       " array([0.29706924, 0.27152902, 0.24778793, 0.22579227, 0.20547593,\n",
       "        0.18676337, 0.16957233, 0.15381622, 0.13940617, 0.12625276]),\n",
       " array([0.30672903, 0.28190354, 0.25878264, 0.23730672, 0.21740728,\n",
       "        0.19900942, 0.18203395, 0.16639933, 0.15202321, 0.1388237 ]),\n",
       " array([0.31592128, 0.29173064, 0.26916201, 0.24815213, 0.22863144,\n",
       "        0.21052615, 0.19376   , 0.17825576, 0.16393639, 0.15072601]),\n",
       " array([0.32470053, 0.30108123, 0.27901108, 0.25842458, 0.23925191,\n",
       "        0.22142068, 0.20485738, 0.18948847, 0.17524138, 0.16204518]),\n",
       " array([0.33311164, 0.31001208, 0.28839679, 0.26819892, 0.24934895,\n",
       "        0.23177604, 0.21540916, 0.20017808, 0.18601402, 0.17285022])]"
      ]
     },
     "execution_count": 95,
     "metadata": {},
     "output_type": "execute_result"
    }
   ],
   "source": [
    "price_vec"
   ]
  },
  {
   "cell_type": "code",
   "execution_count": null,
   "metadata": {},
   "outputs": [],
   "source": []
  },
  {
   "cell_type": "code",
   "execution_count": null,
   "metadata": {},
   "outputs": [],
   "source": []
  }
 ],
 "metadata": {
  "@webio": {
   "lastCommId": null,
   "lastKernelId": null
  },
  "kernelspec": {
   "display_name": "Python 3",
   "language": "python",
   "name": "python3"
  },
  "language_info": {
   "codemirror_mode": {
    "name": "ipython",
    "version": 3
   },
   "file_extension": ".py",
   "mimetype": "text/x-python",
   "name": "python",
   "nbconvert_exporter": "python",
   "pygments_lexer": "ipython3",
   "version": "3.7.4"
  }
 },
 "nbformat": 4,
 "nbformat_minor": 2
}
