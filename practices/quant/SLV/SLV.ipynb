{
 "cells": [
  {
   "cell_type": "code",
   "execution_count": 1,
   "metadata": {},
   "outputs": [],
   "source": [
    "import numpy as np\n",
    "from scipy import integrate, interpolate\n",
    "import matplotlib.pyplot as plt"
   ]
  },
  {
   "cell_type": "code",
   "execution_count": 2,
   "metadata": {},
   "outputs": [],
   "source": [
    "# BSM model\n",
    "from scipy import optimize\n",
    "def CND(X):\n",
    " \n",
    "    (a1,a2,a3,a4,a5) = (0.31938153, -0.356563782, 1.781477937, -1.821255978, 1.330274429)\n",
    "    \n",
    "    L = abs(X)\n",
    "    K = 1.0 / (1.0 + 0.2316419 * L)\n",
    "    w = 1.0 - 1.0 / np.sqrt(2*np.pi)*np.exp(-L*L/2.) * (a1*K + a2*K*K + a3*pow(K,3) + a4*pow(K,4) + a5*pow(K,5))\n",
    "    \n",
    "    if X<0:\n",
    "        w = 1.0-w\n",
    " \n",
    "    return w\n",
    "\n",
    "def BlackScholes(v,CallPutFlag = 'c',S = 100.,X = 100.,T = 1.,r = 0.01):\n",
    " \n",
    "    d1 = (np.log(S/X)+(r+v*v/2.)*T)/(v*np.sqrt(T))\n",
    "    d2 = d1-v*np.sqrt(T)\n",
    "    \n",
    "    if CallPutFlag=='c':\n",
    "        return S*CND(d1)-X*np.exp(-r*T)*CND(d2)\n",
    " \n",
    "    else:\n",
    "        return X*np.exp(-r*T)*CND(-d2)-S*CND(-d1)\n",
    "    \n",
    "def calc_impl_vol(price = 5., right = 'c', underlying = 100., strike = 100., time = 1., rf = 0.0):\n",
    "    \n",
    "    def f(x):\n",
    "        out = (BlackScholes(x,CallPutFlag=right,S=underlying,X=strike,T=time,r=rf)-price)**2 \n",
    "        if x < 0.0:\n",
    "            out += 1000.0 * (x)**2\n",
    "        return out\n",
    "  \n",
    "    return optimize.minimize(f,x0=0.5, tol=1e-8, method='Nelder-Mead')\n",
    "\n",
    "def get_aux_params(u, j, theta, kappa, sigma, rho):\n",
    "    alpha = - u**2 /2. - 1j*u/2. + 1j*j*u\n",
    "    beta = kappa - rho*sigma*j - rho*sigma*1j*u\n",
    "    gamma = sigma**2/2\n",
    "    d = np.sqrt(beta**2 - 4.*alpha*gamma)\n",
    "    r_p = (beta + d)/sigma**2\n",
    "    r_n = (beta - d)/sigma**2\n",
    "    g = r_n/r_p\n",
    "    return alpha, beta, gamma, d, r_p, r_n, g\n",
    "\n",
    "def get_C_D(u, j, tau, theta, kappa, sigma, rho):\n",
    "    _, _, _, d, _, r_n, g = get_aux_params(u, j, theta, kappa, sigma, rho)\n",
    "    d_tau = d*tau\n",
    "    C = kappa*(r_n*tau - 2./sigma**2*np.log((1.-g*np.exp(-d_tau))/(1.-g)))\n",
    "    D = r_n*(1.-np.exp(-d_tau))/(1.-g*np.exp(-d_tau))\n",
    "    return C, D\n",
    "\n",
    "def get_integrand(v0, x, u, j, tau, theta, kappa, sigma, rho):\n",
    "    C,D = get_C_D(u, j, tau, theta, kappa, sigma, rho)\n",
    "    return ((np.exp(C*theta + D*v0 + 1j*u*x)) / (1j*u)).real\n",
    "\n",
    "def P(v0, x, j, tau, theta, kappa, sigma, rho):\n",
    "    def wrapper(u):\n",
    "        return get_integrand(v0,x, u, j, tau, theta, kappa, sigma, rho)    \n",
    "    \n",
    "    if tau <= 1e-4:\n",
    "        tau = 1e-4\n",
    "    float_epsilon = np.finfo(float).eps\n",
    "    integral,err =  integrate.quad(wrapper,float_epsilon,4000.0)\n",
    "    return 0.5 + 1./np.pi * integral\n",
    "    \n",
    "def get_call_price(v0, spot, K, tau, theta, kappa, sigma, rho):\n",
    "    # presume zero risk-free\n",
    "    x= np.log(spot/K)\n",
    "    P0 = P(v0, x, 0, tau, theta, kappa, sigma, rho)\n",
    "    P1 = P(v0, x, 1, tau, theta, kappa, sigma, rho)\n",
    "    price = spot * P1 - K * P0\n",
    "    return price\n",
    "\n",
    "def get_CIR_Sample(NoOfPaths,kappa,gamma,vbar,s,t,v_s):\n",
    "    delta = 4.0 *kappa*vbar/gamma/gamma\n",
    "    c= 1.0/(4.0*kappa)*gamma*gamma*(1.0-np.exp(-kappa*(t-s)))\n",
    "    kappaBar = 4.0*kappa*v_s*np.exp(-kappa*(t-s))/(gamma*gamma*(1.0-np.exp(-kappa*(t-s))))\n",
    "    sample = c* np.random.noncentral_chisquare(delta,kappaBar,NoOfPaths)\n",
    "    return sample\n",
    "\n",
    "def getEVBinMethod(S,v,NoOfBins):\n",
    "    if (NoOfBins != 1):\n",
    "        mat  = np.transpose(np.array([S,v]))\n",
    "       \n",
    "        # Sort all the rows according to the first column\n",
    "\n",
    "        val = mat[mat[:,0].argsort()]\n",
    "        \n",
    "        binSize = int((np.size(S)/NoOfBins))\n",
    "         \n",
    "        expectation = np.zeros([np.size(S),2]) # columns of S and v\n",
    "\n",
    "        for i in range(1,binSize-1):\n",
    "            sample = val[(i-1)*binSize:i*binSize,1]\n",
    "            expectation[(i-1)*binSize:i*binSize,0] =val[(i-1)*binSize:i*binSize,0]\n",
    "            expectation[(i-1)*binSize:i*binSize,1] =np.mean(sample)\n",
    "        return expectation"
   ]
  },
  {
   "cell_type": "code",
   "execution_count": 13,
   "metadata": {},
   "outputs": [
    {
     "data": {
      "text/plain": [
       "array([[0.3835077 , 0.37597474, 0.36843168, ..., 0.28056923, 0.28336813,\n",
       "        0.2862582 ],\n",
       "       [0.3737085 , 0.36779662, 0.36195533, ..., 0.28783945, 0.28882492,\n",
       "        0.28998446],\n",
       "       [0.36870131, 0.36403237, 0.35945752, ..., 0.29731701, 0.29734862,\n",
       "        0.29752808],\n",
       "       ...,\n",
       "       [0.3588681 , 0.35840505, 0.35795247, ..., 0.34924474, 0.34897663,\n",
       "        0.3487133 ],\n",
       "       [0.35885735, 0.35840791, 0.35796858, ..., 0.34949959, 0.34923812,\n",
       "        0.34898127],\n",
       "       [0.35884747, 0.35841088, 0.35798404, ..., 0.34974108, 0.34948593,\n",
       "        0.34923525]])"
      ]
     },
     "execution_count": 13,
     "metadata": {},
     "output_type": "execute_result"
    }
   ],
   "source": [
    "# Price surface using Heston model\n",
    "\n",
    "theta = 0.132328; kappa = 10.980797; sigma = 1.7; rho = -0.351560; v0 = 0.065690\n",
    "o_theta,o_kappa,o_sigma,o_rho,o_v0 = theta,kappa,sigma,rho,v0\n",
    "r = 0.0 # always presume zero risk-free interest\n",
    "#spot, K = 659.37, 758.28\n",
    "# spot, K = 659.37, 600.0\n",
    "# spot, K = 1.0, 0.9099595068019473\n",
    "spot = 1.0; K_vec = np.linspace(0.8,1.2,num=30)\n",
    "T_max = 3\n",
    "# T_vec = np.linspace(0.25,T_max,int(((T_max)/0.25)))\n",
    "T_vec = np.linspace(1/12,T_max,int(((T_max)/(1/12))))\n",
    "float_epsilon = np.finfo(float).eps\n",
    "#tau_vec = np.linspace(float_epsilon,0.1,num=100)\n",
    "# tau_vec = np.linspace(float_epsilon,1.,num=13)\n",
    "price_vec = []\n",
    "ivol_vec = []\n",
    "for tau in T_vec:\n",
    "    price_tau=[get_call_price(v0, spot, k, tau, theta, kappa, sigma, rho) for k in K_vec]\n",
    "    price_vec.append(np.array(price_tau))\n",
    "    for (ind_k,k) in enumerate(K_vec):\n",
    "        ivol_vec.append(calc_impl_vol(price = price_tau[ind_k], right = 'c', underlying = 1., strike = k, time = tau, rf = 0.0).x[0])\n",
    "ivol_vec = np.array(ivol_vec).reshape(len(T_vec),-1)\n",
    "ivol_vec"
   ]
  },
  {
   "cell_type": "code",
   "execution_count": 4,
   "metadata": {},
   "outputs": [],
   "source": [
    "dk = K_vec[1] - K_vec[0]\n",
    "dt = T_vec[1] - T_vec[0]\n",
    "si_LV = []\n",
    "for (i_t,tau) in enumerate(T_vec):\n",
    "    lv_k = np.zeros(len(K_vec)) # local vol for each strike \n",
    "    for (i_k,k) in enumerate(K_vec):\n",
    "        # derivatives w.r.t. T\n",
    "        if i_t == 0: # left boundary\n",
    "            v_t = (price_vec[i_t+1][i_k]-price_vec[i_t][i_k])/dt\n",
    "        elif i_t == len(T_vec)-1: # right boundary\n",
    "            v_t = (price_vec[i_t][i_k]-price_vec[i_t-1][i_k])/dt\n",
    "        else:\n",
    "            v_t = (price_vec[i_t+1][i_k]-price_vec[i_t-1][i_k])/(2.0*dt)\n",
    "        \n",
    "        # derivatives w.r.t. K\n",
    "        if i_k == 0: # left boundary\n",
    "            v_k = (price_vec[i_t][i_k+1]-price_vec[i_t][i_k])/dk\n",
    "        elif i_k == len(K_vec)-1: # right boundary\n",
    "            v_k = (price_vec[i_t][i_k]-price_vec[i_t][i_k-1])/dk\n",
    "        else:\n",
    "            v_kk = (price_vec[i_t][i_k+1] - 2.0*price_vec[i_t][i_k] + price_vec[i_t][i_k-1])/(dk**2)\n",
    "            v_k = (price_vec[i_t][i_k+1]-price_vec[i_t][i_k-1])/(2.0*dk)\n",
    "            lv_k[i_k] = np.sqrt((v_t+r*k*v_k)/(0.5*k**2 * v_kk))\n",
    "        \n",
    "    lv_k[0] = lv_k[1] + (lv_k[1] - lv_k[2]) # linear approx\n",
    "    lv_k[len(K_vec)-1] = lv_k[len(K_vec)-2] + (lv_k[len(K_vec)-2] - lv_k[len(K_vec)-3]) #linear approx\n",
    "    si_LV.append(lv_k)\n",
    "\n",
    "si_LV = np.matrix(si_LV)\n",
    "si_lv_func = interpolate.interp2d(K_vec,T_vec,si_LV)"
   ]
  },
  {
   "cell_type": "code",
   "execution_count": 14,
   "metadata": {},
   "outputs": [],
   "source": [
    "# Run simulations to compute bins\n",
    "\n",
    "# Deliberately run wrong params\n",
    "level = 0.7\n",
    "# level = 1.0\n",
    "theta = level*o_theta; kappa = level*o_kappa; sigma = level*o_sigma; rho = level*rho; v0 = level*o_v0\n",
    "\n",
    "np.random.seed(1)\n",
    "T = T_vec[-1]\n",
    "num_steps = int(T*4*3*5) # weekly\n",
    "# num_steps = int(T*4*3*5*5) # daily\n",
    "# num_paths = 7500\n",
    "num_paths = 15000\n",
    "num_paths = 50000\n",
    "res = np.zeros((num_steps, num_paths))\n",
    "dt = T/num_steps\n",
    "t_sim = np.linspace(0.0,T,num_steps+1)\n",
    "\n",
    "correlation = np.matrix([[1, rho],[rho, 1]])\n",
    "L = np.linalg.cholesky(correlation)\n",
    "alpha = kappa*theta\n",
    "beta = kappa\n",
    "s = np.zeros([num_steps+1, num_paths]) # log(S)\n",
    "v = np.zeros([num_steps+1, num_paths])\n",
    "v[0,:] = v0\n",
    "\n",
    "for i in range(num_steps):\n",
    "    # noncentral chisquare processes\n",
    "\n",
    "    # Volatility\n",
    "    dW_indep = np.random.normal(0.0,1.0,(2,num_paths))\n",
    "    dW_indep = (dW_indep-dW_indep.mean(axis=1).reshape(-1,1))/dW_indep.std(axis=1).reshape(-1,1) # normalize\n",
    "    dW = L*dW_indep*np.sqrt(dt) # each row (sA sB vA vB) \n",
    "#     dW   = np.random.multivariate_normal([0,0,0,0], p[\"correlation\"], num_paths).transpose()*np.sqrt(dt)\n",
    "    drift_term = (alpha - beta*v[i,:])*dt\n",
    "    dWv = dW[0,:] # A or B\n",
    "    vol_term = sigma*np.multiply(np.sqrt(v[i,:]),dWv)\n",
    "    vol_term += 0.25*sigma**2.0 * (np.power(dWv,2) - dt) # Milstein term\n",
    "    v[i+1,:] = np.maximum(0.0,v[i,:] + drift_term + vol_term) # truncation\n",
    "    \n",
    "    # Stock price\n",
    "    drift_term = (r-0.5*v[i,:])*dt\n",
    "    dWs = dW[1,:] \n",
    "    vol_term = np.multiply(np.sqrt(v[i,:]), dWs)\n",
    "    s[i+1,:] = s[i,:] + drift_term + vol_term\n",
    "    \n",
    "S = np.exp(s) # stock price"
   ]
  },
  {
   "cell_type": "markdown",
   "metadata": {},
   "source": [
    "# Check simulation result by pricing"
   ]
  },
  {
   "cell_type": "code",
   "execution_count": 15,
   "metadata": {},
   "outputs": [
    {
     "data": {
      "text/plain": [
       "array([[0.30381092, 0.29896481, 0.29364184, ..., 0.2450726 , 0.2480109 ,\n",
       "        0.25114802],\n",
       "       [0.30702705, 0.30173652, 0.29642969, ..., 0.24960442, 0.25208018,\n",
       "        0.25464994],\n",
       "       [0.30614335, 0.30131724, 0.29654409, ..., 0.25487182, 0.25625429,\n",
       "        0.2578505 ],\n",
       "       ...,\n",
       "       [0.30078771, 0.30039684, 0.30000032, ..., 0.29376361, 0.29360565,\n",
       "        0.2934576 ],\n",
       "       [0.30149151, 0.30111172, 0.30072539, ..., 0.2942475 , 0.29408832,\n",
       "        0.29393451],\n",
       "       [0.30209583, 0.30168202, 0.30128122, ..., 0.29481294, 0.29463865,\n",
       "        0.29447461]])"
      ]
     },
     "execution_count": 15,
     "metadata": {},
     "output_type": "execute_result"
    }
   ],
   "source": [
    "mc_call = []\n",
    "ivol_mc = []\n",
    "for (ind, tau) in enumerate(T_vec):\n",
    "    try:\n",
    "        t_ind = np.where(t_sim == tau)[0][0] # index for the same value\n",
    "    except:\n",
    "        t_ind = np.where(t_sim <= tau)[0][-1] # closest index\n",
    "    mc_payoff = np.zeros(len(K_vec)) # slv for each k \n",
    "    for (i_k,k) in enumerate(K_vec):\n",
    "        payoff = S[t_ind] -k\n",
    "        payoff = np.where(payoff < 0.0, 0.0, payoff) # modify payoff\n",
    "        mc_payoff[i_k] = payoff.mean()\n",
    "        ivol_mc.append(calc_impl_vol(price = mc_payoff[i_k], right = 'c', underlying = 1., strike = k, time = tau, rf = 0.0).x[0])\n",
    "    mc_call.append(mc_payoff)\n",
    "ivol_mc = np.array(ivol_mc).reshape(len(T_vec),-1)\n",
    "ivol_mc"
   ]
  },
  {
   "cell_type": "code",
   "execution_count": 16,
   "metadata": {},
   "outputs": [
    {
     "data": {
      "text/plain": [
       "'NoOfBins = 25\\n# NoOfBins = 200\\nexpectations = []\\nfor (ind, tau) in enumerate(t_sim):\\n    f = getEVBinMethod(S[ind],v[ind],NoOfBins)\\n    ind = np.where(f[:,1]==0)[0] # drop empty rows\\n    f = np.delete(f, ind, 0)\\n    func = lambda x: np.interp(x, f[:,0], f[:,1])\\n    expectations.append(func)'"
      ]
     },
     "execution_count": 16,
     "metadata": {},
     "output_type": "execute_result"
    }
   ],
   "source": [
    "\"\"\"NoOfBins = 25\n",
    "# NoOfBins = 200\n",
    "expectations = []\n",
    "for (ind, tau) in enumerate(t_sim):\n",
    "    f = getEVBinMethod(S[ind],v[ind],NoOfBins)\n",
    "    ind = np.where(f[:,1]==0)[0] # drop empty rows\n",
    "    f = np.delete(f, ind, 0)\n",
    "    func = lambda x: np.interp(x, f[:,0], f[:,1])\n",
    "    expectations.append(func)\"\"\""
   ]
  },
  {
   "cell_type": "code",
   "execution_count": 17,
   "metadata": {},
   "outputs": [],
   "source": [
    "NoOfBins = 25\n",
    "# NoOfBins = 200\n",
    "expectations = []\n",
    "for (ind, tau) in enumerate(T_vec):\n",
    "    try:\n",
    "        t_ind = np.where(t_sim == tau)[0][0] # index for the same value\n",
    "    except:\n",
    "        t_ind = np.where(t_sim <= tau)[0][-1] # closest index\n",
    "    f = getEVBinMethod(S[t_ind],v[t_ind],NoOfBins)\n",
    "    ind = np.where(f[:,1]==0)[0] # drop empty rows\n",
    "    f = np.delete(f, ind, 0)\n",
    "    func = lambda x: np.interp(x, f[:,0], f[:,1])\n",
    "    expectations.append(func)"
   ]
  },
  {
   "cell_type": "code",
   "execution_count": 18,
   "metadata": {},
   "outputs": [
    {
     "data": {
      "text/plain": [
       "array([1.15069508, 1.15198575, 1.15327641, 1.15445394, 1.15555065,\n",
       "       1.15664737, 1.15774408, 1.1588408 , 1.15993751, 1.16094963,\n",
       "       1.16189017, 1.16283071, 1.16377125, 1.16471179, 1.16565233,\n",
       "       1.16652941, 1.16734304, 1.16815668, 1.16897031, 1.16978394,\n",
       "       1.17059757, 1.17136349, 1.17207303, 1.17278257, 1.1734921 ,\n",
       "       1.17420164, 1.17491118, 1.17558481, 1.17620817, 1.17683153])"
      ]
     },
     "execution_count": 18,
     "metadata": {},
     "output_type": "execute_result"
    }
   ],
   "source": [
    "si_slv = [] # list of lambda expressions for SLV\n",
    "for (i_t,tau) in enumerate(T_vec):\n",
    "    slv = np.zeros(len(K_vec)) # slv for each k \n",
    "    for (i_k,k) in enumerate(K_vec):\n",
    "        v_expect = expectations[i_t](k)\n",
    "        slv[i_k] = si_LV[i_t, i_k] / np.sqrt(v_expect)\n",
    "    si_slv.append(slv)\n",
    "    \n",
    "si_slv = np.matrix(si_slv)\n",
    "si_slv_func = interpolate.interp2d(K_vec,T_vec,si_slv)\n",
    "si_slv_func(T,K_vec).reshape(-1)"
   ]
  },
  {
   "cell_type": "markdown",
   "metadata": {},
   "source": [
    "# SLV model simulation"
   ]
  },
  {
   "cell_type": "code",
   "execution_count": 29,
   "metadata": {},
   "outputs": [],
   "source": [
    "# Run simulations to compute bins\n",
    "\n",
    "np.random.seed(1)\n",
    "T = T_vec[-1]\n",
    "num_steps = int(T*4*3*5) # weekly\n",
    "# num_steps = int(T*4*3*5*5) # daily\n",
    "# num_paths = 7500\n",
    "num_paths = 15000\n",
    "num_paths = 50000\n",
    "res = np.zeros((num_steps, num_paths))\n",
    "dt = T/num_steps\n",
    "t_sim = np.linspace(0.0,T,num_steps+1)\n",
    "\n",
    "correlation = np.matrix([[1, rho],[rho, 1]])\n",
    "L = np.linalg.cholesky(correlation)\n",
    "alpha = kappa*theta\n",
    "beta = kappa\n",
    "s = np.zeros([num_steps+1, num_paths]) # log(S)\n",
    "v = np.zeros([num_steps+1, num_paths])\n",
    "v[0,:] = v0\n",
    "\n",
    "for i in range(num_steps):\n",
    "    t = i*dt\n",
    "    # noncentral chisquare processes\n",
    "\n",
    "    # Volatility\n",
    "    dW_indep = np.random.normal(0.0,1.0,(2,num_paths))\n",
    "    dW_indep = (dW_indep-dW_indep.mean(axis=1).reshape(-1,1))/dW_indep.std(axis=1).reshape(-1,1) # normalize\n",
    "    dW = L*dW_indep*np.sqrt(dt) # each row (sA sB vA vB) \n",
    "\n",
    "    # Vol of vol\n",
    "    drift_term = (alpha - beta*v[i,:])*dt\n",
    "    dWv = dW[0,:] # A or B\n",
    "    vol_term = sigma*np.multiply(np.sqrt(v[i,:]),dWv)\n",
    "    vol_term += 0.25*sigma**2.0 * (np.power(dWv,2) - dt) # Milstein term\n",
    "    v[i+1,:] = np.maximum(0.0,v[i,:] + drift_term + vol_term) # truncation\n",
    "    \n",
    "    # Stock price\n",
    "    S_i = np.exp(s[i,:])\n",
    "    slv_i = si_slv_func(t,S_i).reshape(-1)\n",
    "    drift_term = (r-0.5*np.multiply(v[i,:],np.power(slv_i,2)))*dt\n",
    "    dWs = dW[1,:] \n",
    "    vol_term = np.multiply(slv_i, np.multiply(np.sqrt(v[i,:]), dWs))\n",
    "    s[i+1,:] = s[i,:] + drift_term + vol_term\n",
    "    \n",
    "S = np.exp(s) # stock price"
   ]
  },
  {
   "cell_type": "code",
   "execution_count": 30,
   "metadata": {},
   "outputs": [],
   "source": [
    "# Do pricing using the simulation data\n",
    "slv_sim = []\n",
    "ivol_slv = []\n",
    "for (i_t,tau) in enumerate(T_vec):\n",
    "    try:\n",
    "        t_ind = np.where(t_sim == tau)[0][0] # index for the same value\n",
    "    except:\n",
    "        t_ind = np.where(t_sim <= tau)[0][-1] # closest index\n",
    "    slv_payoff = np.zeros(len(K_vec)) # slv for each k \n",
    "    for (i_k,k) in enumerate(K_vec):\n",
    "        payoff = S[t_ind] -k\n",
    "        payoff = np.where(payoff < 0.0, 0.0, payoff) # modify payoff\n",
    "        slv_payoff[i_k] = payoff.mean()\n",
    "        ivol_slv.append(calc_impl_vol(price = slv_payoff[i_k], right = 'c', underlying = 1., strike = k, time = tau, rf = 0.0).x[0])\n",
    "    slv_sim.append(slv_payoff)\n",
    "ivol_slv = np.array(ivol_slv).reshape(len(T_vec),-1)\n"
   ]
  },
  {
   "cell_type": "code",
   "execution_count": 31,
   "metadata": {},
   "outputs": [
    {
     "data": {
      "text/plain": [
       "<matplotlib.legend.Legend at 0x7fd4ea27fb90>"
      ]
     },
     "execution_count": 31,
     "metadata": {},
     "output_type": "execute_result"
    },
    {
     "data": {
      "image/png": "[encoded data removed]",
      "text/plain": [
       "<Figure size 432x288 with 1 Axes>"
      ]
     },
     "metadata": {
      "needs_background": "light"
     },
     "output_type": "display_data"
    }
   ],
   "source": [
    "ind_sel = -1\n",
    "# ind_sel = 4\n",
    "plt.plot(K_vec, ivol_vec[ind_sel],label='Analytic')\n",
    "plt.plot(K_vec, ivol_slv[ind_sel],label='SLV')\n",
    "plt.plot(K_vec, ivol_mc[ind_sel],label='Heston')\n",
    "plt.title(\"Implied Volatility\")\n",
    "plt.xlabel(\"Strike k\")\n",
    "plt.ylabel(\"Ivol\")\n",
    "plt.legend()"
   ]
  },
  {
   "cell_type": "code",
   "execution_count": null,
   "metadata": {},
   "outputs": [],
   "source": []
  }
 ],
 "metadata": {
  "@webio": {
   "lastCommId": null,
   "lastKernelId": null
  },
  "kernelspec": {
   "display_name": "Python 3",
   "language": "python",
   "name": "python3"
  },
  "language_info": {
   "codemirror_mode": {
    "name": "ipython",
    "version": 3
   },
   "file_extension": ".py",
   "mimetype": "text/x-python",
   "name": "python",
   "nbconvert_exporter": "python",
   "pygments_lexer": "ipython3",
   "version": "3.7.4"
  }
 },
 "nbformat": 4,
 "nbformat_minor": 2
}
