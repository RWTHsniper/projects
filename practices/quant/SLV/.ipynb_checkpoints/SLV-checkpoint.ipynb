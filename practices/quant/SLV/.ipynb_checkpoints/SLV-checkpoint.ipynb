{
 "cells": [
  {
   "cell_type": "code",
   "execution_count": 1,
   "metadata": {},
   "outputs": [],
   "source": [
    "import numpy as np\n",
    "from scipy import integrate, interpolate\n",
    "import matplotlib.pyplot as plt"
   ]
  },
  {
   "cell_type": "code",
   "execution_count": 2,
   "metadata": {},
   "outputs": [],
   "source": [
    "def get_aux_params(u, j, theta, kappa, sigma, rho):\n",
    "    alpha = - u**2 /2. - 1j*u/2. + 1j*j*u\n",
    "    beta = kappa - rho*sigma*j - rho*sigma*1j*u\n",
    "    gamma = sigma**2/2\n",
    "    d = np.sqrt(beta**2 - 4.*alpha*gamma)\n",
    "    r_p = (beta + d)/sigma**2\n",
    "    r_n = (beta - d)/sigma**2\n",
    "    g = r_n/r_p\n",
    "    return alpha, beta, gamma, d, r_p, r_n, g\n",
    "\n",
    "def get_C_D(u, j, tau, theta, kappa, sigma, rho):\n",
    "    _, _, _, d, _, r_n, g = get_aux_params(u, j, theta, kappa, sigma, rho)\n",
    "    d_tau = d*tau\n",
    "    C = kappa*(r_n*tau - 2./sigma**2*np.log((1.-g*np.exp(-d_tau))/(1.-g)))\n",
    "    D = r_n*(1.-np.exp(-d_tau))/(1.-g*np.exp(-d_tau))\n",
    "    return C, D\n",
    "\n",
    "def get_integrand(v0, x, u, j, tau, theta, kappa, sigma, rho):\n",
    "    C,D = get_C_D(u, j, tau, theta, kappa, sigma, rho)\n",
    "    return ((np.exp(C*theta + D*v0 + 1j*u*x)) / (1j*u)).real\n",
    "\n",
    "def P(v0, x, j, tau, theta, kappa, sigma, rho):\n",
    "    def wrapper(u):\n",
    "        return get_integrand(v0,x, u, j, tau, theta, kappa, sigma, rho)    \n",
    "    \n",
    "    if tau <= 1e-4:\n",
    "        tau = 1e-4\n",
    "    float_epsilon = np.finfo(float).eps\n",
    "    integral,err =  integrate.quad(wrapper,float_epsilon,4000.0)\n",
    "    return 0.5 + 1./np.pi * integral\n",
    "    \n",
    "def get_call_price(v0, spot, K, tau, theta, kappa, sigma, rho):\n",
    "    # presume zero risk-free\n",
    "    x= np.log(spot/K)\n",
    "    P0 = P(v0, x, 0, tau, theta, kappa, sigma, rho)\n",
    "    P1 = P(v0, x, 1, tau, theta, kappa, sigma, rho)\n",
    "    price = spot * P1 - K * P0\n",
    "    return price\n",
    "\n",
    "def get_CIR_Sample(NoOfPaths,kappa,gamma,vbar,s,t,v_s):\n",
    "    delta = 4.0 *kappa*vbar/gamma/gamma\n",
    "    c= 1.0/(4.0*kappa)*gamma*gamma*(1.0-np.exp(-kappa*(t-s)))\n",
    "    kappaBar = 4.0*kappa*v_s*np.exp(-kappa*(t-s))/(gamma*gamma*(1.0-np.exp(-kappa*(t-s))))\n",
    "    sample = c* np.random.noncentral_chisquare(delta,kappaBar,NoOfPaths)\n",
    "    return sample\n",
    "\n",
    "def getEVBinMethod(S,v,NoOfBins):\n",
    "    if (NoOfBins != 1):\n",
    "        mat  = np.transpose(np.array([S,v]))\n",
    "       \n",
    "        # Sort all the rows according to the first column\n",
    "\n",
    "        val = mat[mat[:,0].argsort()]\n",
    "        \n",
    "        binSize = int((np.size(S)/NoOfBins))\n",
    "         \n",
    "        expectation = np.zeros([np.size(S),2]) # columns of S and v\n",
    "\n",
    "        for i in range(1,binSize-1):\n",
    "            sample = val[(i-1)*binSize:i*binSize,1]\n",
    "            expectation[(i-1)*binSize:i*binSize,0] =val[(i-1)*binSize:i*binSize,0]\n",
    "            expectation[(i-1)*binSize:i*binSize,1] =np.mean(sample)\n",
    "        return expectation"
   ]
  },
  {
   "cell_type": "code",
   "execution_count": 3,
   "metadata": {},
   "outputs": [
    {
     "data": {
      "text/plain": [
       "[array([0.2090285 , 0.17026637, 0.13430672, 0.10204707, 0.07435474,\n",
       "        0.05184616, 0.03465636, 0.02234352, 0.01402364, 0.00865698]),\n",
       " array([0.2242402 , 0.18976999, 0.15812609, 0.12964499, 0.10456   ,\n",
       "        0.08296941, 0.06482173, 0.04992279, 0.03796346, 0.02856077]),\n",
       " array([0.23874645, 0.2069625 , 0.17777479, 0.15131604, 0.12764696,\n",
       "        0.10675381, 0.08855217, 0.07289646, 0.05959329, 0.04841695]),\n",
       " array([0.25213827, 0.22224103, 0.19471996, 0.16961764, 0.14692799,\n",
       "        0.12659956, 0.10854119, 0.09262929, 0.07871589, 0.06663681]),\n",
       " array([0.26452668, 0.23606314, 0.20979086, 0.18570647, 0.16377286,\n",
       "        0.14392352, 0.1260675 , 0.11009487, 0.09588204, 0.08329682]),\n",
       " array([0.2760622 , 0.24874771, 0.22347088, 0.20020263, 0.17889   ,\n",
       "        0.15946017, 0.14182461, 0.12588315, 0.11152772, 0.09864574]),\n",
       " array([0.28687481, 0.26051654, 0.23606705, 0.21348201, 0.19269993,\n",
       "        0.17364566, 0.15623377, 0.14037158, 0.12596198, 0.11290576]),\n",
       " array([0.29706924, 0.27152902, 0.24778793, 0.22579227, 0.20547593,\n",
       "        0.18676337, 0.16957233, 0.15381622, 0.13940617, 0.12625276]),\n",
       " array([0.30672903, 0.28190354, 0.25878264, 0.23730672, 0.21740728,\n",
       "        0.19900942, 0.18203395, 0.16639933, 0.15202321, 0.1388237 ]),\n",
       " array([0.31592128, 0.29173064, 0.26916201, 0.24815213, 0.22863144,\n",
       "        0.21052615, 0.19376   , 0.17825576, 0.16393639, 0.15072601]),\n",
       " array([0.32470053, 0.30108123, 0.27901108, 0.25842458, 0.23925191,\n",
       "        0.22142068, 0.20485738, 0.18948847, 0.17524138, 0.16204518]),\n",
       " array([0.33311164, 0.31001208, 0.28839679, 0.26819892, 0.24934895,\n",
       "        0.23177604, 0.21540916, 0.20017808, 0.18601402, 0.17285022])]"
      ]
     },
     "execution_count": 3,
     "metadata": {},
     "output_type": "execute_result"
    }
   ],
   "source": [
    "# Price surface using Heston model\n",
    "\n",
    "theta = 0.132328; kappa = 10.980797; sigma = 1.7; rho = -0.351560; v0 = 0.065690\n",
    "r = 0.0 # always presume zero risk-free interest\n",
    "#spot, K = 659.37, 758.28\n",
    "# spot, K = 659.37, 600.0\n",
    "# spot, K = 1.0, 0.9099595068019473\n",
    "spot = 1.0; K_vec = np.linspace(0.8,1.2,num=10)\n",
    "T_max = 3\n",
    "T_vec = np.linspace(0.25,T_max,int(((T_max)/0.25)))\n",
    "float_epsilon = np.finfo(float).eps\n",
    "#tau_vec = np.linspace(float_epsilon,0.1,num=100)\n",
    "# tau_vec = np.linspace(float_epsilon,1.,num=13)\n",
    "price_vec = []\n",
    "for tau in T_vec:\n",
    "    price_tau=[get_call_price(v0, spot, k, tau, theta, kappa, sigma, rho) for k in K_vec]\n",
    "    price_vec.append(np.array(price_tau))\n",
    "price_vec"
   ]
  },
  {
   "cell_type": "code",
   "execution_count": 50,
   "metadata": {},
   "outputs": [],
   "source": [
    "dk = K_vec[1] - K_vec[0]\n",
    "dt = T_vec[1] - T_vec[0]\n",
    "si_LV = []\n",
    "for (i_t,tau) in enumerate(T_vec):\n",
    "    lv_k = np.zeros(len(K_vec)) # local vol for each strike \n",
    "    for (i_k,k) in enumerate(K_vec):\n",
    "        # derivatives w.r.t. T\n",
    "        if i_t == 0: # left boundary\n",
    "            v_t = (price_vec[i_t+1][i_k]-price_vec[i_t][i_k])/dt\n",
    "        elif i_t == len(T_vec)-1: # right boundary\n",
    "            v_t = (price_vec[i_t][i_k]-price_vec[i_t-1][i_k])/dt\n",
    "        else:\n",
    "            v_t = (price_vec[i_t+1][i_k]-price_vec[i_t-1][i_k])/(2.0*dt)\n",
    "        \n",
    "        # derivatives w.r.t. K\n",
    "        if i_k == 0: # left boundary\n",
    "            v_k = (price_vec[i_t][i_k+1]-price_vec[i_t][i_k])/dk\n",
    "#             v_kk = (price_vec[i_t][i_k+2] - 2.0*price_vec[i_t][i_k+1] + price_vec[i_t][i_k])/(dk**2)\n",
    "        elif i_k == len(K_vec)-1: # right boundary\n",
    "            v_k = (price_vec[i_t][i_k]-price_vec[i_t][i_k-1])/dk\n",
    "#             v_kk = (price_vec[i_t][i_k] - 2.0*price_vec[i_t][i_k-1] + price_vec[i_t][i_k-2])/(dk**2)\n",
    "        else:\n",
    "            v_kk = (price_vec[i_t][i_k+1] - 2.0*price_vec[i_t][i_k] + price_vec[i_t][i_k-1])/(dk**2)\n",
    "            v_k = (price_vec[i_t][i_k+1]-price_vec[i_t][i_k-1])/(2.0*dk)\n",
    "            lv_k[i_k] = np.sqrt((v_t+r*k*v_k)/(0.5*k**2 * v_kk))\n",
    "\n",
    "        \n",
    "#         lv_k[i_k] = np.sqrt((v_t+r*k*v_k)/(0.5*k**2 * v_kk))\n",
    "    lv_k[0] = lv_k[1]\n",
    "    lv_k[len(K_vec)-1]= lv_k[len(K_vec)-2]\n",
    "    si_LV.append(lv_k)\n",
    "\n",
    "si_LV = np.matrix(si_LV)\n",
    "si_lv_func = interpolate.interp2d(K_vec,T_vec,si_LV)"
   ]
  },
  {
   "cell_type": "code",
   "execution_count": null,
   "metadata": {},
   "outputs": [],
   "source": []
  },
  {
   "cell_type": "code",
   "execution_count": 30,
   "metadata": {},
   "outputs": [],
   "source": [
    "# Run simulations to compute bins\n",
    "\n",
    "np.random.seed(1)\n",
    "T = T_vec[-1]\n",
    "num_steps = int(T*4*3*5) # weekly\n",
    "# num_paths = 7500\n",
    "num_paths = 15000\n",
    "num_paths = 30000\n",
    "res = np.zeros((num_steps, num_paths))\n",
    "dt = T/num_steps\n",
    "t_sim = np.linspace(0.0,T,num_steps+1)\n",
    "\n",
    "correlation = np.matrix([[1, rho],[rho, 1]])\n",
    "L = np.linalg.cholesky(correlation)\n",
    "alpha = kappa*theta\n",
    "beta = kappa\n",
    "s = np.zeros([num_steps+1, num_paths]) # log(S)\n",
    "v = np.zeros([num_steps+1, num_paths])\n",
    "v[0,:] = v0\n",
    "\n",
    "for i in range(num_steps):\n",
    "    # noncentral chisquare processes\n",
    "\n",
    "    # Volatility\n",
    "    dW_indep = np.random.normal(0.0,1.0,(2,num_paths))\n",
    "    dW_indep = (dW_indep-dW_indep.mean(axis=1).reshape(-1,1))/dW_indep.std(axis=1).reshape(-1,1) # normalize\n",
    "    dW = L*dW_indep*np.sqrt(dt) # each row (sA sB vA vB) \n",
    "#     dW   = np.random.multivariate_normal([0,0,0,0], p[\"correlation\"], num_paths).transpose()*np.sqrt(dt)\n",
    "    drift_term = (alpha - beta*v[i,:])*dt\n",
    "    dWv = dW[0,:] # A or B\n",
    "    vol_term = sigma*np.multiply(np.sqrt(v[i,:]),dWv)\n",
    "    vol_term += 0.25*sigma**2.0 * (np.power(dWv,2) - dt) # Milstein term\n",
    "    v[i+1,:] = np.maximum(0.0,v[i,:] + drift_term + vol_term) # truncation\n",
    "    \n",
    "    # Stock price\n",
    "    drift_term = (r-0.5*v[i,:])*dt\n",
    "    dWs = dW[1,:] \n",
    "    vol_term = np.multiply(np.sqrt(v[i,:]), dWs)\n",
    "    s[i+1,:] = s[i,:] + drift_term + vol_term\n",
    "    \n",
    "S = np.exp(s) # stock price"
   ]
  },
  {
   "cell_type": "markdown",
   "metadata": {},
   "source": [
    "# Check simulation result by pricing"
   ]
  },
  {
   "cell_type": "code",
   "execution_count": 31,
   "metadata": {},
   "outputs": [],
   "source": [
    "mc_call = []\n",
    "for (ind, _) in enumerate(T_vec):\n",
    "    t_ind = np.where(t_sim == T_vec[ind])[0][0]\n",
    "    mc_payoff = np.zeros(len(K_vec)) # slv for each k \n",
    "    for (i_k,k) in enumerate(K_vec):\n",
    "        payoff = S[t_ind] -k\n",
    "        payoff = np.where(payoff < 0.0, 0.0, payoff) # modify payoff\n",
    "        mc_payoff[i_k] = payoff.mean()\n",
    "    mc_call.append(mc_payoff)"
   ]
  },
  {
   "cell_type": "code",
   "execution_count": 32,
   "metadata": {},
   "outputs": [
    {
     "data": {
      "text/plain": [
       "[array([0.20868024, 0.16980463, 0.13380808, 0.10159713, 0.07402593,\n",
       "        0.05168998, 0.03461536, 0.02236521, 0.01400084, 0.00856284]),\n",
       " array([0.2241338 , 0.18962623, 0.15794059, 0.12950392, 0.10452265,\n",
       "        0.08311837, 0.06517675, 0.05044401, 0.03870831, 0.02944269]),\n",
       " array([0.24101552, 0.20920283, 0.17990307, 0.15335807, 0.12951178,\n",
       "        0.10846735, 0.09014146, 0.07429188, 0.0609261 , 0.04962924]),\n",
       " array([0.25483058, 0.22474998, 0.19706912, 0.17188229, 0.14907371,\n",
       "        0.1285432 , 0.11026686, 0.09407766, 0.0799336 , 0.06767352]),\n",
       " array([0.26439341, 0.23580351, 0.20942933, 0.18535713, 0.16347072,\n",
       "        0.14369627, 0.12575053, 0.10958181, 0.09522731, 0.08251342]),\n",
       " array([0.276812  , 0.24942941, 0.2240312 , 0.20062459, 0.17912548,\n",
       "        0.15960093, 0.14192202, 0.12592654, 0.11146178, 0.09845181]),\n",
       " array([0.28907728, 0.26268491, 0.23821913, 0.21551799, 0.19458209,\n",
       "        0.17538412, 0.15783258, 0.14185615, 0.12731435, 0.11407535]),\n",
       " array([0.300313  , 0.27464551, 0.25099276, 0.22912341, 0.2088525 ,\n",
       "        0.19007443, 0.17278271, 0.15693159, 0.1424547 , 0.12915904]),\n",
       " array([0.31095301, 0.28613862, 0.26301441, 0.2415137 , 0.22161347,\n",
       "        0.20324864, 0.1862568 , 0.17052407, 0.15601404, 0.14269414]),\n",
       " array([0.31949716, 0.29524428, 0.27259246, 0.25150125, 0.23181764,\n",
       "        0.21353306, 0.19670659, 0.18113119, 0.16677063, 0.15348168]),\n",
       " array([0.32993933, 0.30623387, 0.28402223, 0.2631631 , 0.24370968,\n",
       "        0.22560674, 0.20881516, 0.19328935, 0.17893124, 0.16557679]),\n",
       " array([0.33871006, 0.31536211, 0.2934632 , 0.27293031, 0.25378309,\n",
       "        0.23591271, 0.21929522, 0.20387615, 0.18953073, 0.17622985])]"
      ]
     },
     "execution_count": 32,
     "metadata": {},
     "output_type": "execute_result"
    }
   ],
   "source": [
    "mc_call"
   ]
  },
  {
   "cell_type": "code",
   "execution_count": 77,
   "metadata": {},
   "outputs": [],
   "source": [
    "# NoOfBins = 25\n",
    "NoOfBins = 100\n",
    "expectations = []\n",
    "for (ind, _) in enumerate(T_vec):\n",
    "    t_ind = np.where(t_sim == T_vec[ind])[0][0]\n",
    "    f = getEVBinMethod(S[t_ind],v[t_ind],NoOfBins)\n",
    "    ind = np.where(f[:,1]==0)[0]\n",
    "    f = np.delete(f, ind, 0)\n",
    "    func = lambda x: np.interp(x, f[:,0], f[:,1])\n",
    "    expectations.append(func)"
   ]
  },
  {
   "cell_type": "code",
   "execution_count": 86,
   "metadata": {},
   "outputs": [
    {
     "data": {
      "text/plain": [
       "array([1., 1., 1., 1., 1., 1., 1., 1., 1., 1.])"
      ]
     },
     "execution_count": 86,
     "metadata": {},
     "output_type": "execute_result"
    }
   ],
   "source": [
    "si_slv = [] # list of lambda expressions for SLV\n",
    "for (i_t,tau) in enumerate(T_vec):\n",
    "    slv = np.zeros(len(K_vec)) # slv for each k \n",
    "    for (i_k,k) in enumerate(K_vec):\n",
    "        v_expect = expectations[i_t](k)\n",
    "        slv[i_k] = si_LV[i_t, i_k] / np.sqrt(v_expect)\n",
    "#         slv[i_k] = 1.0 # test \n",
    "\n",
    "#     si_slv.append(lambda x: np.interp(x, K_vec, slv))\n",
    "    si_slv.append(slv)\n",
    "    \n",
    "si_slv = np.matrix(si_slv)\n",
    "si_slv_func = interpolate.interp2d(K_vec,T_vec,si_slv)\n",
    "si_slv_func(T,K_vec).reshape(-1)"
   ]
  },
  {
   "cell_type": "markdown",
   "metadata": {},
   "source": [
    "# SLV model simulation"
   ]
  },
  {
   "cell_type": "code",
   "execution_count": 82,
   "metadata": {},
   "outputs": [],
   "source": [
    "# Run simulations to compute bins\n",
    "\n",
    "np.random.seed(1)\n",
    "T = T_vec[-1]\n",
    "num_steps = int(T*4*3*5) # weekly\n",
    "# num_paths = 7500\n",
    "num_paths = 15000\n",
    "res = np.zeros((num_steps, num_paths))\n",
    "dt = T/num_steps\n",
    "t_sim = np.linspace(0.0,T,num_steps+1)\n",
    "\n",
    "correlation = np.matrix([[1, rho],[rho, 1]])\n",
    "L = np.linalg.cholesky(correlation)\n",
    "alpha = kappa*theta\n",
    "beta = kappa\n",
    "s = np.zeros([num_steps+1, num_paths]) # log(S)\n",
    "v = np.zeros([num_steps+1, num_paths])\n",
    "v[0,:] = v0\n",
    "\n",
    "for i in range(num_steps):\n",
    "    t = i*dt\n",
    "    # noncentral chisquare processes\n",
    "\n",
    "    # Volatility\n",
    "    dW_indep = np.random.normal(0.0,1.0,(2,num_paths))\n",
    "    dW_indep = (dW_indep-dW_indep.mean(axis=1).reshape(-1,1))/dW_indep.std(axis=1).reshape(-1,1) # normalize\n",
    "    dW = L*dW_indep*np.sqrt(dt) # each row (sA sB vA vB) \n",
    "\n",
    "    # Vol of vol\n",
    "    drift_term = (alpha - beta*v[i,:])*dt\n",
    "    dWv = dW[0,:] # A or B\n",
    "    vol_term = sigma*np.multiply(np.sqrt(v[i,:]),dWv)\n",
    "    vol_term += 0.25*sigma**2.0 * (np.power(dWv,2) - dt) # Milstein term\n",
    "    v[i+1,:] = np.maximum(0.0,v[i,:] + drift_term + vol_term) # truncation\n",
    "    \n",
    "    # Stock price\n",
    "    drift_term = (r-0.5*v[i,:])*dt\n",
    "    dWs = dW[1,:] \n",
    "    S_i = np.exp(s[i,:])\n",
    "    slv_i = si_slv_func(t,S_i).reshape(-1)\n",
    "    vol_term = np.multiply(slv_i, np.multiply(np.sqrt(v[i,:]), dWs))\n",
    "    s[i+1,:] = s[i,:] + drift_term + vol_term\n",
    "    \n",
    "S = np.exp(s) # stock price"
   ]
  },
  {
   "cell_type": "code",
   "execution_count": 83,
   "metadata": {},
   "outputs": [],
   "source": [
    "# Do pricing using the simulation data\n",
    "slv_sim = []\n",
    "for (i_t,tau) in enumerate(T_vec):\n",
    "    t_ind = np.where(t_sim == T_vec[i_t])[0][0]\n",
    "    slv_payoff = np.zeros(len(K_vec)) # slv for each k \n",
    "    for (i_k,k) in enumerate(K_vec):\n",
    "        payoff = S[t_ind] -k\n",
    "        payoff = np.where(payoff < 0.0, 0.0, payoff) # modify payoff\n",
    "        slv_payoff[i_k] = payoff.mean()\n",
    "    slv_sim.append(slv_payoff)"
   ]
  },
  {
   "cell_type": "code",
   "execution_count": 84,
   "metadata": {},
   "outputs": [
    {
     "data": {
      "text/plain": [
       "[array([0.20868024, 0.16980463, 0.13380808, 0.10159713, 0.07402593,\n",
       "        0.05168998, 0.03461536, 0.02236521, 0.01400084, 0.00856284]),\n",
       " array([0.2241338 , 0.18962623, 0.15794059, 0.12950392, 0.10452265,\n",
       "        0.08311837, 0.06517675, 0.05044401, 0.03870831, 0.02944269]),\n",
       " array([0.24101552, 0.20920283, 0.17990307, 0.15335807, 0.12951178,\n",
       "        0.10846735, 0.09014146, 0.07429188, 0.0609261 , 0.04962924]),\n",
       " array([0.25483058, 0.22474998, 0.19706912, 0.17188229, 0.14907371,\n",
       "        0.1285432 , 0.11026686, 0.09407766, 0.0799336 , 0.06767352]),\n",
       " array([0.26439341, 0.23580351, 0.20942933, 0.18535713, 0.16347072,\n",
       "        0.14369627, 0.12575053, 0.10958181, 0.09522731, 0.08251342]),\n",
       " array([0.276812  , 0.24942941, 0.2240312 , 0.20062459, 0.17912548,\n",
       "        0.15960093, 0.14192202, 0.12592654, 0.11146178, 0.09845181]),\n",
       " array([0.28907728, 0.26268491, 0.23821913, 0.21551799, 0.19458209,\n",
       "        0.17538412, 0.15783258, 0.14185615, 0.12731435, 0.11407535]),\n",
       " array([0.300313  , 0.27464551, 0.25099276, 0.22912341, 0.2088525 ,\n",
       "        0.19007443, 0.17278271, 0.15693159, 0.1424547 , 0.12915904]),\n",
       " array([0.31095301, 0.28613862, 0.26301441, 0.2415137 , 0.22161347,\n",
       "        0.20324864, 0.1862568 , 0.17052407, 0.15601404, 0.14269414]),\n",
       " array([0.31949716, 0.29524428, 0.27259246, 0.25150125, 0.23181764,\n",
       "        0.21353306, 0.19670659, 0.18113119, 0.16677063, 0.15348168]),\n",
       " array([0.32993933, 0.30623387, 0.28402223, 0.2631631 , 0.24370968,\n",
       "        0.22560674, 0.20881516, 0.19328935, 0.17893124, 0.16557679]),\n",
       " array([0.33871006, 0.31536211, 0.2934632 , 0.27293031, 0.25378309,\n",
       "        0.23591271, 0.21929522, 0.20387615, 0.18953073, 0.17622985])]"
      ]
     },
     "execution_count": 84,
     "metadata": {},
     "output_type": "execute_result"
    }
   ],
   "source": [
    "slv_sim"
   ]
  },
  {
   "cell_type": "code",
   "execution_count": 85,
   "metadata": {},
   "outputs": [
    {
     "data": {
      "text/plain": [
       "[array([0.2090285 , 0.17026637, 0.13430672, 0.10204707, 0.07435474,\n",
       "        0.05184616, 0.03465636, 0.02234352, 0.01402364, 0.00865698]),\n",
       " array([0.2242402 , 0.18976999, 0.15812609, 0.12964499, 0.10456   ,\n",
       "        0.08296941, 0.06482173, 0.04992279, 0.03796346, 0.02856077]),\n",
       " array([0.23874645, 0.2069625 , 0.17777479, 0.15131604, 0.12764696,\n",
       "        0.10675381, 0.08855217, 0.07289646, 0.05959329, 0.04841695]),\n",
       " array([0.25213827, 0.22224103, 0.19471996, 0.16961764, 0.14692799,\n",
       "        0.12659956, 0.10854119, 0.09262929, 0.07871589, 0.06663681]),\n",
       " array([0.26452668, 0.23606314, 0.20979086, 0.18570647, 0.16377286,\n",
       "        0.14392352, 0.1260675 , 0.11009487, 0.09588204, 0.08329682]),\n",
       " array([0.2760622 , 0.24874771, 0.22347088, 0.20020263, 0.17889   ,\n",
       "        0.15946017, 0.14182461, 0.12588315, 0.11152772, 0.09864574]),\n",
       " array([0.28687481, 0.26051654, 0.23606705, 0.21348201, 0.19269993,\n",
       "        0.17364566, 0.15623377, 0.14037158, 0.12596198, 0.11290576]),\n",
       " array([0.29706924, 0.27152902, 0.24778793, 0.22579227, 0.20547593,\n",
       "        0.18676337, 0.16957233, 0.15381622, 0.13940617, 0.12625276]),\n",
       " array([0.30672903, 0.28190354, 0.25878264, 0.23730672, 0.21740728,\n",
       "        0.19900942, 0.18203395, 0.16639933, 0.15202321, 0.1388237 ]),\n",
       " array([0.31592128, 0.29173064, 0.26916201, 0.24815213, 0.22863144,\n",
       "        0.21052615, 0.19376   , 0.17825576, 0.16393639, 0.15072601]),\n",
       " array([0.32470053, 0.30108123, 0.27901108, 0.25842458, 0.23925191,\n",
       "        0.22142068, 0.20485738, 0.18948847, 0.17524138, 0.16204518]),\n",
       " array([0.33311164, 0.31001208, 0.28839679, 0.26819892, 0.24934895,\n",
       "        0.23177604, 0.21540916, 0.20017808, 0.18601402, 0.17285022])]"
      ]
     },
     "execution_count": 85,
     "metadata": {},
     "output_type": "execute_result"
    }
   ],
   "source": [
    "price_vec"
   ]
  },
  {
   "cell_type": "code",
   "execution_count": null,
   "metadata": {},
   "outputs": [],
   "source": []
  },
  {
   "cell_type": "code",
   "execution_count": null,
   "metadata": {},
   "outputs": [],
   "source": []
  }
 ],
 "metadata": {
  "@webio": {
   "lastCommId": null,
   "lastKernelId": null
  },
  "kernelspec": {
   "display_name": "Python 3",
   "language": "python",
   "name": "python3"
  },
  "language_info": {
   "codemirror_mode": {
    "name": "ipython",
    "version": 3
   },
   "file_extension": ".py",
   "mimetype": "text/x-python",
   "name": "python",
   "nbconvert_exporter": "python",
   "pygments_lexer": "ipython3",
   "version": "3.7.4"
  }
 },
 "nbformat": 4,
 "nbformat_minor": 2
}
