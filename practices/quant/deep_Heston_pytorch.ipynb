{
 "cells": [
  {
   "cell_type": "code",
   "execution_count": 1,
   "metadata": {},
   "outputs": [],
   "source": [
    "import numpy as np\n",
    "import pandas as pd\n",
    "import matplotlib.pyplot as plt\n",
    "from sklearn.model_selection import train_test_split\n",
    "from sklearn import preprocessing\n",
    "import copy\n",
    "\n",
    "import torch\n",
    "import torch.nn as nn\n",
    "import torch.nn.functional as F\n",
    "import torch.optim as optim"
   ]
  },
  {
   "cell_type": "code",
   "execution_count": 2,
   "metadata": {},
   "outputs": [],
   "source": [
    "table = pd.read_csv('Heston_data_input')\n",
    "X = table.drop(['C_price','delta'], axis=1)\n",
    "y = table[['C_price']]\n",
    "#X = df[['k','T','C_price']]\n",
    "#y = df[['v0','rho','kappa','theta','sigma']]"
   ]
  },
  {
   "cell_type": "code",
   "execution_count": 3,
   "metadata": {},
   "outputs": [
    {
     "data": {
      "text/plain": [
       "count    63.000000\n",
       "mean      0.285844\n",
       "std       0.134396\n",
       "min       0.005952\n",
       "25%       0.251236\n",
       "50%       0.289855\n",
       "75%       0.381712\n",
       "max       0.452502\n",
       "Name: C_price, dtype: float64"
      ]
     },
     "execution_count": 3,
     "metadata": {},
     "output_type": "execute_result"
    }
   ],
   "source": [
    "table['C_price'].describe()"
   ]
  },
  {
   "cell_type": "code",
   "execution_count": 4,
   "metadata": {},
   "outputs": [],
   "source": [
    "X_train, X_test, y_train, y_test = train_test_split(\n",
    "...     X, y, test_size=0.2, random_state=42)\n",
    "input_scaler = preprocessing.MinMaxScaler()\n",
    "output_scaler = preprocessing.MinMaxScaler()\n",
    "X_train_scaled = input_scaler.fit_transform(X_train)\n",
    "#y_train_scaled = output_scaler.fit_transform(y_train)\n",
    "#y_train_scaled = y_train # no scaling\n",
    "#X_train_scaled = X_train_scaled.reshape(X_train_scaled.shape[0],X_train_scaled.shape[1],1) # for lstm\n",
    "X_test_scaled = input_scaler.transform(X_test)\n",
    "#y_test_scaled = y_test # no scaling\n",
    "\n",
    "X_train_scaled = torch.FloatTensor(X_train_scaled)\n",
    "X_test_scaled = torch.FloatTensor(X_test_scaled)\n",
    "y_train = torch.FloatTensor(y_train.values)\n",
    "y_test = torch.FloatTensor(y_test.values)"
   ]
  },
  {
   "cell_type": "code",
   "execution_count": 44,
   "metadata": {},
   "outputs": [],
   "source": [
    "\n",
    "num_neurons = 128\n",
    "\n",
    "\n",
    "class Net(nn.Module):\n",
    "\n",
    "    def __init__(self,num_input=7):\n",
    "        super(Net, self).__init__()\n",
    "        self.fc1 = nn.Linear(num_input, num_neurons) \n",
    "        self.fc2 = nn.Linear(num_neurons, num_neurons)\n",
    "        self.fc3 = nn.Linear(num_neurons, num_neurons)\n",
    "#        self.fc4 = nn.Linear(num_neurons, num_neurons)\n",
    "#        self.fc5 = nn.Linear(num_neurons, num_neurons)\n",
    "#        self.fc6 = nn.Linear(num_neurons, num_neurons)\n",
    "        self.fc7 = nn.Linear(num_neurons, 1)\n",
    "\n",
    "    def forward(self, x):\n",
    "        # Max pooling over a (2, 2) window\n",
    "        x = F.relu(self.fc1(x))\n",
    "        x = F.relu(self.fc2(x))\n",
    "        x = F.relu(self.fc3(x))\n",
    "#        x = F.relu(self.fc4(x))\n",
    "#        x = F.relu(self.fc5(x))\n",
    "#        x = F.relu(self.fc6(x))\n",
    "        x = F.relu(self.fc7(x))\n",
    "        return x\n",
    "\n",
    "def weights_init(m,init_type='normal'):\n",
    "    if isinstance(m, nn.Linear):\n",
    "        torch.nn.init.xavier_uniform_(m.weight)\n",
    "#        torch.nn.init.normal_(m.weight)\n",
    "#        xavier(m.weight.data)\n",
    "#        xavier(m.bias.data)\n"
   ]
  },
  {
   "cell_type": "code",
   "execution_count": 45,
   "metadata": {},
   "outputs": [
    {
     "name": "stdout",
     "output_type": "stream",
     "text": [
      "Net(\n",
      "  (fc1): Linear(in_features=7, out_features=128, bias=True)\n",
      "  (fc2): Linear(in_features=128, out_features=128, bias=True)\n",
      "  (fc3): Linear(in_features=128, out_features=128, bias=True)\n",
      "  (fc7): Linear(in_features=128, out_features=1, bias=True)\n",
      ")\n"
     ]
    }
   ],
   "source": [
    "model = Net()\n",
    "model.apply(weights_init)\n",
    "        \n",
    "print(model)"
   ]
  },
  {
   "cell_type": "markdown",
   "metadata": {},
   "source": [
    "# Training"
   ]
  },
  {
   "cell_type": "code",
   "execution_count": 46,
   "metadata": {},
   "outputs": [
    {
     "name": "stdout",
     "output_type": "stream",
     "text": [
      "Epoch: 0 Loss: 0.10582204163074493\n",
      "Epoch: 500 Loss: 0.10574944317340851\n",
      "Epoch: 1000 Loss: 0.10567964613437653\n",
      "Epoch: 1500 Loss: 0.10561220347881317\n",
      "Epoch: 2000 Loss: 0.10554678738117218\n",
      "Epoch: 2500 Loss: 0.10548318177461624\n",
      "Epoch: 3000 Loss: 0.10542119294404984\n",
      "Epoch: 3500 Loss: 0.10536069422960281\n",
      "Epoch: 4000 Loss: 0.1053016260266304\n",
      "Epoch: 4500 Loss: 0.10524392873048782\n",
      "Epoch: 5000 Loss: 0.1051875576376915\n",
      "Epoch: 5500 Loss: 0.10513252764940262\n",
      "Epoch: 6000 Loss: 0.105078786611557\n",
      "Epoch: 6500 Loss: 0.10502637922763824\n",
      "Epoch: 7000 Loss: 0.10497531294822693\n",
      "Epoch: 7500 Loss: 0.10492558777332306\n",
      "Epoch: 8000 Loss: 0.10487724840641022\n",
      "Epoch: 8500 Loss: 0.10483035445213318\n",
      "Epoch: 9000 Loss: 0.10478486865758896\n",
      "Epoch: 9500 Loss: 0.10474087297916412\n",
      "Epoch: 10000 Loss: 0.10469843447208405\n",
      "Epoch: 10500 Loss: 0.1046580821275711\n",
      "Epoch: 11000 Loss: 0.10461954772472382\n",
      "Epoch: 11500 Loss: 0.10458248853683472\n",
      "Epoch: 12000 Loss: 0.10454699397087097\n",
      "Epoch: 12500 Loss: 0.10451310127973557\n",
      "Epoch: 13000 Loss: 0.10448087751865387\n",
      "Epoch: 13500 Loss: 0.10445034503936768\n",
      "Epoch: 14000 Loss: 0.10442160815000534\n",
      "Epoch: 14500 Loss: 0.10439467430114746\n",
      "Epoch: 15000 Loss: 0.1043696328997612\n",
      "Epoch: 15500 Loss: 0.10434655845165253\n",
      "Epoch: 16000 Loss: 0.10432545840740204\n",
      "Epoch: 16500 Loss: 0.10430643707513809\n",
      "Epoch: 17000 Loss: 0.10428951680660248\n",
      "Epoch: 17500 Loss: 0.0638049989938736\n",
      "Epoch: 18000 Loss: 0.012517686933279037\n",
      "Epoch: 18500 Loss: 0.006882471963763237\n",
      "Epoch: 19000 Loss: 0.00245862640440464\n",
      "Epoch: 19500 Loss: 0.0009585361694917083\n",
      "Epoch: 20000 Loss: 0.0005730577395297587\n",
      "Epoch: 20500 Loss: 0.00046197371557354927\n",
      "Epoch: 21000 Loss: 0.000416250346461311\n",
      "Epoch: 21500 Loss: 0.00038727381615899503\n",
      "Epoch: 22000 Loss: 0.0003645246324595064\n",
      "Epoch: 22500 Loss: 0.000342536746757105\n",
      "Epoch: 23000 Loss: 0.00032703453325666487\n",
      "Epoch: 23500 Loss: 0.00030937339761294425\n",
      "Epoch: 24000 Loss: 0.00029731536051258445\n",
      "Epoch: 24500 Loss: 0.0002874766360037029\n",
      "Epoch: 25000 Loss: 0.0002789726422633976\n",
      "Epoch: 25500 Loss: 0.000271206081379205\n",
      "Epoch: 26000 Loss: 0.000264385569607839\n",
      "Epoch: 26500 Loss: 0.0002586041227914393\n",
      "Epoch: 27000 Loss: 0.00025358900893479586\n",
      "Epoch: 27500 Loss: 0.00024887191830202937\n",
      "Epoch: 28000 Loss: 0.0002443678677082062\n",
      "Epoch: 28500 Loss: 0.00024016051611397415\n",
      "Epoch: 29000 Loss: 0.0002362881787121296\n",
      "Epoch: 29500 Loss: 0.00023271996178664267\n",
      "Epoch: 30000 Loss: 0.00022942609211895615\n"
     ]
    }
   ],
   "source": [
    "epochs = 30001\n",
    "loss_arr = []\n",
    "optimizer = optim.Adam(model.parameters(), lr=1e-5, weight_decay=1e-3)\n",
    "l2_lambda = 1e-5\n",
    "criterion = nn.MSELoss()\n",
    "\n",
    "\n",
    "for i in range(epochs):\n",
    "    y_hat = model.forward(X_train_scaled)\n",
    "    loss = criterion(y_hat, y_train)\n",
    "    l2_reg = torch.tensor(0.)\n",
    "    for param in model.parameters():\n",
    "        l2_reg += torch.norm(param)\n",
    "        loss += l2_lambda * l2_reg\n",
    "    loss_arr.append(loss)\n",
    "    \n",
    " \n",
    "    if i % 500 == 0:\n",
    "        print(f'Epoch: {i} Loss: {loss}')\n",
    " \n",
    "    optimizer.zero_grad()\n",
    "    loss.backward()\n",
    "    optimizer.step()"
   ]
  },
  {
   "cell_type": "code",
   "execution_count": 47,
   "metadata": {},
   "outputs": [
    {
     "data": {
      "image/png": "[encoded data removed]",
      "text/plain": [
       "<Figure size 432x288 with 1 Axes>"
      ]
     },
     "metadata": {
      "needs_background": "light"
     },
     "output_type": "display_data"
    }
   ],
   "source": [
    "plt.plot(loss_arr)\n",
    "plt.yscale('log')"
   ]
  },
  {
   "cell_type": "code",
   "execution_count": 63,
   "metadata": {},
   "outputs": [],
   "source": [
    "inp = copy.deepcopy(X_train_scaled[0])\n",
    "inp.requires_grad = True"
   ]
  },
  {
   "cell_type": "code",
   "execution_count": 66,
   "metadata": {},
   "outputs": [],
   "source": [
    "out=model.forward(inp)"
   ]
  },
  {
   "cell_type": "code",
   "execution_count": 68,
   "metadata": {},
   "outputs": [],
   "source": [
    "out.backward()"
   ]
  },
  {
   "cell_type": "code",
   "execution_count": 113,
   "metadata": {},
   "outputs": [
    {
     "data": {
      "text/plain": [
       "tensor([-1.6345e-01,  3.7201e-21,  7.4784e-02, -1.2617e-03, -2.1014e-01,\n",
       "         9.2801e-04, -2.1151e-01])"
      ]
     },
     "execution_count": 113,
     "metadata": {},
     "output_type": "execute_result"
    }
   ],
   "source": [
    "inp.grad"
   ]
  },
  {
   "cell_type": "code",
   "execution_count": 95,
   "metadata": {},
   "outputs": [],
   "source": [
    "inp1 = copy.deepcopy(X_train_scaled[0])\n",
    "dx = 1e-4\n",
    "inp1[0] = torch.add(inp1[0],dx)"
   ]
  },
  {
   "cell_type": "code",
   "execution_count": 108,
   "metadata": {},
   "outputs": [
    {
     "name": "stdout",
     "output_type": "stream",
     "text": [
      "tensor([-1.6361e-05], grad_fn=<SubBackward0>)\n"
     ]
    }
   ],
   "source": [
    "out1= model.forward(inp1)\n",
    "dy = out1 - out\n",
    "print(dy)"
   ]
  },
  {
   "cell_type": "code",
   "execution_count": 110,
   "metadata": {},
   "outputs": [],
   "source": [
    "dydx = dy/dx"
   ]
  },
  {
   "cell_type": "code",
   "execution_count": 111,
   "metadata": {},
   "outputs": [
    {
     "data": {
      "text/plain": [
       "tensor([-0.1636], grad_fn=<DivBackward0>)"
      ]
     },
     "execution_count": 111,
     "metadata": {},
     "output_type": "execute_result"
    }
   ],
   "source": [
    "dydx"
   ]
  },
  {
   "cell_type": "code",
   "execution_count": null,
   "metadata": {},
   "outputs": [],
   "source": []
  }
 ],
 "metadata": {
  "kernelspec": {
   "display_name": "Python 3",
   "language": "python",
   "name": "python3"
  },
  "language_info": {
   "codemirror_mode": {
    "name": "ipython",
    "version": 3
   },
   "file_extension": ".py",
   "mimetype": "text/x-python",
   "name": "python",
   "nbconvert_exporter": "python",
   "pygments_lexer": "ipython3",
   "version": "3.7.4"
  }
 },
 "nbformat": 4,
 "nbformat_minor": 4
}
