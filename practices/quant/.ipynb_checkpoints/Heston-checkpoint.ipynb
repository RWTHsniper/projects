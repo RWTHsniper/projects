{
 "cells": [
  {
   "cell_type": "code",
   "execution_count": 1,
   "metadata": {},
   "outputs": [],
   "source": [
    "import numpy as np\n",
    "from scipy import integrate\n",
    "import matplotlib.pyplot as plt\n",
    "import QuantLib as ql\n",
    "\n",
    "# https://quant.stackexchange.com/questions/44957/numerical-simulation-of-heston-model"
   ]
  },
  {
   "cell_type": "code",
   "execution_count": 2,
   "metadata": {},
   "outputs": [],
   "source": [
    "theta = 0.132328; kappa = 10.980797; sigma = 1.7; rho = -0.351560; v0 = 0.065690\n",
    "spot, K = 659.37, 758.28"
   ]
  },
  {
   "cell_type": "code",
   "execution_count": 3,
   "metadata": {},
   "outputs": [
    {
     "name": "stdout",
     "output_type": "stream",
     "text": [
      "Feller condition is  True\n"
     ]
    }
   ],
   "source": [
    "feller_cond = 2*kappa*theta > sigma**2\n",
    "print(\"Feller condition is \", feller_cond)"
   ]
  },
  {
   "cell_type": "code",
   "execution_count": 4,
   "metadata": {},
   "outputs": [],
   "source": [
    "def get_aux_params(u, j, theta, kappa, sigma, rho):\n",
    "    alpha = - u**2 /2. - 1j*u/2. + 1j*j*u\n",
    "    beta = kappa - rho*sigma*j - rho*sigma*1j*u\n",
    "    gamma = sigma**2/2\n",
    "    d = np.sqrt(beta**2 - 4.*alpha*gamma)\n",
    "    r_p = (beta + d)/sigma**2\n",
    "    r_n = (beta - d)/sigma**2\n",
    "    g = r_n/r_p\n",
    "    return alpha, beta, gamma, d, r_p, r_n, g"
   ]
  },
  {
   "cell_type": "code",
   "execution_count": 5,
   "metadata": {},
   "outputs": [],
   "source": [
    "alpha, beta, gamma, d, r_p, r_n, g = get_aux_params(1.0, 0.0, theta, kappa, sigma, rho)"
   ]
  },
  {
   "cell_type": "code",
   "execution_count": 6,
   "metadata": {},
   "outputs": [],
   "source": [
    "# compute auxiliary functions C, D\n",
    "tau = 1.0\n",
    "def get_C_D(u, j, tau, theta, kappa, sigma, rho):\n",
    "    _, _, _, d, _, r_n, g = get_aux_params(u, j, theta, kappa, sigma, rho)\n",
    "    d_tau = d*tau\n",
    "    C = kappa*(r_n*tau - 2./sigma**2*np.log((1.-g*np.exp(-d_tau))/(1.-g)))\n",
    "    D = r_n*(1.-np.exp(-d_tau))/(1.-g*np.exp(-d_tau))\n",
    "    return C, D"
   ]
  },
  {
   "cell_type": "code",
   "execution_count": 7,
   "metadata": {},
   "outputs": [],
   "source": [
    "x= np.log(spot/K)\n",
    "#x=0.05\n",
    "#u= 0.0\n",
    "j= 0.0\n",
    "#C,D = get_C_D(u, j, tau, theta, kappa, sigma, rho)\n",
    "def get_integrand(v0, x, u, j, tau, theta, kappa, sigma, rho):\n",
    "    C,D = get_C_D(u, j, tau, theta, kappa, sigma, rho)\n",
    "    return ((np.exp(C*theta + D*v0 + 1j*u*x)) / (1j*u)).real\n",
    "\n",
    "def P(v0, x, j, tau, theta, kappa, sigma, rho):\n",
    "    def wrapper(u):\n",
    "        return get_integrand(v0,x, u, j, tau, theta, kappa, sigma, rho)    \n",
    "    \n",
    "    if tau <= 1e-4:\n",
    "        tau = 1e-4\n",
    "    float_epsilon = np.finfo(float).eps\n",
    "#    print(\"at 0 \", wrapper(float_epsilon))\n",
    "#    integral,err =  integrate.quad(wrapper,float_epsilon,2000.0)\n",
    "    integral,err =  integrate.quad(wrapper,float_epsilon,4000.0)\n",
    "#    print(err)\n",
    "    return 0.5 + 1./np.pi * integral\n",
    "    \n",
    "def get_call_price(v0, spot, K, tau, theta, kappa, sigma, rho):\n",
    "    # presume zero risk-free\n",
    "    x= np.log(spot/K)\n",
    "    P0 = P(v0, x, 0, tau, theta, kappa, sigma, rho)\n",
    "    P1 = P(v0, x, 1, tau, theta, kappa, sigma, rho)\n",
    "    price = spot * P1 - K * P0\n",
    "    return price"
   ]
  },
  {
   "cell_type": "code",
   "execution_count": 8,
   "metadata": {},
   "outputs": [
    {
     "data": {
      "text/plain": [
       "[<matplotlib.lines.Line2D at 0x240cf732d48>]"
      ]
     },
     "execution_count": 8,
     "metadata": {},
     "output_type": "execute_result"
    },
    {
     "data": {
      "image/png": "[encoded data removed]",
      "text/plain": [
       "<Figure size 432x288 with 1 Axes>"
      ]
     },
     "metadata": {
      "needs_background": "light"
     },
     "output_type": "display_data"
    }
   ],
   "source": [
    "float_epsilon = np.finfo(float).eps\n",
    "#tau_vec = np.linspace(float_epsilon,0.1,num=100)\n",
    "tau_vec = np.linspace(float_epsilon,0.1,num=13)\n",
    "y=[P(v0, x, j, t, theta, kappa, sigma, rho) for t in tau_vec]\n",
    "plt.plot(tau_vec,y)"
   ]
  },
  {
   "cell_type": "code",
   "execution_count": 9,
   "metadata": {},
   "outputs": [
    {
     "data": {
      "text/plain": [
       "[<matplotlib.lines.Line2D at 0x240d1dc93c8>]"
      ]
     },
     "execution_count": 9,
     "metadata": {},
     "output_type": "execute_result"
    },
    {
     "data": {
      "image/png": "[encoded data removed]",
      "text/plain": [
       "<Figure size 432x288 with 1 Axes>"
      ]
     },
     "metadata": {
      "needs_background": "light"
     },
     "output_type": "display_data"
    }
   ],
   "source": [
    "float_epsilon = np.finfo(float).eps\n",
    "#tau_vec = np.linspace(float_epsilon,0.1,num=100)\n",
    "tau_vec = np.linspace(float_epsilon,1.,num=13)\n",
    "price_vec=[get_call_price(v0, spot, K, tau, theta, kappa, sigma, rho) for tau in tau_vec]\n",
    "plt.plot(tau_vec,price_vec)"
   ]
  },
  {
   "cell_type": "code",
   "execution_count": 10,
   "metadata": {},
   "outputs": [
    {
     "data": {
      "text/plain": [
       "array([2.22044605e-16, 8.33333333e-02, 1.66666667e-01, 2.50000000e-01,\n",
       "       3.33333333e-01, 4.16666667e-01, 5.00000000e-01, 5.83333333e-01,\n",
       "       6.66666667e-01, 7.50000000e-01, 8.33333333e-01, 9.16666667e-01,\n",
       "       1.00000000e+00])"
      ]
     },
     "execution_count": 10,
     "metadata": {},
     "output_type": "execute_result"
    }
   ],
   "source": [
    "tau_vec"
   ]
  },
  {
   "cell_type": "code",
   "execution_count": 11,
   "metadata": {},
   "outputs": [
    {
     "data": {
      "text/plain": [
       "[2.0644785880818954e-12,\n",
       " 0.906773492837349,\n",
       " 4.692670361200015,\n",
       " 9.811339956537608,\n",
       " 15.272767724781573,\n",
       " 20.686849702781558,\n",
       " 25.91888870912777,\n",
       " 30.93165863335011,\n",
       " 35.72438009300345,\n",
       " 40.30933825773542,\n",
       " 44.70273561902755,\n",
       " 48.92109181458525,\n",
       " 52.97988296351153]"
      ]
     },
     "execution_count": 11,
     "metadata": {},
     "output_type": "execute_result"
    }
   ],
   "source": [
    "price_vec # 44.60563184498372, 32.74999675125653, 20.067667727672358, 7.589426408247249"
   ]
  },
  {
   "cell_type": "markdown",
   "metadata": {},
   "source": [
    "# Test using quantlib"
   ]
  },
  {
   "cell_type": "code",
   "execution_count": 12,
   "metadata": {},
   "outputs": [],
   "source": [
    "# option parameters\n",
    "strike_price = K\n",
    "payoff = ql.PlainVanillaPayoff(ql.Option.Call, strike_price)\n",
    "\n",
    "# option data\n",
    "maturity_date = ql.Date(8, 5, 2016) # day, month, year\n",
    "#maturity_date = ql.Date(8, 8, 2015)\n",
    "spot_price = spot\n",
    "dividend_rate =  0.0\n",
    "option_type = ql.Option.Call\n",
    "\n",
    "risk_free_rate = 0.0\n",
    "day_count = ql.Actual365Fixed()\n",
    "calendar = ql.UnitedStates()\n",
    "\n",
    "calculation_date = ql.Date(8, 5, 2015)\n",
    "ql.Settings.instance().evaluationDate = calculation_date"
   ]
  },
  {
   "cell_type": "code",
   "execution_count": 13,
   "metadata": {},
   "outputs": [],
   "source": [
    "# construct the Heston process\n",
    "\n",
    "#v0 = volatility*volatility  # spot variance\n",
    "#kappa = 0.1\n",
    "#theta = v0\n",
    "#sigma = 0.1\n",
    "#rho = -0.75\n",
    "\n",
    "exercise = ql.EuropeanExercise(maturity_date)\n",
    "european_option = ql.VanillaOption(payoff, exercise)\n",
    "\n",
    "spot_handle = ql.QuoteHandle(\n",
    "    ql.SimpleQuote(spot_price)\n",
    ")\n",
    "flat_ts = ql.YieldTermStructureHandle(\n",
    "    ql.FlatForward(calculation_date, risk_free_rate, day_count)\n",
    ")\n",
    "dividend_yield = ql.YieldTermStructureHandle(\n",
    "    ql.FlatForward(calculation_date, dividend_rate, day_count)\n",
    ")\n",
    "heston_process = ql.HestonProcess(flat_ts,\n",
    "                                  dividend_yield,\n",
    "                                  spot_handle,\n",
    "                                  v0,\n",
    "                                  kappa,\n",
    "                                  theta,\n",
    "                                  sigma,\n",
    "                                  rho)"
   ]
  },
  {
   "cell_type": "code",
   "execution_count": 14,
   "metadata": {},
   "outputs": [
    {
     "name": "stdout",
     "output_type": "stream",
     "text": [
      "The Heston model price is 53.110812364457075\n",
      "Gatheral  52.97988296351153\n"
     ]
    }
   ],
   "source": [
    "engine = ql.AnalyticHestonEngine(ql.HestonModel(heston_process),0.01, 1000)\n",
    "european_option.setPricingEngine(engine)\n",
    "h_price = european_option.NPV()\n",
    "print(\"The Heston model price is\",h_price)\n",
    "print(\"Gatheral \", price_vec[-1])"
   ]
  },
  {
   "cell_type": "code",
   "execution_count": 15,
   "metadata": {},
   "outputs": [],
   "source": [
    "# data summary\n",
    "# quantlib\n",
    "# 44.71315260817815, 33.052730124674554, 20.288685232502672, 7.682417333439105\n",
    "# Gatheral\n",
    "# 44.60563184498372, 32.74999675125653, 20.067667727672358, 7.589426408247249"
   ]
  },
  {
   "cell_type": "markdown",
   "metadata": {},
   "source": [
    "# Validation using Monte-Carlo simulation"
   ]
  },
  {
   "cell_type": "code",
   "execution_count": 16,
   "metadata": {},
   "outputs": [],
   "source": [
    "def HeMC (S0, mu, v0, rho, kappa, theta, sigma, T, dt):\n",
    "    xi = sigma\n",
    "\n",
    "    # Generate a Monte Carlo simulation for the Heston model\n",
    "\n",
    "    # Generate random Brownian Motion\n",
    "    MU  = np.array([0, 0])\n",
    "    COV = np.matrix([[1, rho], [rho, 1]])\n",
    "    W   = np.random.multivariate_normal(MU, COV, T)\n",
    "    W_S = W[:,0]\n",
    "    W_v = W[:,1]\n",
    "\n",
    "    # Generate paths\n",
    "    vt    = np.zeros(T)\n",
    "    vt[0] = v0\n",
    "    St    = np.zeros(T)\n",
    "    St[0] = S0\n",
    "    for t in range(1,T):\n",
    "#        vt[t] = (vt[t-1] + kappa*(theta-(vt[t-1]))*dt + xi*np.sqrt(dt*vt[t-1])*W_v[t])\n",
    "        vt[t] = max(0.0,vt[t-1] + kappa*(theta-(vt[t-1]))*dt + xi*np.sqrt(dt*vt[t-1])*W_v[t])\n",
    "#        vt[t] = np.abs(vt[t-1] + kappa*(theta-(vt[t-1]))*dt + xi*np.sqrt(dt*vt[t-1])*W_v[t])\n",
    "        St[t] = St[t-1]*np.exp((mu - 0.5*vt[t-1])*dt + np.sqrt(vt[t-1]*dt)*W_S[t])\n",
    "\n",
    "    return St, vt"
   ]
  },
  {
   "cell_type": "code",
   "execution_count": 17,
   "metadata": {},
   "outputs": [
    {
     "name": "stdout",
     "output_type": "stream",
     "text": [
      "53.85916192996832\n",
      "659.37 758.28 0.06569 -0.35156\n"
     ]
    }
   ],
   "source": [
    "num_paths = 1000\n",
    "payoff_sum = 0.0\n",
    "T = 252\n",
    "dt = 1./T\n",
    "for i in range(num_paths):\n",
    "    S_last = HeMC (spot, 0.0, v0, rho, kappa, theta, sigma, T, dt)[0][-1]\n",
    "    payoff = max(0., S_last-K)\n",
    "    payoff_sum += payoff\n",
    "payoff_sum /= num_paths\n",
    "print(payoff_sum)\n",
    "print(spot, K, v0, rho)"
   ]
  },
  {
   "cell_type": "code",
   "execution_count": 18,
   "metadata": {},
   "outputs": [],
   "source": [
    "def HestonMC (spot, v0, rho, kappa, theta, sigma, T, dt):\n",
    "    # Generate a path\n",
    "    vt    = np.zeros(T)\n",
    "    vt[0] = v0\n",
    "    logSt = np.zeros(T)\n",
    "    logSt[0] = np.log(spot)\n",
    "\n",
    "    # Milstein scheme for volatility\n",
    "    for t in range(1,T):\n",
    "        # Generate random Brownian Motion\n",
    "        dW_indep = np.random.normal(0.0,1.0,2)\n",
    "        dW_v = dW_indep[0]\n",
    "        dW_logS = rho*dW_indep[0] + np.sqrt(1-rho**2)*dW_indep[1] \n",
    "        vt[t] = vt[t-1] + kappa*(theta-vt[t-1])*dt + sigma* np.sqrt(vt[t-1]*dt)*dW_v + sigma**2/4.*dt*(dW_v**2-1.)\n",
    "        if vt[t] < 0.0:\n",
    "            vt[t] = 0.0\n",
    "        logSt[t] = logSt[t-1] - vt[t-1]/2.*dt + np.sqrt(vt[t-1]*dt)*dW_logS\n",
    "\n",
    "    St= np.exp(logSt)\n",
    "#    St= np.exp(logSt)*spot\n",
    "    \n",
    "    return St, vt"
   ]
  },
  {
   "cell_type": "code",
   "execution_count": null,
   "metadata": {},
   "outputs": [],
   "source": [
    "num_paths = 3000\n",
    "payoff_sum = 0.0\n",
    "T = 252\n",
    "dt = 1./T\n",
    "for i in range(num_paths):\n",
    "    S_last = HestonMC (spot, v0, rho, kappa, theta, sigma, T, dt)[0][-1]\n",
    "    payoff = max(0., S_last-K)\n",
    "    payoff_sum += payoff\n",
    "payoff_sum /= num_paths\n",
    "print(payoff_sum)\n",
    "print(spot, K, v0, rho)"
   ]
  },
  {
   "cell_type": "code",
   "execution_count": null,
   "metadata": {},
   "outputs": [],
   "source": []
  },
  {
   "cell_type": "code",
   "execution_count": null,
   "metadata": {},
   "outputs": [],
   "source": []
  }
 ],
 "metadata": {
  "kernelspec": {
   "display_name": "Python 3",
   "language": "python",
   "name": "python3"
  },
  "language_info": {
   "codemirror_mode": {
    "name": "ipython",
    "version": 3
   },
   "file_extension": ".py",
   "mimetype": "text/x-python",
   "name": "python",
   "nbconvert_exporter": "python",
   "pygments_lexer": "ipython3",
   "version": "3.7.4"
  }
 },
 "nbformat": 4,
 "nbformat_minor": 4
}
