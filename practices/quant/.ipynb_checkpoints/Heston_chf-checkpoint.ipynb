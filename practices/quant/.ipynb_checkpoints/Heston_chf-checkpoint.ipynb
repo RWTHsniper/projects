{
 "cells": [
  {
   "cell_type": "code",
   "execution_count": 1,
   "metadata": {},
   "outputs": [],
   "source": [
    "import numpy as np\n",
    "from scipy import integrate\n",
    "import matplotlib.pyplot as plt"
   ]
  },
  {
   "cell_type": "code",
   "execution_count": 2,
   "metadata": {},
   "outputs": [
    {
     "name": "stdout",
     "output_type": "stream",
     "text": [
      "Feller condition is  True\n"
     ]
    }
   ],
   "source": [
    "theta = 0.132328; kappa = 10.980797; sigma = 1.7; rho = -0.351560; v0 = 0.065690\n",
    "spot, K = 659.37, 758.28\n",
    "\n",
    "feller_cond = 2*kappa*theta > sigma**2\n",
    "print(\"Feller condition is \", feller_cond)"
   ]
  },
  {
   "cell_type": "code",
   "execution_count": 3,
   "metadata": {},
   "outputs": [],
   "source": [
    "def HestonMC (spot, v0, rho, kappa, theta, sigma, T, num_steps, r=0.0, return_log = True):\n",
    "    # Generate a path\n",
    "    vt    = np.zeros(num_steps)\n",
    "    vt[0] = v0\n",
    "    logSt = np.zeros(num_steps)\n",
    "    logSt[0] = np.log(spot)\n",
    "    dt = T / num_steps\n",
    "\n",
    "    # Milstein scheme for volatility\n",
    "    for t in range(1,num_steps):\n",
    "        # Generate random Brownian Motion\n",
    "        dW_indep = np.random.normal(0.0,1.0,2)\n",
    "        dW_v = dW_indep[0]\n",
    "        dW_logS = rho*dW_indep[0] + np.sqrt(1-rho**2)*dW_indep[1] \n",
    "        vt[t] = vt[t-1] + kappa*(theta-vt[t-1])*dt + sigma* np.sqrt(vt[t-1]*dt)*dW_v + sigma**2/4.*dt*(dW_v**2-1.)\n",
    "        if vt[t] < 0.0:\n",
    "            vt[t] = 0.0\n",
    "        logSt[t] = logSt[t-1] + (r - vt[t-1]/2.)*dt + np.sqrt(vt[t-1]*dt)*dW_logS\n",
    "\n",
    "    if return_log:\n",
    "        return logSt, vt\n",
    "    else:        \n",
    "        St= np.exp(logSt)\n",
    "        return St, vt"
   ]
  },
  {
   "cell_type": "code",
   "execution_count": 5,
   "metadata": {},
   "outputs": [],
   "source": [
    "u = 1.0 \n",
    "k = np.log(K)\n",
    "x = np.log(spot)\n",
    "r = 0.0\n",
    "num_paths = 20000\n",
    "payoff_sum = 0.0\n",
    "T = 1.0\n",
    "num_steps = 252"
   ]
  },
  {
   "cell_type": "code",
   "execution_count": 9,
   "metadata": {},
   "outputs": [
    {
     "name": "stdout",
     "output_type": "stream",
     "text": [
      "analytic chf  (0.9257979660695421+0.13883412520889077j)\n"
     ]
    }
   ],
   "source": [
    "def get_chf(x_T,u):\n",
    "    return np.exp(u*1j*x_T)\n",
    "\n",
    "\"\"\"\n",
    "Compute E[e^{1j*u*x}]\n",
    "x: log(S)\n",
    "u\n",
    "v0: v0\n",
    "r: risk-free rate\n",
    "rho: correlation\n",
    "ka: kappa\n",
    "th: theta\n",
    "sig: sigma\n",
    "\"\"\"\n",
    "def get_Heston_chf(x, u, v0, r, rho, ka, th, sig, T):\n",
    "    gam = np.sqrt(sig**2*u*(u+1j) + (ka-1j*rho*sig*u)**2)\n",
    "    half_gam_T = gam*T/2.0\n",
    "#    print(\"half gam \", half_gam_T)\n",
    "    coth = np.cosh(half_gam_T)/np.sinh(half_gam_T)\n",
    "    log_numerator = ka*th*T*(ka-1j*rho*sig*u)/sig**2 + 1j*u*(T*r+x) - (u*(u+1j)*v0)/(gam*coth + ka - 1j*rho*sig*u)\n",
    "    numerator = np.exp(log_numerator)\n",
    "    denominator = (np.cosh(half_gam_T) + (ka-1j*rho*sig*u)/gam*np.sinh(half_gam_T))**(2.0*ka*th/sig**2)\n",
    "    return numerator/denominator"
   ]
  },
  {
   "cell_type": "code",
   "execution_count": 10,
   "metadata": {},
   "outputs": [
    {
     "name": "stdout",
     "output_type": "stream",
     "text": [
      "chf from mc  (0.9255732583506681+0.14230489305482488j)\n",
      "analytic chf  (0.9257979660695421+0.13883412520889077j)\n",
      "659.37 758.28 0.06569 -0.35156\n"
     ]
    }
   ],
   "source": [
    "heston_chf_mc = 0.0\n",
    "for i in range(num_paths):\n",
    "    logS_last = HestonMC(spot, v0, rho, kappa, theta, sigma, T, num_steps, r=r, return_log = True)[0][-1]\n",
    "    heston_chf_mc += get_chf(logS_last,u)\n",
    "heston_chf_mc /= num_paths\n",
    "print('chf from mc ', heston_chf_mc)\n",
    "print('analytic chf ', get_Heston_chf(x, u, v0, r, rho, kappa, theta, sigma, T))\n",
    "print(spot, K, v0, rho)"
   ]
  },
  {
   "cell_type": "code",
   "execution_count": null,
   "metadata": {},
   "outputs": [],
   "source": []
  },
  {
   "cell_type": "code",
   "execution_count": null,
   "metadata": {},
   "outputs": [],
   "source": [
    "2**2*5"
   ]
  },
  {
   "cell_type": "code",
   "execution_count": null,
   "metadata": {},
   "outputs": [],
   "source": []
  }
 ],
 "metadata": {
  "kernelspec": {
   "display_name": "Python 3",
   "language": "python",
   "name": "python3"
  },
  "language_info": {
   "codemirror_mode": {
    "name": "ipython",
    "version": 3
   },
   "file_extension": ".py",
   "mimetype": "text/x-python",
   "name": "python",
   "nbconvert_exporter": "python",
   "pygments_lexer": "ipython3",
   "version": "3.7.4"
  }
 },
 "nbformat": 4,
 "nbformat_minor": 4
}
