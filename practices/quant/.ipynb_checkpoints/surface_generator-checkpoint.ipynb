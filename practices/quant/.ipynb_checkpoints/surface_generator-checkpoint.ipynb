{
 "cells": [
  {
   "cell_type": "code",
   "execution_count": 1,
   "metadata": {},
   "outputs": [],
   "source": [
    "# For a given set of parameters, generate a surface"
   ]
  },
  {
   "cell_type": "code",
   "execution_count": 9,
   "metadata": {},
   "outputs": [],
   "source": [
    "import numpy as np\n",
    "from scipy import integrate\n",
    "import matplotlib.pyplot as plt\n",
    "from scipy.fft import fft, ifft\n",
    "import pandas as pd\n",
    "\n",
    "from Heston_process import *"
   ]
  },
  {
   "cell_type": "code",
   "execution_count": 10,
   "metadata": {},
   "outputs": [
    {
     "name": "stdout",
     "output_type": "stream",
     "text": [
      "Feller condition is  True\n"
     ]
    }
   ],
   "source": [
    "theta = 0.132328; kappa = 10.980797; sigma = 1.7; rho = -0.351560; v0 = 0.065690\n",
    "#spot, K = 659.37, 600.0\n",
    "spot, K = 1.0, 600.0/659.37\n",
    "#spot, K = 659.37, 758.28\n",
    "#spot, K = 659.37, 800.0\n",
    "alp = 0.75\n",
    "s = np.log(spot)\n",
    "k = np.log(K)\n",
    "x = np.log(spot)\n",
    "\n",
    "feller_cond = Heston_feller_cond(kappa, theta, sigma)\n",
    "print(\"Feller condition is \", feller_cond)"
   ]
  },
  {
   "cell_type": "code",
   "execution_count": 11,
   "metadata": {},
   "outputs": [],
   "source": [
    "num_grid_1d = 8\n",
    "alp = 0.75\n",
    "C_price_bounds = [1e-3, 0.5]\n",
    "\n",
    "k_list = np.linspace(-0.2,0.2,num=num_grid_1d) # logstrike\n",
    "logS0 = 0.0 # log-spot. Assume S0: 1\n",
    "dlogS0 = np.log(1.00001)\n",
    "dS0 = np.exp(dlogS0) - np.exp(logS0)\n",
    "\n",
    "#dlogS0 = np.log(1.00001)\n",
    "T_list = np.append([0.25, 0.5], np.linspace(0.25,0.2,num=num_grid_1d))  #\n",
    "#v0_list = np.linspace(np.sqrt(1e-1),np.sqrt(0.3),num=num_grid_1d) \n",
    "r = 0.0\n",
    "#rho_list = np.linspace(-1.0, 1.0,num=num_grid_1d) \n",
    "#kappa_list = np.linspace(1e-3, 20.0,num=num_grid_1d) \n",
    "#theta_list = np.linspace(1e-3, 10.0,num=num_grid_1d) \n",
    "#sigma_list = np.linspace(1e-3, 20.0,num=num_grid_1d) \n",
    "\n",
    "pd_dict = {}\n",
    "pd_dict['k'] = []; pd_dict['T'] = []; pd_dict['v0'] = []; pd_dict['rho'] = []\n",
    "pd_dict['kappa'] = []; pd_dict['theta'] = []; pd_dict['sigma'] = []; pd_dict['C_price'] = []\n",
    "pd_dict['delta'] = []\n",
    "\n",
    "for k in k_list:\n",
    "    for T in T_list:\n",
    "        C_price = get_Heston_fft_call(k, logS0, v0, r, rho, kappa, theta, sigma, T, alp, N=2**10, dk=1e-2)\n",
    "        if (C_price <= C_price_bounds[0]) | (C_price >= C_price_bounds[1]) | np.isnan(C_price):\n",
    "            continue\n",
    "        C_price_p = get_Heston_fft_call(k, logS0+dlogS0, v0, r, rho, kappa, theta, sigma, T, alp, N=2**10, dk=1e-2)\n",
    "        pd_dict['delta'].append((C_price_p-C_price)/dS0) # delta of call \n",
    "        pd_dict['k'].append(k)\n",
    "        pd_dict['T'].append(T)\n",
    "        pd_dict['v0'].append(v0)\n",
    "        pd_dict['rho'].append(rho)\n",
    "        pd_dict['kappa'].append(kappa)\n",
    "        pd_dict['theta'].append(theta)\n",
    "        pd_dict['sigma'].append(sigma)\n",
    "        pd_dict['C_price'].append(C_price)\n",
    "\n",
    "df = pd.DataFrame(pd_dict)\n"
   ]
  },
  {
   "cell_type": "code",
   "execution_count": 12,
   "metadata": {},
   "outputs": [
    {
     "data": {
      "text/plain": [
       "0.05462994976285279"
      ]
     },
     "execution_count": 12,
     "metadata": {},
     "output_type": "execute_result"
    }
   ],
   "source": [
    "C_price_p"
   ]
  },
  {
   "cell_type": "code",
   "execution_count": 13,
   "metadata": {},
   "outputs": [
    {
     "data": {
      "text/plain": [
       "1.00001"
      ]
     },
     "execution_count": 13,
     "metadata": {},
     "output_type": "execute_result"
    }
   ],
   "source": [
    "dS0"
   ]
  },
  {
   "cell_type": "code",
   "execution_count": null,
   "metadata": {},
   "outputs": [],
   "source": []
  }
 ],
 "metadata": {
  "kernelspec": {
   "display_name": "Python 3",
   "language": "python",
   "name": "python3"
  },
  "language_info": {
   "codemirror_mode": {
    "name": "ipython",
    "version": 3
   },
   "file_extension": ".py",
   "mimetype": "text/x-python",
   "name": "python",
   "nbconvert_exporter": "python",
   "pygments_lexer": "ipython3",
   "version": "3.7.4"
  }
 },
 "nbformat": 4,
 "nbformat_minor": 4
}
