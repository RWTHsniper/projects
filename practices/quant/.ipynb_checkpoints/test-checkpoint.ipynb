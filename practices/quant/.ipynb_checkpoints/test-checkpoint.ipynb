{
 "cells": [
  {
   "cell_type": "code",
   "execution_count": 1,
   "metadata": {},
   "outputs": [],
   "source": [
    "# https://github.com/aaaquants/option-volatility-surface/blob/master/VolSurfacePlot.ipynb\n",
    "\n",
    "import yfinance as yf\n",
    "from dateutil.parser import parse\n",
    "from datetime import datetime\n",
    "import numpy as np\n",
    "import matplotlib.pyplot as plt\n",
    "from mpl_toolkits.mplot3d import Axes3D\n",
    "from matplotlib import cm\n",
    "from matplotlib.colors import LogNorm\n",
    "#from implied_vol import BlackScholes\n",
    "from functools import partial\n",
    "from scipy import optimize\n",
    "import numpy as np\n",
    "from scipy.interpolate import griddata\n",
    "import pandas as pd"
   ]
  },
  {
   "cell_type": "code",
   "execution_count": 27,
   "metadata": {},
   "outputs": [
    {
     "name": "stdout",
     "output_type": "stream",
     "text": [
      "expiries.  ('2020-12-31', '2021-01-08', '2021-01-15', '2021-01-22', '2021-01-29', '2021-02-05', '2021-02-19', '2021-03-19', '2021-04-16', '2021-06-18', '2021-07-16', '2021-09-17', '2022-01-21', '2022-03-18', '2022-06-17', '2022-09-16', '2023-01-20')\n",
      "         contractSymbol       lastTradeDate  strike  lastPrice  bid  ask  \\\n",
      "0   MSFT210205C00207500 2020-12-28 19:40:52   207.5      21.04  0.0  0.0   \n",
      "1   MSFT210205C00212500 2020-12-28 16:21:55   212.5      17.05  0.0  0.0   \n",
      "2   MSFT210205C00220000 2020-12-28 19:27:25   220.0      11.95  0.0  0.0   \n",
      "3   MSFT210205C00222500 2020-12-28 20:31:19   222.5      10.35  0.0  0.0   \n",
      "4   MSFT210205C00225000 2020-12-28 20:52:54   225.0       8.75  0.0  0.0   \n",
      "5   MSFT210205C00230000 2020-12-28 20:52:18   230.0       6.45  0.0  0.0   \n",
      "6   MSFT210205C00232500 2020-12-28 20:53:39   232.5       5.50  0.0  0.0   \n",
      "7   MSFT210205C00235000 2020-12-28 20:55:40   235.0       4.65  0.0  0.0   \n",
      "8   MSFT210205C00237500 2020-12-28 20:52:27   237.5       3.65  0.0  0.0   \n",
      "9   MSFT210205C00242500 2020-12-28 20:59:59   242.5       2.67  0.0  0.0   \n",
      "10  MSFT210205C00245000 2020-12-28 19:57:33   245.0       2.30  0.0  0.0   \n",
      "11  MSFT210205C00247500 2020-12-28 20:49:44   247.5       1.90  0.0  0.0   \n",
      "12  MSFT210205C00255000 2020-12-28 19:21:46   255.0       1.03  0.0  0.0   \n",
      "\n",
      "    change  percentChange  volume  openInterest  impliedVolatility  \\\n",
      "0      0.0            0.0     150             0           0.000010   \n",
      "1      0.0            0.0       2             0           0.000010   \n",
      "2      0.0            0.0      36             0           0.000010   \n",
      "3      0.0            0.0      20           217           0.000010   \n",
      "4      0.0            0.0      40            31           0.000254   \n",
      "5      0.0            0.0     109           325           0.015635   \n",
      "6      0.0            0.0      22           214           0.031260   \n",
      "7      0.0            0.0      47           135           0.031260   \n",
      "8      0.0            0.0      10           106           0.031260   \n",
      "9      0.0            0.0    6673          6177           0.062509   \n",
      "10     0.0            0.0      18             0           0.062509   \n",
      "11     0.0            0.0     104           202           0.062509   \n",
      "12     0.0            0.0      45           217           0.062509   \n",
      "\n",
      "    inTheMoney contractSize currency  \n",
      "0         True      REGULAR      USD  \n",
      "1         True      REGULAR      USD  \n",
      "2         True      REGULAR      USD  \n",
      "3         True      REGULAR      USD  \n",
      "4        False      REGULAR      USD  \n",
      "5        False      REGULAR      USD  \n",
      "6        False      REGULAR      USD  \n",
      "7        False      REGULAR      USD  \n",
      "8        False      REGULAR      USD  \n",
      "9        False      REGULAR      USD  \n",
      "10       False      REGULAR      USD  \n",
      "11       False      REGULAR      USD  \n",
      "12       False      REGULAR      USD  \n",
      "2021-02-05 00:00:00\n"
     ]
    }
   ],
   "source": [
    "msft = yf.Ticker(\"MSFT\")\n",
    "msft.options\n",
    "print(\"expiries. \", msft.options)\n",
    "calendar_id = 5\n",
    "contract_ind = 10\n",
    "opt = msft.option_chain(msft.options[calendar_id])\n",
    "print(opt.calls) # calls, count, index, puts\n",
    "expiry = pd.to_datetime(msft.options[calendar_id])\n",
    "print(expiry)"
   ]
  },
  {
   "cell_type": "code",
   "execution_count": 21,
   "metadata": {},
   "outputs": [],
   "source": [
    "def CND(X):\n",
    " \n",
    "    (a1,a2,a3,a4,a5) = (0.31938153, -0.356563782, 1.781477937, -1.821255978, 1.330274429)\n",
    "    \n",
    "    L = abs(X)\n",
    "    K = 1.0 / (1.0 + 0.2316419 * L)\n",
    "    w = 1.0 - 1.0 / np.sqrt(2*np.pi)*np.exp(-L*L/2.) * (a1*K + a2*K*K + a3*pow(K,3) + a4*pow(K,4) + a5*pow(K,5))\n",
    "    \n",
    "    if X<0:\n",
    "        w = 1.0-w\n",
    " \n",
    "    return w\n",
    "\n",
    "def BlackScholes(v,CallPutFlag = 'c',S = 100.,X = 100.,T = 1.,r = 0.01):\n",
    " \n",
    "    d1 = (np.log(S/X)+(r+v*v/2.)*T)/(v*np.sqrt(T))\n",
    "    d2 = d1-v*np.sqrt(T)\n",
    "    \n",
    "    if CallPutFlag=='c':\n",
    "        return S*CND(d1)-X*np.exp(-r*T)*CND(d2)\n",
    " \n",
    "    else:\n",
    "        return X*np.exp(-r*T)*CND(-d2)-S*CND(-d1)\n",
    "\n",
    "    \n",
    "def calc_impl_vol(price = 5., right = 'c', underlying = 100., strike = 100., time = 1., rf = 0.0, inc = 0.001):\n",
    "    \n",
    "    def f(x):\n",
    "        out = (BlackScholes(x,CallPutFlag=right,S=underlying,X=strike,T=time,r=rf)-price)**2 \n",
    "        if x < 0.0:\n",
    "            out += 1000.0 * (x)**2\n",
    "        return out\n",
    "  \n",
    "    return optimize.minimize(f,x0=0.5, tol=1e-8, method='Nelder-Mead')"
   ]
  },
  {
   "cell_type": "code",
   "execution_count": 31,
   "metadata": {},
   "outputs": [
    {
     "name": "stdout",
     "output_type": "stream",
     "text": [
      "38 days 04:02:27\n",
      "224.96 245.0 38 days 04:02:27\n"
     ]
    }
   ],
   "source": [
    "trade_time = opt.calls['lastTradeDate'][contract_ind]\n",
    "dt = expiry - trade_time\n",
    "print(dt)\n",
    "expd = dt.days\n",
    "exps = dt.seconds\n",
    "t = (expd*24.*3600. + exps) / (365.*24.*3600.)\n",
    "#t = (expd*24.*3600) / (365.*24.*3600.)\n",
    "#dt = (expiry-opt.calls['lastTradeDate'][contract_ind]).days\n",
    "#t = dt/365\n",
    "option_price = opt.calls['lastPrice'][contract_ind]\n",
    "underlying = msft.history(period='1d')['Close'].iloc[-1]\n",
    "strike = opt.calls['strike'][contract_ind]\n",
    "print(underlying,strike,dt,)\n",
    "out = calc_impl_vol(price = option_price, right = 'c', underlying = underlying, strike = strike, time = t, rf = 0.0, inc = 0.001)"
   ]
  },
  {
   "cell_type": "code",
   "execution_count": 23,
   "metadata": {
    "scrolled": true
   },
   "outputs": [
    {
     "name": "stdout",
     "output_type": "stream",
     "text": [
      "0.29646685123443584 0.062509375\n"
     ]
    }
   ],
   "source": [
    "print(out.x[0], opt.calls['impliedVolatility'][contract_ind])"
   ]
  },
  {
   "cell_type": "code",
   "execution_count": 24,
   "metadata": {},
   "outputs": [
    {
     "data": {
      "text/plain": [
       "-2.0726129257297998e-08"
      ]
     },
     "execution_count": 24,
     "metadata": {},
     "output_type": "execute_result"
    }
   ],
   "source": [
    "f = lambda x: BlackScholes(x,CallPutFlag='c',S=underlying,X=strike,T=t,r=0.0)-option_price\n",
    "f(out.x[0])"
   ]
  },
  {
   "cell_type": "code",
   "execution_count": 28,
   "metadata": {},
   "outputs": [
    {
     "data": {
      "text/plain": [
       "-2.2999876305972644"
      ]
     },
     "execution_count": 28,
     "metadata": {},
     "output_type": "execute_result"
    }
   ],
   "source": [
    "f(opt.calls['impliedVolatility'][contract_ind])"
   ]
  },
  {
   "cell_type": "code",
   "execution_count": 29,
   "metadata": {},
   "outputs": [
    {
     "name": "stdout",
     "output_type": "stream",
     "text": [
      "2.2999999792738706 1.2369402735261728e-05 2.3\n"
     ]
    }
   ],
   "source": [
    "print(BlackScholes(out.x[0],CallPutFlag='c',S=underlying,X=strike,T=t,r=0.0),BlackScholes(opt.calls['impliedVolatility'][contract_ind],CallPutFlag='c',S=underlying,X=strike,T=t,r=0.0), option_price)"
   ]
  },
  {
   "cell_type": "code",
   "execution_count": null,
   "metadata": {},
   "outputs": [],
   "source": []
  }
 ],
 "metadata": {
  "kernelspec": {
   "display_name": "Python 3",
   "language": "python",
   "name": "python3"
  },
  "language_info": {
   "codemirror_mode": {
    "name": "ipython",
    "version": 3
   },
   "file_extension": ".py",
   "mimetype": "text/x-python",
   "name": "python",
   "nbconvert_exporter": "python",
   "pygments_lexer": "ipython3",
   "version": "3.7.4"
  }
 },
 "nbformat": 4,
 "nbformat_minor": 4
}
