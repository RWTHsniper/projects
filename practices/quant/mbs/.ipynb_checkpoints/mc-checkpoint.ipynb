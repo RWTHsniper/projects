{
 "cells": [
  {
   "cell_type": "code",
   "execution_count": 1,
   "metadata": {},
   "outputs": [
    {
     "data": {
      "text/plain": [
       "Statistics"
      ]
     },
     "execution_count": 1,
     "metadata": {},
     "output_type": "execute_result"
    }
   ],
   "source": [
    "import Distributions; dist = Distributions\n",
    "import Random\n",
    "import Statistics; stats = Statistics"
   ]
  },
  {
   "cell_type": "code",
   "execution_count": 2,
   "metadata": {},
   "outputs": [],
   "source": [
    "# Price of MBS\n",
    "# if t< tau < T\n",
    "# Mt = discounted c + discounted P_tau \n",
    "# if T <= tau\n",
    "# Mt = "
   ]
  },
  {
   "cell_type": "code",
   "execution_count": 3,
   "metadata": {},
   "outputs": [
    {
     "data": {
      "text/plain": [
       "-0.11750260390070846"
      ]
     },
     "execution_count": 3,
     "metadata": {},
     "output_type": "execute_result"
    }
   ],
   "source": [
    "function get_P_no_prepay(P0,m,t,T)\n",
    "# Principle without prepayment\n",
    "    Pt = P0*(1-exp(-m*(T-t)))/(1-exp(-m*T))\n",
    "    return Pt\n",
    "end\n",
    "\n",
    "function get_ho_t(a,b,t,T_asterisk)\n",
    "# ho(t) deterministic\n",
    "    res = b*a*max(t,T_asterisk)\n",
    "    return res\n",
    "end\n",
    "\n",
    "function get_h_t(a,b,t,T_asterisk)\n",
    "    ho_t = get_ho_t(a,b,t,T_asterisk,gamma,k,r)\n",
    "    res = ho_t + gamma*max(k-r,0.0)\n",
    "    return res\n",
    "end\n",
    "\n",
    "get_P_no_prepay(1.0,0.03,11,10)"
   ]
  },
  {
   "cell_type": "code",
   "execution_count": 4,
   "metadata": {},
   "outputs": [
    {
     "data": {
      "text/plain": [
       "Distributions.Exponential{Float64}(θ=1.0)"
      ]
     },
     "execution_count": 4,
     "metadata": {},
     "output_type": "execute_result"
    }
   ],
   "source": [
    "# Model parameters\n",
    "params = Dict(\n",
    "# Treasury\n",
    "            :l0 => -0.127061,\n",
    "            :ve =>[0.2715618,0.0195524,0.0009720],\n",
    "            :ka => [5.6772530,0.2520333,0.147],\n",
    "            :si =>[0.0181427,0.0422960,0.034],\n",
    "            :x0 => [0.05095958,0.06725220,0.00961570],\n",
    "# harzard rate process (PSA params)\n",
    "    # ho(t) parameters\n",
    "            :a => 0.024,\n",
    "            :b => 1,\n",
    "            :T_asterisk => 2.5, # prepayment date,\n",
    "            :gamma => 1,\n",
    "            :k => 0.05, # prepayment strike\n",
    "    )\n",
    "e_dist = dist.Exponential(1) # exponential distribution about prepayment. Integration of harzard process > e"
   ]
  },
  {
   "cell_type": "markdown",
   "metadata": {},
   "source": [
    "# Simulation"
   ]
  },
  {
   "cell_type": "code",
   "execution_count": 5,
   "metadata": {},
   "outputs": [],
   "source": [
    "# Let's write a simulation code\n",
    "num_paths= 5\n",
    "annual_steps = 12 # steps per year\n",
    "# num_paths= 500\n",
    "# annual_steps = 4000 # steps per year\n",
    "dt = 1/annual_steps\n",
    "T = 10 # year\n",
    "num_steps = T * annual_steps\n",
    "\n",
    "# variables in simulations\n",
    "num_x = length(params[:x0])\n",
    "x = zeros(num_paths,num_x,num_steps)\n",
    "r = zeros(num_paths,num_steps) # r is sum of x\n",
    "h = zeros(num_paths,num_steps)\n",
    "Mt = zeros(num_paths,num_steps)\n",
    "e = zeros(num_paths,num_steps) # random threshold for prepayment\n",
    "Random.rand!(e_dist,e) # generate e before running simulation since it is simpler and independent\n",
    "d_B = dist.Normal(0.0,dt)\n",
    "dW_x = zeros(num_paths,num_x) # Brownian motion for x\n",
    "\n",
    "# Initialization\n",
    "current = 1 # current step\n",
    "# compute initial interest rate\n",
    "r[:,current] .= params[:l0]\n",
    "for i in 1:num_x\n",
    "    x[:,i,current] .= params[:x0][i] # assign initial treasury variable\n",
    "    r[:,current] .+= params[:x0][i] # initial interest rate\n",
    "end"
   ]
  },
  {
   "cell_type": "markdown",
   "metadata": {},
   "source": [
    "# Run Simulation"
   ]
  },
  {
   "cell_type": "code",
   "execution_count": 6,
   "metadata": {},
   "outputs": [],
   "source": [
    "# run simulation\n",
    "ve = params[:ve]\n",
    "ka = params[:ka]\n",
    "si = params[:si]\n",
    "# Run simulation at each timestep. compute for the next value\n",
    "for current in 1:(num_steps-1)\n",
    "    # simulate treasury parameters\n",
    "    Random.rand!(d_B,dW_x) # Brownian motions for x\n",
    "    next = current + 1\n",
    "    for i in 1:num_x\n",
    "        global vol\n",
    "        drift = (ve[i] .- ka[i]*x[:,i,current])*dt\n",
    "        vol = si[i]*sqrt.(x[:,i,current]).*dW_x[:,i]\n",
    "        vol += 0.25*si[i]^2*(dW_x[:,i].^2 .- dt) # Milstein scheme\n",
    "        x[:,i,next] = x[:,i,current] + drift + vol\n",
    "        x[:,i,next] = max.(0.0, x[:,i,next]) # reflection for CIR process\n",
    "    end\n",
    "    # compute harzard rate\n",
    "    # check prepayment\n",
    "    # compute value of \n",
    "end"
   ]
  },
  {
   "cell_type": "code",
   "execution_count": 7,
   "metadata": {},
   "outputs": [
    {
     "data": {
      "text/plain": [
       "5-element Array{Int64,1}:\n",
       " 1\n",
       " 2\n",
       " 3\n",
       " 4\n",
       " 0"
      ]
     },
     "execution_count": 7,
     "metadata": {},
     "output_type": "execute_result"
    }
   ],
   "source": [
    "max.(0,[1,2,3,4,-5])"
   ]
  },
  {
   "cell_type": "code",
   "execution_count": 8,
   "metadata": {},
   "outputs": [
    {
     "data": {
      "text/plain": [
       "0.04805572381754385"
      ]
     },
     "execution_count": 8,
     "metadata": {},
     "output_type": "execute_result"
    }
   ],
   "source": [
    "stats.mean(x[:,1,end])"
   ]
  },
  {
   "cell_type": "code",
   "execution_count": 9,
   "metadata": {},
   "outputs": [
    {
     "data": {
      "text/plain": [
       "0.07433351216130213"
      ]
     },
     "execution_count": 9,
     "metadata": {},
     "output_type": "execute_result"
    }
   ],
   "source": [
    "stats.mean(x[:,2,end])"
   ]
  },
  {
   "cell_type": "code",
   "execution_count": 10,
   "metadata": {},
   "outputs": [
    {
     "data": {
      "text/plain": [
       "0.004665779819755079"
      ]
     },
     "execution_count": 10,
     "metadata": {},
     "output_type": "execute_result"
    }
   ],
   "source": [
    "stats.mean(x[:,3,end])"
   ]
  },
  {
   "cell_type": "code",
   "execution_count": 11,
   "metadata": {},
   "outputs": [
    {
     "data": {
      "text/plain": [
       "3-element Array{Float64,1}:\n",
       " 0.04783330952487057\n",
       " 0.07757863742608616\n",
       " 0.006612244897959184"
      ]
     },
     "execution_count": 11,
     "metadata": {},
     "output_type": "execute_result"
    }
   ],
   "source": [
    "ve./ka"
   ]
  },
  {
   "cell_type": "code",
   "execution_count": 12,
   "metadata": {},
   "outputs": [
    {
     "data": {
      "text/plain": [
       "3-element Array{Float64,1}:\n",
       " 0.2715618\n",
       " 0.0195524\n",
       " 0.000972"
      ]
     },
     "execution_count": 12,
     "metadata": {},
     "output_type": "execute_result"
    }
   ],
   "source": [
    "ve"
   ]
  }
 ],
 "metadata": {
  "kernelspec": {
   "display_name": "Julia 1.4.0",
   "language": "julia",
   "name": "julia-1.4"
  },
  "language_info": {
   "file_extension": ".jl",
   "mimetype": "application/julia",
   "name": "julia",
   "version": "1.4.0"
  }
 },
 "nbformat": 4,
 "nbformat_minor": 4
}
