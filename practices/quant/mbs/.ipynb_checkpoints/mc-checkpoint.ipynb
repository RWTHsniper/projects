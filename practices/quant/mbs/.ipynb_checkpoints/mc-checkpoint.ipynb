{
 "cells": [
  {
   "cell_type": "code",
   "execution_count": 1,
   "metadata": {},
   "outputs": [
    {
     "data": {
      "text/plain": [
       "Statistics"
      ]
     },
     "execution_count": 1,
     "metadata": {},
     "output_type": "execute_result"
    }
   ],
   "source": [
    "import Distributions; dist = Distributions\n",
    "import Random\n",
    "import Statistics; stats = Statistics"
   ]
  },
  {
   "cell_type": "code",
   "execution_count": 2,
   "metadata": {},
   "outputs": [],
   "source": [
    "# Price of MBS\n",
    "# if t< tau < T\n",
    "# Mt = discounted c + discounted P_tau \n",
    "# if T <= tau\n",
    "# Mt = "
   ]
  },
  {
   "cell_type": "code",
   "execution_count": 25,
   "metadata": {},
   "outputs": [
    {
     "data": {
      "text/plain": [
       "-0.11750260390070846"
      ]
     },
     "execution_count": 25,
     "metadata": {},
     "output_type": "execute_result"
    }
   ],
   "source": [
    "function get_CIR_mean(t,ve,ka,si,x0)\n",
    "    res = exp(-ka*t)*(x0 - ve/ka) + ve/ka\n",
    "    return res\n",
    "end\n",
    "\n",
    "function get_P_no_prepay(P0,m,t,T)\n",
    "# Principle without prepayment\n",
    "    Pt = P0*(1-exp(-m*(T-t)))/(1-exp(-m*T))\n",
    "    return Pt\n",
    "end\n",
    "\n",
    "function get_ho_t(a,b,t,T_asterisk)\n",
    "# ho(t) deterministic\n",
    "    res = b*a*max(t,T_asterisk)\n",
    "    return res\n",
    "end\n",
    "\n",
    "function get_h_t(a,b,gamma,k,r,t,T_asterisk)\n",
    "    ho_t = get_ho_t(a,b,t,T_asterisk)\n",
    "    res = ho_t + gamma*max(k-r,0.0)\n",
    "    return res\n",
    "end\n",
    "\n",
    "function get_h_t(a,b,gamma,k,r::Vector,t,T_asterisk)\n",
    "    ho_t = get_ho_t(a,b,t,T_asterisk)\n",
    "    res = ho_t .+ gamma*max.(k.-r,0.0) # max(k-r,0)\n",
    "    return res\n",
    "end\n",
    "\n",
    "get_P_no_prepay(1.0,0.03,11,10)"
   ]
  },
  {
   "cell_type": "code",
   "execution_count": 4,
   "metadata": {},
   "outputs": [
    {
     "data": {
      "text/plain": [
       "Distributions.Exponential{Float64}(θ=1.0)"
      ]
     },
     "execution_count": 4,
     "metadata": {},
     "output_type": "execute_result"
    }
   ],
   "source": [
    "# Model parameters\n",
    "params = Dict(\n",
    "# Treasury\n",
    "            :l0 => -0.127061,\n",
    "            :ve =>[0.2715618,0.0195524,0.0009720],\n",
    "            :ka => [5.6772530,0.2520333,0.147],\n",
    "            :si =>[0.0181427,0.0422960,0.034],\n",
    "            :x0 => [0.05095958,0.06725220,0.00961570],\n",
    "# harzard rate process (PSA params)\n",
    "    # ho(t) parameters\n",
    "            :a => 0.024,\n",
    "            :b => 1,\n",
    "            :T_asterisk => 2.5, # prepayment date,\n",
    "            :gamma => 1,\n",
    "            :k => 0.0007, # prepayment strike\n",
    "    )\n",
    "e_dist = dist.Exponential(1) # exponential distribution about prepayment. Integration of harzard process > e"
   ]
  },
  {
   "cell_type": "markdown",
   "metadata": {},
   "source": [
    "# Simulation"
   ]
  },
  {
   "cell_type": "code",
   "execution_count": 5,
   "metadata": {},
   "outputs": [
    {
     "name": "stdout",
     "output_type": "stream",
     "text": [
      "Initial r 0.0007664799999999947\n"
     ]
    },
    {
     "data": {
      "text/plain": [
       "4000-element Array{Float64,1}:\n",
       " 0.06\n",
       " 0.06\n",
       " 0.06\n",
       " 0.06\n",
       " 0.06\n",
       " 0.06\n",
       " 0.06\n",
       " 0.06\n",
       " 0.06\n",
       " 0.06\n",
       " 0.06\n",
       " 0.06\n",
       " 0.06\n",
       " ⋮\n",
       " 0.06\n",
       " 0.06\n",
       " 0.06\n",
       " 0.06\n",
       " 0.06\n",
       " 0.06\n",
       " 0.06\n",
       " 0.06\n",
       " 0.06\n",
       " 0.06\n",
       " 0.06\n",
       " 0.06"
      ]
     },
     "execution_count": 5,
     "metadata": {},
     "output_type": "execute_result"
    }
   ],
   "source": [
    "# Let's write a simulation code\n",
    "num_paths= 5\n",
    "annual_steps = 12 # steps per year\n",
    "num_paths= 4000\n",
    "annual_steps = 500 # steps per year\n",
    "dt = 1/annual_steps\n",
    "T = 10 # year\n",
    "T = 30 # test\n",
    "num_steps = T * annual_steps\n",
    "\n",
    "# variables in simulations\n",
    "num_x = length(params[:x0])\n",
    "x = zeros(num_paths,num_x,num_steps)\n",
    "r = zeros(num_paths,num_steps) # r is sum of x\n",
    "h = zeros(num_paths,num_steps)\n",
    "Mt = zeros(num_paths,num_steps)\n",
    "e = zeros(num_paths,num_steps) # random threshold for prepayment\n",
    "Random.rand!(e_dist,e) # generate e before running simulation since it is simpler and independent\n",
    "d_B = dist.Normal(0.0,1.0) # standard distribution\n",
    "dW_x = zeros(num_paths,num_x) # Brownian motion for x\n",
    "\n",
    "# Initialization\n",
    "ve = params[:ve]\n",
    "ka = params[:ka]\n",
    "si = params[:si]\n",
    "l0 = params[:l0]\n",
    "a = params[:a]\n",
    "b = params[:b]\n",
    "k = params[:k]\n",
    "gamma = params[:gamma]\n",
    "T_asterisk = params[:T_asterisk]\n",
    "\n",
    "current = 1 # current step\n",
    "# compute initial interest rate\n",
    "r[:,current] .= params[:l0]\n",
    "for i in 1:num_x\n",
    "    x[:,i,current] .= params[:x0][i] # assign initial treasury variable\n",
    "    r[:,current] .+= params[:x0][i] # initial interest rate\n",
    "end\n",
    "println(\"Initial r \",r[1,1])\n",
    "h[:,current] = get_h_t(a,b,gamma,k,r[:,current],0.0,T_asterisk)"
   ]
  },
  {
   "cell_type": "markdown",
   "metadata": {},
   "source": [
    "# Run Simulation"
   ]
  },
  {
   "cell_type": "code",
   "execution_count": 6,
   "metadata": {},
   "outputs": [],
   "source": [
    "# run simulation\n",
    "\n",
    "# Run simulation at each timestep. compute for the next value\n",
    "for current in 1:(num_steps-1)\n",
    "    t = dt*current\n",
    "    # simulate treasury parameters\n",
    "    Random.rand!(d_B,dW_x) # Brownian motions for x\n",
    "    mean_dW_x = stats.mean(dW_x,dims=1)\n",
    "    std_dW_x = stats.std(dW_x,dims=1)\n",
    "    dW_x .= (dW_x .- mean_dW_x) ./std_dW_x\n",
    "    dW_x *= dt\n",
    "    next = current + 1\n",
    "    for i in 1:num_x\n",
    "        drift = (ve[i] .- ka[i]*x[:,i,current])*dt\n",
    "        vol = si[i]*sqrt.(x[:,i,current]).*dW_x[:,i]\n",
    "        vol += 0.25*si[i]^2*(dW_x[:,i].^2 .- dt) # Milstein scheme\n",
    "        x[:,i,next] = x[:,i,current] + drift + vol\n",
    "        x[:,i,next] = max.(0.0, x[:,i,next]) # reflection for CIR process\n",
    "    end\n",
    "    \n",
    "    # compute r\n",
    "    r[:,next] .= l0\n",
    "    for i in 1:num_x\n",
    "        r[:,next] .+= x[:,i,next] # initial interest rate\n",
    "    end\n",
    "    \n",
    "    # compute harzard rate\n",
    "    global h_t\n",
    "    h[:,next] = get_h_t(a,b,gamma,k,r[:,next],t,T_asterisk)\n",
    "end"
   ]
  },
  {
   "cell_type": "code",
   "execution_count": 31,
   "metadata": {},
   "outputs": [
    {
     "name": "stdout",
     "output_type": "stream",
     "text": [
      "mean_x = [0.047818844225722267, 0.07580330232452225, 0.004710446829937324]\n",
      "theo_mean_x = [0.04783330952487057, 0.07757326401119709, 0.006648752430330383]\n",
      "(mean_r, std_r) = (0.001271593380181828, 0.0007665031492922655)\n",
      "theo_mean_r = 0.0049631918489159155\n"
     ]
    },
    {
     "data": {
      "text/plain": [
       "0.0049631918489159155"
      ]
     },
     "execution_count": 31,
     "metadata": {},
     "output_type": "execute_result"
    }
   ],
   "source": [
    "# statistics for x\n",
    "mean_x = stats.mean(x[:,:,end],dims=1)[:]\n",
    "theo_mean_x = get_CIR_mean.(T,ve,ka,si,params[:x0])\n",
    "@show mean_x\n",
    "@show theo_mean_x\n",
    "\n",
    "# Statistics for r\n",
    "mean_r = stats.mean(r[:,end])\n",
    "std_r = stats.std(r[:,end])\n",
    "theo_mean_r = sum(params[:ve]./params[:ka]) + params[:l0]\n",
    "@show mean_r, std_r\n",
    "@show theo_mean_r"
   ]
  },
  {
   "cell_type": "code",
   "execution_count": 30,
   "metadata": {},
   "outputs": [
    {
     "data": {
      "text/plain": [
       "3-element Array{Float64,1}:\n",
       " 0.04783330952487057\n",
       " 0.07757326401119709\n",
       " 0.006648752430330383"
      ]
     },
     "execution_count": 30,
     "metadata": {},
     "output_type": "execute_result"
    }
   ],
   "source": [
    "get_CIR_mean.(T,ve,ka,si,params[:x0])"
   ]
  },
  {
   "cell_type": "code",
   "execution_count": 32,
   "metadata": {},
   "outputs": [
    {
     "data": {
      "text/plain": [
       "3-element Array{Float64,1}:\n",
       " 5.677253\n",
       " 0.2520333\n",
       " 0.147"
      ]
     },
     "execution_count": 32,
     "metadata": {},
     "output_type": "execute_result"
    }
   ],
   "source": [
    "ka"
   ]
  },
  {
   "cell_type": "code",
   "execution_count": 10,
   "metadata": {},
   "outputs": [
    {
     "data": {
      "text/plain": [
       "1×3 Array{Float64,2}:\n",
       " 4.51028e-20  2.94903e-20  3.46945e-21"
      ]
     },
     "execution_count": 10,
     "metadata": {},
     "output_type": "execute_result"
    }
   ],
   "source": [
    "mean_dW_x = stats.mean(dW_x,dims=1)"
   ]
  },
  {
   "cell_type": "code",
   "execution_count": 11,
   "metadata": {},
   "outputs": [
    {
     "data": {
      "text/plain": [
       "1×3 Array{Float64,2}:\n",
       " 4.16334e-20  1.9082e-20  3.46945e-21"
      ]
     },
     "execution_count": 11,
     "metadata": {},
     "output_type": "execute_result"
    }
   ],
   "source": [
    "stats.mean(dW_x .- mean_dW_x,dims=1)"
   ]
  },
  {
   "cell_type": "code",
   "execution_count": 12,
   "metadata": {},
   "outputs": [
    {
     "name": "stdout",
     "output_type": "stream",
     "text": [
      "stats.mean(dW_x[:, 1]) = 4.510281037539698e-20\n",
      "stats.mean(dW_x[:, 2]) = 2.949029909160572e-20\n",
      "stats.mean(dW_x[:, 3]) = 3.469446951953614e-21\n"
     ]
    },
    {
     "data": {
      "text/plain": [
       "3.469446951953614e-21"
      ]
     },
     "execution_count": 12,
     "metadata": {},
     "output_type": "execute_result"
    }
   ],
   "source": [
    "@show stats.mean(dW_x[:,1])\n",
    "@show stats.mean(dW_x[:,2])\n",
    "@show stats.mean(dW_x[:,3])"
   ]
  },
  {
   "cell_type": "code",
   "execution_count": 13,
   "metadata": {},
   "outputs": [
    {
     "name": "stdout",
     "output_type": "stream",
     "text": [
      "stats.std(dW_x, dims = 1) = [0.0020000000000000005 0.002 0.002]\n"
     ]
    },
    {
     "data": {
      "text/plain": [
       "1×3 Array{Float64,2}:\n",
       " 0.002  0.002  0.002"
      ]
     },
     "execution_count": 13,
     "metadata": {},
     "output_type": "execute_result"
    }
   ],
   "source": [
    "@show stats.std(dW_x,dims=1)"
   ]
  },
  {
   "cell_type": "code",
   "execution_count": 14,
   "metadata": {},
   "outputs": [
    {
     "data": {
      "text/plain": [
       "0.13202419184891592"
      ]
     },
     "execution_count": 14,
     "metadata": {},
     "output_type": "execute_result"
    }
   ],
   "source": [
    "sum([0.04783330952487057, 0.07757863742608616, 0.006612244897959184])"
   ]
  },
  {
   "cell_type": "markdown",
   "metadata": {},
   "source": [
    "# Valuation of MBS"
   ]
  },
  {
   "cell_type": "code",
   "execution_count": 15,
   "metadata": {},
   "outputs": [],
   "source": [
    "# integrate h_t \n",
    "int_h = zeros(size(h))\n",
    "# Euler scheme\n",
    "for i in 1:num_steps-1\n",
    "    int_h[:,i+1] = int_h[:,i] + dt* h[:,i]\n",
    "end\n",
    "prepay_flag = int_h .> e\n",
    "prepay_step = zeros(num_paths) # \n",
    "for i in 1:length(prepay_step)\n",
    "    prepay_step[i] = findfirst(prepay_flag[i,:])\n",
    "end"
   ]
  },
  {
   "cell_type": "code",
   "execution_count": 16,
   "metadata": {},
   "outputs": [
    {
     "data": {
      "text/plain": [
       "342.0"
      ]
     },
     "execution_count": 16,
     "metadata": {},
     "output_type": "execute_result"
    }
   ],
   "source": [
    "maximum(prepay_step)"
   ]
  },
  {
   "cell_type": "code",
   "execution_count": 17,
   "metadata": {},
   "outputs": [
    {
     "data": {
      "text/plain": [
       "15000"
      ]
     },
     "execution_count": 17,
     "metadata": {},
     "output_type": "execute_result"
    }
   ],
   "source": [
    "num_steps"
   ]
  },
  {
   "cell_type": "code",
   "execution_count": null,
   "metadata": {},
   "outputs": [],
   "source": []
  },
  {
   "cell_type": "code",
   "execution_count": 18,
   "metadata": {},
   "outputs": [
    {
     "data": {
      "text/plain": [
       "4000-element Array{Float64,1}:\n",
       " 0.06\n",
       " 0.060007793058734736\n",
       " 0.06\n",
       " 0.06\n",
       " 0.06\n",
       " 0.06\n",
       " 0.06\n",
       " 0.060026233700826\n",
       " 0.06\n",
       " 0.06\n",
       " 0.06\n",
       " 0.06\n",
       " 0.06\n",
       " ⋮\n",
       " 0.06\n",
       " 0.06\n",
       " 0.06\n",
       " 0.06001312047258895\n",
       " 0.06\n",
       " 0.06\n",
       " 0.06\n",
       " 0.06\n",
       " 0.06\n",
       " 0.06\n",
       " 0.06\n",
       " 0.06"
      ]
     },
     "execution_count": 18,
     "metadata": {},
     "output_type": "execute_result"
    }
   ],
   "source": [
    "get_h_t(a,b,gamma,k,r[:,2],0.0,T_asterisk)"
   ]
  },
  {
   "cell_type": "code",
   "execution_count": 19,
   "metadata": {},
   "outputs": [
    {
     "data": {
      "text/plain": [
       "0.06"
      ]
     },
     "execution_count": 19,
     "metadata": {},
     "output_type": "execute_result"
    }
   ],
   "source": [
    "get_h_t(a,b,gamma,k,0.05,1,T_asterisk)"
   ]
  },
  {
   "cell_type": "code",
   "execution_count": 20,
   "metadata": {},
   "outputs": [
    {
     "data": {
      "text/plain": [
       "4000×15000 Array{Float64,2}:\n",
       " 1.10338    0.0236638   0.339283   …  3.51698    0.163741   0.348279\n",
       " 0.746695   0.00894779  1.14166       1.39452    0.710885   0.901258\n",
       " 1.72997    0.0552303   0.0605632     0.127354   1.23212    0.507842\n",
       " 0.43352    0.303558    1.63891       0.172204   0.26337    1.24015\n",
       " 0.0689983  2.93901     0.226206      1.90782    0.640325   3.05996\n",
       " 0.876151   0.280439    0.774537   …  2.61667    0.0304972  0.420554\n",
       " 1.7511     0.854995    0.0899524     1.13866    0.467831   0.0777466\n",
       " 0.424181   0.558729    1.15649       0.592271   0.653861   0.111827\n",
       " 0.535403   0.27914     1.51322       0.221064   2.71345    1.36672\n",
       " 5.40545    0.183168    4.08737       0.0602677  1.92575    0.406628\n",
       " 0.867577   0.987433    1.10416    …  1.94588    1.07479    1.43605\n",
       " 0.374113   0.111079    0.287214      0.555929   0.231488   1.19836\n",
       " 0.0655499  0.362472    0.271116      0.649538   0.627771   0.132085\n",
       " ⋮                                 ⋱                        \n",
       " 0.348781   0.178844    2.3285        0.277352   0.240364   1.37693\n",
       " 1.22025    0.029097    0.628391      0.367182   2.24981    0.635184\n",
       " 1.03871    0.562298    0.0727962  …  0.295313   1.14115    1.44378\n",
       " 0.184376   1.16337     0.247412      0.368627   0.207016   3.80686\n",
       " 0.509375   0.862253    1.14129       2.13882    0.550392   1.0095\n",
       " 3.0188     0.404465    3.51074       1.10977    0.690625   0.620362\n",
       " 0.0588923  0.116255    0.390255      3.16355    0.850898   0.209793\n",
       " 2.63637    0.939477    2.10983    …  1.74603    2.81746    0.481004\n",
       " 0.0615885  0.950143    1.60488       0.938861   1.32714    0.425964\n",
       " 0.396087   0.704649    1.78755       1.86241    0.547386   0.275108\n",
       " 0.860741   0.496454    2.03745       1.15806    0.755337   1.227\n",
       " 0.589193   0.197061    0.0408117     1.2077     2.13471    0.675369"
      ]
     },
     "execution_count": 20,
     "metadata": {},
     "output_type": "execute_result"
    }
   ],
   "source": [
    "e"
   ]
  },
  {
   "cell_type": "code",
   "execution_count": 21,
   "metadata": {},
   "outputs": [
    {
     "ename": "UndefVarError",
     "evalue": "UndefVarError: h_t not defined",
     "output_type": "error",
     "traceback": [
      "UndefVarError: h_t not defined",
      "",
      "Stacktrace:",
      " [1] top-level scope at In[21]:1"
     ]
    }
   ],
   "source": [
    "h_t .> e[:,end]"
   ]
  },
  {
   "cell_type": "code",
   "execution_count": 22,
   "metadata": {},
   "outputs": [
    {
     "ename": "UndefVarError",
     "evalue": "UndefVarError: h_t not defined",
     "output_type": "error",
     "traceback": [
      "UndefVarError: h_t not defined",
      "",
      "Stacktrace:",
      " [1] top-level scope at In[22]:1"
     ]
    }
   ],
   "source": [
    "h_t"
   ]
  },
  {
   "cell_type": "code",
   "execution_count": 23,
   "metadata": {},
   "outputs": [
    {
     "data": {
      "text/plain": [
       "3-element Array{Float64,1}:\n",
       " 0.2715618\n",
       " 0.0195524\n",
       " 0.000972"
      ]
     },
     "execution_count": 23,
     "metadata": {},
     "output_type": "execute_result"
    }
   ],
   "source": [
    "ve"
   ]
  }
 ],
 "metadata": {
  "kernelspec": {
   "display_name": "Julia 1.4.0",
   "language": "julia",
   "name": "julia-1.4"
  },
  "language_info": {
   "file_extension": ".jl",
   "mimetype": "application/julia",
   "name": "julia",
   "version": "1.4.0"
  }
 },
 "nbformat": 4,
 "nbformat_minor": 4
}
