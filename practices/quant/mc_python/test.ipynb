{
 "cells": [
  {
   "cell_type": "code",
   "execution_count": 1,
   "metadata": {},
   "outputs": [],
   "source": [
    "import numpy as np\n",
    "import commentjson\n",
    "import matplotlib.pyplot as plt\n",
    "\n",
    "with open('input.json') as f:\n",
    "    data = commentjson.load(f)\n",
    "arithmetics = ['sum','prod']\n",
    "\n",
    "# todo lists\n",
    "# correlation\n",
    "# constraint on variable\n",
    "# saving memory allocations"
   ]
  },
  {
   "cell_type": "code",
   "execution_count": 2,
   "metadata": {},
   "outputs": [],
   "source": [
    "def get_intkey_dict(d):\n",
    "    tmp = {}\n",
    "    for key in d:\n",
    "        ind_var = int(key)\n",
    "        tmp[ind_var] = d[key]\n",
    "    return tmp\n",
    "\n",
    "class Simulator:\n",
    "    # default constructor\n",
    "    def __init__(self, data):\n",
    "        np.random.seed(0)\n",
    "        self.data_check(data)\n",
    "        self.data = data\n",
    "        self.sde = get_intkey_dict(self.data['sde']) # change string key to integer key        \n",
    "        self.num_vars = data['num_vars']\n",
    "        self.x0 = data['x0']\n",
    "        self.num_steps = data[\"num_steps\"]\n",
    "        self.num_paths = data['num_paths']\n",
    "        self.vars = np.zeros((data[\"num_steps\"]+1, data[\"num_vars\"], data[\"num_paths\"]))\n",
    "        for ind, x0 in enumerate(self.x0):\n",
    "            self.vars[0, ind, :] = x0\n",
    "        self.dW_indep = np.random.normal(0.0,1.0,(data[\"num_steps\"]+1, data[\"num_B\"], data[\"num_paths\"])) # independent brownian motions\n",
    "        self.normalize()\n",
    "        if \"corr\" in data.keys():\n",
    "            self.corr = np.matrix(data[\"corr\"])\n",
    "            self.L = np.linalg.cholesky(self.corr) # Cholesky decomposition for computing correlated Brownian motions\n",
    "            self.dW = np.zeros((data[\"num_steps\"]+1, data[\"num_B\"], data[\"num_paths\"]))\n",
    "            for i in range(self.dW.shape[0]):\n",
    "                self.dW[i] = np.matmul(self.L, self.dW_indep[i])\n",
    "        else:\n",
    "            self.dW = self.dW_indep\n",
    "        self.maturity = data['maturity']\n",
    "        self.dt = self.maturity / self.num_steps\n",
    "        self.sqrt_dt = np.sqrt(self.dt)\n",
    "        self.t_sim = np.linspace(0.0, self.maturity, self.num_steps+1)\n",
    "        \n",
    "    def data_check(self, data):\n",
    "        if len(data[\"x0\"]) != data[\"num_vars\"]:\n",
    "            print(\"Number of variables in initial value and definition are mismatching!\")\n",
    "            exit(-1)\n",
    "            \n",
    "    def normalize(self):\n",
    "        shape = self.dW_indep.shape\n",
    "        self.dW_indep = self.dW_indep.reshape(-1)\n",
    "        self.dW_indep = (self.dW_indep - self.dW_indep.mean())/self.dW_indep.std()\n",
    "        self.dW_indep = self.dW_indep.reshape(shape)\n",
    "            \n",
    "    def simulate(self):\n",
    "        for step, t in enumerate(self.t_sim):\n",
    "            if step == 0: continue\n",
    "            prev_step = step-1\n",
    "            self.vars[step] = self.vars[prev_step] # copy previous values\n",
    "            for lhs_ind, item in self.sde.items():\n",
    "                # compute drift\n",
    "        #         res = compute(item['drift'], self.vars[prev_step], self.num_paths, log=True)\n",
    "                res = compute(item['drift'], self.vars[prev_step,:,:], self.num_paths)\n",
    "                self.vars[step,lhs_ind,:] += res*sim.dt\n",
    "                # compute volatility\n",
    "                for vol in item['vol']:\n",
    "                    dW_ind, vol_term = vol\n",
    "                    res = compute(vol_term, self.vars[prev_step,:,:], self.num_paths)\n",
    "                    self.vars[step,lhs_ind,:] += res*self.sqrt_dt*self.dW[step,dW_ind,:]\n",
    "            # Check constraints\n",
    "            if \"constraints\" in self.data.keys():\n",
    "#                 continue\n",
    "                for key, item in self.data['constraints'].items():\n",
    "                    if key == 'min':\n",
    "                        self.vars[step,item[0],:] = np.maximum(item[1], self.vars[step,item[0],:]) # item[0]: variable's index. item[1]: value for constraint\n",
    "                    elif key == 'max':\n",
    "                        self.vars[step,item[0],:] = np.minimum(item[1], self.vars[step,item[0],:]) # item[0]: variable's index. item[1]: value for constraint\n",
    "\n",
    "# someday, I am going to also add buffer for each level.\n",
    "def compute(arr, prev_vars, num_paths, level=0, log=False):\n",
    "    term_type = arr[0]\n",
    "    result = np.zeros(num_paths)\n",
    "    if type(term_type) != str:\n",
    "        print(\"Object for the type of a term must be a string!\")\n",
    "    if term_type in arithmetics: # sum or prod\n",
    "        if log: print(\"going to do \", term_type)\n",
    "        if term_type == 'sum':\n",
    "            for i in range(1, len(arr)):\n",
    "                result += compute(arr[i], prev_vars, num_paths, level=level+1)            \n",
    "        elif term_type == 'prod':\n",
    "            result[:] = 1.0\n",
    "            for i in range(1, len(arr)):\n",
    "                result *= compute(arr[i], prev_vars, num_paths, level=level+1)\n",
    "    else: # mathematical expressions\n",
    "        if log: print(\"Mathematical expression is going to be computed\")\n",
    "        if term_type == 'const':\n",
    "            if log: print(\"It is constant \", arr[1])\n",
    "            result += arr[1]\n",
    "        elif term_type == 'poly':\n",
    "            coef = arr[1]; ind = arr[2]; power = arr[3]\n",
    "            if log: print(\"It is polynomial \", coef, ind, power)\n",
    "            result += coef * np.power(prev_vars[ind], power)\n",
    "            \n",
    "    return result"
   ]
  },
  {
   "cell_type": "markdown",
   "metadata": {},
   "source": [
    "# Test Case"
   ]
  },
  {
   "cell_type": "code",
   "execution_count": 3,
   "metadata": {},
   "outputs": [],
   "source": [
    "# Ordinary differential equation\n",
    "json_string = \"\"\"\n",
    "{\n",
    "    \"num_vars\": 1, # hehe\n",
    "    \"num_B\": 1,\n",
    "    \"num_paths\": 1,\n",
    "    \"num_steps\": 500,\n",
    "    \"maturity\": 10,\n",
    "    \"x0\": [0.0],\n",
    "    \"sde\":{\n",
    "        \"0\":{\n",
    "            \"drift\": [\"sum\", [\"poly\", -1.0, 0, 1], [\"const\", 1.0]], # drift term\n",
    "            \"vol\": [[0, [\"const\",0]]] # one volatility term\n",
    "        }\n",
    "    }\n",
    "}\n",
    "\"\"\"\n",
    "test_data = commentjson.loads(json_string)\n",
    "sim = Simulator(test_data)\n",
    "exact_sol = 1.0 + np.exp(-sim.t_sim)*(sim.x0[0]-1.0)\n",
    "sim.simulate()"
   ]
  },
  {
   "cell_type": "code",
   "execution_count": 4,
   "metadata": {},
   "outputs": [
    {
     "data": {
      "text/plain": [
       "<matplotlib.legend.Legend at 0x7fbfa6774410>"
      ]
     },
     "execution_count": 4,
     "metadata": {},
     "output_type": "execute_result"
    },
    {
     "data": {
      "image/png": "[encoded data removed]",
      "text/plain": [
       "<Figure size 432x288 with 1 Axes>"
      ]
     },
     "metadata": {
      "needs_background": "light"
     },
     "output_type": "display_data"
    }
   ],
   "source": [
    "plt.plot(sim.t_sim, sim.vars[:,0,0], label='sim')\n",
    "plt.plot(sim.t_sim, exact_sol, label='exact', linestyle='--')\n",
    "plt.legend()"
   ]
  },
  {
   "cell_type": "markdown",
   "metadata": {},
   "source": [
    "# Process with normal distribution"
   ]
  },
  {
   "cell_type": "code",
   "execution_count": 5,
   "metadata": {},
   "outputs": [],
   "source": [
    "# Bachilier model (normal)\n",
    "json_string = \"\"\"\n",
    "{\n",
    "    \"num_vars\": 2, # hehe\n",
    "    \"num_B\": 2,\n",
    "    \"num_paths\": 10000,\n",
    "    \"num_steps\": 100,\n",
    "    \"maturity\": 1,\n",
    "    \"x0\": [0.0, 0.0],\n",
    "    \"corr\": [[1,0],[0,1]],\n",
    "    \"sde\":{\n",
    "        \"0\":{\n",
    "            \"drift\": [\"const\", 5.0], # drift term\n",
    "            \"vol\": [[0, [\"const\",2]]] # one volatility term\n",
    "        },\n",
    "        \"1\":{\n",
    "            \"drift\": [\"const\", -2.0], # drift term\n",
    "            \"vol\": [[1, [\"const\",0.5]]] # one volatility term\n",
    "        }\n",
    "    }\n",
    "}\n",
    "\"\"\"\n",
    "test_data = commentjson.loads(json_string)\n",
    "sim = Simulator(test_data)\n",
    "sim.simulate()"
   ]
  },
  {
   "cell_type": "code",
   "execution_count": 6,
   "metadata": {},
   "outputs": [
    {
     "name": "stdout",
     "output_type": "stream",
     "text": [
      "5.0036692848055795\n",
      "1.9924401785809016\n"
     ]
    },
    {
     "data": {
      "image/png": "[encoded data removed]",
      "text/plain": [
       "<Figure size 432x288 with 1 Axes>"
      ]
     },
     "metadata": {
      "needs_background": "light"
     },
     "output_type": "display_data"
    }
   ],
   "source": [
    "plt.hist(sim.vars[-1,0,:],bins=20)\n",
    "print(sim.vars[-1,0,:].mean())\n",
    "print(sim.vars[-1,0,:].std())"
   ]
  },
  {
   "cell_type": "code",
   "execution_count": 7,
   "metadata": {},
   "outputs": [
    {
     "name": "stdout",
     "output_type": "stream",
     "text": [
      "-2.000463910882772\n",
      "0.4938606692551125\n"
     ]
    },
    {
     "data": {
      "image/png": "[encoded data removed]",
      "text/plain": [
       "<Figure size 432x288 with 1 Axes>"
      ]
     },
     "metadata": {
      "needs_background": "light"
     },
     "output_type": "display_data"
    }
   ],
   "source": [
    "plt.hist(sim.vars[-1,1,:],bins=20)\n",
    "print(sim.vars[-1,1,:].mean())\n",
    "print(sim.vars[-1,1,:].std())"
   ]
  },
  {
   "cell_type": "code",
   "execution_count": 8,
   "metadata": {},
   "outputs": [
    {
     "data": {
      "text/plain": [
       "0.0"
      ]
     },
     "execution_count": 8,
     "metadata": {},
     "output_type": "execute_result"
    }
   ],
   "source": [
    "np.max(np.abs(sim.dW - sim.dW_indep))"
   ]
  },
  {
   "cell_type": "markdown",
   "metadata": {},
   "source": [
    "# CIR Process "
   ]
  },
  {
   "cell_type": "raw",
   "metadata": {},
   "source": [
    "# r=0.0, \n",
    "# theta = 0.05; kappa = 0.3; sigma = 0.5; rho = -0.6; v0 = 0.04\n",
    "# expected solution\n",
    "# 0-th state variable\n",
    "# mean: -0.0209501 std: 0.221308\n",
    "# 1-th state variable\n",
    "# mean: 0.0459372 std: 0.0888291\n",
    "drift 0,0.0,0,0 0,-0.5,1,1 # log-price. (0-.5*v)\n",
    "drift 1,0.015,1,0 1,-0.3,1,1 # volatility 0.015 - 0.3*v\n",
    "volatility 0,1.0,1,0.5 1,0.5,1,0.5 # sqrt(v), 0.5*sqrt(v)\n",
    "x0 0.0 0.04\n",
    "T 1\n",
    "Nt 365\n",
    "num_paths 100000\n",
    "correlation 0,1,-0.6\n",
    "constraint min,1,0.0\n",
    "num_threads 4"
   ]
  },
  {
   "cell_type": "code",
   "execution_count": 9,
   "metadata": {},
   "outputs": [],
   "source": [
    "# CIR model (normal)\n",
    "json_string = \"\"\"\n",
    "{\n",
    "    \"num_vars\": 2, # hehe\n",
    "    \"num_B\": 2,\n",
    "    \"num_paths\": 5000,\n",
    "    \"num_steps\": 1000,\n",
    "    \"maturity\": 1,\n",
    "    \"x0\": [0.0, 0.04],\n",
    "    \"corr\": [[1,-0.6],[-0.6,1]],\n",
    "    \"constraints\":{\n",
    "        \"min\": [1, 0.0] # 1st var's min value should be 0.0\n",
    "    },\n",
    "    \"sde\":{\n",
    "        \"0\":{\n",
    "            \"drift\": [\"poly\", -0.5, 1, 1], # drift term\n",
    "            \"vol\": [[0, [\"poly\",1.0,1,0.5]]] # one volatility term\n",
    "        },\n",
    "        \"1\":{\n",
    "            \"drift\": [\"sum\", [\"const\", 0.015], [\"poly\",-0.3,1,1]], # drift term\n",
    "            \"vol\": [[1, [\"poly\",0.5,1,0.5]]] # one volatility term\n",
    "        }\n",
    "    }\n",
    "}\n",
    "\"\"\"\n",
    "test_data = commentjson.loads(json_string)\n",
    "sim = Simulator(test_data)\n",
    "sim.simulate()"
   ]
  },
  {
   "cell_type": "code",
   "execution_count": 10,
   "metadata": {},
   "outputs": [
    {
     "name": "stdout",
     "output_type": "stream",
     "text": [
      "-0.020666340113933427\n",
      "0.2202103764454752\n",
      "0.04585056666092981\n",
      "0.08973778450602793\n"
     ]
    }
   ],
   "source": [
    "print(sim.vars[-1,0,:].mean())\n",
    "print(sim.vars[-1,0,:].std())\n",
    "print(sim.vars[-1,1,:].mean())\n",
    "print(sim.vars[-1,1,:].std())"
   ]
  },
  {
   "cell_type": "code",
   "execution_count": null,
   "metadata": {},
   "outputs": [],
   "source": []
  }
 ],
 "metadata": {
  "@webio": {
   "lastCommId": null,
   "lastKernelId": null
  },
  "kernelspec": {
   "display_name": "Python 3",
   "language": "python",
   "name": "python3"
  },
  "language_info": {
   "codemirror_mode": {
    "name": "ipython",
    "version": 3
   },
   "file_extension": ".py",
   "mimetype": "text/x-python",
   "name": "python",
   "nbconvert_exporter": "python",
   "pygments_lexer": "ipython3",
   "version": "3.7.4"
  }
 },
 "nbformat": 4,
 "nbformat_minor": 2
}
