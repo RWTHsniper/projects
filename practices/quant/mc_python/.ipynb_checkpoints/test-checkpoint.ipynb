{
 "cells": [
  {
   "cell_type": "code",
   "execution_count": 1,
   "metadata": {},
   "outputs": [],
   "source": [
    "import numpy as np\n",
    "import commentjson\n",
    "import matplotlib.pyplot as plt\n",
    "\n",
    "with open('input.json') as f:\n",
    "    data = commentjson.load(f)\n",
    "arithmetics = ['sum','prod']"
   ]
  },
  {
   "cell_type": "code",
   "execution_count": 2,
   "metadata": {},
   "outputs": [],
   "source": [
    "def get_intkey_dict(d):\n",
    "    tmp = {}\n",
    "    for key in d:\n",
    "        ind_var = int(key)\n",
    "        tmp[ind_var] = d[key]\n",
    "    return tmp\n",
    "\n",
    "class Simulator:\n",
    "    # default constructor\n",
    "    def __init__(self, data):\n",
    "        self.data_check(data)\n",
    "        self.data = data\n",
    "        self.sde = get_intkey_dict(self.data['sde']) # change string key to integer key        \n",
    "        self.num_vars = data['num_vars']\n",
    "        self.x0 = data['x0']        \n",
    "        self.num_steps = data[\"num_steps\"]\n",
    "        self.num_paths = data['num_paths']\n",
    "        self.vars = np.zeros((data[\"num_steps\"]+1, data[\"num_vars\"], data[\"num_paths\"]))\n",
    "        for ind, x0 in enumerate(self.x0):\n",
    "            self.vars[0, ind, :] = x0\n",
    "        self.dW_indep = np.random.normal(0.0,1.0,(data[\"num_steps\"]+1, data[\"num_B\"], data[\"num_paths\"])) # independent brownian motions\n",
    "        if \"corr\" in data.keys():\n",
    "            self.dW = np.zeros((data[\"num_steps\"]+1, data[\"num_B\"], data[\"num_paths\"]))\n",
    "        else:\n",
    "            self.dW = self.dW_indep\n",
    "        self.maturity = data['maturity']\n",
    "        self.dt = self.maturity / self.num_steps\n",
    "        self.sqrt_dt = np.sqrt(self.dt)\n",
    "        self.t_sim = np.linspace(0.0, self.maturity, self.num_steps+1)\n",
    "        \n",
    "    def data_check(self, data):\n",
    "        if len(data[\"x0\"]) != data[\"num_vars\"]:\n",
    "            print(\"Number of variables in initial value and definition are mismatching!\")\n",
    "            exit(-1)\n",
    "            \n",
    "    def simulate(self):\n",
    "        for step, t in enumerate(self.t_sim):\n",
    "            if step == 0: continue\n",
    "            prev_step = step-1\n",
    "            self.vars[step] = self.vars[prev_step] # copy previous values\n",
    "            for lhs_ind, item in self.sde.items():\n",
    "                # compute drift\n",
    "        #         res = compute(item['drift'], self.vars[prev_step], self.num_paths, log=True)\n",
    "                res = compute(item['drift'], self.vars[prev_step,lhs_ind,:], self.num_paths)\n",
    "                self.vars[step,lhs_ind,:] += res*sim.dt\n",
    "                # compute volatility\n",
    "                for vol in item['vol']:\n",
    "                    dW_ind, vol_term = vol\n",
    "                    res = compute(vol_term, self.vars[prev_step,dW_ind,:], self.num_paths)\n",
    "                    self.vars[step,lhs_ind,:] += res*self.sqrt_dt*self.dW[step,dW_ind,:]\n",
    "#                     if lhs_ind==0:\n",
    "#                         print(res)\n",
    "#                         print(dW_ind,step)\n",
    "#                         print(res*self.sqrt_dt*self.dW[step,dW_ind,:])\n",
    "#                         print(self.vars[prev_step,lhs_ind,:])\n",
    "#                         print(self.vars[step,lhs_ind,:])        \n",
    "\n",
    "def compute(arr, prev_vars, num_paths, level=0, log=False):\n",
    "    term_type = arr[0]\n",
    "    result = np.zeros(num_paths)\n",
    "    if type(term_type) != str:\n",
    "        print(\"Object for the type of a term must be a string!\")\n",
    "    if term_type in arithmetics: # sum or prod\n",
    "        if log: print(\"going to do \", term_type)\n",
    "        if term_type == 'sum':\n",
    "            for i in range(1, len(arr)):\n",
    "                result += compute(arr[i], prev_vars, num_paths, level=level+1)            \n",
    "        elif term_type == 'prod':\n",
    "            result[:] = 1.0\n",
    "            for i in range(1, len(arr)):\n",
    "                result *= compute(arr[i], prev_vars, num_paths, level=level+1)\n",
    "    else: # mathematical expressions\n",
    "        if log: print(\"Mathematical expression is going to be computed\")\n",
    "        if term_type == 'const':\n",
    "            if log: print(\"It is constant \", arr[1])\n",
    "            result += arr[1]\n",
    "        elif term_type == 'poly':\n",
    "            coef = arr[1]; ind = arr[2]; power = arr[3]\n",
    "            if log: print(\"It is polynomial \", coef, ind, power)\n",
    "            result += coef * np.power(prev_vars[ind], power)\n",
    "            \n",
    "    return result"
   ]
  },
  {
   "cell_type": "markdown",
   "metadata": {},
   "source": [
    "# Test Case"
   ]
  },
  {
   "cell_type": "code",
   "execution_count": 4,
   "metadata": {},
   "outputs": [],
   "source": [
    "# Ordinary differential equation\n",
    "json_string = \"\"\"\n",
    "{\n",
    "    \"num_vars\": 1, # hehe\n",
    "    \"num_B\": 1,\n",
    "    \"num_paths\": 1,\n",
    "    \"num_steps\": 500,\n",
    "    \"maturity\": 10,\n",
    "    \"x0\": [0.0],\n",
    "    \"sde\":{\n",
    "        \"0\":{\n",
    "            \"drift\": [\"sum\", [\"poly\", -1.0, 0, 1], [\"const\", 1.0]], # drift term\n",
    "            \"vol\": [[0, [\"const\",0]]] # one volatility term\n",
    "        }\n",
    "    }\n",
    "}\n",
    "\"\"\"\n",
    "test_data = commentjson.loads(json_string)\n",
    "sim = Simulator(test_data)\n",
    "exact_sol = 1.0 + np.exp(-sim.t_sim)*(sim.x0[0]-1.0)\n",
    "sim.simulate()"
   ]
  },
  {
   "cell_type": "code",
   "execution_count": 5,
   "metadata": {},
   "outputs": [
    {
     "data": {
      "text/plain": [
       "<matplotlib.legend.Legend at 0x7fa1f2f78b90>"
      ]
     },
     "execution_count": 5,
     "metadata": {},
     "output_type": "execute_result"
    },
    {
     "data": {
      "image/png": "[encoded data removed]",
      "text/plain": [
       "<Figure size 432x288 with 1 Axes>"
      ]
     },
     "metadata": {
      "needs_background": "light"
     },
     "output_type": "display_data"
    }
   ],
   "source": [
    "plt.plot(sim.t_sim, sim.vars[:,0,0], label='sim')\n",
    "plt.plot(sim.t_sim, exact_sol, label='exact', linestyle='--')\n",
    "plt.legend()"
   ]
  },
  {
   "cell_type": "code",
   "execution_count": 7,
   "metadata": {},
   "outputs": [],
   "source": [
    "# Bachilier model (normal)\n",
    "json_string = \"\"\"\n",
    "{\n",
    "    \"num_vars\": 2, # hehe\n",
    "    \"num_B\": 2,\n",
    "    \"num_paths\": 10000,\n",
    "    \"num_steps\": 100,\n",
    "    \"maturity\": 1,\n",
    "    \"x0\": [0.0, 0.0],\n",
    "    \"sde\":{\n",
    "        \"0\":{\n",
    "            \"drift\": [\"const\", 5.0], # drift term\n",
    "            \"vol\": [[0, [\"const\",2]]] # one volatility term\n",
    "        },\n",
    "        \"1\":{\n",
    "            \"drift\": [\"const\", -2.0], # drift term\n",
    "            \"vol\": [[1, [\"const\",0.5]]] # one volatility term\n",
    "        }\n",
    "    }\n",
    "}\n",
    "\"\"\"\n",
    "test_data = commentjson.loads(json_string)\n",
    "sim = Simulator(test_data)"
   ]
  },
  {
   "cell_type": "code",
   "execution_count": 8,
   "metadata": {},
   "outputs": [],
   "source": [
    "# How are we going to do simulations?\n",
    "sim.simulate()"
   ]
  },
  {
   "cell_type": "code",
   "execution_count": 9,
   "metadata": {},
   "outputs": [
    {
     "name": "stdout",
     "output_type": "stream",
     "text": [
      "4.972487322189357\n",
      "1.990317211370704\n"
     ]
    },
    {
     "data": {
      "image/png": "[encoded data removed]",
      "text/plain": [
       "<Figure size 432x288 with 1 Axes>"
      ]
     },
     "metadata": {
      "needs_background": "light"
     },
     "output_type": "display_data"
    }
   ],
   "source": [
    "plt.hist(sim.vars[-1,0,:],bins=20)\n",
    "print(sim.vars[-1,0,:].mean())\n",
    "print(sim.vars[-1,0,:].std())"
   ]
  },
  {
   "cell_type": "code",
   "execution_count": 10,
   "metadata": {},
   "outputs": [
    {
     "name": "stdout",
     "output_type": "stream",
     "text": [
      "-2.0035775354338883\n",
      "0.49771185037901927\n"
     ]
    },
    {
     "data": {
      "image/png": "[encoded data removed]",
      "text/plain": [
       "<Figure size 432x288 with 1 Axes>"
      ]
     },
     "metadata": {
      "needs_background": "light"
     },
     "output_type": "display_data"
    }
   ],
   "source": [
    "plt.hist(sim.vars[-1,1,:],bins=20)\n",
    "print(sim.vars[-1,1,:].mean())\n",
    "print(sim.vars[-1,1,:].std())"
   ]
  },
  {
   "cell_type": "code",
   "execution_count": null,
   "metadata": {},
   "outputs": [],
   "source": []
  },
  {
   "cell_type": "code",
   "execution_count": null,
   "metadata": {},
   "outputs": [],
   "source": []
  }
 ],
 "metadata": {
  "@webio": {
   "lastCommId": null,
   "lastKernelId": null
  },
  "kernelspec": {
   "display_name": "Python 3",
   "language": "python",
   "name": "python3"
  },
  "language_info": {
   "codemirror_mode": {
    "name": "ipython",
    "version": 3
   },
   "file_extension": ".py",
   "mimetype": "text/x-python",
   "name": "python",
   "nbconvert_exporter": "python",
   "pygments_lexer": "ipython3",
   "version": "3.7.4"
  }
 },
 "nbformat": 4,
 "nbformat_minor": 2
}
