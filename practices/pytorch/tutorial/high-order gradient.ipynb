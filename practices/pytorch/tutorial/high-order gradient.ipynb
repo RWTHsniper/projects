{
 "cells": [
  {
   "cell_type": "code",
   "execution_count": 10,
   "metadata": {},
   "outputs": [],
   "source": [
    "import torch\n",
    "from torch import Tensor\n",
    "from torch.autograd import Variable\n",
    "from torch.autograd import grad\n",
    "from torch import nn"
   ]
  },
  {
   "cell_type": "code",
   "execution_count": 27,
   "metadata": {},
   "outputs": [],
   "source": [
    "a = torch.tensor([1.,2.0,3.0], requires_grad=True)\n",
    "Q = (3*a**3).sum() # dQ = 9a**2 da\n",
    "dQda = grad(Q,a, create_graph = True)[0] # dQda = 9a**2\n",
    "d2Qda2 = []\n",
    "for i in range(len(a)):\n",
    "    d2Qda2.append(grad(dQda[i],a, create_graph = True)[0][i]) # d2Qda2 = 18a"
   ]
  },
  {
   "cell_type": "code",
   "execution_count": 28,
   "metadata": {},
   "outputs": [
    {
     "name": "stdout",
     "output_type": "stream",
     "text": [
      "1st  tensor([ 9., 36., 81.], grad_fn=<MulBackward0>)\n",
      "2nd  [tensor(18., grad_fn=<SelectBackward>), tensor(36., grad_fn=<SelectBackward>), tensor(54., grad_fn=<SelectBackward>)]\n"
     ]
    }
   ],
   "source": [
    "print('1st ',dQda)\n",
    "print('2nd ',d2Qda2)"
   ]
  },
  {
   "cell_type": "code",
   "execution_count": 29,
   "metadata": {},
   "outputs": [
    {
     "data": {
      "text/plain": [
       "54"
      ]
     },
     "execution_count": 29,
     "metadata": {},
     "output_type": "execute_result"
    }
   ],
   "source": [
    "3*18"
   ]
  },
  {
   "cell_type": "code",
   "execution_count": null,
   "metadata": {},
   "outputs": [],
   "source": []
  }
 ],
 "metadata": {
  "kernelspec": {
   "display_name": "Python 3",
   "language": "python",
   "name": "python3"
  },
  "language_info": {
   "codemirror_mode": {
    "name": "ipython",
    "version": 3
   },
   "file_extension": ".py",
   "mimetype": "text/x-python",
   "name": "python",
   "nbconvert_exporter": "python",
   "pygments_lexer": "ipython3",
   "version": "3.7.4"
  }
 },
 "nbformat": 4,
 "nbformat_minor": 4
}
