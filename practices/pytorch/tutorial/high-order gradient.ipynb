{
 "cells": [
  {
   "cell_type": "code",
   "execution_count": 9,
   "metadata": {},
   "outputs": [],
   "source": [
    "import torch\n",
    "from torch import Tensor\n",
    "from torch import autograd\n",
    "from torch.autograd import grad\n",
    "from torch import nn"
   ]
  },
  {
   "cell_type": "code",
   "execution_count": 10,
   "metadata": {},
   "outputs": [],
   "source": [
    "def func(x):\n",
    "    Q = (3*x**3).sum() # dQ = 9x**2 da\n",
    "    return Q"
   ]
  },
  {
   "cell_type": "code",
   "execution_count": 11,
   "metadata": {},
   "outputs": [
    {
     "name": "stdout",
     "output_type": "stream",
     "text": [
      "1st  tensor([ 9., 36., 81.], grad_fn=<MulBackward0>)\n",
      "2nd  [tensor(18., grad_fn=<SelectBackward0>), tensor(36., grad_fn=<SelectBackward0>), tensor(54., grad_fn=<SelectBackward0>)]\n"
     ]
    }
   ],
   "source": [
    "a = torch.tensor([1.,2.0,3.0], requires_grad=True)\n",
    "# Q = (3*a**3).sum() # dQ = 9a**2 da\n",
    "Q = func(a)\n",
    "dQda = grad(Q,a, create_graph = True)[0] # dQda = 9a**2\n",
    "d2Qda2 = []\n",
    "for i in range(len(a)):\n",
    "    d2Qda2.append(grad(dQda[i],a, create_graph = True)[0][i]) # d2Qda2 = 18a\n",
    "    \n",
    "print('1st ',dQda)\n",
    "print('2nd ',d2Qda2)"
   ]
  },
  {
   "cell_type": "code",
   "execution_count": 12,
   "metadata": {},
   "outputs": [
    {
     "data": {
      "text/plain": [
       "tensor([ 9., 36., 81.])"
      ]
     },
     "execution_count": 12,
     "metadata": {},
     "output_type": "execute_result"
    }
   ],
   "source": [
    "torch.autograd.functional.jacobian(func, a)"
   ]
  },
  {
   "cell_type": "code",
   "execution_count": 13,
   "metadata": {},
   "outputs": [
    {
     "data": {
      "text/plain": [
       "tensor([[18.,  0.,  0.],\n",
       "        [ 0., 36.,  0.],\n",
       "        [ 0.,  0., 54.]])"
      ]
     },
     "execution_count": 13,
     "metadata": {},
     "output_type": "execute_result"
    }
   ],
   "source": [
    "torch.autograd.functional.hessian(func, a)"
   ]
  },
  {
   "cell_type": "code",
   "execution_count": 20,
   "metadata": {},
   "outputs": [],
   "source": [
    "Q_cross = lambda x : x[0]*x[0]*x[1] + x[1]*x[1]*x[2] + x[2]*x[2]*x[0]\n",
    "torch.autograd.functional.jacobian(Q_cross, a) # 2*x[0]*x[1] + 2*x[1]*x[2] + 2*x[2]*x[0]"
   ]
  },
  {
   "cell_type": "code",
   "execution_count": 24,
   "metadata": {},
   "outputs": [
    {
     "data": {
      "text/plain": [
       "tensor([[4., 2., 6.],\n",
       "        [2., 6., 4.],\n",
       "        [6., 4., 2.]])"
      ]
     },
     "execution_count": 24,
     "metadata": {},
     "output_type": "execute_result"
    }
   ],
   "source": [
    "torch.autograd.functional.hessian(Q_cross, a)"
   ]
  }
 ],
 "metadata": {
  "@webio": {
   "lastCommId": null,
   "lastKernelId": null
  },
  "kernelspec": {
   "display_name": "Python 3",
   "language": "python",
   "name": "python3"
  },
  "language_info": {
   "codemirror_mode": {
    "name": "ipython",
    "version": 3
   },
   "file_extension": ".py",
   "mimetype": "text/x-python",
   "name": "python",
   "nbconvert_exporter": "python",
   "pygments_lexer": "ipython3",
   "version": "3.7.4"
  }
 },
 "nbformat": 4,
 "nbformat_minor": 4
}
