{
 "cells": [
  {
   "cell_type": "code",
   "execution_count": 1,
   "metadata": {},
   "outputs": [],
   "source": [
    "import torch\n",
    "from torch import autograd\n",
    "import numpy as np"
   ]
  },
  {
   "cell_type": "code",
   "execution_count": 30,
   "metadata": {},
   "outputs": [],
   "source": [
    "device = torch.device('cpu')\n",
    "if torch.cuda.is_available():\n",
    "    print(\"CUDA is available! Training on GPU.\")\n",
    "    device = torch.device('cuda:0')\n",
    "options_0 = {'dtype': torch.float64, 'device': device, 'requires_grad': True}\n",
    "options_1 = {'dtype': torch.float64, 'device': device, 'requires_grad': False}\n",
    "\n",
    "s0 = 100; k = 100; r = 0.02; q = 0.01; t = 0.25; sigma = 0.15;\n",
    "m = 50000 # num of sim\n",
    "typ = 1\n",
    "# t = 1\n",
    "s0 = 90\n",
    "ntimes= int(t*12*30)\n",
    "s_0 = torch.tensor(s0, **options_0)\n",
    "dt = t / ntimes\n",
    "ts = torch.arange(0.0, t+dt, dt, **options_1)\n",
    "e = torch.randn(m, ntimes, **options_1)\n",
    "sum_e = torch.cat((torch.zeros(m,1,**options_1), torch.cumsum(e,1)),1)\n",
    "s = s_0 * torch.exp((r-q-0.5*sigma*sigma) * ts + sigma * np.sqrt(dt) * sum_e)\n",
    "# s = s_0 * s_0 * torch.exp((r-q-0.5*sigma*sigma) * ts + sigma * np.sqrt(dt) * sum_e)\n",
    "disc = np.exp(-r*t)\n",
    "sAtMat = s[:,-1]\n",
    "discPayoff = disc * torch.relu(typ *( sAtMat - k));\n",
    "# discPayoff = disc * torch.max(typ *( sAtMat - k), torch.tensor(0.0));\n",
    "price = discPayoff.mean();\n",
    "first_derivative = autograd.grad(price, s_0, create_graph=True)[0]\n",
    "# first_derivative.requires_grad = True\n",
    "# We now have dloss/dx\n",
    "second_derivative = autograd.grad(first_derivative, s_0, allow_unused=True)[0]\n",
    "# price.backward();\n",
    "# delta = s_0.grad.item()\n",
    "# The second_derivative for gamma does not work since the payoff function is only C0 continuous"
   ]
  },
  {
   "cell_type": "code",
   "execution_count": 31,
   "metadata": {},
   "outputs": [
    {
     "data": {
      "text/plain": [
       "tensor(0.2783, dtype=torch.float64, grad_fn=<MeanBackward0>)"
      ]
     },
     "execution_count": 31,
     "metadata": {},
     "output_type": "execute_result"
    }
   ],
   "source": [
    "price"
   ]
  },
  {
   "cell_type": "code",
   "execution_count": 32,
   "metadata": {},
   "outputs": [
    {
     "data": {
      "text/plain": [
       "tensor(0.0915, dtype=torch.float64, grad_fn=<SumBackward0>)"
      ]
     },
     "execution_count": 32,
     "metadata": {},
     "output_type": "execute_result"
    }
   ],
   "source": [
    "first_derivative"
   ]
  },
  {
   "cell_type": "code",
   "execution_count": 33,
   "metadata": {},
   "outputs": [
    {
     "data": {
      "text/plain": [
       "tensor(0., dtype=torch.float64)"
      ]
     },
     "execution_count": 33,
     "metadata": {},
     "output_type": "execute_result"
    }
   ],
   "source": [
    "second_derivative"
   ]
  },
  {
   "cell_type": "markdown",
   "metadata": {},
   "source": [
    "# Hessian"
   ]
  },
  {
   "cell_type": "code",
   "execution_count": 6,
   "metadata": {},
   "outputs": [],
   "source": [
    "def bsm_price(x):\n",
    "    s_0 = x\n",
    "    dt = t / ntimes\n",
    "    ts = torch.arange(0.0, t+dt, dt, **options_1)\n",
    "    e = torch.randn(m, ntimes, **options_1)\n",
    "    sum_e = torch.cat((torch.zeros(m,1,**options_1), torch.cumsum(e,1)),1)\n",
    "    s = s_0 * torch.exp((r-q-0.5*sigma*sigma) * ts + sigma * np.sqrt(dt) * sum_e)\n",
    "    disc = np.exp(-r*t)\n",
    "    sAtMat = s[:,-1]\n",
    "    discPayoff = disc * torch.relu(typ *( sAtMat - k));\n",
    "    price = discPayoff.mean();\n",
    "    return price\n",
    "\n",
    "def bsm_price_soft(x, beta=1, threshold=20):\n",
    "    s_0 = x\n",
    "    dt = t / ntimes\n",
    "    ts = torch.arange(0.0, t+dt, dt, **options_1)\n",
    "    e = torch.randn(m, ntimes, **options_1)\n",
    "    sum_e = torch.cat((torch.zeros(m,1,**options_1), torch.cumsum(e,1)),1)\n",
    "    s = s_0 * torch.exp((r-q-0.5*sigma*sigma) * ts + sigma * np.sqrt(dt) * sum_e)\n",
    "    disc = np.exp(-r*t)\n",
    "    sAtMat = s[:,-1]\n",
    "    discPayoff = disc * torch.nn.Softplus(beta=beta, threshold=threshold)(typ *( sAtMat - k)); # It works!\n",
    "    price = discPayoff.mean();\n",
    "    return price"
   ]
  },
  {
   "cell_type": "code",
   "execution_count": 7,
   "metadata": {},
   "outputs": [
    {
     "data": {
      "text/plain": [
       "tensor(0.2771, dtype=torch.float64, grad_fn=<MeanBackward0>)"
      ]
     },
     "execution_count": 7,
     "metadata": {},
     "output_type": "execute_result"
    }
   ],
   "source": [
    "bsm_price(s_0)"
   ]
  },
  {
   "cell_type": "code",
   "execution_count": 8,
   "metadata": {},
   "outputs": [
    {
     "data": {
      "text/plain": [
       "tensor(0.0901, dtype=torch.float64)"
      ]
     },
     "execution_count": 8,
     "metadata": {},
     "output_type": "execute_result"
    }
   ],
   "source": [
    "torch.autograd.functional.jacobian(bsm_price, s_0)"
   ]
  },
  {
   "cell_type": "code",
   "execution_count": 9,
   "metadata": {},
   "outputs": [
    {
     "data": {
      "text/plain": [
       "tensor(0., dtype=torch.float64)"
      ]
     },
     "execution_count": 9,
     "metadata": {},
     "output_type": "execute_result"
    }
   ],
   "source": [
    "torch.autograd.functional.hessian(bsm_price, s_0)"
   ]
  },
  {
   "cell_type": "code",
   "execution_count": 26,
   "metadata": {},
   "outputs": [],
   "source": [
    "bsm_price_soft(s_0,20.0)\n",
    "soft_price = lambda x : bsm_price_soft(x, 100.0,10.0)"
   ]
  },
  {
   "cell_type": "code",
   "execution_count": 27,
   "metadata": {},
   "outputs": [
    {
     "data": {
      "text/plain": [
       "tensor(0.2742, dtype=torch.float64, grad_fn=<MeanBackward0>)"
      ]
     },
     "execution_count": 27,
     "metadata": {},
     "output_type": "execute_result"
    }
   ],
   "source": [
    "soft_price(s_0)"
   ]
  },
  {
   "cell_type": "code",
   "execution_count": 28,
   "metadata": {},
   "outputs": [
    {
     "data": {
      "text/plain": [
       "tensor(0.0894, dtype=torch.float64)"
      ]
     },
     "execution_count": 28,
     "metadata": {},
     "output_type": "execute_result"
    }
   ],
   "source": [
    "torch.autograd.functional.jacobian(soft_price, s_0)"
   ]
  },
  {
   "cell_type": "code",
   "execution_count": 29,
   "metadata": {},
   "outputs": [
    {
     "data": {
      "text/plain": [
       "tensor(0.0270, dtype=torch.float64)"
      ]
     },
     "execution_count": 29,
     "metadata": {},
     "output_type": "execute_result"
    }
   ],
   "source": [
    "torch.autograd.functional.hessian(soft_price, s_0)"
   ]
  },
  {
   "cell_type": "code",
   "execution_count": null,
   "metadata": {},
   "outputs": [],
   "source": []
  },
  {
   "cell_type": "code",
   "execution_count": null,
   "metadata": {},
   "outputs": [],
   "source": []
  }
 ],
 "metadata": {
  "@webio": {
   "lastCommId": null,
   "lastKernelId": null
  },
  "kernelspec": {
   "display_name": "Python 3",
   "language": "python",
   "name": "python3"
  },
  "language_info": {
   "codemirror_mode": {
    "name": "ipython",
    "version": 3
   },
   "file_extension": ".py",
   "mimetype": "text/x-python",
   "name": "python",
   "nbconvert_exporter": "python",
   "pygments_lexer": "ipython3",
   "version": "3.7.4"
  }
 },
 "nbformat": 4,
 "nbformat_minor": 2
}
